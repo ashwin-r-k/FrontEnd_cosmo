{
 "cells": [
  {
   "cell_type": "code",
   "execution_count": null,
   "id": "d9d7e618-5fbf-44d3-953d-2b514aef750b",
   "metadata": {},
   "outputs": [],
   "source": [
    "import numpy as np\n",
    "import pylab as pl\n",
    "import random\n",
    "import re\n",
    "\n",
    "\n",
    "import os\n",
    "import shutil\n",
    "print(os.getcwd())\n",
    "\n",
    "from matplotlib import pyplot as plt\n",
    "from matplotlib.animation import FuncAnimation\n",
    "\n",
    "\n",
    "from mpl_toolkits.mplot3d import Axes3D\n",
    "from mpl_toolkits.axes_grid1 import ImageGrid\n",
    "\n",
    "from IPython.display import display, HTML"
   ]
  },
  {
   "cell_type": "code",
   "execution_count": null,
   "id": "7045b1ba-9cb1-4ba3-ae8b-6fc8783a4c1b",
   "metadata": {},
   "outputs": [],
   "source": [
    "location_home = os.getcwd()\n",
    "location_Save = \"Save\"\n",
    "\n",
    "location_Save = os.path.join(location_home,location_Save)"
   ]
  },
  {
   "cell_type": "code",
   "execution_count": null,
   "id": "b3211a9b-4b8d-48f1-9e3a-14401a7152a8",
   "metadata": {},
   "outputs": [],
   "source": [
    "backup_list=os.listdir(location_Save)\n",
    "print(backup_list)\n",
    "\n"
   ]
  },
  {
   "cell_type": "code",
   "execution_count": null,
   "id": "fefbacd4-d972-4c3c-af54-ebaa172d6d71",
   "metadata": {},
   "outputs": [],
   "source": [
    "intrestFolder = 'BackupRun_5'\n",
    "location_backup=os.path.join(location_Save,intrestFolder)\n",
    "print(location_backup)"
   ]
  },
  {
   "cell_type": "code",
   "execution_count": null,
   "id": "e2fbdcc9-d066-4abe-995e-7c9c84ab4d96",
   "metadata": {},
   "outputs": [],
   "source": [
    "files = os.listdir(location_backup)\n",
    "print(files)"
   ]
  },
  {
   "cell_type": "code",
   "execution_count": null,
   "id": "771a96c5-4027-4330-ac44-cecc5a1baa10",
   "metadata": {},
   "outputs": [],
   "source": []
  },
  {
   "cell_type": "code",
   "execution_count": null,
   "id": "60a6ac06-f3c6-4f7e-be74-2c7059a337d7",
   "metadata": {},
   "outputs": [],
   "source": [
    "search = \"HI_map_\"\n",
    "intrestFiles = []\n",
    "for i in files:\n",
    "    if search in i:\n",
    "        intrestFiles.append(i)\n",
    "        print(i)\n",
    "\n",
    "\n",
    "intrestFiles = sorted(intrestFiles, key=lambda s: [int(text) if text.isdigit() else text.lower() for text in re.split('([0-9]+)', s)])[::-1]\n",
    "print(intrestFiles)"
   ]
  },
  {
   "cell_type": "code",
   "execution_count": null,
   "id": "f28efa2f-be88-4c0e-9b5a-a1449cc68259",
   "metadata": {},
   "outputs": [],
   "source": [
    "filename=intrestFiles[-1]\n",
    "f = open( os.path.join(location_backup,filename))\n",
    "temp_mesh = np.fromfile(f,count=3,dtype='int32')\n",
    "N1,N2,N3 = temp_mesh\n",
    "data_num =1\n",
    "print('No of grids in the desnity file')\n",
    "print(N1)\n",
    "print(N2)\n",
    "print(N3)\n",
    "datatype = dtype=(np.float32)\n",
    "data = np.fromfile(f, dtype=datatype,count=N1*N2*N3*data_num)\n",
    "f.close()\n",
    "\n",
    "#data = np.loadtxt(filename)\n",
    "#print(data.shape)\n",
    "dT = data.reshape((N1,N2,N3,data_num), order='C') # Reshaping the data into N1xN2xN3 grid format\n",
    " \n",
    "#print(dT[0,0,9,0])\n",
    "Tpl=dT[:,:,:,0]  # extracting out the first 5 slices\n",
    "#print(np.shape(Tpl))\n",
    "av_Tpl=np.mean(Tpl, axis=0) # stacking (averaging) the 5 slices along x-axis(axis=0) \n",
    "#print(np.shape(av_Tpl))\n",
    "\n",
    "fig = pl.figure(1, (5., 5.))\n",
    "pl.imshow(av_Tpl,origin='lower')\n",
    "pl.colorbar(pad=0.01,fraction=0.047)\n",
    "#pl.clim(0,5)\n",
    "\n",
    "pl.show()\n"
   ]
  },
  {
   "cell_type": "code",
   "execution_count": null,
   "id": "75e6e61f-a97c-4781-a008-bea932b695d1",
   "metadata": {},
   "outputs": [],
   "source": []
  },
  {
   "cell_type": "code",
   "execution_count": null,
   "id": "8c5c6852-476e-409c-b3b1-a90e04399343",
   "metadata": {},
   "outputs": [],
   "source": [
    "\n",
    "\n",
    "\n",
    "fig, ax = plt.subplots()\n",
    "im = ax.imshow(av_Tpl, origin='lower', cmap='viridis')\n",
    "cbar = fig.colorbar(im, pad=0.01, fraction=0.047)\n",
    "\n",
    "def update(frame):\n",
    "    filename = intrestFiles[frame]\n",
    "    f = open(os.path.join(location_backup, filename), 'rb')\n",
    "    temp_mesh = np.fromfile(f, count=3, dtype='int32')\n",
    "    N1, N2, N3 = temp_mesh\n",
    "    data = np.fromfile(f, dtype=datatype, count=N1*N2*N3*data_num)\n",
    "    f.close()\n",
    "\n",
    "    dT = data.reshape((N1, N2, N3, data_num), order='C')\n",
    "    Tpl = dT[:, :, :, 0]\n",
    "    av_Tpl = np.mean(Tpl, axis=0)\n",
    "\n",
    "\n",
    "  #  pl.imshow(av_Tpl,origin='lower')\n",
    "    im.set_array(av_Tpl)\n",
    "\n",
    "    z=re.search(r'([0-9]+)', filename).group()\n",
    "    ax.set_title(f'Z= {z}')\n",
    "    return im,\n",
    "\n",
    "animation = FuncAnimation(fig, update, frames=len(intrestFiles), interval=1000, blit=True)\n",
    "HTML(animation.to_html5_video())"
   ]
  },
  {
   "cell_type": "code",
   "execution_count": null,
   "id": "c4c4329f-1aa5-4886-9a2e-385294475687",
   "metadata": {},
   "outputs": [],
   "source": [
    "animation.save(f'Save/animation/mov_{intrestFolder}_{search}.mp4', writer='ffmpeg', fps=1)\n"
   ]
  },
  {
   "cell_type": "code",
   "execution_count": null,
   "id": "fa29254f-ffae-4f1f-89f9-8cf954c0e469",
   "metadata": {},
   "outputs": [],
   "source": [
    "import matplotlib.pyplot as plt\n",
    "import numpy as np\n",
    "from matplotlib import cm\n",
    "\n",
    "plt.rcParams[\"figure.figsize\"] = [7.50, 3.50]\n",
    "plt.rcParams[\"figure.autolayout\"] = True\n",
    "\n",
    "xx, yy = np.meshgrid(np.linspace(0, 1, 10), np.linspace(0, 1, 10))\n",
    "\n",
    "X = xx\n",
    "Y = yy\n",
    "Z = 10 * np.ones(X.shape)\n",
    "\n",
    "data = np.cos(xx) * np.cos(xx) + np.sin(yy) * np.sin(yy)\n",
    "fig = plt.figure()\n",
    "\n",
    "ax2 = fig.add_subplot(122, projection='3d')\n",
    "ax2.contourf(X, Y, Tpl, 100, zdir='z', offset=0.5, cmap=\"plasma\")\n",
    "\n",
    "plt.show()"
   ]
  },
  {
   "cell_type": "code",
   "execution_count": null,
   "id": "87584230-a01b-45ad-8763-746c44ad3d8b",
   "metadata": {},
   "outputs": [],
   "source": [
    "import numpy as np\n",
    "import matplotlib.pyplot as plt\n",
    "from mpl_toolkits.mplot3d import Axes3D\n"
   ]
  },
  {
   "cell_type": "code",
   "execution_count": null,
   "id": "1bf72f59-c1db-41bb-b421-10413d271d4f",
   "metadata": {},
   "outputs": [],
   "source": [
    "filename=intrestFiles[-1]\n",
    "f = open( os.path.join(location_backup,filename))\n",
    "temp_mesh = np.fromfile(f,count=3,dtype='int32')\n",
    "N1,N2,N3 = temp_mesh\n",
    "data_num =1\n",
    "print('No of grids in the desnity file')\n",
    "print(N1)\n",
    "print(N2)\n",
    "print(N3)\n",
    "datatype = dtype=(np.float32)\n",
    "data = np.fromfile(f, dtype=datatype,count=N1*N2*N3*data_num)\n",
    "f.close()"
   ]
  },
  {
   "cell_type": "code",
   "execution_count": null,
   "id": "3f49fb4e-7e14-44b1-b261-914572e01c1a",
   "metadata": {},
   "outputs": [],
   "source": [
    "\n",
    "# Load data from the file\n",
    "\n",
    "x, y, z = np.meshgrid(np.arange(128), np.arange(128), np.arange(128))\n",
    "\n",
    "# Create a 3D plot\n",
    "fig = plt.figure()\n",
    "ax = fig.add_subplot(111, projection='3d')\n",
    "\n",
    "# Plot the density values\n",
    "ax.scatter(x, y, z, c=data.flatten(), cmap='viridis', marker='.')\n",
    "\n",
    "# Customize the plot\n",
    "ax.set_xlabel('X-axis')\n",
    "ax.set_ylabel('Y-axis')\n",
    "ax.set_zlabel('Z-axis')\n",
    "ax.set_title('3D Density Plot')\n",
    "\n",
    "# Show the plot\n",
    "plt.show()\n"
   ]
  },
  {
   "cell_type": "code",
   "execution_count": null,
   "id": "efa4630e-a9a4-4039-aff3-fa1fc4e313b9",
   "metadata": {},
   "outputs": [],
   "source": [
    "import numpy as np\n",
    "import plotly.graph_objs as go"
   ]
  },
  {
   "cell_type": "code",
   "execution_count": null,
   "id": "d19f502b-ede5-42da-b4d1-888fc176992a",
   "metadata": {},
   "outputs": [],
   "source": [
    "\n",
    "\n",
    "# Load data from the file\n",
    "#data = np.loadtxt('your_file.txt').reshape((128, 128, 128))\n",
    "\n",
    "# Create 3D grid\n",
    "x, y, z = np.meshgrid(np.arange(128), np.arange(128), np.arange(128))\n",
    "\n",
    "# Create a 3D scatter plot\n",
    "scatter = go.Scatter3d(\n",
    "    x=x.flatten(),\n",
    "    y=y.flatten(),\n",
    "    z=z.flatten(),\n",
    "    mode='markers',\n",
    "    marker=dict(\n",
    "        size=4,\n",
    "        color=data.flatten(),\n",
    "        colorscale='Viridis',\n",
    "        opacity=0.7,  # Adjust transparency\n",
    "        colorbar=dict(title='Density')\n",
    "    )\n",
    ")\n",
    "\n",
    "# Layout settings\n",
    "layout = go.Layout(\n",
    "    scene=dict(\n",
    "        xaxis=dict(title='X-axis'),\n",
    "        yaxis=dict(title='Y-axis'),\n",
    "        zaxis=dict(title='Z-axis'),\n",
    "    ),\n",
    "    title='3D Density Plot',\n",
    ")\n",
    "\n",
    "# Create the figure\n",
    "fig = go.Figure(data=[scatter], layout=layout)\n",
    "\n",
    "# Show the interactive plot\n",
    "fig.show()\n"
   ]
  },
  {
   "cell_type": "code",
   "execution_count": null,
   "id": "f69c4631-e03c-46ac-9ca9-6364a118658b",
   "metadata": {},
   "outputs": [],
   "source": []
  }
 ],
 "metadata": {
  "kernelspec": {
   "display_name": "Python 3 (ipykernel)",
   "language": "python",
   "name": "python3"
  },
  "language_info": {
   "codemirror_mode": {
    "name": "ipython",
    "version": 3
   },
   "file_extension": ".py",
   "mimetype": "text/x-python",
   "name": "python",
   "nbconvert_exporter": "python",
   "pygments_lexer": "ipython3",
   "version": "3.11.5"
  },
  "widgets": {
   "application/vnd.jupyter.widget-state+json": {
    "state": {},
    "version_major": 2,
    "version_minor": 0
   }
  }
 },
 "nbformat": 4,
 "nbformat_minor": 5
}
