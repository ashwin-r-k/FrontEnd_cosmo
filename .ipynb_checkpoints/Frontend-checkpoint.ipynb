{
 "cells": [
  {
   "cell_type": "code",
   "execution_count": 2,
   "id": "75382fb9-54df-4ff8-9b31-e15edb2553b0",
   "metadata": {},
   "outputs": [
    {
     "name": "stdout",
     "output_type": "stream",
     "text": [
      "/home/ashwin/GIT/FrontEnd_cosmo\n"
     ]
    }
   ],
   "source": [
    "import numpy as np\n",
    "import pylab as pl\n",
    "from mpl_toolkits.axes_grid1 import ImageGrid\n",
    "\n",
    "import os\n",
    "import shutil\n",
    "print(os.getcwd())\n"
   ]
  },
  {
   "cell_type": "code",
   "execution_count": null,
   "id": "8908aabd-a435-4e20-81a7-8500cb0bddb6",
   "metadata": {},
   "outputs": [],
   "source": []
  },
  {
   "cell_type": "code",
   "execution_count": 28,
   "id": "6864969d-6bde-492a-b8f1-b554370fb3a0",
   "metadata": {},
   "outputs": [],
   "source": [
    "import subprocess"
   ]
  },
  {
   "cell_type": "code",
   "execution_count": 12,
   "id": "393d3a24-6272-496c-8c1f-442f9f047611",
   "metadata": {},
   "outputs": [],
   "source": [
    "location_home=os.getcwd()\n",
    "location_nbody = \"N-body\"\n",
    "location_fof = \"FoF-Halo-finder\"\n",
    "location_regio_yuga = \"ReionYuga\""
   ]
  },
  {
   "cell_type": "code",
   "execution_count": 13,
   "id": "c90d2b0b-3dc6-41b7-877b-53dfebc4283c",
   "metadata": {},
   "outputs": [
    {
     "data": {
      "text/plain": [
       "'/home/ashwin/GIT/FrontEnd_cosmo/N-body'"
      ]
     },
     "execution_count": 13,
     "metadata": {},
     "output_type": "execute_result"
    }
   ],
   "source": [
    "os.path.join(location_home,location_nbody)"
   ]
  },
  {
   "cell_type": "code",
   "execution_count": 14,
   "id": "d0eb224b-cc04-4cc1-8048-8da500f7f2f0",
   "metadata": {},
   "outputs": [],
   "source": [
    "    \n",
    "def compile_prog(location,compile_command,location_home):\n",
    "# Compile the C++ program \n",
    "        os.chdir(os.path.join(location_home,location))\n",
    "        print(os.getcwd())\n",
    "\n",
    "        compile_command = \"make\"+\" \"+compile_command\n",
    "        os.system(compile_command)\n",
    "        '''\n",
    "        #compile_process = subprocess.Popen([location, \"make\",compile_command])\n",
    "        #compile_process = subprocess.run(compile_command, stdout=subprocess.PIPE, stderr=subprocess.PIPE)\n",
    "         \n",
    "        # Check if the compilation was successful \n",
    "        if compile_process.returncode == 0:\n",
    "            print(\"Compilation successful.\") \n",
    "    \n",
    "        else: \n",
    "            # Print the compilation error messages \n",
    "            print(\"Compilation failed.\") \n",
    "            print(compile_process.stderr.decode())\n",
    "        '''\n",
    "        os.chdir(location_home)\n",
    "\n",
    "def run_prog(location,run_command,location_home):\n",
    "            # Run the compiled program \n",
    "        os.chdir(os.path.join(location_home,location))\n",
    "\n",
    "        run_process = subprocess.run(run_command, stdout=subprocess.PIPE, stderr=subprocess.PIPE) \n",
    "         \n",
    "        # Get the output and error messages from the program \n",
    "        output = run_process.stdout.decode() \n",
    "        error = run_process.stderr.decode() \n",
    "         \n",
    "        # Print the output and error messages \n",
    "        print(\"Output:\") \n",
    "        print(output) \n",
    "         \n",
    "        print(\"Error (if any):\") \n",
    "        print(error) \n",
    "        os.chdir(location_home)\n"
   ]
  },
  {
   "cell_type": "code",
   "execution_count": 15,
   "id": "78ab54aa-f46e-40c2-8a99-c7fff3b4cb29",
   "metadata": {
    "scrolled": true
   },
   "outputs": [
    {
     "name": "stdout",
     "output_type": "stream",
     "text": [
      "/home/ashwin/GIT/FrontEnd_cosmo/N-body\n",
      "gcc -c -g -I/usr/local/include/ nbody_comp.c -L/usr/local/lib/  -fopenmp -lfftw3f_omp -lfftw3f -lm\n",
      "gcc -c  -g   -I/usr/local/include/ nbody_funcs.c -L/usr/local/lib/  -fopenmp -lfftw3f_omp -lfftw3f -lm\n",
      "gcc -c -g -I/usr/local/include/ allotarrays.c -L/usr/local/lib/  -fopenmp -lfftw3f_omp -lfftw3f -lm\n",
      "gcc -c  -g   -I/usr/local/include/ funcs.c -L/usr/local/lib/  -fopenmp -lfftw3f_omp -lfftw3f -lm\n",
      "gcc -c -g -I/usr/local/include/ powerspec.c -L/usr/local/lib/  -fopenmp -lfftw3f_omp -lfftw3f -lm\n",
      "gcc -c -g -I/usr/local/include/ tf_fit.c -L/usr/local/lib/  -fopenmp -lfftw3f_omp -lfftw3f -lm\n",
      "gcc -g -o nbody_comp nbody_comp.o nbody_funcs.o funcs.o allotarrays.o powerspec.o tf_fit.o -L/usr/local/lib/  -fopenmp -lfftw3f_omp -lfftw3f -lm\n",
      "rm -rf *.o\n",
      "rm -rf *~\n",
      "/home/ashwin/GIT/FrontEnd_cosmo/FoF-Halo-finder\n",
      "gcc -c -g -I/usr/local/include/ fof_main.c -L/usr/local/lib/  -fopenmp -lfftw3f_omp -lfftw3f -lm\n",
      "gcc -c  -g   -I/usr/local/include/ nbody_funcs.c -L/usr/local/lib/  -fopenmp -lfftw3f_omp -lfftw3f -lm\n",
      "gcc -c -g -I/usr/local/include/ allotarrays.c -L/usr/local/lib/  -fopenmp -lfftw3f_omp -lfftw3f -lm\n",
      "gcc -c  -g   -I/usr/local/include/ funcs.c -L/usr/local/lib/  -fopenmp -lfftw3f_omp -lfftw3f -lm\n",
      "gcc -c -g -I/usr/local/include/ powerspec.c -L/usr/local/lib/  -fopenmp -lfftw3f_omp -lfftw3f -lm\n",
      "gcc -c -g -I/usr/local/include/ tf_fit.c -L/usr/local/lib/  -fopenmp -lfftw3f_omp -lfftw3f -lm\n",
      "gcc -g -o fof_main fof_main.o nbody_funcs.o funcs.o allotarrays.o powerspec.o tf_fit.o -L/usr/local/lib/  -fopenmp -lfftw3f_omp -lfftw3f -lm\n",
      "rm -rf *.o\n",
      "rm -rf *~\n",
      "/home/ashwin/GIT/FrontEnd_cosmo/ReionYuga\n",
      "gcc -c -g -I/usr/local/include/ ionz_main.c -L/usr/local/lib/  -fopenmp -lfftw3f_omp -lfftw3f -lm\n",
      "gcc -c  -g   -I/usr/local/include/ nbody_funcs.c -L/usr/local/lib/  -fopenmp -lfftw3f_omp -lfftw3f -lm\n",
      "gcc -c -g -I/usr/local/include/ allotarrays.c -L/usr/local/lib/  -fopenmp -lfftw3f_omp -lfftw3f -lm\n",
      "gcc -c  -g   -I/usr/local/include/ funcs.c -L/usr/local/lib/  -fopenmp -lfftw3f_omp -lfftw3f -lm\n",
      "gcc -c -g -I/usr/local/include/ powerspec.c -L/usr/local/lib/  -fopenmp -lfftw3f_omp -lfftw3f -lm\n",
      "gcc -c -g -I/usr/local/include/ tf_fit.c -L/usr/local/lib/  -fopenmp -lfftw3f_omp -lfftw3f -lm\n",
      "gcc -c -g -I/usr/local/include/ ionz_funcs.c -L/usr/local/lib/  -fopenmp -lfftw3f_omp -lfftw3f -lm \n",
      "gcc -g -o ionz_main  ionz_main.o nbody_funcs.o allotarrays.o funcs.o powerspec.o tf_fit.o ionz_funcs.o  -L/usr/local/lib/  -fopenmp -lfftw3f_omp -lfftw3f -lm\n",
      "rm -rf *.o\n",
      "rm -rf *~\n"
     ]
    }
   ],
   "source": [
    "prog = \"nbody_comp\"\n",
    "compile_prog(location_nbody,prog,location_home)\n",
    "\n",
    "prog = \"fof_main\"\n",
    "compile_prog(location_fof,prog,location_home)\n",
    "\n",
    "prog = \"ionz_main\"\n",
    "compile_prog(location_regio_yuga,prog,location_home)"
   ]
  },
  {
   "cell_type": "markdown",
   "id": "70d203f4-bf91-4c68-83df-9141d8578b66",
   "metadata": {},
   "source": [
    "seed  Nbin\n",
    "hh    omega_m\tomega_l\t\tspectral_index\n",
    "omega_baryon\tsigma_8\t\n",
    "N1 N2 N3 fraction_fill LL\n",
    "output_flag\tpk_flag\n",
    "a_initial \tdelta_a\n",
    "Noutput (# of redshifts where outputs are required)\n",
    "List of the redshift values\n",
    "\n",
    "-100012  10\n",
    "0.6704  0.3183  0.6817  0.9619 \n",
    "0.04902  0.8347\n",
    "16  16  16  512  0.07\n",
    "1  1\n",
    "0.008  0.004\n",
    "1\n",
    "1\n",
    "\n",
    "6\n",
    "13.0 11.0 10.0 9.0 8.0 7.0"
   ]
  },
  {
   "cell_type": "code",
   "execution_count": 16,
   "id": "76eabb84-3897-4408-a786-8250a6d15aec",
   "metadata": {},
   "outputs": [],
   "source": [
    "from ipywidgets import interact, interactive, fixed, interact_manual\n",
    "import ipywidgets as widgets"
   ]
  },
  {
   "cell_type": "code",
   "execution_count": 17,
   "id": "baa74244-72bc-43bc-81d6-a9363194fe96",
   "metadata": {},
   "outputs": [],
   "source": [
    "seed = widgets.BoundedFloatText(\n",
    "    value=-100012,\n",
    "    min=-1000000,\n",
    "    max=1000000,\n",
    "    description='seed:',\n",
    "    disabled=False\n",
    ")\n",
    "\n",
    "Nbin = widgets.BoundedFloatText(\n",
    "    value=10,\n",
    "    description='NBin:',\n",
    "    disabled=False\n",
    ")\n",
    "\n",
    "hh = widgets.BoundedFloatText(\n",
    "    value=0.6704,\n",
    "    description='hh:',\n",
    "    disabled=False\n",
    ")\n",
    "\n",
    "omega_m = widgets.BoundedFloatText(\n",
    "    value=0.3183,\n",
    "    description='omega_m:',\n",
    "    disabled=False\n",
    ")\n",
    "\n",
    "omega_l = widgets.BoundedFloatText(\n",
    "    value=0.6817,\n",
    "    description='omega_l:',\n",
    "    disabled=False\n",
    ")\n",
    "\n",
    "spectral_index = widgets.BoundedFloatText(\n",
    "    value= 0.9619 ,\n",
    "    description='spectral_index:',\n",
    "    disabled=False\n",
    ")\n",
    "\n",
    "omega_baryon = widgets.BoundedFloatText(\n",
    "    value=0.04902,\n",
    "    description='omega_baryon:',\n",
    "    disabled=False\n",
    ")\n",
    "\n",
    "sigma_8 = widgets.BoundedFloatText(\n",
    "    value=0.8347,\n",
    "    description='sigma_8:',\n",
    "    disabled=False\n",
    ")\n",
    "\n",
    "box=widgets.Select(\n",
    "    options=[16, 32, 64, 128, 256, 512,1024,2048,4096],\n",
    "    value=16,\n",
    "    # rows=10,\n",
    "    description='N1 N2 N3:',\n",
    "    disabled=False\n",
    ")\n",
    "#box=widgets.Combobox(options=[16, 32, 64, 128, 256, 512,1024,2048,4096], value=\"N1N2N3 box dimension\")\n",
    "\n",
    "fraction_fill = widgets.BoundedFloatText(\n",
    "    value=2,\n",
    "    min=0,\n",
    "    max=1000,\n",
    "    description='fraction_fill:',\n",
    "    disabled=False\n",
    ")\n",
    "\n",
    "LL= widgets.BoundedFloatText(\n",
    "    value=0.07,\n",
    "    description='LL:',\n",
    "    disabled=False)\n",
    "\n",
    "a_initial = widgets.BoundedFloatText(\n",
    "    value=0.008,\n",
    "    description='a_initial:',\n",
    "    disabled=False)\t\n",
    "\n",
    "delta_a=widgets.BoundedFloatText(\n",
    "    value=0.004,\n",
    "    description='delta_a:',\n",
    "    disabled=False)\n",
    "\n",
    "output_flag=0\n",
    "pk_flag=1\n",
    "\n"
   ]
  },
  {
   "cell_type": "code",
   "execution_count": 18,
   "id": "9d515bed-46ba-4447-89b4-b3a30bab6c06",
   "metadata": {},
   "outputs": [],
   "source": [
    "ui = widgets.HBox([seed,  Nbin])\n",
    "ui2 = widgets.HBox([hh,omega_m,omega_l,spectral_index])\n",
    "ui3 = widgets.HBox([omega_baryon,sigma_8])\n",
    "ui4 = widgets.HBox([fraction_fill,LL])\n",
    "ui5 = widgets.HBox([a_initial,delta_a])\n",
    "\n"
   ]
  },
  {
   "cell_type": "code",
   "execution_count": 19,
   "id": "b422ebc5-503d-4217-bbec-27eebeaa36d9",
   "metadata": {},
   "outputs": [
    {
     "data": {
      "application/vnd.jupyter.widget-view+json": {
       "model_id": "886ced19d74c47c9b067547c94c03053",
       "version_major": 2,
       "version_minor": 0
      },
      "text/plain": [
       "HBox(children=(BoundedFloatText(value=-100012.0, description='seed:', max=1000000.0, min=-1000000.0), BoundedF…"
      ]
     },
     "metadata": {},
     "output_type": "display_data"
    },
    {
     "data": {
      "application/vnd.jupyter.widget-view+json": {
       "model_id": "fcf57218aecc4f0a8a52908846eb3d9c",
       "version_major": 2,
       "version_minor": 0
      },
      "text/plain": [
       "HBox(children=(BoundedFloatText(value=0.6704, description='hh:'), BoundedFloatText(value=0.3183, description='…"
      ]
     },
     "metadata": {},
     "output_type": "display_data"
    },
    {
     "data": {
      "application/vnd.jupyter.widget-view+json": {
       "model_id": "594bf32c64684537884473f6e8e82f4f",
       "version_major": 2,
       "version_minor": 0
      },
      "text/plain": [
       "HBox(children=(BoundedFloatText(value=0.04902, description='omega_baryon:'), BoundedFloatText(value=0.8347, de…"
      ]
     },
     "metadata": {},
     "output_type": "display_data"
    },
    {
     "data": {
      "application/vnd.jupyter.widget-view+json": {
       "model_id": "03173a5e468846b7b4f6b7f26acda060",
       "version_major": 2,
       "version_minor": 0
      },
      "text/plain": [
       "Select(description='N1 N2 N3:', options=(16, 32, 64, 128, 256, 512, 1024, 2048, 4096), value=16)"
      ]
     },
     "metadata": {},
     "output_type": "display_data"
    },
    {
     "data": {
      "application/vnd.jupyter.widget-view+json": {
       "model_id": "0ec9f0f7bfb94ec49b100d8c19f82618",
       "version_major": 2,
       "version_minor": 0
      },
      "text/plain": [
       "HBox(children=(BoundedFloatText(value=2.0, description='fraction_fill:', max=1000.0), BoundedFloatText(value=0…"
      ]
     },
     "metadata": {},
     "output_type": "display_data"
    },
    {
     "data": {
      "application/vnd.jupyter.widget-view+json": {
       "model_id": "59f0539a921f458eb1ee2c3a56c9a226",
       "version_major": 2,
       "version_minor": 0
      },
      "text/plain": [
       "HBox(children=(BoundedFloatText(value=0.008, description='a_initial:'), BoundedFloatText(value=0.004, descript…"
      ]
     },
     "metadata": {},
     "output_type": "display_data"
    }
   ],
   "source": [
    "display(ui)\n",
    "display(ui2)\n",
    "display(ui3)\n",
    "display(box)\n",
    "display(ui4)\n",
    "display(ui5)"
   ]
  },
  {
   "cell_type": "code",
   "execution_count": 105,
   "id": "4742c260-b672-4d34-ac1f-6753bdc9aa0f",
   "metadata": {},
   "outputs": [],
   "source": [
    "redshift_values = [11,7,4]\n",
    "Len_redshift = len(redshift_values)\n",
    "redshift_values_str = ' '.join(str(x) for x in redshift_values)"
   ]
  },
  {
   "cell_type": "code",
   "execution_count": 106,
   "id": "a776c288-8d80-4845-9a1b-01b7aa2f6a73",
   "metadata": {},
   "outputs": [],
   "source": [
    "lines = f\"\"\"{int(seed.value)} {int(Nbin.value)}\n",
    "{hh.value} {omega_m.value} {omega_l.value} {spectral_index.value}\n",
    "{omega_baryon.value} {sigma_8.value}\n",
    "{box.value} {box.value} {box.value} {int(fraction_fill.value)} {LL.value}\n",
    "{output_flag} {pk_flag}\n",
    "{a_initial.value} {delta_a.value}\n",
    "{Len_redshift}\n",
    "{redshift_values_str}\"\"\"\n"
   ]
  },
  {
   "cell_type": "code",
   "execution_count": 107,
   "id": "67acb435-eb94-4b0b-9e9c-48253f1fcdb3",
   "metadata": {},
   "outputs": [
    {
     "name": "stdout",
     "output_type": "stream",
     "text": [
      "-100012 10\n",
      "0.6704 0.3183 0.6817 0.9619\n",
      "0.04902 0.8347\n",
      "16 16 16 2 0.07\n",
      "0 1\n",
      "0.008 0.004\n",
      "3\n",
      "11 7 4\n"
     ]
    }
   ],
   "source": [
    "print(lines)"
   ]
  },
  {
   "cell_type": "code",
   "execution_count": 108,
   "id": "f9c530de-049b-4874-adda-fac7638340df",
   "metadata": {},
   "outputs": [],
   "source": [
    "os.chdir(os.path.join(location_home,location_nbody))\n",
    "with open('input.nbody_comp', 'w') as file:  \n",
    "        # Using the writelines function  \n",
    "        file.writelines(lines)  "
   ]
  },
  {
   "cell_type": "code",
   "execution_count": 109,
   "id": "493c6e89-699a-428a-ba28-895783f55186",
   "metadata": {},
   "outputs": [
    {
     "name": "stdout",
     "output_type": "stream",
     "text": [
      "['-100012 10\\n', '0.6704 0.3183 0.6817 0.9619\\n', '0.04902 0.8347\\n', '16 16 16 2 0.07\\n', '0 1\\n', '0.008 0.004\\n', '3\\n', '11 7 4']\n"
     ]
    }
   ],
   "source": [
    "with open('input.nbody_comp', 'r') as file:  \n",
    "        # Using the writelines function  \n",
    "        lines = file.readlines()\n",
    "        print(lines)"
   ]
  },
  {
   "cell_type": "code",
   "execution_count": 110,
   "id": "3296aa24-6007-4152-a671-36bc1fd16ac9",
   "metadata": {},
   "outputs": [
    {
     "name": "stdout",
     "output_type": "stream",
     "text": [
      "Output:\n",
      "DM_m= 1.089507e-02 10^10 M_sun \t L_box=1.120000e+00 Mpc\n",
      "No of threads = 8\n",
      "norml=2.441406e-04\tCC=1.423083e-03\trho_b_inv=8.000000e+00\n",
      "ok delta_fill time = 3.728400e-04\n",
      "ok cal_pow time = 4.266860e-04\n",
      "ok Zel_move time = 1.527624e-02\n",
      "ok cic = 3.252200e-05\n",
      "delta_aap=3.333330e-03\n",
      "(z=11.0) time for  Nbody loop = 5.603725e-03\ttime for write output = 1.038050e-04\n",
      "delta_aap=1.666658e-03\n",
      "(z=7.0) time for  Nbody loop = 1.488250e-03\ttime for write output = 6.385200e-05\n",
      "delta_aap=3.000125e-03\n",
      "(z=4.0) time for  Nbody loop = 7.513378e-03\ttime for write output = 6.385900e-05\n",
      "number of step = 43\n",
      "done. Total time taken = 0hr 0min 0sec\n",
      "\n",
      "Error (if any):\n",
      "\n"
     ]
    }
   ],
   "source": [
    "prog = \"./nbody_comp\"\n",
    "run_prog(location_nbody,prog,location_home)"
   ]
  },
  {
   "cell_type": "code",
   "execution_count": 111,
   "id": "c66b96d5-efe5-433f-8722-b9c25b8a22c3",
   "metadata": {},
   "outputs": [
    {
     "name": "stdout",
     "output_type": "stream",
     "text": [
      "Searching for files with the term: output.nbody\n",
      "Moved output.nbody_11.000 to /home/ashwin/GIT/FrontEnd_cosmo/FoF-Halo-finder\n",
      "Moved output.nbody_4.000 to /home/ashwin/GIT/FrontEnd_cosmo/FoF-Halo-finder\n",
      "Moved output.nbody_7.000 to /home/ashwin/GIT/FrontEnd_cosmo/FoF-Halo-finder\n",
      "Searching for files with the term: input.nbody\n",
      "Moved input.nbody_comp to /home/ashwin/GIT/FrontEnd_cosmo/FoF-Halo-finder\n",
      "Search and move process complete.\n"
     ]
    }
   ],
   "source": [
    "!bash movefilesN-F"
   ]
  },
  {
   "cell_type": "code",
   "execution_count": 112,
   "id": "10934b42-b223-4fc4-8f17-06ed876048b0",
   "metadata": {},
   "outputs": [
    {
     "name": "stdout",
     "output_type": "stream",
     "text": [
      "Output:\n",
      "(11.0)nbody output_flag=0, NF=2\n",
      "Total number of clusters=0\n",
      "(for 11.0) Time taken = 0hr 0min 0sec\n",
      "(7.0)nbody output_flag=0, NF=2\n",
      "Total number of clusters=0\n",
      "(for 7.0) Time taken = 0hr 0min 0sec\n",
      "(4.0)nbody output_flag=0, NF=2\n",
      "Total number of clusters=1\n",
      "(for 4.0) Time taken = 0hr 0min 0sec\n",
      "done FoF. Total time taken = 0hr 0min 0sec\n",
      "\n",
      "Error (if any):\n",
      "\n"
     ]
    }
   ],
   "source": [
    "prog = \"./fof_main\"\n",
    "run_prog(location_fof,prog,location_home)"
   ]
  },
  {
   "cell_type": "code",
   "execution_count": 113,
   "id": "1b5dfa38-7061-4595-b236-530e3f201e74",
   "metadata": {},
   "outputs": [
    {
     "name": "stdout",
     "output_type": "stream",
     "text": [
      "Searching for files with the term: output.nbody\n",
      "Moved output.nbody_11.000 to /home/ashwin/GIT/FrontEnd_cosmo/ReionYuga\n",
      "Moved output.nbody_4.000 to /home/ashwin/GIT/FrontEnd_cosmo/ReionYuga\n",
      "Moved output.nbody_7.000 to /home/ashwin/GIT/FrontEnd_cosmo/ReionYuga\n",
      "Searching for files with the term: input.nbody\n",
      "Moved input.nbody_comp to /home/ashwin/GIT/FrontEnd_cosmo/ReionYuga\n",
      "Searching for files with the term: halo_catalogue\n",
      "Moved halo_catalogue_11.000 to /home/ashwin/GIT/FrontEnd_cosmo/ReionYuga\n",
      "Moved halo_catalogue_4.000 to /home/ashwin/GIT/FrontEnd_cosmo/ReionYuga\n",
      "Moved halo_catalogue_7.000 to /home/ashwin/GIT/FrontEnd_cosmo/ReionYuga\n",
      "Search and move process complete.\n",
      "Directory '/home/ashwin/GIT/FrontEnd_cosmo/ReionYuga/ionz_out' does not exist.\n"
     ]
    }
   ],
   "source": [
    "!bash movefilesF-R"
   ]
  },
  {
   "cell_type": "code",
   "execution_count": 114,
   "id": "4504f270-5c2c-4e79-a3b6-f5e21be25019",
   "metadata": {},
   "outputs": [
    {
     "name": "stdout",
     "output_type": "stream",
     "text": [
      "Output:\n",
      "ok read nbody output = 1.386948e+04\n",
      "ok read halo catalogue = 8.426001e-06\n",
      "No of threads = 8\n",
      "ok cic_vmass= 5.447400e-05\n",
      "ok smoothing = 1.030207e-01\n",
      "vol. avg. x_HI=1.000000e+00, mass avg. x_HI=1.000000e+00\n",
      "mass avg. x_HI=1.000000e+00\n",
      "ok time taken= 6.717700e-04\n",
      "\n",
      "ok read nbody output = 7.170740e-04\n",
      "ok read halo catalogue = 6.890999e-06\n",
      "ok cic_vmass= 5.380600e-05\n",
      "ok smoothing = 4.369190e-02\n",
      "vol. avg. x_HI=1.000000e+00, mass avg. x_HI=1.000000e+00\n",
      "mass avg. x_HI=1.000000e+00\n",
      "ok time taken= 6.001690e-04\n",
      "\n",
      "ok read nbody output = 6.428040e-04\n",
      "ok read halo catalogue = 6.268001e-06\n",
      "ok cic_vmass= 5.393000e-05\n",
      "ok smoothing = 3.678487e-02\n",
      "vol. avg. x_HI=7.207031e-01, mass avg. x_HI=6.587187e-01\n",
      "mass avg. x_HI=6.587187e-01\n",
      "ok time taken= 6.509450e-04\n",
      "\n",
      "done. Total time taken = 0hr 0min 0sec\n",
      "\n",
      "Error (if any):\n",
      "\n"
     ]
    }
   ],
   "source": [
    "prog = \"./ionz_main\"\n",
    "run_prog(location_regio_yuga,prog,location_home)"
   ]
  },
  {
   "cell_type": "code",
   "execution_count": 115,
   "id": "e2f8efd2-1dd9-476a-817a-0bc3f2c11458",
   "metadata": {},
   "outputs": [
    {
     "name": "stdout",
     "output_type": "stream",
     "text": [
      "Moved folder 'ionz_out' to '/home/ashwin/GIT/FrontEnd_cosmo/Save/BackupRun_1/'\n",
      "Searching for files with the term: output.nbody\n",
      "Moved output.nbody_11.000 to /home/ashwin/GIT/FrontEnd_cosmo/Save/BackupRun_1/\n",
      "Moved output.nbody_4.000 to /home/ashwin/GIT/FrontEnd_cosmo/Save/BackupRun_1/\n",
      "Moved output.nbody_7.000 to /home/ashwin/GIT/FrontEnd_cosmo/Save/BackupRun_1/\n",
      "Searching for files with the term: input.nbody\n",
      "Moved input.nbody_comp to /home/ashwin/GIT/FrontEnd_cosmo/Save/BackupRun_1/\n",
      "Searching for files with the term: halo_catalogue\n",
      "Moved halo_catalogue_11.000 to /home/ashwin/GIT/FrontEnd_cosmo/Save/BackupRun_1/\n",
      "Moved halo_catalogue_4.000 to /home/ashwin/GIT/FrontEnd_cosmo/Save/BackupRun_1/\n",
      "Moved halo_catalogue_7.000 to /home/ashwin/GIT/FrontEnd_cosmo/Save/BackupRun_1/\n",
      "Search and move process complete.\n"
     ]
    }
   ],
   "source": [
    "!bash backupOutput"
   ]
  },
  {
   "cell_type": "code",
   "execution_count": null,
   "id": "13d40310-a8f2-4573-8e06-b0684a4fc2da",
   "metadata": {},
   "outputs": [],
   "source": []
  },
  {
   "cell_type": "code",
   "execution_count": null,
   "id": "adc5a969-77fe-4e27-a947-f53de53dd7a6",
   "metadata": {},
   "outputs": [],
   "source": []
  }
 ],
 "metadata": {
  "kernelspec": {
   "display_name": "Python 3 (ipykernel)",
   "language": "python",
   "name": "python3"
  },
  "language_info": {
   "codemirror_mode": {
    "name": "ipython",
    "version": 3
   },
   "file_extension": ".py",
   "mimetype": "text/x-python",
   "name": "python",
   "nbconvert_exporter": "python",
   "pygments_lexer": "ipython3",
   "version": "3.11.5"
  },
  "widgets": {
   "application/vnd.jupyter.widget-state+json": {
    "state": {
     "016e1a55509c4630a06626da04b3c0f9": {
      "model_module": "@jupyter-widgets/controls",
      "model_module_version": "2.0.0",
      "model_name": "DescriptionStyleModel",
      "state": {
       "description_width": ""
      }
     },
     "03173a5e468846b7b4f6b7f26acda060": {
      "model_module": "@jupyter-widgets/controls",
      "model_module_version": "2.0.0",
      "model_name": "SelectModel",
      "state": {
       "_options_labels": [
        "16",
        "32",
        "64",
        "128",
        "256",
        "512",
        "1024",
        "2048",
        "4096"
       ],
       "description": "N1 N2 N3:",
       "index": 0,
       "layout": "IPY_MODEL_3a48da0323ee4427a611a7ffdc4a0345",
       "style": "IPY_MODEL_b541edbfef3543968414e5baccc065a2"
      }
     },
     "05c91ebeafde4fb49ccf7ab4e55aaf66": {
      "model_module": "@jupyter-widgets/controls",
      "model_module_version": "2.0.0",
      "model_name": "BoundedFloatTextModel",
      "state": {
       "description": "hh:",
       "layout": "IPY_MODEL_069f832934464cee9ed10e31ef3fcd78",
       "step": null,
       "style": "IPY_MODEL_6d8ac9f16f23402193239bf38aeeef17",
       "value": 0.6704
      }
     },
     "069f832934464cee9ed10e31ef3fcd78": {
      "model_module": "@jupyter-widgets/base",
      "model_module_version": "2.0.0",
      "model_name": "LayoutModel",
      "state": {}
     },
     "0ec9f0f7bfb94ec49b100d8c19f82618": {
      "model_module": "@jupyter-widgets/controls",
      "model_module_version": "2.0.0",
      "model_name": "HBoxModel",
      "state": {
       "children": [
        "IPY_MODEL_2cc1dabe0c42431282826ae348735cca",
        "IPY_MODEL_c1103440aa8040558ee4d3ce89ff00c4"
       ],
       "layout": "IPY_MODEL_47ae3e43d3824335addcbeccee1dc937"
      }
     },
     "175e15456995437e975ae66020c4d0ff": {
      "model_module": "@jupyter-widgets/base",
      "model_module_version": "2.0.0",
      "model_name": "LayoutModel",
      "state": {}
     },
     "2bb5986482b44ace902c180859b36d85": {
      "model_module": "@jupyter-widgets/controls",
      "model_module_version": "2.0.0",
      "model_name": "DescriptionStyleModel",
      "state": {
       "description_width": ""
      }
     },
     "2cc1dabe0c42431282826ae348735cca": {
      "model_module": "@jupyter-widgets/controls",
      "model_module_version": "2.0.0",
      "model_name": "BoundedFloatTextModel",
      "state": {
       "description": "fraction_fill:",
       "layout": "IPY_MODEL_af3afc4b4e7047e5a8706f6e3a0be1b8",
       "max": 1000,
       "step": null,
       "style": "IPY_MODEL_016e1a55509c4630a06626da04b3c0f9",
       "value": 2
      }
     },
     "3263a74203cd4a6c8316fa67c43b4431": {
      "model_module": "@jupyter-widgets/base",
      "model_module_version": "2.0.0",
      "model_name": "LayoutModel",
      "state": {}
     },
     "3a48da0323ee4427a611a7ffdc4a0345": {
      "model_module": "@jupyter-widgets/base",
      "model_module_version": "2.0.0",
      "model_name": "LayoutModel",
      "state": {}
     },
     "42d48c751f47453b9bd9bce315f1a1b7": {
      "model_module": "@jupyter-widgets/base",
      "model_module_version": "2.0.0",
      "model_name": "LayoutModel",
      "state": {}
     },
     "43628314a4ab43cb9ca37c4d8ce168b6": {
      "model_module": "@jupyter-widgets/base",
      "model_module_version": "2.0.0",
      "model_name": "LayoutModel",
      "state": {}
     },
     "47ae3e43d3824335addcbeccee1dc937": {
      "model_module": "@jupyter-widgets/base",
      "model_module_version": "2.0.0",
      "model_name": "LayoutModel",
      "state": {}
     },
     "493440ae23be4cfd990c613ada42a30a": {
      "model_module": "@jupyter-widgets/base",
      "model_module_version": "2.0.0",
      "model_name": "LayoutModel",
      "state": {}
     },
     "53a27b0373fe4488a80e46b17842b49f": {
      "model_module": "@jupyter-widgets/controls",
      "model_module_version": "2.0.0",
      "model_name": "DescriptionStyleModel",
      "state": {
       "description_width": ""
      }
     },
     "594bf32c64684537884473f6e8e82f4f": {
      "model_module": "@jupyter-widgets/controls",
      "model_module_version": "2.0.0",
      "model_name": "HBoxModel",
      "state": {
       "children": [
        "IPY_MODEL_e9b5ab3a5ab5490bbc4a46391907ef55",
        "IPY_MODEL_999b23b7ef544a949f801171f373e0ee"
       ],
       "layout": "IPY_MODEL_493440ae23be4cfd990c613ada42a30a"
      }
     },
     "59f0539a921f458eb1ee2c3a56c9a226": {
      "model_module": "@jupyter-widgets/controls",
      "model_module_version": "2.0.0",
      "model_name": "HBoxModel",
      "state": {
       "children": [
        "IPY_MODEL_9d0aa6b8e1984500b42d134881bbcd41",
        "IPY_MODEL_6ca1312f965e4123ac463edefcb4f040"
       ],
       "layout": "IPY_MODEL_3263a74203cd4a6c8316fa67c43b4431"
      }
     },
     "59f496777911413885f46f31027e528a": {
      "model_module": "@jupyter-widgets/base",
      "model_module_version": "2.0.0",
      "model_name": "LayoutModel",
      "state": {}
     },
     "6168fe8e9f61475db22309a38facc804": {
      "model_module": "@jupyter-widgets/controls",
      "model_module_version": "2.0.0",
      "model_name": "DescriptionStyleModel",
      "state": {
       "description_width": ""
      }
     },
     "6950db2756094087b4637b61809ad904": {
      "model_module": "@jupyter-widgets/controls",
      "model_module_version": "2.0.0",
      "model_name": "DescriptionStyleModel",
      "state": {
       "description_width": ""
      }
     },
     "6af1da61ebd0410b969560c81a8c3ed1": {
      "model_module": "@jupyter-widgets/controls",
      "model_module_version": "2.0.0",
      "model_name": "DescriptionStyleModel",
      "state": {
       "description_width": ""
      }
     },
     "6c8f6aaa10464be4a49aca6c69608484": {
      "model_module": "@jupyter-widgets/base",
      "model_module_version": "2.0.0",
      "model_name": "LayoutModel",
      "state": {}
     },
     "6ca1312f965e4123ac463edefcb4f040": {
      "model_module": "@jupyter-widgets/controls",
      "model_module_version": "2.0.0",
      "model_name": "BoundedFloatTextModel",
      "state": {
       "description": "delta_a:",
       "layout": "IPY_MODEL_6c8f6aaa10464be4a49aca6c69608484",
       "step": null,
       "style": "IPY_MODEL_7f6fce1351bc4386b144ec34deab8b4e",
       "value": 0.004
      }
     },
     "6d8ac9f16f23402193239bf38aeeef17": {
      "model_module": "@jupyter-widgets/controls",
      "model_module_version": "2.0.0",
      "model_name": "DescriptionStyleModel",
      "state": {
       "description_width": ""
      }
     },
     "7344658efb6846b794cac264f5921b6f": {
      "model_module": "@jupyter-widgets/controls",
      "model_module_version": "2.0.0",
      "model_name": "BoundedFloatTextModel",
      "state": {
       "description": "spectral_index:",
       "layout": "IPY_MODEL_59f496777911413885f46f31027e528a",
       "step": null,
       "style": "IPY_MODEL_53a27b0373fe4488a80e46b17842b49f",
       "value": 0.9619
      }
     },
     "7921235d42c24447b462c0c37f50f0b8": {
      "model_module": "@jupyter-widgets/controls",
      "model_module_version": "2.0.0",
      "model_name": "BoundedFloatTextModel",
      "state": {
       "description": "omega_l:",
       "layout": "IPY_MODEL_b15c55e115b442b8ac07066087c21986",
       "step": null,
       "style": "IPY_MODEL_b6da64d2f6364ec88f086a73951224f6",
       "value": 0.6817
      }
     },
     "7a1bae90ea8547a9957d0f4849eb2ee4": {
      "model_module": "@jupyter-widgets/base",
      "model_module_version": "2.0.0",
      "model_name": "LayoutModel",
      "state": {}
     },
     "7bdd9b2e56e24d17b41d93e771b407fc": {
      "model_module": "@jupyter-widgets/controls",
      "model_module_version": "2.0.0",
      "model_name": "BoundedFloatTextModel",
      "state": {
       "description": "omega_m:",
       "layout": "IPY_MODEL_fd5b6a611ea14f4c90b9d9325a668ad8",
       "step": null,
       "style": "IPY_MODEL_2bb5986482b44ace902c180859b36d85",
       "value": 0.3183
      }
     },
     "7f6fce1351bc4386b144ec34deab8b4e": {
      "model_module": "@jupyter-widgets/controls",
      "model_module_version": "2.0.0",
      "model_name": "DescriptionStyleModel",
      "state": {
       "description_width": ""
      }
     },
     "7fbadf526faa4127a6baae210c6d7b12": {
      "model_module": "@jupyter-widgets/base",
      "model_module_version": "2.0.0",
      "model_name": "LayoutModel",
      "state": {}
     },
     "81f48be705f54d8e8bd766fdcc19ee22": {
      "model_module": "@jupyter-widgets/base",
      "model_module_version": "2.0.0",
      "model_name": "LayoutModel",
      "state": {}
     },
     "886ced19d74c47c9b067547c94c03053": {
      "model_module": "@jupyter-widgets/controls",
      "model_module_version": "2.0.0",
      "model_name": "HBoxModel",
      "state": {
       "children": [
        "IPY_MODEL_d65122af572249509a451502ff35b109",
        "IPY_MODEL_f1a1c4a4ba964034b17fa9eb2dcf29f5"
       ],
       "layout": "IPY_MODEL_fdcdbe35b6e6497e9a8d6e25fc4672ff"
      }
     },
     "999b23b7ef544a949f801171f373e0ee": {
      "model_module": "@jupyter-widgets/controls",
      "model_module_version": "2.0.0",
      "model_name": "BoundedFloatTextModel",
      "state": {
       "description": "sigma_8:",
       "layout": "IPY_MODEL_7fbadf526faa4127a6baae210c6d7b12",
       "step": null,
       "style": "IPY_MODEL_b0284b907d5b433eb35dffc4df1cb13d",
       "value": 0.8347
      }
     },
     "9d0aa6b8e1984500b42d134881bbcd41": {
      "model_module": "@jupyter-widgets/controls",
      "model_module_version": "2.0.0",
      "model_name": "BoundedFloatTextModel",
      "state": {
       "description": "a_initial:",
       "layout": "IPY_MODEL_42d48c751f47453b9bd9bce315f1a1b7",
       "step": null,
       "style": "IPY_MODEL_6950db2756094087b4637b61809ad904",
       "value": 0.008
      }
     },
     "af3afc4b4e7047e5a8706f6e3a0be1b8": {
      "model_module": "@jupyter-widgets/base",
      "model_module_version": "2.0.0",
      "model_name": "LayoutModel",
      "state": {}
     },
     "b0284b907d5b433eb35dffc4df1cb13d": {
      "model_module": "@jupyter-widgets/controls",
      "model_module_version": "2.0.0",
      "model_name": "DescriptionStyleModel",
      "state": {
       "description_width": ""
      }
     },
     "b15c55e115b442b8ac07066087c21986": {
      "model_module": "@jupyter-widgets/base",
      "model_module_version": "2.0.0",
      "model_name": "LayoutModel",
      "state": {}
     },
     "b541edbfef3543968414e5baccc065a2": {
      "model_module": "@jupyter-widgets/controls",
      "model_module_version": "2.0.0",
      "model_name": "DescriptionStyleModel",
      "state": {
       "description_width": ""
      }
     },
     "b6da64d2f6364ec88f086a73951224f6": {
      "model_module": "@jupyter-widgets/controls",
      "model_module_version": "2.0.0",
      "model_name": "DescriptionStyleModel",
      "state": {
       "description_width": ""
      }
     },
     "c1103440aa8040558ee4d3ce89ff00c4": {
      "model_module": "@jupyter-widgets/controls",
      "model_module_version": "2.0.0",
      "model_name": "BoundedFloatTextModel",
      "state": {
       "description": "LL:",
       "layout": "IPY_MODEL_7a1bae90ea8547a9957d0f4849eb2ee4",
       "step": null,
       "style": "IPY_MODEL_de41c8df1162426cbfb5571336c2cacd",
       "value": 0.07
      }
     },
     "c3d439cf5e5c4f53acf07e0d0ec862c4": {
      "model_module": "@jupyter-widgets/base",
      "model_module_version": "2.0.0",
      "model_name": "LayoutModel",
      "state": {}
     },
     "d65122af572249509a451502ff35b109": {
      "model_module": "@jupyter-widgets/controls",
      "model_module_version": "2.0.0",
      "model_name": "BoundedFloatTextModel",
      "state": {
       "description": "seed:",
       "layout": "IPY_MODEL_c3d439cf5e5c4f53acf07e0d0ec862c4",
       "max": 1000000,
       "min": -1000000,
       "step": null,
       "style": "IPY_MODEL_6168fe8e9f61475db22309a38facc804",
       "value": -100012
      }
     },
     "d689d14bb714452798e232c762442649": {
      "model_module": "@jupyter-widgets/controls",
      "model_module_version": "2.0.0",
      "model_name": "DescriptionStyleModel",
      "state": {
       "description_width": ""
      }
     },
     "de41c8df1162426cbfb5571336c2cacd": {
      "model_module": "@jupyter-widgets/controls",
      "model_module_version": "2.0.0",
      "model_name": "DescriptionStyleModel",
      "state": {
       "description_width": ""
      }
     },
     "e9b5ab3a5ab5490bbc4a46391907ef55": {
      "model_module": "@jupyter-widgets/controls",
      "model_module_version": "2.0.0",
      "model_name": "BoundedFloatTextModel",
      "state": {
       "description": "omega_baryon:",
       "layout": "IPY_MODEL_81f48be705f54d8e8bd766fdcc19ee22",
       "step": null,
       "style": "IPY_MODEL_6af1da61ebd0410b969560c81a8c3ed1",
       "value": 0.04902
      }
     },
     "f1a1c4a4ba964034b17fa9eb2dcf29f5": {
      "model_module": "@jupyter-widgets/controls",
      "model_module_version": "2.0.0",
      "model_name": "BoundedFloatTextModel",
      "state": {
       "description": "NBin:",
       "layout": "IPY_MODEL_43628314a4ab43cb9ca37c4d8ce168b6",
       "step": null,
       "style": "IPY_MODEL_d689d14bb714452798e232c762442649",
       "value": 10
      }
     },
     "fcf57218aecc4f0a8a52908846eb3d9c": {
      "model_module": "@jupyter-widgets/controls",
      "model_module_version": "2.0.0",
      "model_name": "HBoxModel",
      "state": {
       "children": [
        "IPY_MODEL_05c91ebeafde4fb49ccf7ab4e55aaf66",
        "IPY_MODEL_7bdd9b2e56e24d17b41d93e771b407fc",
        "IPY_MODEL_7921235d42c24447b462c0c37f50f0b8",
        "IPY_MODEL_7344658efb6846b794cac264f5921b6f"
       ],
       "layout": "IPY_MODEL_175e15456995437e975ae66020c4d0ff"
      }
     },
     "fd5b6a611ea14f4c90b9d9325a668ad8": {
      "model_module": "@jupyter-widgets/base",
      "model_module_version": "2.0.0",
      "model_name": "LayoutModel",
      "state": {}
     },
     "fdcdbe35b6e6497e9a8d6e25fc4672ff": {
      "model_module": "@jupyter-widgets/base",
      "model_module_version": "2.0.0",
      "model_name": "LayoutModel",
      "state": {}
     }
    },
    "version_major": 2,
    "version_minor": 0
   }
  }
 },
 "nbformat": 4,
 "nbformat_minor": 5
}
