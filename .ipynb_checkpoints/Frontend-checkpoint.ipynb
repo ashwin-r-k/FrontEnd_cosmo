{
 "cells": [
  {
   "cell_type": "code",
   "execution_count": 1,
   "id": "75382fb9-54df-4ff8-9b31-e15edb2553b0",
   "metadata": {},
   "outputs": [
    {
     "name": "stdout",
     "output_type": "stream",
     "text": [
      "/home/ashwin/GIT/FrontEnd_cosmo\n"
     ]
    }
   ],
   "source": [
    "import numpy as np\n",
    "import pylab as pl\n",
    "from mpl_toolkits.axes_grid1 import ImageGrid\n",
    "import subprocess\n",
    "import os\n",
    "print(os.getcwd())\n"
   ]
  },
  {
   "cell_type": "code",
   "execution_count": 49,
   "id": "8908aabd-a435-4e20-81a7-8500cb0bddb6",
   "metadata": {},
   "outputs": [],
   "source": []
  },
  {
   "cell_type": "code",
   "execution_count": 50,
   "id": "f4c8bcd3-7567-4773-b9d1-6248dce17acb",
   "metadata": {},
   "outputs": [
    {
     "data": {
      "text/plain": [
       "<generator object run at 0x7f6a874e8040>"
      ]
     },
     "execution_count": 50,
     "metadata": {},
     "output_type": "execute_result"
    }
   ],
   "source": []
  },
  {
   "cell_type": "code",
   "execution_count": 31,
   "id": "6864969d-6bde-492a-b8f1-b554370fb3a0",
   "metadata": {},
   "outputs": [
    {
     "name": "stdout",
     "output_type": "stream",
     "text": [
      "Searching for files with the term: output.nbody\n",
      "Searching for files with the term: input.nbody\n",
      "Searching for files with the term: pk.\n",
      "Searching for files with the term: halo_catalogue\n",
      "Cleaned N Nody\n",
      "Searching for files with the term: output.nbody\n",
      "Searching for files with the term: input.nbody\n",
      "Searching for files with the term: pk.\n",
      "Searching for files with the term: halo_catalogue\n",
      "Cleaned FOF\n",
      "Directory '/home/ashwin/GIT/FrontEnd_cosmo/ReionYuga/ionz_out' does not exist.\n",
      "Folder 'ionz_out' does not exist in the source directory.\n"
     ]
    }
   ],
   "source": [
    "!bash clean"
   ]
  },
  {
   "cell_type": "code",
   "execution_count": 32,
   "id": "393d3a24-6272-496c-8c1f-442f9f047611",
   "metadata": {},
   "outputs": [],
   "source": [
    "location_home=os.getcwd()\n",
    "location_nbody = \"N-body\"\n",
    "location_fof = \"FoF-Halo-finder\"\n",
    "location_regio_yuga = \"ReionYuga\""
   ]
  },
  {
   "cell_type": "code",
   "execution_count": 5,
   "id": "d0eb224b-cc04-4cc1-8048-8da500f7f2f0",
   "metadata": {},
   "outputs": [],
   "source": [
    "    \n",
    "def compile_prog(location,compile_command,location_home):\n",
    "# Compile the C++ program \n",
    "        os.chdir(os.path.join(location_home,location))\n",
    "        print(os.getcwd())\n",
    "\n",
    "        compile_command = \"make\"+\" \"+compile_command\n",
    "        os.system(compile_command)\n",
    "        '''\n",
    "        #compile_process = subprocess.Popen([location, \"make\",compile_command])\n",
    "        #compile_process = subprocess.run(compile_command, stdout=subprocess.PIPE, stderr=subprocess.PIPE)\n",
    "         \n",
    "        # Check if the compilation was successful \n",
    "        if compile_process.returncode == 0:\n",
    "            print(\"Compilation successful.\") \n",
    "    \n",
    "        else: \n",
    "            # Print the compilation error messages \n",
    "            print(\"Compilation failed.\") \n",
    "            print(compile_process.stderr.decode())\n",
    "        '''\n",
    "        os.chdir(location_home)\n",
    "\n",
    "def run_prog(location,run_command,location_home):\n",
    "            # Run the compiled program \n",
    "        os.chdir(os.path.join(location_home,location))\n",
    "\n",
    "        run_process = subprocess.run(run_command, stdout=subprocess.PIPE, stderr=subprocess.PIPE) \n",
    "         \n",
    "        # Get the output and error messages from the program \n",
    "        output = run_process.stdout.decode() \n",
    "        error = run_process.stderr.decode() \n",
    "         \n",
    "        # Print the output and error messages \n",
    "        print(\"Output:\") \n",
    "        print(output) \n",
    "         \n",
    "        print(\"Error (if any):\") \n",
    "        print(error) \n",
    "        os.chdir(location_home)\n"
   ]
  },
  {
   "cell_type": "code",
   "execution_count": 6,
   "id": "78ab54aa-f46e-40c2-8a99-c7fff3b4cb29",
   "metadata": {
    "scrolled": true
   },
   "outputs": [
    {
     "name": "stdout",
     "output_type": "stream",
     "text": [
      "/home/ashwin/GIT/FrontEnd_cosmo/N-body\n",
      "gcc -c -g -I/usr/local/include/ nbody_comp.c -L/usr/local/lib/  -fopenmp -lfftw3f_omp -lfftw3f -lm\n",
      "gcc -c  -g   -I/usr/local/include/ nbody_funcs.c -L/usr/local/lib/  -fopenmp -lfftw3f_omp -lfftw3f -lm\n",
      "gcc -c -g -I/usr/local/include/ allotarrays.c -L/usr/local/lib/  -fopenmp -lfftw3f_omp -lfftw3f -lm\n",
      "gcc -c  -g   -I/usr/local/include/ funcs.c -L/usr/local/lib/  -fopenmp -lfftw3f_omp -lfftw3f -lm\n",
      "gcc -c -g -I/usr/local/include/ powerspec.c -L/usr/local/lib/  -fopenmp -lfftw3f_omp -lfftw3f -lm\n",
      "gcc -c -g -I/usr/local/include/ tf_fit.c -L/usr/local/lib/  -fopenmp -lfftw3f_omp -lfftw3f -lm\n",
      "gcc -g -o nbody_comp nbody_comp.o nbody_funcs.o funcs.o allotarrays.o powerspec.o tf_fit.o -L/usr/local/lib/  -fopenmp -lfftw3f_omp -lfftw3f -lm\n",
      "rm -rf *.o\n",
      "rm -rf *~\n",
      "/home/ashwin/GIT/FrontEnd_cosmo/FoF-Halo-finder\n",
      "gcc -c -g -I/usr/local/include/ fof_main.c -L/usr/local/lib/  -fopenmp -lfftw3f_omp -lfftw3f -lm\n",
      "gcc -c  -g   -I/usr/local/include/ nbody_funcs.c -L/usr/local/lib/  -fopenmp -lfftw3f_omp -lfftw3f -lm\n",
      "gcc -c -g -I/usr/local/include/ allotarrays.c -L/usr/local/lib/  -fopenmp -lfftw3f_omp -lfftw3f -lm\n",
      "gcc -c  -g   -I/usr/local/include/ funcs.c -L/usr/local/lib/  -fopenmp -lfftw3f_omp -lfftw3f -lm\n",
      "gcc -c -g -I/usr/local/include/ powerspec.c -L/usr/local/lib/  -fopenmp -lfftw3f_omp -lfftw3f -lm\n",
      "gcc -c -g -I/usr/local/include/ tf_fit.c -L/usr/local/lib/  -fopenmp -lfftw3f_omp -lfftw3f -lm\n",
      "gcc -g -o fof_main fof_main.o nbody_funcs.o funcs.o allotarrays.o powerspec.o tf_fit.o -L/usr/local/lib/  -fopenmp -lfftw3f_omp -lfftw3f -lm\n",
      "rm -rf *.o\n",
      "rm -rf *~\n",
      "/home/ashwin/GIT/FrontEnd_cosmo/ReionYuga\n",
      "gcc -c -g -I/usr/local/include/ ionz_main.c -L/usr/local/lib/  -fopenmp -lfftw3f_omp -lfftw3f -lm\n",
      "gcc -c  -g   -I/usr/local/include/ nbody_funcs.c -L/usr/local/lib/  -fopenmp -lfftw3f_omp -lfftw3f -lm\n",
      "gcc -c -g -I/usr/local/include/ allotarrays.c -L/usr/local/lib/  -fopenmp -lfftw3f_omp -lfftw3f -lm\n",
      "gcc -c  -g   -I/usr/local/include/ funcs.c -L/usr/local/lib/  -fopenmp -lfftw3f_omp -lfftw3f -lm\n",
      "gcc -c -g -I/usr/local/include/ powerspec.c -L/usr/local/lib/  -fopenmp -lfftw3f_omp -lfftw3f -lm\n",
      "gcc -c -g -I/usr/local/include/ tf_fit.c -L/usr/local/lib/  -fopenmp -lfftw3f_omp -lfftw3f -lm\n",
      "gcc -c -g -I/usr/local/include/ ionz_funcs.c -L/usr/local/lib/  -fopenmp -lfftw3f_omp -lfftw3f -lm \n",
      "gcc -g -o ionz_main  ionz_main.o nbody_funcs.o allotarrays.o funcs.o powerspec.o tf_fit.o ionz_funcs.o  -L/usr/local/lib/  -fopenmp -lfftw3f_omp -lfftw3f -lm\n",
      "rm -rf *.o\n",
      "rm -rf *~\n"
     ]
    }
   ],
   "source": [
    "prog = \"nbody_comp\"\n",
    "compile_prog(location_nbody,prog,location_home)\n",
    "\n",
    "prog = \"fof_main\"\n",
    "compile_prog(location_fof,prog,location_home)\n",
    "\n",
    "prog = \"ionz_main\"\n",
    "compile_prog(location_regio_yuga,prog,location_home)"
   ]
  },
  {
   "cell_type": "markdown",
   "id": "70d203f4-bf91-4c68-83df-9141d8578b66",
   "metadata": {},
   "source": [
    "seed  Nbin\n",
    "hh    omega_m\tomega_l\t\tspectral_index\n",
    "omega_baryon\tsigma_8\t\n",
    "N1 N2 N3 fraction_fill LL\n",
    "output_flag\tpk_flag\n",
    "a_initial \tdelta_a\n",
    "Noutput (# of redshifts where outputs are required)\n",
    "List of the redshift values\n",
    "\n",
    "-100012  10\n",
    "0.6704  0.3183  0.6817  0.9619 \n",
    "0.04902  0.8347\n",
    "16  16  16  512  0.07\n",
    "1  1\n",
    "0.008  0.004\n",
    "1\n",
    "1\n",
    "\n",
    "6\n",
    "13.0 11.0 10.0 9.0 8.0 7.0"
   ]
  },
  {
   "cell_type": "code",
   "execution_count": 33,
   "id": "76eabb84-3897-4408-a786-8250a6d15aec",
   "metadata": {},
   "outputs": [],
   "source": [
    "from ipywidgets import interact, interactive, fixed, interact_manual\n",
    "import ipywidgets as widgets"
   ]
  },
  {
   "cell_type": "code",
   "execution_count": 34,
   "id": "baa74244-72bc-43bc-81d6-a9363194fe96",
   "metadata": {},
   "outputs": [],
   "source": [
    "seed = widgets.BoundedFloatText(\n",
    "    value=-100012,\n",
    "    min=-1000000,\n",
    "    max=1000000,\n",
    "    description='seed:',\n",
    "    disabled=False\n",
    ")\n",
    "\n",
    "Nbin = widgets.BoundedFloatText(\n",
    "    value=10,\n",
    "    description='NBin:',\n",
    "    disabled=False\n",
    ")\n",
    "\n",
    "hh = widgets.BoundedFloatText(\n",
    "    value=0.6704,\n",
    "    description='hh:',\n",
    "    disabled=False\n",
    ")\n",
    "\n",
    "omega_m = widgets.BoundedFloatText(\n",
    "    value=0.3183,\n",
    "    description='omega_m:',\n",
    "    disabled=False\n",
    ")\n",
    "\n",
    "omega_l = widgets.BoundedFloatText(\n",
    "    value=0.6817,\n",
    "    description='omega_l:',\n",
    "    disabled=False\n",
    ")\n",
    "\n",
    "spectral_index = widgets.BoundedFloatText(\n",
    "    value= 0.9619 ,\n",
    "    description='spectral_index:',\n",
    "    disabled=False\n",
    ")\n",
    "\n",
    "omega_baryon = widgets.BoundedFloatText(\n",
    "    value=0.04902,\n",
    "    description='omega_baryon:',\n",
    "    disabled=False\n",
    ")\n",
    "\n",
    "sigma_8 = widgets.BoundedFloatText(\n",
    "    value=0.8347,\n",
    "    description='sigma_8:',\n",
    "    disabled=False\n",
    ")\n",
    "\n",
    "box=widgets.Select(\n",
    "    options=[16, 32, 64, 128, 256, 512,1024,2048,4096],\n",
    "    value=16,\n",
    "    # rows=10,\n",
    "    description='N1 N2 N3:',\n",
    "    disabled=False\n",
    ")\n",
    "#box=widgets.Combobox(options=[16, 32, 64, 128, 256, 512,1024,2048,4096], value=\"N1N2N3 box dimension\")\n",
    "\n",
    "fraction_fill = widgets.BoundedFloatText(\n",
    "    value=2,\n",
    "    min=0,\n",
    "    max=1000,\n",
    "    description='fraction_fill:',\n",
    "    disabled=False\n",
    ")\n",
    "\n",
    "LL= widgets.BoundedFloatText(\n",
    "    value=0.07,\n",
    "    description='LL:',\n",
    "    disabled=False)\n",
    "\n",
    "a_initial = widgets.BoundedFloatText(\n",
    "    value=0.008,\n",
    "    description='a_initial:',\n",
    "    disabled=False)\t\n",
    "\n",
    "delta_a=widgets.BoundedFloatText(\n",
    "    value=0.004,\n",
    "    description='delta_a:',\n",
    "    disabled=False)\n",
    "\n",
    "output_flag=0\n",
    "pk_flag=1\n",
    "\n"
   ]
  },
  {
   "cell_type": "code",
   "execution_count": 35,
   "id": "9d515bed-46ba-4447-89b4-b3a30bab6c06",
   "metadata": {},
   "outputs": [],
   "source": [
    "ui = widgets.HBox([seed,  Nbin])\n",
    "ui2 = widgets.HBox([hh,omega_m,omega_l,spectral_index])\n",
    "ui3 = widgets.HBox([omega_baryon,sigma_8])\n",
    "ui4 = widgets.HBox([fraction_fill,LL])\n",
    "ui5 = widgets.HBox([a_initial,delta_a])\n",
    "\n"
   ]
  },
  {
   "cell_type": "code",
   "execution_count": 36,
   "id": "b422ebc5-503d-4217-bbec-27eebeaa36d9",
   "metadata": {},
   "outputs": [
    {
     "data": {
      "application/vnd.jupyter.widget-view+json": {
       "model_id": "aa6ccc148bc347cc9944a12c736ac17b",
       "version_major": 2,
       "version_minor": 0
      },
      "text/plain": [
       "HBox(children=(BoundedFloatText(value=-100012.0, description='seed:', max=1000000.0, min=-1000000.0), BoundedF…"
      ]
     },
     "metadata": {},
     "output_type": "display_data"
    },
    {
     "data": {
      "application/vnd.jupyter.widget-view+json": {
       "model_id": "3ba5f1b154724a488eb27d8d586ad557",
       "version_major": 2,
       "version_minor": 0
      },
      "text/plain": [
       "HBox(children=(BoundedFloatText(value=0.6704, description='hh:'), BoundedFloatText(value=0.3183, description='…"
      ]
     },
     "metadata": {},
     "output_type": "display_data"
    },
    {
     "data": {
      "application/vnd.jupyter.widget-view+json": {
       "model_id": "363e035342394948abaafd7b20e084be",
       "version_major": 2,
       "version_minor": 0
      },
      "text/plain": [
       "HBox(children=(BoundedFloatText(value=0.04902, description='omega_baryon:'), BoundedFloatText(value=0.8347, de…"
      ]
     },
     "metadata": {},
     "output_type": "display_data"
    },
    {
     "data": {
      "application/vnd.jupyter.widget-view+json": {
       "model_id": "7bf88a71bd2c4683881dd6e70f1ae809",
       "version_major": 2,
       "version_minor": 0
      },
      "text/plain": [
       "Select(description='N1 N2 N3:', options=(16, 32, 64, 128, 256, 512, 1024, 2048, 4096), value=16)"
      ]
     },
     "metadata": {},
     "output_type": "display_data"
    },
    {
     "data": {
      "application/vnd.jupyter.widget-view+json": {
       "model_id": "b85d0950425b4a649d191ff4daddc96c",
       "version_major": 2,
       "version_minor": 0
      },
      "text/plain": [
       "HBox(children=(BoundedFloatText(value=2.0, description='fraction_fill:', max=1000.0), BoundedFloatText(value=0…"
      ]
     },
     "metadata": {},
     "output_type": "display_data"
    },
    {
     "data": {
      "application/vnd.jupyter.widget-view+json": {
       "model_id": "9a4bd7cd0d254df2b62ccbc14a14f34e",
       "version_major": 2,
       "version_minor": 0
      },
      "text/plain": [
       "HBox(children=(BoundedFloatText(value=0.008, description='a_initial:'), BoundedFloatText(value=0.004, descript…"
      ]
     },
     "metadata": {},
     "output_type": "display_data"
    }
   ],
   "source": [
    "display(ui)\n",
    "display(ui2)\n",
    "display(ui3)\n",
    "display(box)\n",
    "display(ui4)\n",
    "display(ui5)"
   ]
  },
  {
   "cell_type": "code",
   "execution_count": 37,
   "id": "4742c260-b672-4d34-ac1f-6753bdc9aa0f",
   "metadata": {},
   "outputs": [],
   "source": [
    "redshift_values = [i for i in range(30,10,-1)]\n",
    "Len_redshift = len(redshift_values)\n",
    "redshift_values_str = ' '.join(str(x) for x in redshift_values)"
   ]
  },
  {
   "cell_type": "code",
   "execution_count": 38,
   "id": "a776c288-8d80-4845-9a1b-01b7aa2f6a73",
   "metadata": {},
   "outputs": [],
   "source": [
    "lines = f\"\"\"{int(seed.value)} {int(Nbin.value)}\n",
    "{hh.value} {omega_m.value} {omega_l.value} {spectral_index.value}\n",
    "{omega_baryon.value} {sigma_8.value}\n",
    "{box.value} {box.value} {box.value} {int(fraction_fill.value)} {LL.value}\n",
    "{output_flag} {pk_flag}\n",
    "{a_initial.value} {delta_a.value}\n",
    "{Len_redshift}\n",
    "{redshift_values_str}\"\"\"\n"
   ]
  },
  {
   "cell_type": "code",
   "execution_count": 39,
   "id": "67acb435-eb94-4b0b-9e9c-48253f1fcdb3",
   "metadata": {},
   "outputs": [
    {
     "name": "stdout",
     "output_type": "stream",
     "text": [
      "-100012 10\n",
      "0.6704 0.3183 0.6817 0.9619\n",
      "0.04902 0.8347\n",
      "64 64 64 2 0.07\n",
      "0 1\n",
      "0.008 0.004\n",
      "20\n",
      "30 29 28 27 26 25 24 23 22 21 20 19 18 17 16 15 14 13 12 11\n"
     ]
    }
   ],
   "source": [
    "print(lines)"
   ]
  },
  {
   "cell_type": "code",
   "execution_count": 40,
   "id": "f9c530de-049b-4874-adda-fac7638340df",
   "metadata": {},
   "outputs": [],
   "source": [
    "os.chdir(os.path.join(location_home,location_nbody))\n",
    "with open('input.nbody_comp', 'w') as file:  \n",
    "        # Using the writelines function  \n",
    "        file.writelines(lines)  "
   ]
  },
  {
   "cell_type": "code",
   "execution_count": 41,
   "id": "493c6e89-699a-428a-ba28-895783f55186",
   "metadata": {},
   "outputs": [
    {
     "name": "stdout",
     "output_type": "stream",
     "text": [
      "['-100012 10\\n', '0.6704 0.3183 0.6817 0.9619\\n', '0.04902 0.8347\\n', '64 64 64 2 0.07\\n', '0 1\\n', '0.008 0.004\\n', '20\\n', '30 29 28 27 26 25 24 23 22 21 20 19 18 17 16 15 14 13 12 11']\n"
     ]
    }
   ],
   "source": [
    "with open('input.nbody_comp', 'r') as file:  \n",
    "        # Using the writelines function  \n",
    "        lines = file.readlines()\n",
    "        print(lines)"
   ]
  },
  {
   "cell_type": "code",
   "execution_count": null,
   "id": "7d603eb2-0893-4c45-b4e1-1d6ba0e61085",
   "metadata": {},
   "outputs": [],
   "source": []
  },
  {
   "cell_type": "code",
   "execution_count": 42,
   "id": "3296aa24-6007-4152-a671-36bc1fd16ac9",
   "metadata": {},
   "outputs": [
    {
     "name": "stdout",
     "output_type": "stream",
     "text": [
      "Output:\n",
      "DM_m= 1.089507e-02 10^10 M_sun \t L_box=4.480000e+00 Mpc\n",
      "No of threads = 8\n",
      "norml=3.814697e-06\tCC=9.107730e-02\trho_b_inv=8.000000e+00\n",
      "ok delta_fill time = 1.800305e-02\n",
      "ok cal_pow time = 1.970446e-02\n",
      "ok Zel_move time = 8.779530e-03\n",
      "ok cic = 3.087239e-03\n",
      "delta_aap=2.580620e-04\n",
      "(z=30.0) time for  Nbody loop = 7.668827e-02\ttime for write output = 2.625261e-03\n",
      "delta_aap=7.527322e-05\n",
      "(z=29.0) time for  Nbody loop = 1.705839e-02\ttime for write output = 2.615651e-03\n",
      "delta_aap=1.494251e-04\n",
      "(z=28.0) time for  Nbody loop = 1.702643e-02\ttime for write output = 2.660918e-03\n",
      "delta_aap=2.315305e-04\n",
      "(z=27.0) time for  Nbody loop = 1.665136e-02\ttime for write output = 2.616660e-03\n",
      "delta_aap=3.227517e-04\n",
      "(z=26.0) time for  Nbody loop = 1.677735e-02\ttime for write output = 2.601590e-03\n",
      "delta_aap=4.245043e-04\n",
      "(z=25.0) time for  Nbody loop = 1.689547e-02\ttime for write output = 2.643400e-03\n",
      "delta_aap=5.384609e-04\n",
      "(z=24.0) time for  Nbody loop = 1.689993e-02\ttime for write output = 2.609982e-03\n",
      "delta_aap=6.666705e-04\n",
      "(z=23.0) time for  Nbody loop = 1.666124e-02\ttime for write output = 2.633024e-03\n",
      "delta_aap=8.115955e-04\n",
      "(z=22.0) time for  Nbody loop = 1.672660e-02\ttime for write output = 2.611932e-03\n",
      "delta_aap=9.762868e-04\n",
      "(z=21.0) time for  Nbody loop = 1.667891e-02\ttime for write output = 2.609245e-03\n",
      "delta_aap=1.645051e-04\n",
      "(z=20.0) time for  Nbody loop = 2.236668e-02\ttime for write output = 2.629262e-03\n",
      "delta_aap=3.809556e-04\n",
      "(z=19.0) time for  Nbody loop = 2.245299e-02\ttime for write output = 2.598440e-03\n",
      "delta_aap=6.315820e-04\n",
      "(z=18.0) time for  Nbody loop = 2.244048e-02\ttime for write output = 2.610669e-03\n",
      "delta_aap=9.239800e-04\n",
      "(z=17.0) time for  Nbody loop = 2.241633e-02\ttime for write output = 2.627612e-03\n",
      "delta_aap=2.679788e-04\n",
      "(z=16.0) time for  Nbody loop = 2.792862e-02\ttime for write output = 2.606443e-03\n",
      "delta_aap=6.764755e-04\n",
      "(z=15.0) time for  Nbody loop = 2.800209e-02\ttime for write output = 2.642825e-03\n",
      "delta_aap=1.666620e-04\n",
      "(z=14.0) time for  Nbody loop = 3.381778e-02\ttime for write output = 2.614327e-03\n",
      "delta_aap=7.618964e-04\n",
      "(z=13.0) time for  Nbody loop = 3.365743e-02\ttime for write output = 2.605217e-03\n",
      "delta_aap=4.944950e-04\n",
      "(z=12.0) time for  Nbody loop = 4.850066e-02\ttime for write output = 2.663112e-03\n",
      "delta_aap=4.102439e-04\n",
      "(z=11.0) time for  Nbody loop = 4.502857e-02\ttime for write output = 2.616504e-03\n",
      "number of step = 28\n",
      "done. Total time taken = 0hr 0min 1sec\n",
      "\n",
      "Error (if any):\n",
      "\n",
      "CPU times: user 1.83 ms, sys: 621 µs, total: 2.45 ms\n",
      "Wall time: 1.15 s\n"
     ]
    }
   ],
   "source": [
    "%%time\n",
    "prog = \"./nbody_comp\"\n",
    "run_prog(location_nbody,prog,location_home)"
   ]
  },
  {
   "cell_type": "code",
   "execution_count": 43,
   "id": "c66b96d5-efe5-433f-8722-b9c25b8a22c3",
   "metadata": {},
   "outputs": [
    {
     "name": "stdout",
     "output_type": "stream",
     "text": [
      "Searching for files with the term: output.nbody\n",
      "Moved output.nbody_11.000 to /home/ashwin/GIT/FrontEnd_cosmo/FoF-Halo-finder\n",
      "Moved output.nbody_12.000 to /home/ashwin/GIT/FrontEnd_cosmo/FoF-Halo-finder\n",
      "Moved output.nbody_13.000 to /home/ashwin/GIT/FrontEnd_cosmo/FoF-Halo-finder\n",
      "Moved output.nbody_14.000 to /home/ashwin/GIT/FrontEnd_cosmo/FoF-Halo-finder\n",
      "Moved output.nbody_15.000 to /home/ashwin/GIT/FrontEnd_cosmo/FoF-Halo-finder\n",
      "Moved output.nbody_16.000 to /home/ashwin/GIT/FrontEnd_cosmo/FoF-Halo-finder\n",
      "Moved output.nbody_17.000 to /home/ashwin/GIT/FrontEnd_cosmo/FoF-Halo-finder\n",
      "Moved output.nbody_18.000 to /home/ashwin/GIT/FrontEnd_cosmo/FoF-Halo-finder\n",
      "Moved output.nbody_19.000 to /home/ashwin/GIT/FrontEnd_cosmo/FoF-Halo-finder\n",
      "Moved output.nbody_20.000 to /home/ashwin/GIT/FrontEnd_cosmo/FoF-Halo-finder\n",
      "Moved output.nbody_21.000 to /home/ashwin/GIT/FrontEnd_cosmo/FoF-Halo-finder\n",
      "Moved output.nbody_22.000 to /home/ashwin/GIT/FrontEnd_cosmo/FoF-Halo-finder\n",
      "Moved output.nbody_23.000 to /home/ashwin/GIT/FrontEnd_cosmo/FoF-Halo-finder\n",
      "Moved output.nbody_24.000 to /home/ashwin/GIT/FrontEnd_cosmo/FoF-Halo-finder\n",
      "Moved output.nbody_25.000 to /home/ashwin/GIT/FrontEnd_cosmo/FoF-Halo-finder\n",
      "Moved output.nbody_26.000 to /home/ashwin/GIT/FrontEnd_cosmo/FoF-Halo-finder\n",
      "Moved output.nbody_27.000 to /home/ashwin/GIT/FrontEnd_cosmo/FoF-Halo-finder\n",
      "Moved output.nbody_28.000 to /home/ashwin/GIT/FrontEnd_cosmo/FoF-Halo-finder\n",
      "Moved output.nbody_29.000 to /home/ashwin/GIT/FrontEnd_cosmo/FoF-Halo-finder\n",
      "Moved output.nbody_30.000 to /home/ashwin/GIT/FrontEnd_cosmo/FoF-Halo-finder\n",
      "Searching for files with the term: input.nbody\n",
      "Moved input.nbody_comp to /home/ashwin/GIT/FrontEnd_cosmo/FoF-Halo-finder\n",
      "Search and move process complete.\n",
      "CPU times: user 8.74 ms, sys: 2.95 ms, total: 11.7 ms\n",
      "Wall time: 239 ms\n"
     ]
    }
   ],
   "source": [
    "%%time\n",
    "!bash movefilesN-F"
   ]
  },
  {
   "cell_type": "code",
   "execution_count": 44,
   "id": "10934b42-b223-4fc4-8f17-06ed876048b0",
   "metadata": {},
   "outputs": [
    {
     "name": "stdout",
     "output_type": "stream",
     "text": [
      "Output:\n",
      "(30.0)nbody output_flag=0, NF=2\n",
      "Total number of clusters=0\n",
      "(for 30.0) Time taken = 0hr 0min 0sec\n",
      "(29.0)nbody output_flag=0, NF=2\n",
      "Total number of clusters=0\n",
      "(for 29.0) Time taken = 0hr 0min 0sec\n",
      "(28.0)nbody output_flag=0, NF=2\n",
      "Total number of clusters=0\n",
      "(for 28.0) Time taken = 0hr 0min 0sec\n",
      "(27.0)nbody output_flag=0, NF=2\n",
      "Total number of clusters=0\n",
      "(for 27.0) Time taken = 0hr 0min 0sec\n",
      "(26.0)nbody output_flag=0, NF=2\n",
      "Total number of clusters=0\n",
      "(for 26.0) Time taken = 0hr 0min 0sec\n",
      "(25.0)nbody output_flag=0, NF=2\n",
      "Total number of clusters=0\n",
      "(for 25.0) Time taken = 0hr 0min 0sec\n",
      "(24.0)nbody output_flag=0, NF=2\n",
      "Total number of clusters=0\n",
      "(for 24.0) Time taken = 0hr 0min 0sec\n",
      "(23.0)nbody output_flag=0, NF=2\n",
      "Total number of clusters=0\n",
      "(for 23.0) Time taken = 0hr 0min 0sec\n",
      "(22.0)nbody output_flag=0, NF=2\n",
      "Total number of clusters=0\n",
      "(for 22.0) Time taken = 0hr 0min 0sec\n",
      "(21.0)nbody output_flag=0, NF=2\n",
      "Total number of clusters=0\n",
      "(for 21.0) Time taken = 0hr 0min 0sec\n",
      "(20.0)nbody output_flag=0, NF=2\n",
      "Total number of clusters=0\n",
      "(for 20.0) Time taken = 0hr 0min 0sec\n",
      "(19.0)nbody output_flag=0, NF=2\n",
      "Total number of clusters=0\n",
      "(for 19.0) Time taken = 0hr 0min 0sec\n",
      "(18.0)nbody output_flag=0, NF=2\n",
      "Total number of clusters=0\n",
      "(for 18.0) Time taken = 0hr 0min 0sec\n",
      "(17.0)nbody output_flag=0, NF=2\n",
      "Total number of clusters=0\n",
      "(for 17.0) Time taken = 0hr 0min 0sec\n",
      "(16.0)nbody output_flag=0, NF=2\n",
      "Total number of clusters=0\n",
      "(for 16.0) Time taken = 0hr 0min 0sec\n",
      "(15.0)nbody output_flag=0, NF=2\n",
      "Total number of clusters=0\n",
      "(for 15.0) Time taken = 0hr 0min 0sec\n",
      "(14.0)nbody output_flag=0, NF=2\n",
      "Total number of clusters=0\n",
      "(for 14.0) Time taken = 0hr 0min 0sec\n",
      "(13.0)nbody output_flag=0, NF=2\n",
      "Total number of clusters=0\n",
      "(for 13.0) Time taken = 0hr 0min 0sec\n",
      "(12.0)nbody output_flag=0, NF=2\n",
      "Total number of clusters=0\n",
      "(for 12.0) Time taken = 0hr 0min 0sec\n",
      "(11.0)nbody output_flag=0, NF=2\n",
      "Total number of clusters=0\n",
      "(for 11.0) Time taken = 0hr 0min 0sec\n",
      "done FoF. Total time taken = 0hr 0min 0sec\n",
      "\n",
      "Error (if any):\n",
      "\n",
      "CPU times: user 0 ns, sys: 2.48 ms, total: 2.48 ms\n",
      "Wall time: 747 ms\n"
     ]
    }
   ],
   "source": [
    "%%time\n",
    "prog = \"./fof_main\"\n",
    "run_prog(location_fof,prog,location_home)"
   ]
  },
  {
   "cell_type": "code",
   "execution_count": 45,
   "id": "1b5dfa38-7061-4595-b236-530e3f201e74",
   "metadata": {},
   "outputs": [
    {
     "name": "stdout",
     "output_type": "stream",
     "text": [
      "Searching for files with the term: output.nbody\n",
      "Moved output.nbody_11.000 to /home/ashwin/GIT/FrontEnd_cosmo/ReionYuga\n",
      "Moved output.nbody_12.000 to /home/ashwin/GIT/FrontEnd_cosmo/ReionYuga\n",
      "Moved output.nbody_13.000 to /home/ashwin/GIT/FrontEnd_cosmo/ReionYuga\n",
      "Moved output.nbody_14.000 to /home/ashwin/GIT/FrontEnd_cosmo/ReionYuga\n",
      "Moved output.nbody_15.000 to /home/ashwin/GIT/FrontEnd_cosmo/ReionYuga\n",
      "Moved output.nbody_16.000 to /home/ashwin/GIT/FrontEnd_cosmo/ReionYuga\n",
      "Moved output.nbody_17.000 to /home/ashwin/GIT/FrontEnd_cosmo/ReionYuga\n",
      "Moved output.nbody_18.000 to /home/ashwin/GIT/FrontEnd_cosmo/ReionYuga\n",
      "Moved output.nbody_19.000 to /home/ashwin/GIT/FrontEnd_cosmo/ReionYuga\n",
      "Moved output.nbody_20.000 to /home/ashwin/GIT/FrontEnd_cosmo/ReionYuga\n",
      "Moved output.nbody_21.000 to /home/ashwin/GIT/FrontEnd_cosmo/ReionYuga\n",
      "Moved output.nbody_22.000 to /home/ashwin/GIT/FrontEnd_cosmo/ReionYuga\n",
      "Moved output.nbody_23.000 to /home/ashwin/GIT/FrontEnd_cosmo/ReionYuga\n",
      "Moved output.nbody_24.000 to /home/ashwin/GIT/FrontEnd_cosmo/ReionYuga\n",
      "Moved output.nbody_25.000 to /home/ashwin/GIT/FrontEnd_cosmo/ReionYuga\n",
      "Moved output.nbody_26.000 to /home/ashwin/GIT/FrontEnd_cosmo/ReionYuga\n",
      "Moved output.nbody_27.000 to /home/ashwin/GIT/FrontEnd_cosmo/ReionYuga\n",
      "Moved output.nbody_28.000 to /home/ashwin/GIT/FrontEnd_cosmo/ReionYuga\n",
      "Moved output.nbody_29.000 to /home/ashwin/GIT/FrontEnd_cosmo/ReionYuga\n",
      "Moved output.nbody_30.000 to /home/ashwin/GIT/FrontEnd_cosmo/ReionYuga\n",
      "Searching for files with the term: input.nbody\n",
      "Moved input.nbody_comp to /home/ashwin/GIT/FrontEnd_cosmo/ReionYuga\n",
      "Searching for files with the term: halo_catalogue\n",
      "Moved halo_catalogue_11.000 to /home/ashwin/GIT/FrontEnd_cosmo/ReionYuga\n",
      "Moved halo_catalogue_12.000 to /home/ashwin/GIT/FrontEnd_cosmo/ReionYuga\n",
      "Moved halo_catalogue_13.000 to /home/ashwin/GIT/FrontEnd_cosmo/ReionYuga\n",
      "Moved halo_catalogue_14.000 to /home/ashwin/GIT/FrontEnd_cosmo/ReionYuga\n",
      "Moved halo_catalogue_15.000 to /home/ashwin/GIT/FrontEnd_cosmo/ReionYuga\n",
      "Moved halo_catalogue_16.000 to /home/ashwin/GIT/FrontEnd_cosmo/ReionYuga\n",
      "Moved halo_catalogue_17.000 to /home/ashwin/GIT/FrontEnd_cosmo/ReionYuga\n",
      "Moved halo_catalogue_18.000 to /home/ashwin/GIT/FrontEnd_cosmo/ReionYuga\n",
      "Moved halo_catalogue_19.000 to /home/ashwin/GIT/FrontEnd_cosmo/ReionYuga\n",
      "Moved halo_catalogue_20.000 to /home/ashwin/GIT/FrontEnd_cosmo/ReionYuga\n",
      "Moved halo_catalogue_21.000 to /home/ashwin/GIT/FrontEnd_cosmo/ReionYuga\n",
      "Moved halo_catalogue_22.000 to /home/ashwin/GIT/FrontEnd_cosmo/ReionYuga\n",
      "Moved halo_catalogue_23.000 to /home/ashwin/GIT/FrontEnd_cosmo/ReionYuga\n",
      "Moved halo_catalogue_24.000 to /home/ashwin/GIT/FrontEnd_cosmo/ReionYuga\n",
      "Moved halo_catalogue_25.000 to /home/ashwin/GIT/FrontEnd_cosmo/ReionYuga\n",
      "Moved halo_catalogue_26.000 to /home/ashwin/GIT/FrontEnd_cosmo/ReionYuga\n",
      "Moved halo_catalogue_27.000 to /home/ashwin/GIT/FrontEnd_cosmo/ReionYuga\n",
      "Moved halo_catalogue_28.000 to /home/ashwin/GIT/FrontEnd_cosmo/ReionYuga\n",
      "Moved halo_catalogue_29.000 to /home/ashwin/GIT/FrontEnd_cosmo/ReionYuga\n",
      "Moved halo_catalogue_30.000 to /home/ashwin/GIT/FrontEnd_cosmo/ReionYuga\n",
      "Search and move process complete.\n",
      "Directory '/home/ashwin/GIT/FrontEnd_cosmo/ReionYuga/ionz_out' does not exist.\n",
      "CPU times: user 10.2 ms, sys: 3.4 ms, total: 13.6 ms\n",
      "Wall time: 283 ms\n"
     ]
    }
   ],
   "source": [
    "%%time\n",
    "!bash movefilesF-R"
   ]
  },
  {
   "cell_type": "code",
   "execution_count": 46,
   "id": "4504f270-5c2c-4e79-a3b6-f5e21be25019",
   "metadata": {},
   "outputs": [
    {
     "name": "stdout",
     "output_type": "stream",
     "text": [
      "Output:\n",
      "ok read nbody output = 2.147526e+03\n",
      "ok read halo catalogue = 1.126400e-05\n",
      "No of threads = 8\n",
      "ok cic_vmass= 3.553029e-03\n",
      "ok smoothing = 4.114431e-01\n",
      "vol. avg. x_HI=1.000000e+00, mass avg. x_HI=1.000000e+00\n",
      "mass avg. x_HI=1.000000e+00\n",
      "ok time taken= 1.277355e-02\n",
      "\n",
      "ok read nbody output = 1.506489e-02\n",
      "ok read halo catalogue = 1.019100e-05\n",
      "ok cic_vmass= 3.581744e-03\n",
      "ok smoothing = 3.279667e-01\n",
      "vol. avg. x_HI=1.000000e+00, mass avg. x_HI=1.000000e+00\n",
      "mass avg. x_HI=1.000000e+00\n",
      "ok time taken= 1.260162e-02\n",
      "\n",
      "ok read nbody output = 1.489589e-02\n",
      "ok read halo catalogue = 1.002700e-05\n",
      "ok cic_vmass= 3.462394e-03\n",
      "ok smoothing = 2.639198e-01\n",
      "vol. avg. x_HI=1.000000e+00, mass avg. x_HI=1.000000e+00\n",
      "mass avg. x_HI=1.000000e+00\n",
      "ok time taken= 1.227902e-02\n",
      "\n",
      "ok read nbody output = 1.457955e-02\n",
      "ok read halo catalogue = 9.934000e-06\n",
      "ok cic_vmass= 3.449147e-03\n",
      "ok smoothing = 2.556277e-01\n",
      "vol. avg. x_HI=1.000000e+00, mass avg. x_HI=1.000000e+00\n",
      "mass avg. x_HI=1.000000e+00\n",
      "ok time taken= 1.214629e-02\n",
      "\n",
      "ok read nbody output = 1.443987e-02\n",
      "ok read halo catalogue = 8.612000e-06\n",
      "ok cic_vmass= 3.443697e-03\n",
      "ok smoothing = 2.817987e-01\n",
      "vol. avg. x_HI=1.000000e+00, mass avg. x_HI=1.000000e+00\n",
      "mass avg. x_HI=1.000000e+00\n",
      "ok time taken= 1.219717e-02\n",
      "\n",
      "ok read nbody output = 1.449790e-02\n",
      "ok read halo catalogue = 1.047700e-05\n",
      "ok cic_vmass= 3.446340e-03\n",
      "ok smoothing = 2.587990e-01\n",
      "vol. avg. x_HI=1.000000e+00, mass avg. x_HI=1.000000e+00\n",
      "mass avg. x_HI=1.000000e+00\n",
      "ok time taken= 1.214241e-02\n",
      "\n",
      "ok read nbody output = 1.444093e-02\n",
      "ok read halo catalogue = 9.207000e-06\n",
      "ok cic_vmass= 3.445961e-03\n",
      "ok smoothing = 2.845312e-01\n",
      "vol. avg. x_HI=1.000000e+00, mass avg. x_HI=1.000000e+00\n",
      "mass avg. x_HI=1.000000e+00\n",
      "ok time taken= 1.268017e-02\n",
      "\n",
      "ok read nbody output = 1.498632e-02\n",
      "ok read halo catalogue = 1.020700e-05\n",
      "ok cic_vmass= 4.261874e-03\n",
      "ok smoothing = 2.666882e-01\n",
      "vol. avg. x_HI=1.000000e+00, mass avg. x_HI=1.000000e+00\n",
      "mass avg. x_HI=1.000000e+00\n",
      "ok time taken= 1.225618e-02\n",
      "\n",
      "ok read nbody output = 1.456262e-02\n",
      "ok read halo catalogue = 9.184000e-06\n",
      "ok cic_vmass= 3.446191e-03\n",
      "ok smoothing = 2.854479e-01\n",
      "vol. avg. x_HI=1.000000e+00, mass avg. x_HI=1.000000e+00\n",
      "mass avg. x_HI=1.000000e+00\n",
      "ok time taken= 1.229635e-02\n",
      "\n",
      "ok read nbody output = 1.460143e-02\n",
      "ok read halo catalogue = 1.068700e-05\n",
      "ok cic_vmass= 3.452087e-03\n",
      "ok smoothing = 2.678447e-01\n",
      "vol. avg. x_HI=1.000000e+00, mass avg. x_HI=1.000000e+00\n",
      "mass avg. x_HI=1.000000e+00\n",
      "ok time taken= 1.219746e-02\n",
      "\n",
      "ok read nbody output = 1.449964e-02\n",
      "ok read halo catalogue = 9.636000e-06\n",
      "ok cic_vmass= 3.447275e-03\n",
      "ok smoothing = 2.834401e-01\n",
      "vol. avg. x_HI=1.000000e+00, mass avg. x_HI=1.000000e+00\n",
      "mass avg. x_HI=1.000000e+00\n",
      "ok time taken= 1.291426e-02\n",
      "\n",
      "ok read nbody output = 1.522144e-02\n",
      "ok read halo catalogue = 1.027100e-05\n",
      "ok cic_vmass= 3.450820e-03\n",
      "ok smoothing = 3.153488e-01\n",
      "vol. avg. x_HI=1.000000e+00, mass avg. x_HI=1.000000e+00\n",
      "mass avg. x_HI=1.000000e+00\n",
      "ok time taken= 1.220625e-02\n",
      "\n",
      "ok read nbody output = 1.450797e-02\n",
      "ok read halo catalogue = 1.000300e-05\n",
      "ok cic_vmass= 3.443566e-03\n",
      "ok smoothing = 2.859741e-01\n",
      "vol. avg. x_HI=1.000000e+00, mass avg. x_HI=1.000000e+00\n",
      "mass avg. x_HI=1.000000e+00\n",
      "ok time taken= 1.218451e-02\n",
      "\n",
      "ok read nbody output = 1.448554e-02\n",
      "ok read halo catalogue = 1.002000e-05\n",
      "ok cic_vmass= 3.445048e-03\n",
      "ok smoothing = 2.579414e-01\n",
      "vol. avg. x_HI=1.000000e+00, mass avg. x_HI=1.000000e+00\n",
      "mass avg. x_HI=1.000000e+00\n",
      "ok time taken= 1.211988e-02\n",
      "\n",
      "ok read nbody output = 1.441417e-02\n",
      "ok read halo catalogue = 8.262000e-06\n",
      "ok cic_vmass= 3.451202e-03\n",
      "ok smoothing = 3.272181e-01\n",
      "vol. avg. x_HI=1.000000e+00, mass avg. x_HI=1.000000e+00\n",
      "mass avg. x_HI=1.000000e+00\n",
      "ok time taken= 1.219173e-02\n",
      "\n",
      "ok read nbody output = 1.449357e-02\n",
      "ok read halo catalogue = 9.072000e-06\n",
      "ok cic_vmass= 3.441476e-03\n",
      "ok smoothing = 2.556652e-01\n",
      "vol. avg. x_HI=1.000000e+00, mass avg. x_HI=1.000000e+00\n",
      "mass avg. x_HI=1.000000e+00\n",
      "ok time taken= 1.225320e-02\n",
      "\n",
      "ok read nbody output = 1.455534e-02\n",
      "ok read halo catalogue = 9.134000e-06\n",
      "ok cic_vmass= 3.448103e-03\n",
      "ok smoothing = 2.979455e-01\n",
      "vol. avg. x_HI=1.000000e+00, mass avg. x_HI=1.000000e+00\n",
      "mass avg. x_HI=1.000000e+00\n",
      "ok time taken= 3.023586e-02\n",
      "\n",
      "ok read nbody output = 3.431053e-02\n",
      "ok read halo catalogue = 1.943900e-05\n",
      "ok cic_vmass= 6.297915e-03\n",
      "ok smoothing = 4.773761e-01\n",
      "vol. avg. x_HI=1.000000e+00, mass avg. x_HI=1.000000e+00\n",
      "mass avg. x_HI=1.000000e+00\n",
      "ok time taken= 1.995897e-02\n",
      "\n",
      "ok read nbody output = 2.390898e-02\n",
      "ok read halo catalogue = 1.583600e-05\n",
      "ok cic_vmass= 5.745686e-03\n",
      "ok smoothing = 4.471894e-01\n",
      "vol. avg. x_HI=1.000000e+00, mass avg. x_HI=1.000000e+00\n",
      "mass avg. x_HI=1.000000e+00\n",
      "ok time taken= 1.984883e-02\n",
      "\n",
      "ok read nbody output = 2.379033e-02\n",
      "ok read halo catalogue = 1.539300e-05\n",
      "ok cic_vmass= 6.190007e-03\n",
      "ok smoothing = 5.107870e-01\n",
      "vol. avg. x_HI=1.000000e+00, mass avg. x_HI=1.000000e+00\n",
      "mass avg. x_HI=1.000000e+00\n",
      "ok time taken= 2.012654e-02\n",
      "\n",
      "done. Total time taken = 0hr 0min 6sec\n",
      "\n",
      "Error (if any):\n",
      "\n",
      "CPU times: user 1.83 ms, sys: 624 µs, total: 2.46 ms\n",
      "Wall time: 6.81 s\n"
     ]
    }
   ],
   "source": [
    "%%time\n",
    "prog = \"./ionz_main\"\n",
    "run_prog(location_regio_yuga,prog,location_home)"
   ]
  },
  {
   "cell_type": "code",
   "execution_count": 47,
   "id": "e2f8efd2-1dd9-476a-817a-0bc3f2c11458",
   "metadata": {},
   "outputs": [
    {
     "name": "stdout",
     "output_type": "stream",
     "text": [
      "Moved folder 'ionz_out' to '/home/ashwin/GIT/FrontEnd_cosmo/Save/BackupRun_12/'\n",
      "Searching for files with the term: output.nbody\n",
      "Moved output.nbody_11.000 to /home/ashwin/GIT/FrontEnd_cosmo/Save/BackupRun_12/\n",
      "Moved output.nbody_12.000 to /home/ashwin/GIT/FrontEnd_cosmo/Save/BackupRun_12/\n",
      "Moved output.nbody_13.000 to /home/ashwin/GIT/FrontEnd_cosmo/Save/BackupRun_12/\n",
      "Moved output.nbody_14.000 to /home/ashwin/GIT/FrontEnd_cosmo/Save/BackupRun_12/\n",
      "Moved output.nbody_15.000 to /home/ashwin/GIT/FrontEnd_cosmo/Save/BackupRun_12/\n",
      "Moved output.nbody_16.000 to /home/ashwin/GIT/FrontEnd_cosmo/Save/BackupRun_12/\n",
      "Moved output.nbody_17.000 to /home/ashwin/GIT/FrontEnd_cosmo/Save/BackupRun_12/\n",
      "Moved output.nbody_18.000 to /home/ashwin/GIT/FrontEnd_cosmo/Save/BackupRun_12/\n",
      "Moved output.nbody_19.000 to /home/ashwin/GIT/FrontEnd_cosmo/Save/BackupRun_12/\n",
      "Moved output.nbody_20.000 to /home/ashwin/GIT/FrontEnd_cosmo/Save/BackupRun_12/\n",
      "Moved output.nbody_21.000 to /home/ashwin/GIT/FrontEnd_cosmo/Save/BackupRun_12/\n",
      "Moved output.nbody_22.000 to /home/ashwin/GIT/FrontEnd_cosmo/Save/BackupRun_12/\n",
      "Moved output.nbody_23.000 to /home/ashwin/GIT/FrontEnd_cosmo/Save/BackupRun_12/\n",
      "Moved output.nbody_24.000 to /home/ashwin/GIT/FrontEnd_cosmo/Save/BackupRun_12/\n",
      "Moved output.nbody_25.000 to /home/ashwin/GIT/FrontEnd_cosmo/Save/BackupRun_12/\n",
      "Moved output.nbody_26.000 to /home/ashwin/GIT/FrontEnd_cosmo/Save/BackupRun_12/\n",
      "Moved output.nbody_27.000 to /home/ashwin/GIT/FrontEnd_cosmo/Save/BackupRun_12/\n",
      "Moved output.nbody_28.000 to /home/ashwin/GIT/FrontEnd_cosmo/Save/BackupRun_12/\n",
      "Moved output.nbody_29.000 to /home/ashwin/GIT/FrontEnd_cosmo/Save/BackupRun_12/\n",
      "Moved output.nbody_30.000 to /home/ashwin/GIT/FrontEnd_cosmo/Save/BackupRun_12/\n",
      "Searching for files with the term: input.nbody\n",
      "Moved input.nbody_comp to /home/ashwin/GIT/FrontEnd_cosmo/Save/BackupRun_12/\n",
      "Searching for files with the term: halo_catalogue\n",
      "Moved halo_catalogue_11.000 to /home/ashwin/GIT/FrontEnd_cosmo/Save/BackupRun_12/\n",
      "Moved halo_catalogue_12.000 to /home/ashwin/GIT/FrontEnd_cosmo/Save/BackupRun_12/\n",
      "Moved halo_catalogue_13.000 to /home/ashwin/GIT/FrontEnd_cosmo/Save/BackupRun_12/\n",
      "Moved halo_catalogue_14.000 to /home/ashwin/GIT/FrontEnd_cosmo/Save/BackupRun_12/\n",
      "Moved halo_catalogue_15.000 to /home/ashwin/GIT/FrontEnd_cosmo/Save/BackupRun_12/\n",
      "Moved halo_catalogue_16.000 to /home/ashwin/GIT/FrontEnd_cosmo/Save/BackupRun_12/\n",
      "Moved halo_catalogue_17.000 to /home/ashwin/GIT/FrontEnd_cosmo/Save/BackupRun_12/\n",
      "Moved halo_catalogue_18.000 to /home/ashwin/GIT/FrontEnd_cosmo/Save/BackupRun_12/\n",
      "Moved halo_catalogue_19.000 to /home/ashwin/GIT/FrontEnd_cosmo/Save/BackupRun_12/\n",
      "Moved halo_catalogue_20.000 to /home/ashwin/GIT/FrontEnd_cosmo/Save/BackupRun_12/\n",
      "Moved halo_catalogue_21.000 to /home/ashwin/GIT/FrontEnd_cosmo/Save/BackupRun_12/\n",
      "Moved halo_catalogue_22.000 to /home/ashwin/GIT/FrontEnd_cosmo/Save/BackupRun_12/\n",
      "Moved halo_catalogue_23.000 to /home/ashwin/GIT/FrontEnd_cosmo/Save/BackupRun_12/\n",
      "Moved halo_catalogue_24.000 to /home/ashwin/GIT/FrontEnd_cosmo/Save/BackupRun_12/\n",
      "Moved halo_catalogue_25.000 to /home/ashwin/GIT/FrontEnd_cosmo/Save/BackupRun_12/\n",
      "Moved halo_catalogue_26.000 to /home/ashwin/GIT/FrontEnd_cosmo/Save/BackupRun_12/\n",
      "Moved halo_catalogue_27.000 to /home/ashwin/GIT/FrontEnd_cosmo/Save/BackupRun_12/\n",
      "Moved halo_catalogue_28.000 to /home/ashwin/GIT/FrontEnd_cosmo/Save/BackupRun_12/\n",
      "Moved halo_catalogue_29.000 to /home/ashwin/GIT/FrontEnd_cosmo/Save/BackupRun_12/\n",
      "Moved halo_catalogue_30.000 to /home/ashwin/GIT/FrontEnd_cosmo/Save/BackupRun_12/\n",
      "Search and move process complete.\n"
     ]
    }
   ],
   "source": [
    "!bash backupOutput"
   ]
  },
  {
   "cell_type": "code",
   "execution_count": null,
   "id": "13d40310-a8f2-4573-8e06-b0684a4fc2da",
   "metadata": {},
   "outputs": [],
   "source": []
  },
  {
   "cell_type": "code",
   "execution_count": null,
   "id": "23c0343f-e1e5-4cd4-a284-f72aa5457e29",
   "metadata": {},
   "outputs": [],
   "source": []
  }
 ],
 "metadata": {
  "kernelspec": {
   "display_name": "Python 3 (ipykernel)",
   "language": "python",
   "name": "python3"
  },
  "language_info": {
   "codemirror_mode": {
    "name": "ipython",
    "version": 3
   },
   "file_extension": ".py",
   "mimetype": "text/x-python",
   "name": "python",
   "nbconvert_exporter": "python",
   "pygments_lexer": "ipython3",
   "version": "3.11.5"
  },
  "widgets": {
   "application/vnd.jupyter.widget-state+json": {
    "state": {
     "01bd2524fb3f47ad8f211e99f7857224": {
      "model_module": "@jupyter-widgets/controls",
      "model_module_version": "2.0.0",
      "model_name": "BoundedFloatTextModel",
      "state": {
       "description": "spectral_index:",
       "layout": "IPY_MODEL_8e0d7d6887264caeb578cd41606069f5",
       "step": null,
       "style": "IPY_MODEL_86a63661df72480591d9754e4235f80d",
       "value": 0.9619
      }
     },
     "051f0b95779a4b8ca6e25d6c8a86e4ec": {
      "model_module": "@jupyter-widgets/controls",
      "model_module_version": "2.0.0",
      "model_name": "BoundedFloatTextModel",
      "state": {
       "description": "omega_m:",
       "layout": "IPY_MODEL_dd89dc4ce67c40f49af612ae5ec327e4",
       "step": null,
       "style": "IPY_MODEL_7b77423008704d57b1ecec7ba477abcd",
       "value": 0.3183
      }
     },
     "06da8b059d2b46d3a1096109f2d14e3b": {
      "model_module": "@jupyter-widgets/controls",
      "model_module_version": "2.0.0",
      "model_name": "DescriptionStyleModel",
      "state": {
       "description_width": ""
      }
     },
     "06e6a4449b7944069bd62071124a4e72": {
      "model_module": "@jupyter-widgets/controls",
      "model_module_version": "2.0.0",
      "model_name": "BoundedFloatTextModel",
      "state": {
       "description": "omega_m:",
       "layout": "IPY_MODEL_7469c8586ddf4471a63c9a2475fda767",
       "step": null,
       "style": "IPY_MODEL_3bf0b10ce3b24cfcacd6af3347c7f63e",
       "value": 0.3183
      }
     },
     "0f222098b60c4ae897906ec5825c0910": {
      "model_module": "@jupyter-widgets/base",
      "model_module_version": "2.0.0",
      "model_name": "LayoutModel",
      "state": {}
     },
     "0fef43666747410a82a09084fe539f99": {
      "model_module": "@jupyter-widgets/base",
      "model_module_version": "2.0.0",
      "model_name": "LayoutModel",
      "state": {}
     },
     "10850ac14d3843bc80139485d0f67377": {
      "model_module": "@jupyter-widgets/base",
      "model_module_version": "2.0.0",
      "model_name": "LayoutModel",
      "state": {}
     },
     "15c15e79ae014a2480e92c83b674468b": {
      "model_module": "@jupyter-widgets/controls",
      "model_module_version": "2.0.0",
      "model_name": "DescriptionStyleModel",
      "state": {
       "description_width": ""
      }
     },
     "1c5b46cbf1914e02a9b1547ba6897ff9": {
      "model_module": "@jupyter-widgets/controls",
      "model_module_version": "2.0.0",
      "model_name": "DescriptionStyleModel",
      "state": {
       "description_width": ""
      }
     },
     "1d5963f694574e3a882c36042a3a6b9a": {
      "model_module": "@jupyter-widgets/controls",
      "model_module_version": "2.0.0",
      "model_name": "DescriptionStyleModel",
      "state": {
       "description_width": ""
      }
     },
     "1ea2384b39c8475596246c47aa22dec9": {
      "model_module": "@jupyter-widgets/base",
      "model_module_version": "2.0.0",
      "model_name": "LayoutModel",
      "state": {}
     },
     "1ff4286b51224a719440648009ed853c": {
      "model_module": "@jupyter-widgets/controls",
      "model_module_version": "2.0.0",
      "model_name": "HBoxModel",
      "state": {
       "children": [
        "IPY_MODEL_8c8af80dc4dc407dbc4cb773f486efeb",
        "IPY_MODEL_06e6a4449b7944069bd62071124a4e72",
        "IPY_MODEL_33f6ab3d88c740fc936d2cccea451f68",
        "IPY_MODEL_01bd2524fb3f47ad8f211e99f7857224"
       ],
       "layout": "IPY_MODEL_fb0081a2e42840b5bd2aced58cc7d6d6"
      }
     },
     "20af0d9d006a431583a09bf52300720a": {
      "model_module": "@jupyter-widgets/base",
      "model_module_version": "2.0.0",
      "model_name": "LayoutModel",
      "state": {}
     },
     "243b950568194787bd82a3dd12f97638": {
      "model_module": "@jupyter-widgets/controls",
      "model_module_version": "2.0.0",
      "model_name": "BoundedFloatTextModel",
      "state": {
       "description": "NBin:",
       "layout": "IPY_MODEL_7b735c4efaca4caeb9c098016397cde5",
       "step": null,
       "style": "IPY_MODEL_49e3907edb1f412e9d14db952d8eae1e",
       "value": 10
      }
     },
     "2c9cebba2af64fd18fb679f9710ef233": {
      "model_module": "@jupyter-widgets/base",
      "model_module_version": "2.0.0",
      "model_name": "LayoutModel",
      "state": {}
     },
     "2dc166cb3a444d179e34d85a3e13f3b3": {
      "model_module": "@jupyter-widgets/controls",
      "model_module_version": "2.0.0",
      "model_name": "BoundedFloatTextModel",
      "state": {
       "description": "a_initial:",
       "layout": "IPY_MODEL_0fef43666747410a82a09084fe539f99",
       "step": null,
       "style": "IPY_MODEL_592a2b9af14844b2b65de048f176a146",
       "value": 0.008
      }
     },
     "2f31e71fbe254e65bb6ae0ddc99af8ee": {
      "model_module": "@jupyter-widgets/controls",
      "model_module_version": "2.0.0",
      "model_name": "DescriptionStyleModel",
      "state": {
       "description_width": ""
      }
     },
     "3250712aefd04e2497b1c91021d1ce91": {
      "model_module": "@jupyter-widgets/controls",
      "model_module_version": "2.0.0",
      "model_name": "DescriptionStyleModel",
      "state": {
       "description_width": ""
      }
     },
     "33f6ab3d88c740fc936d2cccea451f68": {
      "model_module": "@jupyter-widgets/controls",
      "model_module_version": "2.0.0",
      "model_name": "BoundedFloatTextModel",
      "state": {
       "description": "omega_l:",
       "layout": "IPY_MODEL_3b888ab110f74676afb8c1a9d95a2289",
       "step": null,
       "style": "IPY_MODEL_06da8b059d2b46d3a1096109f2d14e3b",
       "value": 0.6817
      }
     },
     "363e035342394948abaafd7b20e084be": {
      "model_module": "@jupyter-widgets/controls",
      "model_module_version": "2.0.0",
      "model_name": "HBoxModel",
      "state": {
       "children": [
        "IPY_MODEL_65474e3d7ce642be99d860c9d7b2178c",
        "IPY_MODEL_b96f354b66e44ddbbccc5c60c9205801"
       ],
       "layout": "IPY_MODEL_44692368e17b45fca4e9b547752d25f9"
      }
     },
     "38208fb30d824999bb92e8757c412b87": {
      "model_module": "@jupyter-widgets/controls",
      "model_module_version": "2.0.0",
      "model_name": "BoundedFloatTextModel",
      "state": {
       "description": "delta_a:",
       "layout": "IPY_MODEL_20af0d9d006a431583a09bf52300720a",
       "step": null,
       "style": "IPY_MODEL_3250712aefd04e2497b1c91021d1ce91",
       "value": 0.004
      }
     },
     "38b4dbbd45a64f4f82b6c4178d68ae9b": {
      "model_module": "@jupyter-widgets/base",
      "model_module_version": "2.0.0",
      "model_name": "LayoutModel",
      "state": {}
     },
     "39b2b9525c2647fbb571514cbd85e4ec": {
      "model_module": "@jupyter-widgets/base",
      "model_module_version": "2.0.0",
      "model_name": "LayoutModel",
      "state": {}
     },
     "3b888ab110f74676afb8c1a9d95a2289": {
      "model_module": "@jupyter-widgets/base",
      "model_module_version": "2.0.0",
      "model_name": "LayoutModel",
      "state": {}
     },
     "3ba5308cf0ca4fe18de60b1ef6f52476": {
      "model_module": "@jupyter-widgets/controls",
      "model_module_version": "2.0.0",
      "model_name": "DescriptionStyleModel",
      "state": {
       "description_width": ""
      }
     },
     "3ba5f1b154724a488eb27d8d586ad557": {
      "model_module": "@jupyter-widgets/controls",
      "model_module_version": "2.0.0",
      "model_name": "HBoxModel",
      "state": {
       "children": [
        "IPY_MODEL_48404ea820d740e791e98ddc6a9d78ba",
        "IPY_MODEL_051f0b95779a4b8ca6e25d6c8a86e4ec",
        "IPY_MODEL_d1e6390cc11442fb8ac6c92dc563d267",
        "IPY_MODEL_90983822d321423cb2adfec35ca90e3b"
       ],
       "layout": "IPY_MODEL_39b2b9525c2647fbb571514cbd85e4ec"
      }
     },
     "3bf0b10ce3b24cfcacd6af3347c7f63e": {
      "model_module": "@jupyter-widgets/controls",
      "model_module_version": "2.0.0",
      "model_name": "DescriptionStyleModel",
      "state": {
       "description_width": ""
      }
     },
     "44692368e17b45fca4e9b547752d25f9": {
      "model_module": "@jupyter-widgets/base",
      "model_module_version": "2.0.0",
      "model_name": "LayoutModel",
      "state": {}
     },
     "48123c38e7354fbba46b781ce6783c7e": {
      "model_module": "@jupyter-widgets/controls",
      "model_module_version": "2.0.0",
      "model_name": "HBoxModel",
      "state": {
       "children": [
        "IPY_MODEL_4c45d646f842446da9c967a9d7e411c4",
        "IPY_MODEL_c968d34247a44d8cbe8368779e292e3e"
       ],
       "layout": "IPY_MODEL_0f222098b60c4ae897906ec5825c0910"
      }
     },
     "48404ea820d740e791e98ddc6a9d78ba": {
      "model_module": "@jupyter-widgets/controls",
      "model_module_version": "2.0.0",
      "model_name": "BoundedFloatTextModel",
      "state": {
       "description": "hh:",
       "layout": "IPY_MODEL_e1e2e8200a77424080b9ae57825b3602",
       "step": null,
       "style": "IPY_MODEL_2f31e71fbe254e65bb6ae0ddc99af8ee",
       "value": 0.6704
      }
     },
     "49e3907edb1f412e9d14db952d8eae1e": {
      "model_module": "@jupyter-widgets/controls",
      "model_module_version": "2.0.0",
      "model_name": "DescriptionStyleModel",
      "state": {
       "description_width": ""
      }
     },
     "4a39d6bd43424afab9ed5574662e965a": {
      "model_module": "@jupyter-widgets/controls",
      "model_module_version": "2.0.0",
      "model_name": "DescriptionStyleModel",
      "state": {
       "description_width": ""
      }
     },
     "4a5069a28ce649dfa35c63e91ba30576": {
      "model_module": "@jupyter-widgets/base",
      "model_module_version": "2.0.0",
      "model_name": "LayoutModel",
      "state": {}
     },
     "4c45d646f842446da9c967a9d7e411c4": {
      "model_module": "@jupyter-widgets/controls",
      "model_module_version": "2.0.0",
      "model_name": "BoundedFloatTextModel",
      "state": {
       "description": "omega_baryon:",
       "layout": "IPY_MODEL_c274a01c4de04e6184c25d4346071b11",
       "step": null,
       "style": "IPY_MODEL_4e25c0bec9814cc58277d75c12321e34",
       "value": 0.04902
      }
     },
     "4d6ae77e34e249d0ae5c12a1345f7050": {
      "model_module": "@jupyter-widgets/controls",
      "model_module_version": "2.0.0",
      "model_name": "DescriptionStyleModel",
      "state": {
       "description_width": ""
      }
     },
     "4dd34c366e4e406a9e755bbbb799472b": {
      "model_module": "@jupyter-widgets/base",
      "model_module_version": "2.0.0",
      "model_name": "LayoutModel",
      "state": {}
     },
     "4e25c0bec9814cc58277d75c12321e34": {
      "model_module": "@jupyter-widgets/controls",
      "model_module_version": "2.0.0",
      "model_name": "DescriptionStyleModel",
      "state": {
       "description_width": ""
      }
     },
     "5621395bef2b4347a8345fad5d3a87c9": {
      "model_module": "@jupyter-widgets/controls",
      "model_module_version": "2.0.0",
      "model_name": "DescriptionStyleModel",
      "state": {
       "description_width": ""
      }
     },
     "592a2b9af14844b2b65de048f176a146": {
      "model_module": "@jupyter-widgets/controls",
      "model_module_version": "2.0.0",
      "model_name": "DescriptionStyleModel",
      "state": {
       "description_width": ""
      }
     },
     "5d3df8b98031495ab35055554a427546": {
      "model_module": "@jupyter-widgets/base",
      "model_module_version": "2.0.0",
      "model_name": "LayoutModel",
      "state": {}
     },
     "65474e3d7ce642be99d860c9d7b2178c": {
      "model_module": "@jupyter-widgets/controls",
      "model_module_version": "2.0.0",
      "model_name": "BoundedFloatTextModel",
      "state": {
       "description": "omega_baryon:",
       "layout": "IPY_MODEL_81f969e2c2d24a16b8e1c18352f7b881",
       "step": null,
       "style": "IPY_MODEL_f33dd2abd76b4670a441b7586d1be488",
       "value": 0.04902
      }
     },
     "67b747a684c041559170c697c13af417": {
      "model_module": "@jupyter-widgets/base",
      "model_module_version": "2.0.0",
      "model_name": "LayoutModel",
      "state": {}
     },
     "6874873660f24c1d8657691b5dd731dc": {
      "model_module": "@jupyter-widgets/controls",
      "model_module_version": "2.0.0",
      "model_name": "BoundedFloatTextModel",
      "state": {
       "description": "LL:",
       "layout": "IPY_MODEL_67b747a684c041559170c697c13af417",
       "step": null,
       "style": "IPY_MODEL_4d6ae77e34e249d0ae5c12a1345f7050",
       "value": 0.07
      }
     },
     "68b0649ecadf41b58eae1ce0c013d563": {
      "model_module": "@jupyter-widgets/base",
      "model_module_version": "2.0.0",
      "model_name": "LayoutModel",
      "state": {}
     },
     "6b3dfff10ccc4562a508172d8c126800": {
      "model_module": "@jupyter-widgets/controls",
      "model_module_version": "2.0.0",
      "model_name": "DescriptionStyleModel",
      "state": {
       "description_width": ""
      }
     },
     "7469c8586ddf4471a63c9a2475fda767": {
      "model_module": "@jupyter-widgets/base",
      "model_module_version": "2.0.0",
      "model_name": "LayoutModel",
      "state": {}
     },
     "777e4ee6143d4f8a94e21b6440a64bdc": {
      "model_module": "@jupyter-widgets/controls",
      "model_module_version": "2.0.0",
      "model_name": "BoundedFloatTextModel",
      "state": {
       "description": "delta_a:",
       "layout": "IPY_MODEL_1ea2384b39c8475596246c47aa22dec9",
       "step": null,
       "style": "IPY_MODEL_6b3dfff10ccc4562a508172d8c126800",
       "value": 0.004
      }
     },
     "7a5b1756b2684287967e659fe2e84859": {
      "model_module": "@jupyter-widgets/base",
      "model_module_version": "2.0.0",
      "model_name": "LayoutModel",
      "state": {}
     },
     "7b735c4efaca4caeb9c098016397cde5": {
      "model_module": "@jupyter-widgets/base",
      "model_module_version": "2.0.0",
      "model_name": "LayoutModel",
      "state": {}
     },
     "7b77423008704d57b1ecec7ba477abcd": {
      "model_module": "@jupyter-widgets/controls",
      "model_module_version": "2.0.0",
      "model_name": "DescriptionStyleModel",
      "state": {
       "description_width": ""
      }
     },
     "7bf88a71bd2c4683881dd6e70f1ae809": {
      "model_module": "@jupyter-widgets/controls",
      "model_module_version": "2.0.0",
      "model_name": "SelectModel",
      "state": {
       "_options_labels": [
        "16",
        "32",
        "64",
        "128",
        "256",
        "512",
        "1024",
        "2048",
        "4096"
       ],
       "description": "N1 N2 N3:",
       "index": 2,
       "layout": "IPY_MODEL_10850ac14d3843bc80139485d0f67377",
       "style": "IPY_MODEL_a6eea44c124e457299ab807605cc35ee"
      }
     },
     "80c6a9a219654617a2ebef24b31b7961": {
      "model_module": "@jupyter-widgets/base",
      "model_module_version": "2.0.0",
      "model_name": "LayoutModel",
      "state": {}
     },
     "81c03cdb3e2c4651b6816f49c8c4c4f6": {
      "model_module": "@jupyter-widgets/controls",
      "model_module_version": "2.0.0",
      "model_name": "DescriptionStyleModel",
      "state": {
       "description_width": ""
      }
     },
     "81f969e2c2d24a16b8e1c18352f7b881": {
      "model_module": "@jupyter-widgets/base",
      "model_module_version": "2.0.0",
      "model_name": "LayoutModel",
      "state": {}
     },
     "83c2b6c194454cdb9c84f784ccd13a76": {
      "model_module": "@jupyter-widgets/controls",
      "model_module_version": "2.0.0",
      "model_name": "HBoxModel",
      "state": {
       "children": [
        "IPY_MODEL_8f21d360104f4c8184eb75af75bb07b7",
        "IPY_MODEL_38208fb30d824999bb92e8757c412b87"
       ],
       "layout": "IPY_MODEL_bf58c18ff6f449afa3ae2a39a7586faf"
      }
     },
     "86a63661df72480591d9754e4235f80d": {
      "model_module": "@jupyter-widgets/controls",
      "model_module_version": "2.0.0",
      "model_name": "DescriptionStyleModel",
      "state": {
       "description_width": ""
      }
     },
     "87a8edef582c480dbe5ee52f976d1785": {
      "model_module": "@jupyter-widgets/controls",
      "model_module_version": "2.0.0",
      "model_name": "BoundedFloatTextModel",
      "state": {
       "description": "seed:",
       "layout": "IPY_MODEL_68b0649ecadf41b58eae1ce0c013d563",
       "max": 1000000,
       "min": -1000000,
       "step": null,
       "style": "IPY_MODEL_d95503739861463e88ad2b8bffdc1f17",
       "value": -100012
      }
     },
     "8c06b308309f4dae8331e2332ca02130": {
      "model_module": "@jupyter-widgets/controls",
      "model_module_version": "2.0.0",
      "model_name": "BoundedFloatTextModel",
      "state": {
       "description": "fraction_fill:",
       "layout": "IPY_MODEL_aaf867a7860348b5a5b23ea9eb8f379e",
       "max": 1000,
       "step": null,
       "style": "IPY_MODEL_ea63fea77b7d4bfa8ad0e84ec87c9110",
       "value": 2
      }
     },
     "8c8af80dc4dc407dbc4cb773f486efeb": {
      "model_module": "@jupyter-widgets/controls",
      "model_module_version": "2.0.0",
      "model_name": "BoundedFloatTextModel",
      "state": {
       "description": "hh:",
       "layout": "IPY_MODEL_80c6a9a219654617a2ebef24b31b7961",
       "step": null,
       "style": "IPY_MODEL_8e8b60b10a9f4a0d88fff219e79e10fa",
       "value": 0.6704
      }
     },
     "8e0d7d6887264caeb578cd41606069f5": {
      "model_module": "@jupyter-widgets/base",
      "model_module_version": "2.0.0",
      "model_name": "LayoutModel",
      "state": {}
     },
     "8e8b60b10a9f4a0d88fff219e79e10fa": {
      "model_module": "@jupyter-widgets/controls",
      "model_module_version": "2.0.0",
      "model_name": "DescriptionStyleModel",
      "state": {
       "description_width": ""
      }
     },
     "8f21d360104f4c8184eb75af75bb07b7": {
      "model_module": "@jupyter-widgets/controls",
      "model_module_version": "2.0.0",
      "model_name": "BoundedFloatTextModel",
      "state": {
       "description": "a_initial:",
       "layout": "IPY_MODEL_4a5069a28ce649dfa35c63e91ba30576",
       "step": null,
       "style": "IPY_MODEL_1d5963f694574e3a882c36042a3a6b9a",
       "value": 0.008
      }
     },
     "90983822d321423cb2adfec35ca90e3b": {
      "model_module": "@jupyter-widgets/controls",
      "model_module_version": "2.0.0",
      "model_name": "BoundedFloatTextModel",
      "state": {
       "description": "spectral_index:",
       "layout": "IPY_MODEL_38b4dbbd45a64f4f82b6c4178d68ae9b",
       "step": null,
       "style": "IPY_MODEL_3ba5308cf0ca4fe18de60b1ef6f52476",
       "value": 0.9619
      }
     },
     "96b6f23d8b4c48a99b4d5f19dbd092c6": {
      "model_module": "@jupyter-widgets/controls",
      "model_module_version": "2.0.0",
      "model_name": "BoundedFloatTextModel",
      "state": {
       "description": "LL:",
       "layout": "IPY_MODEL_987c1f9f9ade4c31adb114d3e59e6d1c",
       "step": null,
       "style": "IPY_MODEL_ae541a38441449b78154f9758c914774",
       "value": 0.07
      }
     },
     "97a92fed1e6f465daf1f6d916381a86e": {
      "model_module": "@jupyter-widgets/controls",
      "model_module_version": "2.0.0",
      "model_name": "BoundedFloatTextModel",
      "state": {
       "description": "seed:",
       "layout": "IPY_MODEL_edcd54f5d08346f1a48507775844b05e",
       "max": 1000000,
       "min": -1000000,
       "step": null,
       "style": "IPY_MODEL_ee53e834dedf4c688cda97bfc04dd84a",
       "value": -100012
      }
     },
     "986959a08164422098c04c4838830b2d": {
      "model_module": "@jupyter-widgets/base",
      "model_module_version": "2.0.0",
      "model_name": "LayoutModel",
      "state": {}
     },
     "987c1f9f9ade4c31adb114d3e59e6d1c": {
      "model_module": "@jupyter-widgets/base",
      "model_module_version": "2.0.0",
      "model_name": "LayoutModel",
      "state": {}
     },
     "992267bcb98b402381162874c136c185": {
      "model_module": "@jupyter-widgets/base",
      "model_module_version": "2.0.0",
      "model_name": "LayoutModel",
      "state": {}
     },
     "9a4bd7cd0d254df2b62ccbc14a14f34e": {
      "model_module": "@jupyter-widgets/controls",
      "model_module_version": "2.0.0",
      "model_name": "HBoxModel",
      "state": {
       "children": [
        "IPY_MODEL_2dc166cb3a444d179e34d85a3e13f3b3",
        "IPY_MODEL_777e4ee6143d4f8a94e21b6440a64bdc"
       ],
       "layout": "IPY_MODEL_2c9cebba2af64fd18fb679f9710ef233"
      }
     },
     "a0e8c59bf75a44b88275cc00c7143695": {
      "model_module": "@jupyter-widgets/base",
      "model_module_version": "2.0.0",
      "model_name": "LayoutModel",
      "state": {}
     },
     "a48694aa54364ce1bbcbc4fedee9c931": {
      "model_module": "@jupyter-widgets/controls",
      "model_module_version": "2.0.0",
      "model_name": "DescriptionStyleModel",
      "state": {
       "description_width": ""
      }
     },
     "a6eea44c124e457299ab807605cc35ee": {
      "model_module": "@jupyter-widgets/controls",
      "model_module_version": "2.0.0",
      "model_name": "DescriptionStyleModel",
      "state": {
       "description_width": ""
      }
     },
     "aa6ccc148bc347cc9944a12c736ac17b": {
      "model_module": "@jupyter-widgets/controls",
      "model_module_version": "2.0.0",
      "model_name": "HBoxModel",
      "state": {
       "children": [
        "IPY_MODEL_87a8edef582c480dbe5ee52f976d1785",
        "IPY_MODEL_243b950568194787bd82a3dd12f97638"
       ],
       "layout": "IPY_MODEL_c0a315e9638f48a887b5a41da16be8c5"
      }
     },
     "aaf867a7860348b5a5b23ea9eb8f379e": {
      "model_module": "@jupyter-widgets/base",
      "model_module_version": "2.0.0",
      "model_name": "LayoutModel",
      "state": {}
     },
     "ae541a38441449b78154f9758c914774": {
      "model_module": "@jupyter-widgets/controls",
      "model_module_version": "2.0.0",
      "model_name": "DescriptionStyleModel",
      "state": {
       "description_width": ""
      }
     },
     "b212a8546ab840fdb5351f017effe135": {
      "model_module": "@jupyter-widgets/base",
      "model_module_version": "2.0.0",
      "model_name": "LayoutModel",
      "state": {}
     },
     "b85d0950425b4a649d191ff4daddc96c": {
      "model_module": "@jupyter-widgets/controls",
      "model_module_version": "2.0.0",
      "model_name": "HBoxModel",
      "state": {
       "children": [
        "IPY_MODEL_deca432a385e4fc0832869139c5db3c4",
        "IPY_MODEL_6874873660f24c1d8657691b5dd731dc"
       ],
       "layout": "IPY_MODEL_7a5b1756b2684287967e659fe2e84859"
      }
     },
     "b96f354b66e44ddbbccc5c60c9205801": {
      "model_module": "@jupyter-widgets/controls",
      "model_module_version": "2.0.0",
      "model_name": "BoundedFloatTextModel",
      "state": {
       "description": "sigma_8:",
       "layout": "IPY_MODEL_4dd34c366e4e406a9e755bbbb799472b",
       "step": null,
       "style": "IPY_MODEL_15c15e79ae014a2480e92c83b674468b",
       "value": 0.8347
      }
     },
     "bebb0be64bf74b5e8bf99b1b97ae39c3": {
      "model_module": "@jupyter-widgets/controls",
      "model_module_version": "2.0.0",
      "model_name": "HBoxModel",
      "state": {
       "children": [
        "IPY_MODEL_8c06b308309f4dae8331e2332ca02130",
        "IPY_MODEL_96b6f23d8b4c48a99b4d5f19dbd092c6"
       ],
       "layout": "IPY_MODEL_a0e8c59bf75a44b88275cc00c7143695"
      }
     },
     "bf58c18ff6f449afa3ae2a39a7586faf": {
      "model_module": "@jupyter-widgets/base",
      "model_module_version": "2.0.0",
      "model_name": "LayoutModel",
      "state": {}
     },
     "c0a315e9638f48a887b5a41da16be8c5": {
      "model_module": "@jupyter-widgets/base",
      "model_module_version": "2.0.0",
      "model_name": "LayoutModel",
      "state": {}
     },
     "c120308b694f4a678b4d69a18895c971": {
      "model_module": "@jupyter-widgets/base",
      "model_module_version": "2.0.0",
      "model_name": "LayoutModel",
      "state": {}
     },
     "c274a01c4de04e6184c25d4346071b11": {
      "model_module": "@jupyter-widgets/base",
      "model_module_version": "2.0.0",
      "model_name": "LayoutModel",
      "state": {}
     },
     "c968d34247a44d8cbe8368779e292e3e": {
      "model_module": "@jupyter-widgets/controls",
      "model_module_version": "2.0.0",
      "model_name": "BoundedFloatTextModel",
      "state": {
       "description": "sigma_8:",
       "layout": "IPY_MODEL_5d3df8b98031495ab35055554a427546",
       "step": null,
       "style": "IPY_MODEL_81c03cdb3e2c4651b6816f49c8c4c4f6",
       "value": 0.8347
      }
     },
     "cbe397ed7e814b38860d008e18c0d338": {
      "model_module": "@jupyter-widgets/controls",
      "model_module_version": "2.0.0",
      "model_name": "HBoxModel",
      "state": {
       "children": [
        "IPY_MODEL_97a92fed1e6f465daf1f6d916381a86e",
        "IPY_MODEL_e27f90563e8a4f5db61274380130b791"
       ],
       "layout": "IPY_MODEL_c120308b694f4a678b4d69a18895c971"
      }
     },
     "d1e6390cc11442fb8ac6c92dc563d267": {
      "model_module": "@jupyter-widgets/controls",
      "model_module_version": "2.0.0",
      "model_name": "BoundedFloatTextModel",
      "state": {
       "description": "omega_l:",
       "layout": "IPY_MODEL_986959a08164422098c04c4838830b2d",
       "step": null,
       "style": "IPY_MODEL_a48694aa54364ce1bbcbc4fedee9c931",
       "value": 0.6817
      }
     },
     "d95503739861463e88ad2b8bffdc1f17": {
      "model_module": "@jupyter-widgets/controls",
      "model_module_version": "2.0.0",
      "model_name": "DescriptionStyleModel",
      "state": {
       "description_width": ""
      }
     },
     "dd89dc4ce67c40f49af612ae5ec327e4": {
      "model_module": "@jupyter-widgets/base",
      "model_module_version": "2.0.0",
      "model_name": "LayoutModel",
      "state": {}
     },
     "deca432a385e4fc0832869139c5db3c4": {
      "model_module": "@jupyter-widgets/controls",
      "model_module_version": "2.0.0",
      "model_name": "BoundedFloatTextModel",
      "state": {
       "description": "fraction_fill:",
       "layout": "IPY_MODEL_b212a8546ab840fdb5351f017effe135",
       "max": 1000,
       "step": null,
       "style": "IPY_MODEL_5621395bef2b4347a8345fad5d3a87c9",
       "value": 2
      }
     },
     "df8618c41ba64b90bf9634eea66b531b": {
      "model_module": "@jupyter-widgets/controls",
      "model_module_version": "2.0.0",
      "model_name": "SelectModel",
      "state": {
       "_options_labels": [
        "16",
        "32",
        "64",
        "128",
        "256",
        "512",
        "1024",
        "2048",
        "4096"
       ],
       "description": "N1 N2 N3:",
       "index": 3,
       "layout": "IPY_MODEL_ec27ed6e2fa8425bb096a4b2b35bdba6",
       "style": "IPY_MODEL_4a39d6bd43424afab9ed5574662e965a"
      }
     },
     "e1e2e8200a77424080b9ae57825b3602": {
      "model_module": "@jupyter-widgets/base",
      "model_module_version": "2.0.0",
      "model_name": "LayoutModel",
      "state": {}
     },
     "e27f90563e8a4f5db61274380130b791": {
      "model_module": "@jupyter-widgets/controls",
      "model_module_version": "2.0.0",
      "model_name": "BoundedFloatTextModel",
      "state": {
       "description": "NBin:",
       "layout": "IPY_MODEL_992267bcb98b402381162874c136c185",
       "step": null,
       "style": "IPY_MODEL_1c5b46cbf1914e02a9b1547ba6897ff9",
       "value": 10
      }
     },
     "ea63fea77b7d4bfa8ad0e84ec87c9110": {
      "model_module": "@jupyter-widgets/controls",
      "model_module_version": "2.0.0",
      "model_name": "DescriptionStyleModel",
      "state": {
       "description_width": ""
      }
     },
     "ec27ed6e2fa8425bb096a4b2b35bdba6": {
      "model_module": "@jupyter-widgets/base",
      "model_module_version": "2.0.0",
      "model_name": "LayoutModel",
      "state": {}
     },
     "edcd54f5d08346f1a48507775844b05e": {
      "model_module": "@jupyter-widgets/base",
      "model_module_version": "2.0.0",
      "model_name": "LayoutModel",
      "state": {}
     },
     "ee53e834dedf4c688cda97bfc04dd84a": {
      "model_module": "@jupyter-widgets/controls",
      "model_module_version": "2.0.0",
      "model_name": "DescriptionStyleModel",
      "state": {
       "description_width": ""
      }
     },
     "f33dd2abd76b4670a441b7586d1be488": {
      "model_module": "@jupyter-widgets/controls",
      "model_module_version": "2.0.0",
      "model_name": "DescriptionStyleModel",
      "state": {
       "description_width": ""
      }
     },
     "fb0081a2e42840b5bd2aced58cc7d6d6": {
      "model_module": "@jupyter-widgets/base",
      "model_module_version": "2.0.0",
      "model_name": "LayoutModel",
      "state": {}
     }
    },
    "version_major": 2,
    "version_minor": 0
   }
  }
 },
 "nbformat": 4,
 "nbformat_minor": 5
}
