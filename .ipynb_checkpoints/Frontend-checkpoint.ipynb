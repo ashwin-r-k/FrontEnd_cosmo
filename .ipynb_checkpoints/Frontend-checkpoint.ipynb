{
 "cells": [
  {
   "cell_type": "code",
   "execution_count": 1,
   "id": "75382fb9-54df-4ff8-9b31-e15edb2553b0",
   "metadata": {},
   "outputs": [
    {
     "name": "stdout",
     "output_type": "stream",
     "text": [
      "/home/ashwin/GIT/FrontEnd_cosmo\n"
     ]
    }
   ],
   "source": [
    "import numpy as np\n",
    "import pylab as pl\n",
    "from mpl_toolkits.axes_grid1 import ImageGrid\n",
    "\n",
    "import os\n",
    "import shutil\n",
    "print(os.getcwd())\n"
   ]
  },
  {
   "cell_type": "code",
   "execution_count": null,
   "id": "8908aabd-a435-4e20-81a7-8500cb0bddb6",
   "metadata": {},
   "outputs": [],
   "source": []
  },
  {
   "cell_type": "code",
   "execution_count": 2,
   "id": "6864969d-6bde-492a-b8f1-b554370fb3a0",
   "metadata": {},
   "outputs": [],
   "source": [
    "import subprocess"
   ]
  },
  {
   "cell_type": "code",
   "execution_count": 3,
   "id": "393d3a24-6272-496c-8c1f-442f9f047611",
   "metadata": {},
   "outputs": [],
   "source": [
    "location_home=os.getcwd()\n",
    "location_nbody = \"N-body\"\n",
    "location_fof = \"FoF-Halo-finder\"\n",
    "location_regio_yuga = \"ReionYuga\""
   ]
  },
  {
   "cell_type": "code",
   "execution_count": 4,
   "id": "c90d2b0b-3dc6-41b7-877b-53dfebc4283c",
   "metadata": {},
   "outputs": [
    {
     "data": {
      "text/plain": [
       "'/home/ashwin/GIT/FrontEnd_cosmo/N-body'"
      ]
     },
     "execution_count": 4,
     "metadata": {},
     "output_type": "execute_result"
    }
   ],
   "source": [
    "os.path.join(location_home,location_nbody)"
   ]
  },
  {
   "cell_type": "code",
   "execution_count": 5,
   "id": "d0eb224b-cc04-4cc1-8048-8da500f7f2f0",
   "metadata": {},
   "outputs": [],
   "source": [
    "    \n",
    "def compile_prog(location,compile_command,location_home):\n",
    "# Compile the C++ program \n",
    "        os.chdir(os.path.join(location_home,location))\n",
    "        print(os.getcwd())\n",
    "\n",
    "        compile_command = \"make\"+\" \"+compile_command\n",
    "        os.system(compile_command)\n",
    "        '''\n",
    "        #compile_process = subprocess.Popen([location, \"make\",compile_command])\n",
    "        #compile_process = subprocess.run(compile_command, stdout=subprocess.PIPE, stderr=subprocess.PIPE)\n",
    "         \n",
    "        # Check if the compilation was successful \n",
    "        if compile_process.returncode == 0:\n",
    "            print(\"Compilation successful.\") \n",
    "    \n",
    "        else: \n",
    "            # Print the compilation error messages \n",
    "            print(\"Compilation failed.\") \n",
    "            print(compile_process.stderr.decode())\n",
    "        '''\n",
    "        os.chdir(location_home)\n",
    "\n",
    "def run_prog(location,run_command,location_home):\n",
    "            # Run the compiled program \n",
    "        os.chdir(os.path.join(location_home,location))\n",
    "\n",
    "        run_process = subprocess.run(run_command, stdout=subprocess.PIPE, stderr=subprocess.PIPE) \n",
    "         \n",
    "        # Get the output and error messages from the program \n",
    "        output = run_process.stdout.decode() \n",
    "        error = run_process.stderr.decode() \n",
    "         \n",
    "        # Print the output and error messages \n",
    "        print(\"Output:\") \n",
    "        print(output) \n",
    "         \n",
    "        print(\"Error (if any):\") \n",
    "        print(error) \n",
    "        os.chdir(location_home)\n"
   ]
  },
  {
   "cell_type": "code",
   "execution_count": 6,
   "id": "78ab54aa-f46e-40c2-8a99-c7fff3b4cb29",
   "metadata": {
    "scrolled": true
   },
   "outputs": [
    {
     "name": "stdout",
     "output_type": "stream",
     "text": [
      "/home/ashwin/GIT/FrontEnd_cosmo/N-body\n",
      "gcc -c -g -I/usr/local/include/ nbody_comp.c -L/usr/local/lib/  -fopenmp -lfftw3f_omp -lfftw3f -lm\n",
      "gcc -c  -g   -I/usr/local/include/ nbody_funcs.c -L/usr/local/lib/  -fopenmp -lfftw3f_omp -lfftw3f -lm\n",
      "gcc -c -g -I/usr/local/include/ allotarrays.c -L/usr/local/lib/  -fopenmp -lfftw3f_omp -lfftw3f -lm\n",
      "gcc -c  -g   -I/usr/local/include/ funcs.c -L/usr/local/lib/  -fopenmp -lfftw3f_omp -lfftw3f -lm\n",
      "gcc -c -g -I/usr/local/include/ powerspec.c -L/usr/local/lib/  -fopenmp -lfftw3f_omp -lfftw3f -lm\n",
      "gcc -c -g -I/usr/local/include/ tf_fit.c -L/usr/local/lib/  -fopenmp -lfftw3f_omp -lfftw3f -lm\n",
      "gcc -g -o nbody_comp nbody_comp.o nbody_funcs.o funcs.o allotarrays.o powerspec.o tf_fit.o -L/usr/local/lib/  -fopenmp -lfftw3f_omp -lfftw3f -lm\n",
      "rm -rf *.o\n",
      "rm -rf *~\n",
      "/home/ashwin/GIT/FrontEnd_cosmo/FoF-Halo-finder\n",
      "gcc -c -g -I/usr/local/include/ fof_main.c -L/usr/local/lib/  -fopenmp -lfftw3f_omp -lfftw3f -lm\n",
      "gcc -c  -g   -I/usr/local/include/ nbody_funcs.c -L/usr/local/lib/  -fopenmp -lfftw3f_omp -lfftw3f -lm\n",
      "gcc -c -g -I/usr/local/include/ allotarrays.c -L/usr/local/lib/  -fopenmp -lfftw3f_omp -lfftw3f -lm\n",
      "gcc -c  -g   -I/usr/local/include/ funcs.c -L/usr/local/lib/  -fopenmp -lfftw3f_omp -lfftw3f -lm\n",
      "gcc -c -g -I/usr/local/include/ powerspec.c -L/usr/local/lib/  -fopenmp -lfftw3f_omp -lfftw3f -lm\n",
      "gcc -c -g -I/usr/local/include/ tf_fit.c -L/usr/local/lib/  -fopenmp -lfftw3f_omp -lfftw3f -lm\n",
      "gcc -g -o fof_main fof_main.o nbody_funcs.o funcs.o allotarrays.o powerspec.o tf_fit.o -L/usr/local/lib/  -fopenmp -lfftw3f_omp -lfftw3f -lm\n",
      "rm -rf *.o\n",
      "rm -rf *~\n",
      "/home/ashwin/GIT/FrontEnd_cosmo/ReionYuga\n",
      "gcc -c -g -I/usr/local/include/ ionz_main.c -L/usr/local/lib/  -fopenmp -lfftw3f_omp -lfftw3f -lm\n",
      "gcc -c  -g   -I/usr/local/include/ nbody_funcs.c -L/usr/local/lib/  -fopenmp -lfftw3f_omp -lfftw3f -lm\n",
      "gcc -c -g -I/usr/local/include/ allotarrays.c -L/usr/local/lib/  -fopenmp -lfftw3f_omp -lfftw3f -lm\n",
      "gcc -c  -g   -I/usr/local/include/ funcs.c -L/usr/local/lib/  -fopenmp -lfftw3f_omp -lfftw3f -lm\n",
      "gcc -c -g -I/usr/local/include/ powerspec.c -L/usr/local/lib/  -fopenmp -lfftw3f_omp -lfftw3f -lm\n",
      "gcc -c -g -I/usr/local/include/ tf_fit.c -L/usr/local/lib/  -fopenmp -lfftw3f_omp -lfftw3f -lm\n",
      "gcc -c -g -I/usr/local/include/ ionz_funcs.c -L/usr/local/lib/  -fopenmp -lfftw3f_omp -lfftw3f -lm \n",
      "gcc -g -o ionz_main  ionz_main.o nbody_funcs.o allotarrays.o funcs.o powerspec.o tf_fit.o ionz_funcs.o  -L/usr/local/lib/  -fopenmp -lfftw3f_omp -lfftw3f -lm\n",
      "rm -rf *.o\n",
      "rm -rf *~\n"
     ]
    }
   ],
   "source": [
    "prog = \"nbody_comp\"\n",
    "compile_prog(location_nbody,prog,location_home)\n",
    "\n",
    "prog = \"fof_main\"\n",
    "compile_prog(location_fof,prog,location_home)\n",
    "\n",
    "prog = \"ionz_main\"\n",
    "compile_prog(location_regio_yuga,prog,location_home)"
   ]
  },
  {
   "cell_type": "markdown",
   "id": "70d203f4-bf91-4c68-83df-9141d8578b66",
   "metadata": {},
   "source": [
    "seed  Nbin\n",
    "hh    omega_m\tomega_l\t\tspectral_index\n",
    "omega_baryon\tsigma_8\t\n",
    "N1 N2 N3 fraction_fill LL\n",
    "output_flag\tpk_flag\n",
    "a_initial \tdelta_a\n",
    "Noutput (# of redshifts where outputs are required)\n",
    "List of the redshift values\n",
    "\n",
    "-100012  10\n",
    "0.6704  0.3183  0.6817  0.9619 \n",
    "0.04902  0.8347\n",
    "16  16  16  512  0.07\n",
    "1  1\n",
    "0.008  0.004\n",
    "1\n",
    "1\n",
    "\n",
    "6\n",
    "13.0 11.0 10.0 9.0 8.0 7.0"
   ]
  },
  {
   "cell_type": "code",
   "execution_count": 7,
   "id": "76eabb84-3897-4408-a786-8250a6d15aec",
   "metadata": {},
   "outputs": [],
   "source": [
    "from ipywidgets import interact, interactive, fixed, interact_manual\n",
    "import ipywidgets as widgets"
   ]
  },
  {
   "cell_type": "code",
   "execution_count": 8,
   "id": "baa74244-72bc-43bc-81d6-a9363194fe96",
   "metadata": {},
   "outputs": [],
   "source": [
    "seed = widgets.BoundedFloatText(\n",
    "    value=-100012,\n",
    "    min=-1000000,\n",
    "    max=1000000,\n",
    "    description='seed:',\n",
    "    disabled=False\n",
    ")\n",
    "\n",
    "Nbin = widgets.BoundedFloatText(\n",
    "    value=10,\n",
    "    description='NBin:',\n",
    "    disabled=False\n",
    ")\n",
    "\n",
    "hh = widgets.BoundedFloatText(\n",
    "    value=0.6704,\n",
    "    description='hh:',\n",
    "    disabled=False\n",
    ")\n",
    "\n",
    "omega_m = widgets.BoundedFloatText(\n",
    "    value=0.3183,\n",
    "    description='omega_m:',\n",
    "    disabled=False\n",
    ")\n",
    "\n",
    "omega_l = widgets.BoundedFloatText(\n",
    "    value=0.6817,\n",
    "    description='omega_l:',\n",
    "    disabled=False\n",
    ")\n",
    "\n",
    "spectral_index = widgets.BoundedFloatText(\n",
    "    value= 0.9619 ,\n",
    "    description='spectral_index:',\n",
    "    disabled=False\n",
    ")\n",
    "\n",
    "omega_baryon = widgets.BoundedFloatText(\n",
    "    value=0.04902,\n",
    "    description='omega_baryon:',\n",
    "    disabled=False\n",
    ")\n",
    "\n",
    "sigma_8 = widgets.BoundedFloatText(\n",
    "    value=0.8347,\n",
    "    description='sigma_8:',\n",
    "    disabled=False\n",
    ")\n",
    "\n",
    "box=widgets.Select(\n",
    "    options=[16, 32, 64, 128, 256, 512,1024,2048,4096],\n",
    "    value=16,\n",
    "    # rows=10,\n",
    "    description='N1 N2 N3:',\n",
    "    disabled=False\n",
    ")\n",
    "#box=widgets.Combobox(options=[16, 32, 64, 128, 256, 512,1024,2048,4096], value=\"N1N2N3 box dimension\")\n",
    "\n",
    "fraction_fill = widgets.BoundedFloatText(\n",
    "    value=2,\n",
    "    min=0,\n",
    "    max=1000,\n",
    "    description='fraction_fill:',\n",
    "    disabled=False\n",
    ")\n",
    "\n",
    "LL= widgets.BoundedFloatText(\n",
    "    value=0.07,\n",
    "    description='LL:',\n",
    "    disabled=False)\n",
    "\n",
    "a_initial = widgets.BoundedFloatText(\n",
    "    value=0.008,\n",
    "    description='a_initial:',\n",
    "    disabled=False)\t\n",
    "\n",
    "delta_a=widgets.BoundedFloatText(\n",
    "    value=0.004,\n",
    "    description='delta_a:',\n",
    "    disabled=False)\n",
    "\n",
    "output_flag=0\n",
    "pk_flag=1\n",
    "\n"
   ]
  },
  {
   "cell_type": "code",
   "execution_count": 9,
   "id": "9d515bed-46ba-4447-89b4-b3a30bab6c06",
   "metadata": {},
   "outputs": [],
   "source": [
    "ui = widgets.HBox([seed,  Nbin])\n",
    "ui2 = widgets.HBox([hh,omega_m,omega_l,spectral_index])\n",
    "ui3 = widgets.HBox([omega_baryon,sigma_8])\n",
    "ui4 = widgets.HBox([fraction_fill,LL])\n",
    "ui5 = widgets.HBox([a_initial,delta_a])\n",
    "\n"
   ]
  },
  {
   "cell_type": "code",
   "execution_count": 10,
   "id": "b422ebc5-503d-4217-bbec-27eebeaa36d9",
   "metadata": {},
   "outputs": [
    {
     "data": {
      "application/vnd.jupyter.widget-view+json": {
       "model_id": "b8f9e58cbd594b9082906bcb1f8b98e5",
       "version_major": 2,
       "version_minor": 0
      },
      "text/plain": [
       "HBox(children=(BoundedFloatText(value=-100012.0, description='seed:', max=1000000.0, min=-1000000.0), BoundedF…"
      ]
     },
     "metadata": {},
     "output_type": "display_data"
    },
    {
     "data": {
      "application/vnd.jupyter.widget-view+json": {
       "model_id": "002ee703614e4e3bbccd50853d785003",
       "version_major": 2,
       "version_minor": 0
      },
      "text/plain": [
       "HBox(children=(BoundedFloatText(value=0.6704, description='hh:'), BoundedFloatText(value=0.3183, description='…"
      ]
     },
     "metadata": {},
     "output_type": "display_data"
    },
    {
     "data": {
      "application/vnd.jupyter.widget-view+json": {
       "model_id": "e04d38de09354c558258fc7c24f4f679",
       "version_major": 2,
       "version_minor": 0
      },
      "text/plain": [
       "HBox(children=(BoundedFloatText(value=0.04902, description='omega_baryon:'), BoundedFloatText(value=0.8347, de…"
      ]
     },
     "metadata": {},
     "output_type": "display_data"
    },
    {
     "data": {
      "application/vnd.jupyter.widget-view+json": {
       "model_id": "12a202516ae541e4bbecaeb2ddf30ec8",
       "version_major": 2,
       "version_minor": 0
      },
      "text/plain": [
       "Select(description='N1 N2 N3:', options=(16, 32, 64, 128, 256, 512, 1024, 2048, 4096), value=16)"
      ]
     },
     "metadata": {},
     "output_type": "display_data"
    },
    {
     "data": {
      "application/vnd.jupyter.widget-view+json": {
       "model_id": "db88b0b2dd6047859ca308bb1ca4c35a",
       "version_major": 2,
       "version_minor": 0
      },
      "text/plain": [
       "HBox(children=(BoundedFloatText(value=2.0, description='fraction_fill:', max=1000.0), BoundedFloatText(value=0…"
      ]
     },
     "metadata": {},
     "output_type": "display_data"
    },
    {
     "data": {
      "application/vnd.jupyter.widget-view+json": {
       "model_id": "5e8ce8d975814fa6b1a0363138a0d093",
       "version_major": 2,
       "version_minor": 0
      },
      "text/plain": [
       "HBox(children=(BoundedFloatText(value=0.008, description='a_initial:'), BoundedFloatText(value=0.004, descript…"
      ]
     },
     "metadata": {},
     "output_type": "display_data"
    }
   ],
   "source": [
    "display(ui)\n",
    "display(ui2)\n",
    "display(ui3)\n",
    "display(box)\n",
    "display(ui4)\n",
    "display(ui5)"
   ]
  },
  {
   "cell_type": "code",
   "execution_count": 37,
   "id": "4742c260-b672-4d34-ac1f-6753bdc9aa0f",
   "metadata": {},
   "outputs": [],
   "source": [
    "redshift_values = [i for i in range(30,10,-1)]\n",
    "Len_redshift = len(redshift_values)\n",
    "redshift_values_str = ' '.join(str(x) for x in redshift_values)"
   ]
  },
  {
   "cell_type": "code",
   "execution_count": 38,
   "id": "a776c288-8d80-4845-9a1b-01b7aa2f6a73",
   "metadata": {},
   "outputs": [],
   "source": [
    "lines = f\"\"\"{int(seed.value)} {int(Nbin.value)}\n",
    "{hh.value} {omega_m.value} {omega_l.value} {spectral_index.value}\n",
    "{omega_baryon.value} {sigma_8.value}\n",
    "{box.value} {box.value} {box.value} {int(fraction_fill.value)} {LL.value}\n",
    "{output_flag} {pk_flag}\n",
    "{a_initial.value} {delta_a.value}\n",
    "{Len_redshift}\n",
    "{redshift_values_str}\"\"\"\n"
   ]
  },
  {
   "cell_type": "code",
   "execution_count": 39,
   "id": "67acb435-eb94-4b0b-9e9c-48253f1fcdb3",
   "metadata": {},
   "outputs": [
    {
     "name": "stdout",
     "output_type": "stream",
     "text": [
      "-100012 10\n",
      "0.6704 0.3183 0.6817 0.9619\n",
      "0.04902 0.8347\n",
      "128 128 128 2 0.07\n",
      "0 1\n",
      "0.008 0.004\n",
      "20\n",
      "30 29 28 27 26 25 24 23 22 21 20 19 18 17 16 15 14 13 12 11\n"
     ]
    }
   ],
   "source": [
    "print(lines)"
   ]
  },
  {
   "cell_type": "code",
   "execution_count": 40,
   "id": "f9c530de-049b-4874-adda-fac7638340df",
   "metadata": {},
   "outputs": [],
   "source": [
    "os.chdir(os.path.join(location_home,location_nbody))\n",
    "with open('input.nbody_comp', 'w') as file:  \n",
    "        # Using the writelines function  \n",
    "        file.writelines(lines)  "
   ]
  },
  {
   "cell_type": "code",
   "execution_count": 41,
   "id": "493c6e89-699a-428a-ba28-895783f55186",
   "metadata": {},
   "outputs": [
    {
     "name": "stdout",
     "output_type": "stream",
     "text": [
      "['-100012 10\\n', '0.6704 0.3183 0.6817 0.9619\\n', '0.04902 0.8347\\n', '128 128 128 2 0.07\\n', '0 1\\n', '0.008 0.004\\n', '20\\n', '30 29 28 27 26 25 24 23 22 21 20 19 18 17 16 15 14 13 12 11']\n"
     ]
    }
   ],
   "source": [
    "with open('input.nbody_comp', 'r') as file:  \n",
    "        # Using the writelines function  \n",
    "        lines = file.readlines()\n",
    "        print(lines)"
   ]
  },
  {
   "cell_type": "code",
   "execution_count": 42,
   "id": "3296aa24-6007-4152-a671-36bc1fd16ac9",
   "metadata": {},
   "outputs": [
    {
     "name": "stdout",
     "output_type": "stream",
     "text": [
      "Output:\n",
      "DM_m= 1.089507e-02 10^10 M_sun \t L_box=8.960000e+00 Mpc\n",
      "No of threads = 8\n",
      "norml=4.768372e-07\tCC=7.286184e-01\trho_b_inv=8.000000e+00\n",
      "ok delta_fill time = 1.325184e-01\n",
      "ok cal_pow time = 1.540130e-01\n",
      "ok Zel_move time = 8.837072e-02\n",
      "ok cic = 1.103370e-02\n",
      "delta_aap=2.580620e-04\n",
      "(z=30.0) time for  Nbody loop = 4.724371e-01\ttime for write output = 2.230625e-02\n",
      "delta_aap=7.527322e-05\n",
      "(z=29.0) time for  Nbody loop = 1.805071e-01\ttime for write output = 2.215701e-02\n",
      "delta_aap=1.494251e-04\n",
      "(z=28.0) time for  Nbody loop = 1.816910e-01\ttime for write output = 2.216421e-02\n",
      "delta_aap=2.315305e-04\n",
      "(z=27.0) time for  Nbody loop = 1.766415e-01\ttime for write output = 2.212665e-02\n",
      "delta_aap=3.227517e-04\n",
      "(z=26.0) time for  Nbody loop = 1.764455e-01\ttime for write output = 2.211028e-02\n",
      "delta_aap=4.245043e-04\n",
      "(z=25.0) time for  Nbody loop = 1.760350e-01\ttime for write output = 2.213575e-02\n",
      "delta_aap=5.384609e-04\n",
      "(z=24.0) time for  Nbody loop = 1.767986e-01\ttime for write output = 2.209462e-02\n",
      "delta_aap=6.666705e-04\n",
      "(z=23.0) time for  Nbody loop = 1.953497e-01\ttime for write output = 2.208054e-02\n",
      "delta_aap=8.115955e-04\n",
      "(z=22.0) time for  Nbody loop = 1.757696e-01\ttime for write output = 2.216704e-02\n",
      "delta_aap=9.762868e-04\n",
      "(z=21.0) time for  Nbody loop = 1.798444e-01\ttime for write output = 2.210574e-02\n",
      "delta_aap=1.645051e-04\n",
      "(z=20.0) time for  Nbody loop = 2.424998e-01\ttime for write output = 2.213207e-02\n",
      "delta_aap=3.809556e-04\n",
      "(z=19.0) time for  Nbody loop = 2.372114e-01\ttime for write output = 2.206189e-02\n",
      "delta_aap=6.315820e-04\n",
      "(z=18.0) time for  Nbody loop = 2.462604e-01\ttime for write output = 2.209059e-02\n",
      "delta_aap=9.239800e-04\n",
      "(z=17.0) time for  Nbody loop = 2.352821e-01\ttime for write output = 2.207549e-02\n",
      "delta_aap=2.679788e-04\n",
      "(z=16.0) time for  Nbody loop = 3.164904e-01\ttime for write output = 2.210683e-02\n",
      "delta_aap=6.764755e-04\n",
      "(z=15.0) time for  Nbody loop = 2.990708e-01\ttime for write output = 2.207880e-02\n",
      "delta_aap=1.666620e-04\n",
      "(z=14.0) time for  Nbody loop = 3.995647e-01\ttime for write output = 2.227894e-02\n",
      "delta_aap=7.618964e-04\n",
      "(z=13.0) time for  Nbody loop = 3.580814e-01\ttime for write output = 2.224588e-02\n",
      "delta_aap=4.944950e-04\n",
      "(z=12.0) time for  Nbody loop = 4.230561e-01\ttime for write output = 2.222079e-02\n",
      "delta_aap=4.102439e-04\n",
      "(z=11.0) time for  Nbody loop = 5.089062e-01\ttime for write output = 3.590255e-02\n",
      "number of step = 28\n",
      "done. Total time taken = 0hr 0min 10sec\n",
      "\n",
      "Error (if any):\n",
      "\n"
     ]
    }
   ],
   "source": [
    "prog = \"./nbody_comp\"\n",
    "run_prog(location_nbody,prog,location_home)"
   ]
  },
  {
   "cell_type": "code",
   "execution_count": 43,
   "id": "c66b96d5-efe5-433f-8722-b9c25b8a22c3",
   "metadata": {},
   "outputs": [
    {
     "name": "stdout",
     "output_type": "stream",
     "text": [
      "Searching for files with the term: output.nbody\n",
      "Moved output.nbody_11.000 to /home/ashwin/GIT/FrontEnd_cosmo/FoF-Halo-finder\n",
      "Moved output.nbody_12.000 to /home/ashwin/GIT/FrontEnd_cosmo/FoF-Halo-finder\n",
      "Moved output.nbody_13.000 to /home/ashwin/GIT/FrontEnd_cosmo/FoF-Halo-finder\n",
      "Moved output.nbody_14.000 to /home/ashwin/GIT/FrontEnd_cosmo/FoF-Halo-finder\n",
      "Moved output.nbody_15.000 to /home/ashwin/GIT/FrontEnd_cosmo/FoF-Halo-finder\n",
      "Moved output.nbody_16.000 to /home/ashwin/GIT/FrontEnd_cosmo/FoF-Halo-finder\n",
      "Moved output.nbody_17.000 to /home/ashwin/GIT/FrontEnd_cosmo/FoF-Halo-finder\n",
      "Moved output.nbody_18.000 to /home/ashwin/GIT/FrontEnd_cosmo/FoF-Halo-finder\n",
      "Moved output.nbody_19.000 to /home/ashwin/GIT/FrontEnd_cosmo/FoF-Halo-finder\n",
      "Moved output.nbody_20.000 to /home/ashwin/GIT/FrontEnd_cosmo/FoF-Halo-finder\n",
      "Moved output.nbody_21.000 to /home/ashwin/GIT/FrontEnd_cosmo/FoF-Halo-finder\n",
      "Moved output.nbody_22.000 to /home/ashwin/GIT/FrontEnd_cosmo/FoF-Halo-finder\n",
      "Moved output.nbody_23.000 to /home/ashwin/GIT/FrontEnd_cosmo/FoF-Halo-finder\n",
      "Moved output.nbody_24.000 to /home/ashwin/GIT/FrontEnd_cosmo/FoF-Halo-finder\n",
      "Moved output.nbody_25.000 to /home/ashwin/GIT/FrontEnd_cosmo/FoF-Halo-finder\n",
      "Moved output.nbody_26.000 to /home/ashwin/GIT/FrontEnd_cosmo/FoF-Halo-finder\n",
      "Moved output.nbody_27.000 to /home/ashwin/GIT/FrontEnd_cosmo/FoF-Halo-finder\n",
      "Moved output.nbody_28.000 to /home/ashwin/GIT/FrontEnd_cosmo/FoF-Halo-finder\n",
      "Moved output.nbody_29.000 to /home/ashwin/GIT/FrontEnd_cosmo/FoF-Halo-finder\n",
      "Moved output.nbody_30.000 to /home/ashwin/GIT/FrontEnd_cosmo/FoF-Halo-finder\n",
      "Searching for files with the term: input.nbody\n",
      "Moved input.nbody_comp to /home/ashwin/GIT/FrontEnd_cosmo/FoF-Halo-finder\n",
      "Search and move process complete.\n"
     ]
    }
   ],
   "source": [
    "!bash movefilesN-F"
   ]
  },
  {
   "cell_type": "code",
   "execution_count": 44,
   "id": "10934b42-b223-4fc4-8f17-06ed876048b0",
   "metadata": {},
   "outputs": [
    {
     "name": "stdout",
     "output_type": "stream",
     "text": [
      "Output:\n",
      "(30.0)nbody output_flag=0, NF=2\n",
      "Total number of clusters=0\n",
      "(for 30.0) Time taken = 0hr 0min 0sec\n",
      "(29.0)nbody output_flag=0, NF=2\n",
      "Total number of clusters=0\n",
      "(for 29.0) Time taken = 0hr 0min 0sec\n",
      "(28.0)nbody output_flag=0, NF=2\n",
      "Total number of clusters=0\n",
      "(for 28.0) Time taken = 0hr 0min 0sec\n",
      "(27.0)nbody output_flag=0, NF=2\n",
      "Total number of clusters=0\n",
      "(for 27.0) Time taken = 0hr 0min 0sec\n",
      "(26.0)nbody output_flag=0, NF=2\n",
      "Total number of clusters=0\n",
      "(for 26.0) Time taken = 0hr 0min 0sec\n",
      "(25.0)nbody output_flag=0, NF=2\n",
      "Total number of clusters=0\n",
      "(for 25.0) Time taken = 0hr 0min 0sec\n",
      "(24.0)nbody output_flag=0, NF=2\n",
      "Total number of clusters=0\n",
      "(for 24.0) Time taken = 0hr 0min 0sec\n",
      "(23.0)nbody output_flag=0, NF=2\n",
      "Total number of clusters=0\n",
      "(for 23.0) Time taken = 0hr 0min 0sec\n",
      "(22.0)nbody output_flag=0, NF=2\n",
      "Total number of clusters=0\n",
      "(for 22.0) Time taken = 0hr 0min 0sec\n",
      "(21.0)nbody output_flag=0, NF=2\n",
      "Total number of clusters=0\n",
      "(for 21.0) Time taken = 0hr 0min 0sec\n",
      "(20.0)nbody output_flag=0, NF=2\n",
      "Total number of clusters=0\n",
      "(for 20.0) Time taken = 0hr 0min 0sec\n",
      "(19.0)nbody output_flag=0, NF=2\n",
      "Total number of clusters=0\n",
      "(for 19.0) Time taken = 0hr 0min 0sec\n",
      "(18.0)nbody output_flag=0, NF=2\n",
      "Total number of clusters=0\n",
      "(for 18.0) Time taken = 0hr 0min 0sec\n",
      "(17.0)nbody output_flag=0, NF=2\n",
      "Total number of clusters=0\n",
      "(for 17.0) Time taken = 0hr 0min 0sec\n",
      "(16.0)nbody output_flag=0, NF=2\n",
      "Total number of clusters=0\n",
      "(for 16.0) Time taken = 0hr 0min 0sec\n",
      "(15.0)nbody output_flag=0, NF=2\n",
      "Total number of clusters=1\n",
      "(for 15.0) Time taken = 0hr 0min 0sec\n",
      "(14.0)nbody output_flag=0, NF=2\n",
      "Total number of clusters=1\n",
      "(for 14.0) Time taken = 0hr 0min 0sec\n",
      "(13.0)nbody output_flag=0, NF=2\n",
      "Total number of clusters=4\n",
      "(for 13.0) Time taken = 0hr 0min 0sec\n",
      "(12.0)nbody output_flag=0, NF=2\n",
      "Total number of clusters=13\n",
      "(for 12.0) Time taken = 0hr 0min 0sec\n",
      "(11.0)nbody output_flag=0, NF=2\n",
      "Total number of clusters=26\n",
      "(for 11.0) Time taken = 0hr 0min 0sec\n",
      "done FoF. Total time taken = 0hr 0min 5sec\n",
      "\n",
      "Error (if any):\n",
      "\n"
     ]
    }
   ],
   "source": [
    "prog = \"./fof_main\"\n",
    "run_prog(location_fof,prog,location_home)"
   ]
  },
  {
   "cell_type": "code",
   "execution_count": 45,
   "id": "1b5dfa38-7061-4595-b236-530e3f201e74",
   "metadata": {},
   "outputs": [
    {
     "name": "stdout",
     "output_type": "stream",
     "text": [
      "Searching for files with the term: output.nbody\n",
      "Moved output.nbody_11.000 to /home/ashwin/GIT/FrontEnd_cosmo/ReionYuga\n",
      "Moved output.nbody_12.000 to /home/ashwin/GIT/FrontEnd_cosmo/ReionYuga\n",
      "Moved output.nbody_13.000 to /home/ashwin/GIT/FrontEnd_cosmo/ReionYuga\n",
      "Moved output.nbody_14.000 to /home/ashwin/GIT/FrontEnd_cosmo/ReionYuga\n",
      "Moved output.nbody_15.000 to /home/ashwin/GIT/FrontEnd_cosmo/ReionYuga\n",
      "Moved output.nbody_16.000 to /home/ashwin/GIT/FrontEnd_cosmo/ReionYuga\n",
      "Moved output.nbody_17.000 to /home/ashwin/GIT/FrontEnd_cosmo/ReionYuga\n",
      "Moved output.nbody_18.000 to /home/ashwin/GIT/FrontEnd_cosmo/ReionYuga\n",
      "Moved output.nbody_19.000 to /home/ashwin/GIT/FrontEnd_cosmo/ReionYuga\n",
      "Moved output.nbody_20.000 to /home/ashwin/GIT/FrontEnd_cosmo/ReionYuga\n",
      "Moved output.nbody_21.000 to /home/ashwin/GIT/FrontEnd_cosmo/ReionYuga\n",
      "Moved output.nbody_22.000 to /home/ashwin/GIT/FrontEnd_cosmo/ReionYuga\n",
      "Moved output.nbody_23.000 to /home/ashwin/GIT/FrontEnd_cosmo/ReionYuga\n",
      "Moved output.nbody_24.000 to /home/ashwin/GIT/FrontEnd_cosmo/ReionYuga\n",
      "Moved output.nbody_25.000 to /home/ashwin/GIT/FrontEnd_cosmo/ReionYuga\n",
      "Moved output.nbody_26.000 to /home/ashwin/GIT/FrontEnd_cosmo/ReionYuga\n",
      "Moved output.nbody_27.000 to /home/ashwin/GIT/FrontEnd_cosmo/ReionYuga\n",
      "Moved output.nbody_28.000 to /home/ashwin/GIT/FrontEnd_cosmo/ReionYuga\n",
      "Moved output.nbody_29.000 to /home/ashwin/GIT/FrontEnd_cosmo/ReionYuga\n",
      "Moved output.nbody_30.000 to /home/ashwin/GIT/FrontEnd_cosmo/ReionYuga\n",
      "Searching for files with the term: input.nbody\n",
      "Moved input.nbody_comp to /home/ashwin/GIT/FrontEnd_cosmo/ReionYuga\n",
      "Searching for files with the term: halo_catalogue\n",
      "Moved halo_catalogue_11.000 to /home/ashwin/GIT/FrontEnd_cosmo/ReionYuga\n",
      "Moved halo_catalogue_12.000 to /home/ashwin/GIT/FrontEnd_cosmo/ReionYuga\n",
      "Moved halo_catalogue_13.000 to /home/ashwin/GIT/FrontEnd_cosmo/ReionYuga\n",
      "Moved halo_catalogue_14.000 to /home/ashwin/GIT/FrontEnd_cosmo/ReionYuga\n",
      "Moved halo_catalogue_15.000 to /home/ashwin/GIT/FrontEnd_cosmo/ReionYuga\n",
      "Moved halo_catalogue_16.000 to /home/ashwin/GIT/FrontEnd_cosmo/ReionYuga\n",
      "Moved halo_catalogue_17.000 to /home/ashwin/GIT/FrontEnd_cosmo/ReionYuga\n",
      "Moved halo_catalogue_18.000 to /home/ashwin/GIT/FrontEnd_cosmo/ReionYuga\n",
      "Moved halo_catalogue_19.000 to /home/ashwin/GIT/FrontEnd_cosmo/ReionYuga\n",
      "Moved halo_catalogue_20.000 to /home/ashwin/GIT/FrontEnd_cosmo/ReionYuga\n",
      "Moved halo_catalogue_21.000 to /home/ashwin/GIT/FrontEnd_cosmo/ReionYuga\n",
      "Moved halo_catalogue_22.000 to /home/ashwin/GIT/FrontEnd_cosmo/ReionYuga\n",
      "Moved halo_catalogue_23.000 to /home/ashwin/GIT/FrontEnd_cosmo/ReionYuga\n",
      "Moved halo_catalogue_24.000 to /home/ashwin/GIT/FrontEnd_cosmo/ReionYuga\n",
      "Moved halo_catalogue_25.000 to /home/ashwin/GIT/FrontEnd_cosmo/ReionYuga\n",
      "Moved halo_catalogue_26.000 to /home/ashwin/GIT/FrontEnd_cosmo/ReionYuga\n",
      "Moved halo_catalogue_27.000 to /home/ashwin/GIT/FrontEnd_cosmo/ReionYuga\n",
      "Moved halo_catalogue_28.000 to /home/ashwin/GIT/FrontEnd_cosmo/ReionYuga\n",
      "Moved halo_catalogue_29.000 to /home/ashwin/GIT/FrontEnd_cosmo/ReionYuga\n",
      "Moved halo_catalogue_30.000 to /home/ashwin/GIT/FrontEnd_cosmo/ReionYuga\n",
      "Search and move process complete.\n",
      "Directory '/home/ashwin/GIT/FrontEnd_cosmo/ReionYuga/ionz_out' does not exist.\n"
     ]
    }
   ],
   "source": [
    "!bash movefilesF-R"
   ]
  },
  {
   "cell_type": "code",
   "execution_count": 46,
   "id": "4504f270-5c2c-4e79-a3b6-f5e21be25019",
   "metadata": {},
   "outputs": [
    {
     "name": "stdout",
     "output_type": "stream",
     "text": [
      "Output:\n",
      "ok read nbody output = 2.383825e+04\n",
      "ok read halo catalogue = 1.664700e-05\n",
      "No of threads = 8\n",
      "ok cic_vmass= 2.851992e-02\n",
      "ok smoothing = 1.738122e+00\n",
      "vol. avg. x_HI=1.000000e+00, mass avg. x_HI=1.000000e+00\n",
      "mass avg. x_HI=1.000000e+00\n",
      "ok time taken= 8.725882e-02\n",
      "\n",
      "ok read nbody output = 1.050919e-01\n",
      "ok read halo catalogue = 1.077200e-05\n",
      "ok cic_vmass= 2.774681e-02\n",
      "ok smoothing = 1.692014e+00\n",
      "vol. avg. x_HI=1.000000e+00, mass avg. x_HI=1.000000e+00\n",
      "mass avg. x_HI=1.000000e+00\n",
      "ok time taken= 8.474193e-02\n",
      "\n",
      "ok read nbody output = 1.026271e-01\n",
      "ok read halo catalogue = 1.148000e-05\n",
      "ok cic_vmass= 2.774368e-02\n",
      "ok smoothing = 1.697303e+00\n",
      "vol. avg. x_HI=1.000000e+00, mass avg. x_HI=1.000000e+00\n",
      "mass avg. x_HI=1.000000e+00\n",
      "ok time taken= 8.613582e-02\n",
      "\n",
      "ok read nbody output = 1.039627e-01\n",
      "ok read halo catalogue = 1.058700e-05\n",
      "ok cic_vmass= 2.773709e-02\n",
      "ok smoothing = 2.231746e+00\n",
      "vol. avg. x_HI=1.000000e+00, mass avg. x_HI=1.000000e+00\n",
      "mass avg. x_HI=1.000000e+00\n",
      "ok time taken= 1.207517e-01\n",
      "\n",
      "ok read nbody output = 1.521220e-01\n",
      "ok read halo catalogue = 2.651400e-05\n",
      "ok cic_vmass= 2.779278e-02\n",
      "ok smoothing = 1.693876e+00\n",
      "vol. avg. x_HI=1.000000e+00, mass avg. x_HI=1.000000e+00\n",
      "mass avg. x_HI=1.000000e+00\n",
      "ok time taken= 8.936456e-02\n",
      "\n",
      "ok read nbody output = 1.071392e-01\n",
      "ok read halo catalogue = 1.151500e-05\n",
      "ok cic_vmass= 2.780434e-02\n",
      "ok smoothing = 1.710704e+00\n",
      "vol. avg. x_HI=1.000000e+00, mass avg. x_HI=1.000000e+00\n",
      "mass avg. x_HI=1.000000e+00\n",
      "ok time taken= 8.485657e-02\n",
      "\n",
      "ok read nbody output = 1.026453e-01\n",
      "ok read halo catalogue = 1.189300e-05\n",
      "ok cic_vmass= 2.773422e-02\n",
      "ok smoothing = 1.700169e+00\n",
      "vol. avg. x_HI=1.000000e+00, mass avg. x_HI=1.000000e+00\n",
      "mass avg. x_HI=1.000000e+00\n",
      "ok time taken= 8.539387e-02\n",
      "\n",
      "ok read nbody output = 1.032302e-01\n",
      "ok read halo catalogue = 1.044000e-05\n",
      "ok cic_vmass= 2.775934e-02\n",
      "ok smoothing = 1.750702e+00\n",
      "vol. avg. x_HI=1.000000e+00, mass avg. x_HI=1.000000e+00\n",
      "mass avg. x_HI=1.000000e+00\n",
      "ok time taken= 8.479600e-02\n",
      "\n",
      "ok read nbody output = 1.025585e-01\n",
      "ok read halo catalogue = 1.200000e-05\n",
      "ok cic_vmass= 2.776931e-02\n",
      "ok smoothing = 1.841328e+00\n",
      "vol. avg. x_HI=1.000000e+00, mass avg. x_HI=1.000000e+00\n",
      "mass avg. x_HI=1.000000e+00\n",
      "ok time taken= 8.528227e-02\n",
      "\n",
      "ok read nbody output = 1.031298e-01\n",
      "ok read halo catalogue = 1.419300e-05\n",
      "ok cic_vmass= 2.780877e-02\n",
      "ok smoothing = 1.695765e+00\n",
      "vol. avg. x_HI=1.000000e+00, mass avg. x_HI=1.000000e+00\n",
      "mass avg. x_HI=1.000000e+00\n",
      "ok time taken= 8.545191e-02\n",
      "\n",
      "ok read nbody output = 1.032926e-01\n",
      "ok read halo catalogue = 1.229800e-05\n",
      "ok cic_vmass= 2.774993e-02\n",
      "ok smoothing = 1.696626e+00\n",
      "vol. avg. x_HI=1.000000e+00, mass avg. x_HI=1.000000e+00\n",
      "mass avg. x_HI=1.000000e+00\n",
      "ok time taken= 8.483975e-02\n",
      "\n",
      "ok read nbody output = 1.026480e-01\n",
      "ok read halo catalogue = 1.118600e-05\n",
      "ok cic_vmass= 2.772358e-02\n",
      "ok smoothing = 1.727106e+00\n",
      "vol. avg. x_HI=1.000000e+00, mass avg. x_HI=1.000000e+00\n",
      "mass avg. x_HI=1.000000e+00\n",
      "ok time taken= 8.505161e-02\n",
      "\n",
      "ok read nbody output = 1.028662e-01\n",
      "ok read halo catalogue = 2.167300e-05\n",
      "ok cic_vmass= 2.776237e-02\n",
      "ok smoothing = 1.702556e+00\n",
      "vol. avg. x_HI=1.000000e+00, mass avg. x_HI=1.000000e+00\n",
      "mass avg. x_HI=1.000000e+00\n",
      "ok time taken= 8.575207e-02\n",
      "\n",
      "ok read nbody output = 1.035725e-01\n",
      "ok read halo catalogue = 1.061700e-05\n",
      "ok cic_vmass= 2.778540e-02\n",
      "ok smoothing = 1.734286e+00\n",
      "vol. avg. x_HI=1.000000e+00, mass avg. x_HI=1.000000e+00\n",
      "mass avg. x_HI=1.000000e+00\n",
      "ok time taken= 9.254794e-02\n",
      "\n",
      "ok read nbody output = 1.118578e-01\n",
      "ok read halo catalogue = 2.131400e-05\n",
      "ok cic_vmass= 2.980982e-02\n",
      "ok smoothing = 1.898272e+00\n",
      "vol. avg. x_HI=1.000000e+00, mass avg. x_HI=1.000000e+00\n",
      "mass avg. x_HI=1.000000e+00\n",
      "ok time taken= 1.045964e-01\n",
      "\n",
      "ok read nbody output = 1.239009e-01\n",
      "ok read halo catalogue = 2.588600e-05\n",
      "ok cic_vmass= 2.993535e-02\n",
      "ok smoothing = 2.480445e+00\n",
      "vol. avg. x_HI=9.995766e-01, mass avg. x_HI=9.989180e-01\n",
      "mass avg. x_HI=9.989180e-01\n",
      "ok time taken= 1.058014e-01\n",
      "\n",
      "ok read nbody output = 1.237920e-01\n",
      "ok read halo catalogue = 1.208100e-05\n",
      "ok cic_vmass= 2.776429e-02\n",
      "ok smoothing = 1.797897e+00\n",
      "vol. avg. x_HI=9.995918e-01, mass avg. x_HI=9.988961e-01\n",
      "mass avg. x_HI=9.988961e-01\n",
      "ok time taken= 8.587466e-02\n",
      "\n",
      "ok read nbody output = 1.039293e-01\n",
      "ok read halo catalogue = 1.346800e-05\n",
      "ok cic_vmass= 2.787567e-02\n",
      "ok smoothing = 1.695600e+00\n",
      "vol. avg. x_HI=9.984818e-01, mass avg. x_HI=9.957395e-01\n",
      "mass avg. x_HI=9.957395e-01\n",
      "ok time taken= 8.489959e-02\n",
      "\n",
      "ok read nbody output = 1.029009e-01\n",
      "ok read halo catalogue = 1.336600e-05\n",
      "ok cic_vmass= 2.798033e-02\n",
      "ok smoothing = 1.722909e+00\n",
      "vol. avg. x_HI=9.933739e-01, mass avg. x_HI=9.855062e-01\n",
      "mass avg. x_HI=9.855062e-01\n",
      "ok time taken= 8.498306e-02\n",
      "\n",
      "ok read nbody output = 1.029506e-01\n",
      "ok read halo catalogue = 2.606400e-05\n",
      "ok cic_vmass= 2.774339e-02\n",
      "ok smoothing = 1.702504e+00\n",
      "vol. avg. x_HI=9.848022e-01, mass avg. x_HI=9.684897e-01\n",
      "mass avg. x_HI=9.684896e-01\n",
      "ok time taken= 8.519744e-02\n",
      "\n",
      "done. Total time taken = 0hr 0min 38sec\n",
      "\n",
      "Error (if any):\n",
      "\n"
     ]
    }
   ],
   "source": [
    "prog = \"./ionz_main\"\n",
    "run_prog(location_regio_yuga,prog,location_home)"
   ]
  },
  {
   "cell_type": "code",
   "execution_count": 47,
   "id": "e2f8efd2-1dd9-476a-817a-0bc3f2c11458",
   "metadata": {},
   "outputs": [
    {
     "name": "stdout",
     "output_type": "stream",
     "text": [
      "Moved folder 'ionz_out' to '/home/ashwin/GIT/FrontEnd_cosmo/Save/BackupRun_4/'\n",
      "Searching for files with the term: output.nbody\n",
      "Moved output.nbody_11.000 to /home/ashwin/GIT/FrontEnd_cosmo/Save/BackupRun_4/\n",
      "Moved output.nbody_12.000 to /home/ashwin/GIT/FrontEnd_cosmo/Save/BackupRun_4/\n",
      "Moved output.nbody_13.000 to /home/ashwin/GIT/FrontEnd_cosmo/Save/BackupRun_4/\n",
      "Moved output.nbody_14.000 to /home/ashwin/GIT/FrontEnd_cosmo/Save/BackupRun_4/\n",
      "Moved output.nbody_15.000 to /home/ashwin/GIT/FrontEnd_cosmo/Save/BackupRun_4/\n",
      "Moved output.nbody_16.000 to /home/ashwin/GIT/FrontEnd_cosmo/Save/BackupRun_4/\n",
      "Moved output.nbody_17.000 to /home/ashwin/GIT/FrontEnd_cosmo/Save/BackupRun_4/\n",
      "Moved output.nbody_18.000 to /home/ashwin/GIT/FrontEnd_cosmo/Save/BackupRun_4/\n",
      "Moved output.nbody_19.000 to /home/ashwin/GIT/FrontEnd_cosmo/Save/BackupRun_4/\n",
      "Moved output.nbody_20.000 to /home/ashwin/GIT/FrontEnd_cosmo/Save/BackupRun_4/\n",
      "Moved output.nbody_21.000 to /home/ashwin/GIT/FrontEnd_cosmo/Save/BackupRun_4/\n",
      "Moved output.nbody_22.000 to /home/ashwin/GIT/FrontEnd_cosmo/Save/BackupRun_4/\n",
      "Moved output.nbody_23.000 to /home/ashwin/GIT/FrontEnd_cosmo/Save/BackupRun_4/\n",
      "Moved output.nbody_24.000 to /home/ashwin/GIT/FrontEnd_cosmo/Save/BackupRun_4/\n",
      "Moved output.nbody_25.000 to /home/ashwin/GIT/FrontEnd_cosmo/Save/BackupRun_4/\n",
      "Moved output.nbody_26.000 to /home/ashwin/GIT/FrontEnd_cosmo/Save/BackupRun_4/\n",
      "Moved output.nbody_27.000 to /home/ashwin/GIT/FrontEnd_cosmo/Save/BackupRun_4/\n",
      "Moved output.nbody_28.000 to /home/ashwin/GIT/FrontEnd_cosmo/Save/BackupRun_4/\n",
      "Moved output.nbody_29.000 to /home/ashwin/GIT/FrontEnd_cosmo/Save/BackupRun_4/\n",
      "Moved output.nbody_30.000 to /home/ashwin/GIT/FrontEnd_cosmo/Save/BackupRun_4/\n",
      "Searching for files with the term: input.nbody\n",
      "Moved input.nbody_comp to /home/ashwin/GIT/FrontEnd_cosmo/Save/BackupRun_4/\n",
      "Searching for files with the term: halo_catalogue\n",
      "Moved halo_catalogue_11.000 to /home/ashwin/GIT/FrontEnd_cosmo/Save/BackupRun_4/\n",
      "Moved halo_catalogue_12.000 to /home/ashwin/GIT/FrontEnd_cosmo/Save/BackupRun_4/\n",
      "Moved halo_catalogue_13.000 to /home/ashwin/GIT/FrontEnd_cosmo/Save/BackupRun_4/\n",
      "Moved halo_catalogue_14.000 to /home/ashwin/GIT/FrontEnd_cosmo/Save/BackupRun_4/\n",
      "Moved halo_catalogue_15.000 to /home/ashwin/GIT/FrontEnd_cosmo/Save/BackupRun_4/\n",
      "Moved halo_catalogue_16.000 to /home/ashwin/GIT/FrontEnd_cosmo/Save/BackupRun_4/\n",
      "Moved halo_catalogue_17.000 to /home/ashwin/GIT/FrontEnd_cosmo/Save/BackupRun_4/\n",
      "Moved halo_catalogue_18.000 to /home/ashwin/GIT/FrontEnd_cosmo/Save/BackupRun_4/\n",
      "Moved halo_catalogue_19.000 to /home/ashwin/GIT/FrontEnd_cosmo/Save/BackupRun_4/\n",
      "Moved halo_catalogue_20.000 to /home/ashwin/GIT/FrontEnd_cosmo/Save/BackupRun_4/\n",
      "Moved halo_catalogue_21.000 to /home/ashwin/GIT/FrontEnd_cosmo/Save/BackupRun_4/\n",
      "Moved halo_catalogue_22.000 to /home/ashwin/GIT/FrontEnd_cosmo/Save/BackupRun_4/\n",
      "Moved halo_catalogue_23.000 to /home/ashwin/GIT/FrontEnd_cosmo/Save/BackupRun_4/\n",
      "Moved halo_catalogue_24.000 to /home/ashwin/GIT/FrontEnd_cosmo/Save/BackupRun_4/\n",
      "Moved halo_catalogue_25.000 to /home/ashwin/GIT/FrontEnd_cosmo/Save/BackupRun_4/\n",
      "Moved halo_catalogue_26.000 to /home/ashwin/GIT/FrontEnd_cosmo/Save/BackupRun_4/\n",
      "Moved halo_catalogue_27.000 to /home/ashwin/GIT/FrontEnd_cosmo/Save/BackupRun_4/\n",
      "Moved halo_catalogue_28.000 to /home/ashwin/GIT/FrontEnd_cosmo/Save/BackupRun_4/\n",
      "Moved halo_catalogue_29.000 to /home/ashwin/GIT/FrontEnd_cosmo/Save/BackupRun_4/\n",
      "Moved halo_catalogue_30.000 to /home/ashwin/GIT/FrontEnd_cosmo/Save/BackupRun_4/\n",
      "Search and move process complete.\n"
     ]
    }
   ],
   "source": [
    "!bash backupOutput"
   ]
  },
  {
   "cell_type": "code",
   "execution_count": null,
   "id": "13d40310-a8f2-4573-8e06-b0684a4fc2da",
   "metadata": {},
   "outputs": [],
   "source": []
  },
  {
   "cell_type": "code",
   "execution_count": null,
   "id": "adc5a969-77fe-4e27-a947-f53de53dd7a6",
   "metadata": {},
   "outputs": [],
   "source": []
  }
 ],
 "metadata": {
  "kernelspec": {
   "display_name": "Python 3 (ipykernel)",
   "language": "python",
   "name": "python3"
  },
  "language_info": {
   "codemirror_mode": {
    "name": "ipython",
    "version": 3
   },
   "file_extension": ".py",
   "mimetype": "text/x-python",
   "name": "python",
   "nbconvert_exporter": "python",
   "pygments_lexer": "ipython3",
   "version": "3.11.5"
  },
  "widgets": {
   "application/vnd.jupyter.widget-state+json": {
    "state": {
     "002ee703614e4e3bbccd50853d785003": {
      "model_module": "@jupyter-widgets/controls",
      "model_module_version": "2.0.0",
      "model_name": "HBoxModel",
      "state": {
       "children": [
        "IPY_MODEL_687796d2f89a441fa08eededed83f077",
        "IPY_MODEL_8522d4f383d6474f94b05b927b3bd3f7",
        "IPY_MODEL_147497b5398d4bab9a2c99f5fa7a5b8e",
        "IPY_MODEL_80c037821acd486294600b7e7822e4ac"
       ],
       "layout": "IPY_MODEL_674ec6e4bfe54f769d33eb54af995495"
      }
     },
     "0546fa7472fb4089af69a8aa9e247a33": {
      "model_module": "@jupyter-widgets/base",
      "model_module_version": "2.0.0",
      "model_name": "LayoutModel",
      "state": {}
     },
     "12a202516ae541e4bbecaeb2ddf30ec8": {
      "model_module": "@jupyter-widgets/controls",
      "model_module_version": "2.0.0",
      "model_name": "SelectModel",
      "state": {
       "_options_labels": [
        "16",
        "32",
        "64",
        "128",
        "256",
        "512",
        "1024",
        "2048",
        "4096"
       ],
       "description": "N1 N2 N3:",
       "index": 3,
       "layout": "IPY_MODEL_6093c81f4e6741549b0f2d8cec14e47f",
       "style": "IPY_MODEL_fbaece02278f48cd8d120a64ef239399"
      }
     },
     "147497b5398d4bab9a2c99f5fa7a5b8e": {
      "model_module": "@jupyter-widgets/controls",
      "model_module_version": "2.0.0",
      "model_name": "BoundedFloatTextModel",
      "state": {
       "description": "omega_l:",
       "layout": "IPY_MODEL_ecaf24d0e9a34d15804267c34a36b371",
       "step": null,
       "style": "IPY_MODEL_4a3846f707c1449cbf445c047f270ed6",
       "value": 0.6817
      }
     },
     "18c36d01dbea4a32955fe8474e5dfbf8": {
      "model_module": "@jupyter-widgets/controls",
      "model_module_version": "2.0.0",
      "model_name": "BoundedFloatTextModel",
      "state": {
       "description": "sigma_8:",
       "layout": "IPY_MODEL_271d871017474d1c9a3b6b5cd10d3f91",
       "step": null,
       "style": "IPY_MODEL_d3d0f31f6d3342249162380450fd8459",
       "value": 0.8347
      }
     },
     "1a644e8ae2f14d43ac0e938d37ba62a6": {
      "model_module": "@jupyter-widgets/base",
      "model_module_version": "2.0.0",
      "model_name": "LayoutModel",
      "state": {}
     },
     "1b1ae005596b420fb48bf2cfc74af3f9": {
      "model_module": "@jupyter-widgets/controls",
      "model_module_version": "2.0.0",
      "model_name": "BoundedFloatTextModel",
      "state": {
       "description": "seed:",
       "layout": "IPY_MODEL_0546fa7472fb4089af69a8aa9e247a33",
       "max": 1000000,
       "min": -1000000,
       "step": null,
       "style": "IPY_MODEL_9665c4849f4848fa85161279f41e5fdc",
       "value": -100012
      }
     },
     "235ce8c1bf3147d8a6d4f5252d157753": {
      "model_module": "@jupyter-widgets/controls",
      "model_module_version": "2.0.0",
      "model_name": "DescriptionStyleModel",
      "state": {
       "description_width": ""
      }
     },
     "271d871017474d1c9a3b6b5cd10d3f91": {
      "model_module": "@jupyter-widgets/base",
      "model_module_version": "2.0.0",
      "model_name": "LayoutModel",
      "state": {}
     },
     "29744120f983400e80f142575c7df660": {
      "model_module": "@jupyter-widgets/controls",
      "model_module_version": "2.0.0",
      "model_name": "DescriptionStyleModel",
      "state": {
       "description_width": ""
      }
     },
     "2e1134ac338d42a1b7fee6662ea90b9f": {
      "model_module": "@jupyter-widgets/controls",
      "model_module_version": "2.0.0",
      "model_name": "DescriptionStyleModel",
      "state": {
       "description_width": ""
      }
     },
     "3cdd763793e04bf985f9e3bc28ad8046": {
      "model_module": "@jupyter-widgets/base",
      "model_module_version": "2.0.0",
      "model_name": "LayoutModel",
      "state": {}
     },
     "448c90c088e84040a784ba95c84c1b9b": {
      "model_module": "@jupyter-widgets/controls",
      "model_module_version": "2.0.0",
      "model_name": "DescriptionStyleModel",
      "state": {
       "description_width": ""
      }
     },
     "4a3846f707c1449cbf445c047f270ed6": {
      "model_module": "@jupyter-widgets/controls",
      "model_module_version": "2.0.0",
      "model_name": "DescriptionStyleModel",
      "state": {
       "description_width": ""
      }
     },
     "54dc75c5758846f7887e61c4c8ff0e5b": {
      "model_module": "@jupyter-widgets/controls",
      "model_module_version": "2.0.0",
      "model_name": "DescriptionStyleModel",
      "state": {
       "description_width": ""
      }
     },
     "5764970471d9445b9de84c54797a4552": {
      "model_module": "@jupyter-widgets/controls",
      "model_module_version": "2.0.0",
      "model_name": "BoundedFloatTextModel",
      "state": {
       "description": "fraction_fill:",
       "layout": "IPY_MODEL_841124a043834ec696340e815abd1a86",
       "max": 1000,
       "step": null,
       "style": "IPY_MODEL_235ce8c1bf3147d8a6d4f5252d157753",
       "value": 2
      }
     },
     "5e8ce8d975814fa6b1a0363138a0d093": {
      "model_module": "@jupyter-widgets/controls",
      "model_module_version": "2.0.0",
      "model_name": "HBoxModel",
      "state": {
       "children": [
        "IPY_MODEL_e5c0406996ff4f4ba84aab4c85d330c8",
        "IPY_MODEL_c1548552fb5c471892b938e94ad93b80"
       ],
       "layout": "IPY_MODEL_b1baa534f3c8478c89d3c25b7aeae454"
      }
     },
     "6093c81f4e6741549b0f2d8cec14e47f": {
      "model_module": "@jupyter-widgets/base",
      "model_module_version": "2.0.0",
      "model_name": "LayoutModel",
      "state": {}
     },
     "66888944a70b4bbeaf7e3c5b9bacaa59": {
      "model_module": "@jupyter-widgets/controls",
      "model_module_version": "2.0.0",
      "model_name": "DescriptionStyleModel",
      "state": {
       "description_width": ""
      }
     },
     "674ec6e4bfe54f769d33eb54af995495": {
      "model_module": "@jupyter-widgets/base",
      "model_module_version": "2.0.0",
      "model_name": "LayoutModel",
      "state": {}
     },
     "687796d2f89a441fa08eededed83f077": {
      "model_module": "@jupyter-widgets/controls",
      "model_module_version": "2.0.0",
      "model_name": "BoundedFloatTextModel",
      "state": {
       "description": "hh:",
       "layout": "IPY_MODEL_bea5db4540df445aa9c91f023f8e0116",
       "step": null,
       "style": "IPY_MODEL_448c90c088e84040a784ba95c84c1b9b",
       "value": 0.6704
      }
     },
     "747bbf0095b945cca29ccf58759600c0": {
      "model_module": "@jupyter-widgets/controls",
      "model_module_version": "2.0.0",
      "model_name": "BoundedFloatTextModel",
      "state": {
       "description": "NBin:",
       "layout": "IPY_MODEL_a4b356cd603f4e9a9ff7d60e9cac325b",
       "step": null,
       "style": "IPY_MODEL_54dc75c5758846f7887e61c4c8ff0e5b",
       "value": 10
      }
     },
     "7c3dcd2f14994470b8a16fd76e784681": {
      "model_module": "@jupyter-widgets/controls",
      "model_module_version": "2.0.0",
      "model_name": "BoundedFloatTextModel",
      "state": {
       "description": "LL:",
       "layout": "IPY_MODEL_b5fc9945061c4a649fdcc553b5720148",
       "step": null,
       "style": "IPY_MODEL_f5f30367364740f793907052e81dc2a1",
       "value": 0.07
      }
     },
     "80c037821acd486294600b7e7822e4ac": {
      "model_module": "@jupyter-widgets/controls",
      "model_module_version": "2.0.0",
      "model_name": "BoundedFloatTextModel",
      "state": {
       "description": "spectral_index:",
       "layout": "IPY_MODEL_f6bed105b3f443858f4fa755b1637606",
       "step": null,
       "style": "IPY_MODEL_be1f35fc5b11472a99939742735c6498",
       "value": 0.9619
      }
     },
     "841124a043834ec696340e815abd1a86": {
      "model_module": "@jupyter-widgets/base",
      "model_module_version": "2.0.0",
      "model_name": "LayoutModel",
      "state": {}
     },
     "8522d4f383d6474f94b05b927b3bd3f7": {
      "model_module": "@jupyter-widgets/controls",
      "model_module_version": "2.0.0",
      "model_name": "BoundedFloatTextModel",
      "state": {
       "description": "omega_m:",
       "layout": "IPY_MODEL_1a644e8ae2f14d43ac0e938d37ba62a6",
       "step": null,
       "style": "IPY_MODEL_66888944a70b4bbeaf7e3c5b9bacaa59",
       "value": 0.3183
      }
     },
     "92117faad668415eafc7826999445aad": {
      "model_module": "@jupyter-widgets/base",
      "model_module_version": "2.0.0",
      "model_name": "LayoutModel",
      "state": {}
     },
     "9665c4849f4848fa85161279f41e5fdc": {
      "model_module": "@jupyter-widgets/controls",
      "model_module_version": "2.0.0",
      "model_name": "DescriptionStyleModel",
      "state": {
       "description_width": ""
      }
     },
     "9bac36a3054e415abca3366060b7b4c7": {
      "model_module": "@jupyter-widgets/base",
      "model_module_version": "2.0.0",
      "model_name": "LayoutModel",
      "state": {}
     },
     "a4553c4d47a84c7f99ad0557bd987e63": {
      "model_module": "@jupyter-widgets/controls",
      "model_module_version": "2.0.0",
      "model_name": "DescriptionStyleModel",
      "state": {
       "description_width": ""
      }
     },
     "a4b356cd603f4e9a9ff7d60e9cac325b": {
      "model_module": "@jupyter-widgets/base",
      "model_module_version": "2.0.0",
      "model_name": "LayoutModel",
      "state": {}
     },
     "b1baa534f3c8478c89d3c25b7aeae454": {
      "model_module": "@jupyter-widgets/base",
      "model_module_version": "2.0.0",
      "model_name": "LayoutModel",
      "state": {}
     },
     "b5fc9945061c4a649fdcc553b5720148": {
      "model_module": "@jupyter-widgets/base",
      "model_module_version": "2.0.0",
      "model_name": "LayoutModel",
      "state": {}
     },
     "b8f9e58cbd594b9082906bcb1f8b98e5": {
      "model_module": "@jupyter-widgets/controls",
      "model_module_version": "2.0.0",
      "model_name": "HBoxModel",
      "state": {
       "children": [
        "IPY_MODEL_1b1ae005596b420fb48bf2cfc74af3f9",
        "IPY_MODEL_747bbf0095b945cca29ccf58759600c0"
       ],
       "layout": "IPY_MODEL_c0fe31690ea3402eb9c72340f9c50726"
      }
     },
     "be1f35fc5b11472a99939742735c6498": {
      "model_module": "@jupyter-widgets/controls",
      "model_module_version": "2.0.0",
      "model_name": "DescriptionStyleModel",
      "state": {
       "description_width": ""
      }
     },
     "bea5db4540df445aa9c91f023f8e0116": {
      "model_module": "@jupyter-widgets/base",
      "model_module_version": "2.0.0",
      "model_name": "LayoutModel",
      "state": {}
     },
     "c0fe31690ea3402eb9c72340f9c50726": {
      "model_module": "@jupyter-widgets/base",
      "model_module_version": "2.0.0",
      "model_name": "LayoutModel",
      "state": {}
     },
     "c1548552fb5c471892b938e94ad93b80": {
      "model_module": "@jupyter-widgets/controls",
      "model_module_version": "2.0.0",
      "model_name": "BoundedFloatTextModel",
      "state": {
       "description": "delta_a:",
       "layout": "IPY_MODEL_9bac36a3054e415abca3366060b7b4c7",
       "step": null,
       "style": "IPY_MODEL_29744120f983400e80f142575c7df660",
       "value": 0.004
      }
     },
     "c45782022c8343e7862e8a18e124c134": {
      "model_module": "@jupyter-widgets/base",
      "model_module_version": "2.0.0",
      "model_name": "LayoutModel",
      "state": {}
     },
     "d3d0f31f6d3342249162380450fd8459": {
      "model_module": "@jupyter-widgets/controls",
      "model_module_version": "2.0.0",
      "model_name": "DescriptionStyleModel",
      "state": {
       "description_width": ""
      }
     },
     "db88b0b2dd6047859ca308bb1ca4c35a": {
      "model_module": "@jupyter-widgets/controls",
      "model_module_version": "2.0.0",
      "model_name": "HBoxModel",
      "state": {
       "children": [
        "IPY_MODEL_5764970471d9445b9de84c54797a4552",
        "IPY_MODEL_7c3dcd2f14994470b8a16fd76e784681"
       ],
       "layout": "IPY_MODEL_3cdd763793e04bf985f9e3bc28ad8046"
      }
     },
     "e04d38de09354c558258fc7c24f4f679": {
      "model_module": "@jupyter-widgets/controls",
      "model_module_version": "2.0.0",
      "model_name": "HBoxModel",
      "state": {
       "children": [
        "IPY_MODEL_f01c391bf7634d30b8805986c8500ab3",
        "IPY_MODEL_18c36d01dbea4a32955fe8474e5dfbf8"
       ],
       "layout": "IPY_MODEL_92117faad668415eafc7826999445aad"
      }
     },
     "e5c0406996ff4f4ba84aab4c85d330c8": {
      "model_module": "@jupyter-widgets/controls",
      "model_module_version": "2.0.0",
      "model_name": "BoundedFloatTextModel",
      "state": {
       "description": "a_initial:",
       "layout": "IPY_MODEL_fadd4897996647789ade43751a959a4e",
       "step": null,
       "style": "IPY_MODEL_a4553c4d47a84c7f99ad0557bd987e63",
       "value": 0.008
      }
     },
     "ecaf24d0e9a34d15804267c34a36b371": {
      "model_module": "@jupyter-widgets/base",
      "model_module_version": "2.0.0",
      "model_name": "LayoutModel",
      "state": {}
     },
     "f01c391bf7634d30b8805986c8500ab3": {
      "model_module": "@jupyter-widgets/controls",
      "model_module_version": "2.0.0",
      "model_name": "BoundedFloatTextModel",
      "state": {
       "description": "omega_baryon:",
       "layout": "IPY_MODEL_c45782022c8343e7862e8a18e124c134",
       "step": null,
       "style": "IPY_MODEL_2e1134ac338d42a1b7fee6662ea90b9f",
       "value": 0.04902
      }
     },
     "f5f30367364740f793907052e81dc2a1": {
      "model_module": "@jupyter-widgets/controls",
      "model_module_version": "2.0.0",
      "model_name": "DescriptionStyleModel",
      "state": {
       "description_width": ""
      }
     },
     "f6bed105b3f443858f4fa755b1637606": {
      "model_module": "@jupyter-widgets/base",
      "model_module_version": "2.0.0",
      "model_name": "LayoutModel",
      "state": {}
     },
     "fadd4897996647789ade43751a959a4e": {
      "model_module": "@jupyter-widgets/base",
      "model_module_version": "2.0.0",
      "model_name": "LayoutModel",
      "state": {}
     },
     "fbaece02278f48cd8d120a64ef239399": {
      "model_module": "@jupyter-widgets/controls",
      "model_module_version": "2.0.0",
      "model_name": "DescriptionStyleModel",
      "state": {
       "description_width": ""
      }
     }
    },
    "version_major": 2,
    "version_minor": 0
   }
  }
 },
 "nbformat": 4,
 "nbformat_minor": 5
}
