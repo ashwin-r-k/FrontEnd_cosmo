{
 "cells": [
  {
   "cell_type": "code",
   "execution_count": 1,
   "id": "d9d7e618-5fbf-44d3-953d-2b514aef750b",
   "metadata": {},
   "outputs": [],
   "source": [
    "import numpy as np\n",
    "import pylab as pl\n",
    "from mpl_toolkits.axes_grid1 import ImageGrid"
   ]
  },
  {
   "cell_type": "code",
   "execution_count": 12,
   "id": "7045b1ba-9cb1-4ba3-ae8b-6fc8783a4c1b",
   "metadata": {},
   "outputs": [],
   "source": [
    "filename = './ReionYuga/ionz_out/HI_map_11.000'\n"
   ]
  },
  {
   "cell_type": "code",
   "execution_count": 14,
   "id": "4847ccfe-1db9-46e7-b680-5d4eeafe8255",
   "metadata": {},
   "outputs": [
    {
     "name": "stdout",
     "output_type": "stream",
     "text": [
      "No of grids in the desnity file\n",
      "8\n",
      "8\n",
      "8\n"
     ]
    }
   ],
   "source": [
    "f = open(filename)\n",
    "temp_mesh = np.fromfile(f,count=3,dtype='int32')\n",
    "N1,N2,N3 = temp_mesh\n",
    "data_num =1\n",
    "print('No of grids in the desnity file')\n",
    "print(N1)\n",
    "print(N2)\n",
    "print(N3)\n",
    "datatype = dtype=(np.float32)\n",
    "data = np.fromfile(f, dtype=datatype,count=N1*N2*N3*data_num)\n",
    "f.close()"
   ]
  },
  {
   "cell_type": "code",
   "execution_count": 17,
   "id": "ab9fd817-d100-40cb-8c17-fe24b0cb7c65",
   "metadata": {},
   "outputs": [],
   "source": [
    "\n",
    "#data = np.loadtxt(filename)\n",
    "#print(data.shape)\n",
    "dT = data.reshape((N1,N2,N3,data_num), order='C') # Reshaping the data into N1xN2xN3 grid format\n",
    " \n",
    "#print(dT[0,0,9,0])\n",
    "Tpl=dT[:,:,:,0]  # extracting out the first 5 slices\n",
    "#print(np.shape(Tpl))\n",
    "av_Tpl=np.mean(Tpl, axis=0) # stacking (averaging) the 5 slices along x-axis(axis=0) \n",
    "#print(np.shape(av_Tpl))\n",
    "\n"
   ]
  },
  {
   "cell_type": "code",
   "execution_count": 18,
   "id": "59a698d7-c390-49d0-b3b4-5c5ea25f81d6",
   "metadata": {},
   "outputs": [
    {
     "data": {
      "image/png": "[encoded data removed]",
      "text/plain": [
       "<Figure size 500x500 with 2 Axes>"
      ]
     },
     "metadata": {},
     "output_type": "display_data"
    }
   ],
   "source": [
    "fig = pl.figure(1, (5., 5.))\n",
    "pl.imshow(av_Tpl,origin='lower')\n",
    "pl.colorbar(pad=0.01,fraction=0.047)\n",
    "#pl.clim(0,5)\n",
    "\n",
    "pl.show()"
   ]
  },
  {
   "cell_type": "code",
   "execution_count": null,
   "id": "83c5c2c6-c148-4e14-bc08-9b24f82afd83",
   "metadata": {},
   "outputs": [],
   "source": []
  }
 ],
 "metadata": {
  "kernelspec": {
   "display_name": "Python 3 (ipykernel)",
   "language": "python",
   "name": "python3"
  },
  "language_info": {
   "codemirror_mode": {
    "name": "ipython",
    "version": 3
   },
   "file_extension": ".py",
   "mimetype": "text/x-python",
   "name": "python",
   "nbconvert_exporter": "python",
   "pygments_lexer": "ipython3",
   "version": "3.11.5"
  },
  "widgets": {
   "application/vnd.jupyter.widget-state+json": {
    "state": {},
    "version_major": 2,
    "version_minor": 0
   }
  }
 },
 "nbformat": 4,
 "nbformat_minor": 5
}
