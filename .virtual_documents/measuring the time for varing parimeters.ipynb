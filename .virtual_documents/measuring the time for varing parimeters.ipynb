import subprocess
import os
print(os.getcwd())



!bash clean


location_home=os.getcwd()
location_nbody = "N-body"
location_fof = "FoF-Halo-finder"
location_regio_yuga = "ReionYuga"


    
def compile_prog(location,compile_command,location_home):
# Compile the C++ program 
        os.chdir(os.path.join(location_home,location))
        print(os.getcwd())

        compile_command = "make"+" "+compile_command
        os.system(compile_command)
        '''
        #compile_process = subprocess.Popen([location, "make",compile_command])
        #compile_process = subprocess.run(compile_command, stdout=subprocess.PIPE, stderr=subprocess.PIPE)
         
        # Check if the compilation was successful 
        if compile_process.returncode == 0:
            print("Compilation successful.") 
    
        else: 
            # Print the compilation error messages 
            print("Compilation failed.") 
            print(compile_process.stderr.decode())
        '''
        os.chdir(location_home)

def run_prog(location,run_command,location_home):
            # Run the compiled program 
        os.chdir(os.path.join(location_home,location))

        run_process = subprocess.run(run_command, stdout=subprocess.PIPE, stderr=subprocess.PIPE) 
         
        # Get the output and error messages from the program 
        output = run_process.stdout.decode() 
        error = run_process.stderr.decode() 
         
        # Print the output and error messages 
        print("Output:") 
        print(output) 
         
        print("Error (if any):") 
        print(error) 
        os.chdir(location_home)



prog = "nbody_comp"
compile_prog(location_nbody,prog,location_home)

prog = "fof_main"
compile_prog(location_fof,prog,location_home)

prog = "ionz_main"
compile_prog(location_regio_yuga,prog,location_home)





from ipywidgets import interact, interactive, fixed, interact_manual
import ipywidgets as widgets


seed = widgets.BoundedFloatText(
    value=-100012,
    min=-1000000,
    max=1000000,
    description='seed:',
    disabled=False
)

Nbin = widgets.BoundedFloatText(
    value=10,
    description='NBin:',
    disabled=False
)

hh = widgets.BoundedFloatText(
    value=0.6704,
    description='hh:',
    disabled=False
)

omega_m = widgets.BoundedFloatText(
    value=0.3183,
    description='omega_m:',
    disabled=False
)

omega_l = widgets.BoundedFloatText(
    value=0.6817,
    description='omega_l:',
    disabled=False
)

spectral_index = widgets.BoundedFloatText(
    value= 0.9619 ,
    description='spectral_index:',
    disabled=False
)

omega_baryon = widgets.BoundedFloatText(
    value=0.04902,
    description='omega_baryon:',
    disabled=False
)

sigma_8 = widgets.BoundedFloatText(
    value=0.8347,
    description='sigma_8:',
    disabled=False
)

box=widgets.Select(
    options=[16, 32, 64, 128, 256, 512,1024,2048,4096],
    value=16,
    # rows=10,
    description='N1 N2 N3:',
    disabled=False
)
#box=widgets.Combobox(options=[16, 32, 64, 128, 256, 512,1024,2048,4096], value="N1N2N3 box dimension")

fraction_fill = widgets.BoundedFloatText(
    value=2,
    min=0,
    max=1000,
    description='fraction_fill:',
    disabled=False
)

LL= widgets.BoundedFloatText(
    value=0.07,
    description='LL:',
    disabled=False)

a_initial = widgets.BoundedFloatText(
    value=0.008,
    description='a_initial:',
    disabled=False)	

delta_a=widgets.BoundedFloatText(
    value=0.004,
    description='delta_a:',
    disabled=False)

output_flag=0
pk_flag=1




ui = widgets.HBox([seed,  Nbin])
ui2 = widgets.HBox([hh,omega_m,omega_l,spectral_index])
ui3 = widgets.HBox([omega_baryon,sigma_8])
ui4 = widgets.HBox([fraction_fill,LL])
ui5 = widgets.HBox([a_initial,delta_a])




display(ui)
display(ui2)
display(ui3)
display(box)
display(ui4)
display(ui5)


redshift_values = [i for i in range(20,6,-1)]
Len_redshift = len(redshift_values)
redshift_values_str = ' '.join(str(x) for x in redshift_values)


Len_redshift=1
redshift_values=[20]
redshift_values_str = ' '.join(str(x) for x in redshift_values)


lines = f"""{int(seed.value)} {int(Nbin.value)}
{hh.value} {omega_m.value} {omega_l.value} {spectral_index.value}
{omega_baryon.value} {sigma_8.value}
{box.value} {box.value} {box.value} {int(fraction_fill.value)} {LL.value}
{output_flag} {pk_flag}
{a_initial.value} {delta_a.value}
{Len_redshift}
{redshift_values_str}"""



def write_val(n1n2n3):
    lines = f"""{int(seed.value)} {int(Nbin.value)}
{hh.value} {omega_m.value} {omega_l.value} {spectral_index.value}
{omega_baryon.value} {sigma_8.value}
{n1n2n3} {n1n2n3} {n1n2n3} {pow(n1n2n3,3)} {LL.value}
{output_flag} {pk_flag}
{a_initial.value} {delta_a.value}
{Len_redshift}
{redshift_values_str}"""

    os.chdir(os.path.join(location_home,location_nbody))
    with open('input.nbody_comp', 'w') as file:
        # Using the writelines function  
        file.writelines(lines)
    print(lines)




write_val(20)


n_bodyTime=[]
fof_Time=[]
rionTime=[]

n_size=[]
move_time=[]

totaltime = []


import time

start = time.time()
# your code...
end = time.time()
print(end - start) 







for i in range(3,11):
    time_m=0
    write_val(pow(2,i))
    totaltime_s=time.time()
    start_n = time.time()
    prog = "./nbody_comp"
    run_prog(location_nbody,prog,location_home)
    end_n = time.time()

    time_m_start=time.time()
    !bash movefilesN-F
    time_m_end=time.time()
    time_m = time_m_end-time_m_start

    n_bodyTime.append(end_n-start_n)


    
    start_f = time.time()
    prog = "./fof_main"
    run_prog(location_fof,prog,location_home)
    end_f = time.time()
    
    time_m_start=time.time()
    !bash movefilesF-R    
    time_m_end=time.time()
    
    time_m = time_m+time_m_end-time_m_start
    fof_Time.append(end_f-start_f)

    start_i = time.time()
    prog = "./ionz_main"
    run_prog(location_regio_yuga,prog,location_home)
    end_i = time.time()
    rionTime.append(end_i-start_i)
    
    time_m_start=time.time()
    !bash backupOutput
    time_m_end=time.time()
    
    time_m = time_m+time_m_end-time_m_start

    move_time.append(time_m)
    totaltime_e=time.time()
    totaltime.append(totaltime_e-totaltime_s)
    print(i,totaltime_e)



!free -m | grep Mem | awk '{print $3}'



os.chdir(os.path.join(location_home,location_nbody))
with open('input.nbody_comp', 'w') as file:  
        # Using the writelines function  
        file.writelines(lines)  


with open('input.nbody_comp', 'r') as file:  
        # Using the writelines function  
        lines = file.readlines()
        print(lines)





%%time
prog = "./nbody_comp"
run_prog(location_nbody,prog,location_home)


%%time
!bash movefilesN-F


%%time
prog = "./fof_main"
run_prog(location_fof,prog,location_home)


%%time
!bash movefilesF-R


%%time
prog = "./ionz_main"
run_prog(location_regio_yuga,prog,location_home)


!bash backupOutput


print(n_bodyTime)


print(fof_Time,
rionTime,

n_size,
move_time,

totaltime)


plt.plot(n_bodyTime[:-1],rionTime)


import matplotlib.pyplot as plt


plt.
