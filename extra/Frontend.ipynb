{
 "cells": [
  {
   "cell_type": "code",
   "execution_count": 18,
   "id": "75382fb9-54df-4ff8-9b31-e15edb2553b0",
   "metadata": {},
   "outputs": [
    {
     "name": "stdout",
     "output_type": "stream",
     "text": [
      "/home/ashwin/HPC/FrontEnd_cosmo/FoF-Halo-finder\n"
     ]
    }
   ],
   "source": [
    "import subprocess\n",
    "import os\n",
    "print(os.getcwd())\n"
   ]
  },
  {
   "cell_type": "code",
   "execution_count": 19,
   "id": "6864969d-6bde-492a-b8f1-b554370fb3a0",
   "metadata": {},
   "outputs": [
    {
     "name": "stdout",
     "output_type": "stream",
     "text": [
      "bash: clean: No such file or directory\n"
     ]
    }
   ],
   "source": [
    "!bash clean"
   ]
  },
  {
   "cell_type": "code",
   "execution_count": 20,
   "id": "393d3a24-6272-496c-8c1f-442f9f047611",
   "metadata": {},
   "outputs": [],
   "source": [
    "location_home=os.getcwd()\n",
    "location_nbody = \"N-body\"\n",
    "location_fof = \"FoF-Halo-finder\"\n",
    "location_regio_yuga = \"ReionYuga\""
   ]
  },
  {
   "cell_type": "code",
   "execution_count": 21,
   "id": "d0eb224b-cc04-4cc1-8048-8da500f7f2f0",
   "metadata": {},
   "outputs": [],
   "source": [
    "    \n",
    "def compile_prog(location,compile_command,location_home):\n",
    "# Compile the C++ program \n",
    "        os.chdir(os.path.join(location_home,location))\n",
    "        print(os.getcwd())\n",
    "\n",
    "        compile_command = \"make\"+\" \"+compile_command\n",
    "        os.system(compile_command)\n",
    "        '''\n",
    "        #compile_process = subprocess.Popen([location, \"make\",compile_command])\n",
    "        #compile_process = subprocess.run(compile_command, stdout=subprocess.PIPE, stderr=subprocess.PIPE)\n",
    "         \n",
    "        # Check if the compilation was successful \n",
    "        if compile_process.returncode == 0:\n",
    "            print(\"Compilation successful.\") \n",
    "    \n",
    "        else: \n",
    "            # Print the compilation error messages \n",
    "            print(\"Compilation failed.\") \n",
    "            print(compile_process.stderr.decode())\n",
    "        '''\n",
    "        os.chdir(location_home)\n",
    "\n",
    "def run_prog(location,run_command,location_home):\n",
    "            # Run the compiled program \n",
    "        os.chdir(os.path.join(location_home,location))\n",
    "\n",
    "        run_process = subprocess.run(run_command, stdout=subprocess.PIPE, stderr=subprocess.PIPE) \n",
    "         \n",
    "        # Get the output and error messages from the program \n",
    "        output = run_process.stdout.decode() \n",
    "        error = run_process.stderr.decode() \n",
    "         \n",
    "        # Print the output and error messages \n",
    "        print(\"Output:\") \n",
    "        print(output) \n",
    "         \n",
    "        print(\"Error (if any):\") \n",
    "        print(error) \n",
    "        os.chdir(location_home)\n"
   ]
  },
  {
   "cell_type": "code",
   "execution_count": 22,
   "id": "78ab54aa-f46e-40c2-8a99-c7fff3b4cb29",
   "metadata": {
    "scrolled": true
   },
   "outputs": [
    {
     "ename": "FileNotFoundError",
     "evalue": "[Errno 2] No such file or directory: '/home/ashwin/HPC/FrontEnd_cosmo/FoF-Halo-finder/N-body'",
     "output_type": "error",
     "traceback": [
      "\u001b[0;31m---------------------------------------------------------------------------\u001b[0m",
      "\u001b[0;31mFileNotFoundError\u001b[0m                         Traceback (most recent call last)",
      "Cell \u001b[0;32mIn[22], line 2\u001b[0m\n\u001b[1;32m      1\u001b[0m prog \u001b[38;5;241m=\u001b[39m \u001b[38;5;124m\"\u001b[39m\u001b[38;5;124mnbody_comp\u001b[39m\u001b[38;5;124m\"\u001b[39m\n\u001b[0;32m----> 2\u001b[0m compile_prog(location_nbody,prog,location_home)\n\u001b[1;32m      4\u001b[0m prog \u001b[38;5;241m=\u001b[39m \u001b[38;5;124m\"\u001b[39m\u001b[38;5;124mfof_main\u001b[39m\u001b[38;5;124m\"\u001b[39m\n\u001b[1;32m      5\u001b[0m compile_prog(location_fof,prog,location_home)\n",
      "Cell \u001b[0;32mIn[21], line 3\u001b[0m, in \u001b[0;36mcompile_prog\u001b[0;34m(location, compile_command, location_home)\u001b[0m\n\u001b[1;32m      1\u001b[0m \u001b[38;5;28;01mdef\u001b[39;00m \u001b[38;5;21mcompile_prog\u001b[39m(location,compile_command,location_home):\n\u001b[1;32m      2\u001b[0m \u001b[38;5;66;03m# Compile the C++ program \u001b[39;00m\n\u001b[0;32m----> 3\u001b[0m         os\u001b[38;5;241m.\u001b[39mchdir(os\u001b[38;5;241m.\u001b[39mpath\u001b[38;5;241m.\u001b[39mjoin(location_home,location))\n\u001b[1;32m      4\u001b[0m         \u001b[38;5;28mprint\u001b[39m(os\u001b[38;5;241m.\u001b[39mgetcwd())\n\u001b[1;32m      6\u001b[0m         compile_command \u001b[38;5;241m=\u001b[39m \u001b[38;5;124m\"\u001b[39m\u001b[38;5;124mmake\u001b[39m\u001b[38;5;124m\"\u001b[39m\u001b[38;5;241m+\u001b[39m\u001b[38;5;124m\"\u001b[39m\u001b[38;5;124m \u001b[39m\u001b[38;5;124m\"\u001b[39m\u001b[38;5;241m+\u001b[39mcompile_command\n",
      "\u001b[0;31mFileNotFoundError\u001b[0m: [Errno 2] No such file or directory: '/home/ashwin/HPC/FrontEnd_cosmo/FoF-Halo-finder/N-body'"
     ]
    }
   ],
   "source": [
    "prog = \"nbody_comp\"\n",
    "compile_prog(location_nbody,prog,location_home)\n",
    "\n",
    "prog = \"fof_main\"\n",
    "compile_prog(location_fof,prog,location_home)\n",
    "\n",
    "prog = \"ionz_main\"\n",
    "compile_prog(location_regio_yuga,prog,location_home)"
   ]
  },
  {
   "cell_type": "markdown",
   "id": "70d203f4-bf91-4c68-83df-9141d8578b66",
   "metadata": {},
   "source": [
    "seed  Nbin\n",
    "hh    omega_m\tomega_l\t\tspectral_index\n",
    "omega_baryon\tsigma_8\t\n",
    "N1 N2 N3 fraction_fill LL\n",
    "output_flag\tpk_flag\n",
    "a_initial \tdelta_a\n",
    "Noutput (# of redshifts where outputs are required)\n",
    "List of the redshift values\n",
    "\n",
    "-100012  10\n",
    "0.6704  0.3183  0.6817  0.9619 \n",
    "0.04902  0.8347\n",
    "16  16  16  512  0.07\n",
    "1  1\n",
    "0.008  0.004\n",
    "1\n",
    "1\n",
    "\n",
    "6\n",
    "13.0 11.0 10.0 9.0 8.0 7.0"
   ]
  },
  {
   "cell_type": "code",
   "execution_count": 6,
   "id": "76eabb84-3897-4408-a786-8250a6d15aec",
   "metadata": {},
   "outputs": [],
   "source": [
    "from ipywidgets import interact, interactive, fixed, interact_manual\n",
    "import ipywidgets as widgets"
   ]
  },
  {
   "cell_type": "code",
   "execution_count": 7,
   "id": "baa74244-72bc-43bc-81d6-a9363194fe96",
   "metadata": {},
   "outputs": [],
   "source": [
    "seed = widgets.BoundedFloatText(\n",
    "    value=-100012,\n",
    "    min=-1000000,\n",
    "    max=1000000,\n",
    "    description='seed:',\n",
    "    disabled=False\n",
    ")\n",
    "\n",
    "Nbin = widgets.BoundedFloatText(\n",
    "    value=10,\n",
    "    description='NBin:',\n",
    "    disabled=False\n",
    ")\n",
    "\n",
    "hh = widgets.BoundedFloatText(\n",
    "    value=0.6704,\n",
    "    description='hh:',\n",
    "    disabled=False\n",
    ")\n",
    "\n",
    "omega_m = widgets.BoundedFloatText(\n",
    "    value=0.3183,\n",
    "    description='omega_m:',\n",
    "    disabled=False\n",
    ")\n",
    "\n",
    "omega_l = widgets.BoundedFloatText(\n",
    "    value=0.6817,\n",
    "    description='omega_l:',\n",
    "    disabled=False\n",
    ")\n",
    "\n",
    "spectral_index = widgets.BoundedFloatText(\n",
    "    value= 0.9619 ,\n",
    "    description='spectral_index:',\n",
    "    disabled=False\n",
    ")\n",
    "\n",
    "omega_baryon = widgets.BoundedFloatText(\n",
    "    value=0.04902,\n",
    "    description='omega_baryon:',\n",
    "    disabled=False\n",
    ")\n",
    "\n",
    "sigma_8 = widgets.BoundedFloatText(\n",
    "    value=0.8347,\n",
    "    description='sigma_8:',\n",
    "    disabled=False\n",
    ")\n",
    "\n",
    "box=widgets.Select(\n",
    "    options=[16, 32, 64, 128, 256, 512,1024,2048,4096],\n",
    "    value=16,\n",
    "    # rows=10,\n",
    "    description='N1 N2 N3:',\n",
    "    disabled=False\n",
    ")\n",
    "#box=widgets.Combobox(options=[16, 32, 64, 128, 256, 512,1024,2048,4096], value=\"N1N2N3 box dimension\")\n",
    "\n",
    "fraction_fill = widgets.BoundedFloatText(\n",
    "    value=2,\n",
    "    min=0,\n",
    "    max=1000,\n",
    "    description='fraction_fill:',\n",
    "    disabled=False\n",
    ")\n",
    "\n",
    "LL= widgets.BoundedFloatText(\n",
    "    value=0.07,\n",
    "    description='LL:',\n",
    "    disabled=False)\n",
    "\n",
    "a_initial = widgets.BoundedFloatText(\n",
    "    value=0.008,\n",
    "    description='a_initial:',\n",
    "    disabled=False)\t\n",
    "\n",
    "delta_a=widgets.BoundedFloatText(\n",
    "    value=0.004,\n",
    "    description='delta_a:',\n",
    "    disabled=False)\n",
    "\n",
    "output_flag=0\n",
    "pk_flag=1\n",
    "\n"
   ]
  },
  {
   "cell_type": "code",
   "execution_count": 8,
   "id": "9d515bed-46ba-4447-89b4-b3a30bab6c06",
   "metadata": {},
   "outputs": [],
   "source": [
    "ui = widgets.HBox([seed,  Nbin])\n",
    "ui2 = widgets.HBox([hh,omega_m,omega_l,spectral_index])\n",
    "ui3 = widgets.HBox([omega_baryon,sigma_8])\n",
    "ui4 = widgets.HBox([fraction_fill,LL])\n",
    "ui5 = widgets.HBox([a_initial,delta_a])\n",
    "\n"
   ]
  },
  {
   "cell_type": "code",
   "execution_count": 9,
   "id": "b422ebc5-503d-4217-bbec-27eebeaa36d9",
   "metadata": {},
   "outputs": [
    {
     "data": {
      "application/vnd.jupyter.widget-view+json": {
       "model_id": "e24d5256be3942469cdbf08222b8468c",
       "version_major": 2,
       "version_minor": 0
      },
      "text/plain": [
       "HBox(children=(BoundedFloatText(value=-100012.0, description='seed:', max=1000000.0, min=-1000000.0), BoundedF…"
      ]
     },
     "metadata": {},
     "output_type": "display_data"
    },
    {
     "data": {
      "application/vnd.jupyter.widget-view+json": {
       "model_id": "eedc4c207eff4fe49b94c0d814c444f1",
       "version_major": 2,
       "version_minor": 0
      },
      "text/plain": [
       "HBox(children=(BoundedFloatText(value=0.6704, description='hh:'), BoundedFloatText(value=0.3183, description='…"
      ]
     },
     "metadata": {},
     "output_type": "display_data"
    },
    {
     "data": {
      "application/vnd.jupyter.widget-view+json": {
       "model_id": "1b6ff0d1838747299122209bb66109b9",
       "version_major": 2,
       "version_minor": 0
      },
      "text/plain": [
       "HBox(children=(BoundedFloatText(value=0.04902, description='omega_baryon:'), BoundedFloatText(value=0.8347, de…"
      ]
     },
     "metadata": {},
     "output_type": "display_data"
    },
    {
     "data": {
      "application/vnd.jupyter.widget-view+json": {
       "model_id": "40e576d22c9d4d8fbef8a2852e9bd740",
       "version_major": 2,
       "version_minor": 0
      },
      "text/plain": [
       "Select(description='N1 N2 N3:', options=(16, 32, 64, 128, 256, 512, 1024, 2048, 4096), value=16)"
      ]
     },
     "metadata": {},
     "output_type": "display_data"
    },
    {
     "data": {
      "application/vnd.jupyter.widget-view+json": {
       "model_id": "a02ba89f785f45b1a7fe9aed6d45f134",
       "version_major": 2,
       "version_minor": 0
      },
      "text/plain": [
       "HBox(children=(BoundedFloatText(value=2.0, description='fraction_fill:', max=1000.0), BoundedFloatText(value=0…"
      ]
     },
     "metadata": {},
     "output_type": "display_data"
    },
    {
     "data": {
      "application/vnd.jupyter.widget-view+json": {
       "model_id": "49f4806a4397432898e6d5e657e93b8b",
       "version_major": 2,
       "version_minor": 0
      },
      "text/plain": [
       "HBox(children=(BoundedFloatText(value=0.008, description='a_initial:'), BoundedFloatText(value=0.004, descript…"
      ]
     },
     "metadata": {},
     "output_type": "display_data"
    }
   ],
   "source": [
    "display(ui)\n",
    "display(ui2)\n",
    "display(ui3)\n",
    "display(box)\n",
    "display(ui4)\n",
    "display(ui5)"
   ]
  },
  {
   "cell_type": "code",
   "execution_count": 10,
   "id": "4742c260-b672-4d34-ac1f-6753bdc9aa0f",
   "metadata": {},
   "outputs": [],
   "source": [
    "redshift_values = [i for i in range(30,10,-1)]\n",
    "Len_redshift = len(redshift_values)\n",
    "redshift_values_str = ' '.join(str(x) for x in redshift_values)"
   ]
  },
  {
   "cell_type": "code",
   "execution_count": 11,
   "id": "a776c288-8d80-4845-9a1b-01b7aa2f6a73",
   "metadata": {},
   "outputs": [],
   "source": [
    "lines = f\"\"\"{int(seed.value)} {int(Nbin.value)}\n",
    "{hh.value} {omega_m.value} {omega_l.value} {spectral_index.value}\n",
    "{omega_baryon.value} {sigma_8.value}\n",
    "{box.value} {box.value} {box.value} {int(fraction_fill.value)} {LL.value}\n",
    "{output_flag} {pk_flag}\n",
    "{a_initial.value} {delta_a.value}\n",
    "{Len_redshift}\n",
    "{redshift_values_str}\"\"\"\n"
   ]
  },
  {
   "cell_type": "code",
   "execution_count": 12,
   "id": "67acb435-eb94-4b0b-9e9c-48253f1fcdb3",
   "metadata": {},
   "outputs": [
    {
     "name": "stdout",
     "output_type": "stream",
     "text": [
      "-100012 10\n",
      "0.6704 0.3183 0.6817 0.9619\n",
      "0.04902 0.8347\n",
      "16 16 16 2 0.07\n",
      "0 1\n",
      "0.008 0.004\n",
      "20\n",
      "30 29 28 27 26 25 24 23 22 21 20 19 18 17 16 15 14 13 12 11\n"
     ]
    }
   ],
   "source": [
    "print(lines)"
   ]
  },
  {
   "cell_type": "code",
   "execution_count": 13,
   "id": "f9c530de-049b-4874-adda-fac7638340df",
   "metadata": {},
   "outputs": [],
   "source": [
    "os.chdir(os.path.join(location_home,location_nbody))\n",
    "with open('input.nbody_comp', 'w') as file:  \n",
    "        # Using the writelines function  \n",
    "        file.writelines(lines)  "
   ]
  },
  {
   "cell_type": "code",
   "execution_count": 14,
   "id": "493c6e89-699a-428a-ba28-895783f55186",
   "metadata": {},
   "outputs": [
    {
     "name": "stdout",
     "output_type": "stream",
     "text": [
      "['-100012 10\\n', '0.6704 0.3183 0.6817 0.9619\\n', '0.04902 0.8347\\n', '16 16 16 2 0.07\\n', '0 1\\n', '0.008 0.004\\n', '20\\n', '30 29 28 27 26 25 24 23 22 21 20 19 18 17 16 15 14 13 12 11']\n"
     ]
    }
   ],
   "source": [
    "with open('input.nbody_comp', 'r') as file:  \n",
    "        # Using the writelines function  \n",
    "        lines = file.readlines()\n",
    "        print(lines)"
   ]
  },
  {
   "cell_type": "code",
   "execution_count": null,
   "id": "7d603eb2-0893-4c45-b4e1-1d6ba0e61085",
   "metadata": {},
   "outputs": [],
   "source": []
  },
  {
   "cell_type": "code",
   "execution_count": 15,
   "id": "3296aa24-6007-4152-a671-36bc1fd16ac9",
   "metadata": {},
   "outputs": [
    {
     "name": "stdout",
     "output_type": "stream",
     "text": [
      "Output:\n",
      "DM_m= 1.089507e-02 10^10 M_sun \t L_box=1.120000e+00 Mpc\n",
      "No of threads = 8\n",
      "norml=2.441406e-04\tCC=1.423083e-03\trho_b_inv=8.000000e+00\n",
      "ok delta_fill time = 3.700440e-04\n",
      "ok cal_pow time = 4.240300e-04\n",
      "ok Zel_move time = 2.366495e-02\n",
      "ok cic = 3.387400e-05\n",
      "delta_aap=2.580620e-04\n",
      "(z=30.0) time for  Nbody loop = 9.989620e-04\ttime for write output = 5.768400e-05\n",
      "delta_aap=7.527322e-05\n",
      "(z=29.0) time for  Nbody loop = 3.560400e-04\ttime for write output = 5.380500e-05\n",
      "delta_aap=1.494251e-04\n",
      "(z=28.0) time for  Nbody loop = 3.527580e-04\ttime for write output = 5.352500e-05\n",
      "delta_aap=2.315305e-04\n",
      "(z=27.0) time for  Nbody loop = 2.274580e-03\ttime for write output = 6.013100e-05\n",
      "delta_aap=3.227517e-04\n",
      "(z=26.0) time for  Nbody loop = 4.951528e-03\ttime for write output = 5.453600e-05\n",
      "delta_aap=4.245043e-04\n",
      "(z=25.0) time for  Nbody loop = 3.558900e-04\ttime for write output = 1.409410e-04\n",
      "delta_aap=5.384609e-04\n",
      "(z=24.0) time for  Nbody loop = 4.569870e-04\ttime for write output = 5.422500e-05\n",
      "delta_aap=6.666705e-04\n",
      "(z=23.0) time for  Nbody loop = 3.515020e-04\ttime for write output = 5.372900e-05\n",
      "delta_aap=8.115955e-04\n",
      "(z=22.0) time for  Nbody loop = 1.006510e-03\ttime for write output = 5.375600e-05\n",
      "delta_aap=9.762868e-04\n",
      "(z=21.0) time for  Nbody loop = 3.645260e-04\ttime for write output = 5.501600e-05\n",
      "delta_aap=1.645051e-04\n",
      "(z=20.0) time for  Nbody loop = 4.789290e-04\ttime for write output = 5.888200e-05\n",
      "delta_aap=3.809556e-04\n",
      "(z=19.0) time for  Nbody loop = 4.645780e-04\ttime for write output = 5.471400e-05\n",
      "delta_aap=6.315820e-04\n",
      "(z=18.0) time for  Nbody loop = 4.638310e-04\ttime for write output = 5.469100e-05\n",
      "delta_aap=9.239800e-04\n",
      "(z=17.0) time for  Nbody loop = 3.048284e-03\ttime for write output = 5.426600e-05\n",
      "delta_aap=2.679788e-04\n",
      "(z=16.0) time for  Nbody loop = 7.632520e-04\ttime for write output = 5.535900e-05\n",
      "delta_aap=6.764755e-04\n",
      "(z=15.0) time for  Nbody loop = 5.937850e-04\ttime for write output = 5.399800e-05\n",
      "delta_aap=1.666620e-04\n",
      "(z=14.0) time for  Nbody loop = 7.169300e-04\ttime for write output = 5.483800e-05\n",
      "delta_aap=7.618964e-04\n",
      "(z=13.0) time for  Nbody loop = 7.006780e-04\ttime for write output = 5.418400e-05\n",
      "delta_aap=4.944950e-04\n",
      "(z=12.0) time for  Nbody loop = 8.368890e-04\ttime for write output = 5.530500e-05\n",
      "delta_aap=4.102439e-04\n",
      "(z=11.0) time for  Nbody loop = 9.469380e-04\ttime for write output = 5.597500e-05\n",
      "number of step = 28\n",
      "done. Total time taken = 0hr 0min 0sec\n",
      "\n",
      "Error (if any):\n",
      "\n",
      "CPU times: user 3.12 ms, sys: 298 µs, total: 3.42 ms\n",
      "Wall time: 88.3 ms\n"
     ]
    }
   ],
   "source": [
    "%%time\n",
    "prog = \"./nbody_comp\"\n",
    "run_prog(location_nbody,prog,location_home)"
   ]
  },
  {
   "cell_type": "code",
   "execution_count": 16,
   "id": "c66b96d5-efe5-433f-8722-b9c25b8a22c3",
   "metadata": {},
   "outputs": [
    {
     "name": "stdout",
     "output_type": "stream",
     "text": [
      "Searching for files with the term: output.nbody\n",
      "Moved output.nbody_11.000 to /home/ashwin/HPC/FrontEnd_cosmo/FoF-Halo-finder\n",
      "Moved output.nbody_12.000 to /home/ashwin/HPC/FrontEnd_cosmo/FoF-Halo-finder\n",
      "Moved output.nbody_13.000 to /home/ashwin/HPC/FrontEnd_cosmo/FoF-Halo-finder\n",
      "Moved output.nbody_14.000 to /home/ashwin/HPC/FrontEnd_cosmo/FoF-Halo-finder\n",
      "Moved output.nbody_15.000 to /home/ashwin/HPC/FrontEnd_cosmo/FoF-Halo-finder\n",
      "Moved output.nbody_16.000 to /home/ashwin/HPC/FrontEnd_cosmo/FoF-Halo-finder\n",
      "Moved output.nbody_17.000 to /home/ashwin/HPC/FrontEnd_cosmo/FoF-Halo-finder\n",
      "Moved output.nbody_18.000 to /home/ashwin/HPC/FrontEnd_cosmo/FoF-Halo-finder\n",
      "Moved output.nbody_19.000 to /home/ashwin/HPC/FrontEnd_cosmo/FoF-Halo-finder\n",
      "Moved output.nbody_20.000 to /home/ashwin/HPC/FrontEnd_cosmo/FoF-Halo-finder\n",
      "Moved output.nbody_21.000 to /home/ashwin/HPC/FrontEnd_cosmo/FoF-Halo-finder\n",
      "Moved output.nbody_22.000 to /home/ashwin/HPC/FrontEnd_cosmo/FoF-Halo-finder\n",
      "Moved output.nbody_23.000 to /home/ashwin/HPC/FrontEnd_cosmo/FoF-Halo-finder\n",
      "Moved output.nbody_24.000 to /home/ashwin/HPC/FrontEnd_cosmo/FoF-Halo-finder\n",
      "Moved output.nbody_25.000 to /home/ashwin/HPC/FrontEnd_cosmo/FoF-Halo-finder\n",
      "Moved output.nbody_26.000 to /home/ashwin/HPC/FrontEnd_cosmo/FoF-Halo-finder\n",
      "Moved output.nbody_27.000 to /home/ashwin/HPC/FrontEnd_cosmo/FoF-Halo-finder\n",
      "Moved output.nbody_28.000 to /home/ashwin/HPC/FrontEnd_cosmo/FoF-Halo-finder\n",
      "Moved output.nbody_29.000 to /home/ashwin/HPC/FrontEnd_cosmo/FoF-Halo-finder\n",
      "Moved output.nbody_30.000 to /home/ashwin/HPC/FrontEnd_cosmo/FoF-Halo-finder\n",
      "Searching for files with the term: input.nbody\n",
      "Moved input.nbody_comp to /home/ashwin/HPC/FrontEnd_cosmo/FoF-Halo-finder\n",
      "Search and move process complete.\n",
      "CPU times: user 1.41 ms, sys: 9.71 ms, total: 11.1 ms\n",
      "Wall time: 237 ms\n"
     ]
    }
   ],
   "source": [
    "%%time\n",
    "!bash movefilesN-F"
   ]
  },
  {
   "cell_type": "code",
   "execution_count": 17,
   "id": "10934b42-b223-4fc4-8f17-06ed876048b0",
   "metadata": {},
   "outputs": [
    {
     "ename": "FileNotFoundError",
     "evalue": "[Errno 2] No such file or directory: './fof_main'",
     "output_type": "error",
     "traceback": [
      "\u001b[0;31m---------------------------------------------------------------------------\u001b[0m",
      "\u001b[0;31mFileNotFoundError\u001b[0m                         Traceback (most recent call last)",
      "File \u001b[0;32m<timed exec>:2\u001b[0m\n",
      "Cell \u001b[0;32mIn[4], line 27\u001b[0m, in \u001b[0;36mrun_prog\u001b[0;34m(location, run_command, location_home)\u001b[0m\n\u001b[1;32m     23\u001b[0m \u001b[38;5;28;01mdef\u001b[39;00m \u001b[38;5;21mrun_prog\u001b[39m(location,run_command,location_home):\n\u001b[1;32m     24\u001b[0m             \u001b[38;5;66;03m# Run the compiled program \u001b[39;00m\n\u001b[1;32m     25\u001b[0m         os\u001b[38;5;241m.\u001b[39mchdir(os\u001b[38;5;241m.\u001b[39mpath\u001b[38;5;241m.\u001b[39mjoin(location_home,location))\n\u001b[0;32m---> 27\u001b[0m         run_process \u001b[38;5;241m=\u001b[39m subprocess\u001b[38;5;241m.\u001b[39mrun(run_command, stdout\u001b[38;5;241m=\u001b[39msubprocess\u001b[38;5;241m.\u001b[39mPIPE, stderr\u001b[38;5;241m=\u001b[39msubprocess\u001b[38;5;241m.\u001b[39mPIPE) \n\u001b[1;32m     29\u001b[0m         \u001b[38;5;66;03m# Get the output and error messages from the program \u001b[39;00m\n\u001b[1;32m     30\u001b[0m         output \u001b[38;5;241m=\u001b[39m run_process\u001b[38;5;241m.\u001b[39mstdout\u001b[38;5;241m.\u001b[39mdecode() \n",
      "File \u001b[0;32m/opt/anaconda/lib/python3.11/subprocess.py:548\u001b[0m, in \u001b[0;36mrun\u001b[0;34m(input, capture_output, timeout, check, *popenargs, **kwargs)\u001b[0m\n\u001b[1;32m    545\u001b[0m     kwargs[\u001b[38;5;124m'\u001b[39m\u001b[38;5;124mstdout\u001b[39m\u001b[38;5;124m'\u001b[39m] \u001b[38;5;241m=\u001b[39m PIPE\n\u001b[1;32m    546\u001b[0m     kwargs[\u001b[38;5;124m'\u001b[39m\u001b[38;5;124mstderr\u001b[39m\u001b[38;5;124m'\u001b[39m] \u001b[38;5;241m=\u001b[39m PIPE\n\u001b[0;32m--> 548\u001b[0m \u001b[38;5;28;01mwith\u001b[39;00m Popen(\u001b[38;5;241m*\u001b[39mpopenargs, \u001b[38;5;241m*\u001b[39m\u001b[38;5;241m*\u001b[39mkwargs) \u001b[38;5;28;01mas\u001b[39;00m process:\n\u001b[1;32m    549\u001b[0m     \u001b[38;5;28;01mtry\u001b[39;00m:\n\u001b[1;32m    550\u001b[0m         stdout, stderr \u001b[38;5;241m=\u001b[39m process\u001b[38;5;241m.\u001b[39mcommunicate(\u001b[38;5;28minput\u001b[39m, timeout\u001b[38;5;241m=\u001b[39mtimeout)\n",
      "File \u001b[0;32m/opt/anaconda/lib/python3.11/subprocess.py:1026\u001b[0m, in \u001b[0;36mPopen.__init__\u001b[0;34m(self, args, bufsize, executable, stdin, stdout, stderr, preexec_fn, close_fds, shell, cwd, env, universal_newlines, startupinfo, creationflags, restore_signals, start_new_session, pass_fds, user, group, extra_groups, encoding, errors, text, umask, pipesize, process_group)\u001b[0m\n\u001b[1;32m   1022\u001b[0m         \u001b[38;5;28;01mif\u001b[39;00m \u001b[38;5;28mself\u001b[39m\u001b[38;5;241m.\u001b[39mtext_mode:\n\u001b[1;32m   1023\u001b[0m             \u001b[38;5;28mself\u001b[39m\u001b[38;5;241m.\u001b[39mstderr \u001b[38;5;241m=\u001b[39m io\u001b[38;5;241m.\u001b[39mTextIOWrapper(\u001b[38;5;28mself\u001b[39m\u001b[38;5;241m.\u001b[39mstderr,\n\u001b[1;32m   1024\u001b[0m                     encoding\u001b[38;5;241m=\u001b[39mencoding, errors\u001b[38;5;241m=\u001b[39merrors)\n\u001b[0;32m-> 1026\u001b[0m     \u001b[38;5;28mself\u001b[39m\u001b[38;5;241m.\u001b[39m_execute_child(args, executable, preexec_fn, close_fds,\n\u001b[1;32m   1027\u001b[0m                         pass_fds, cwd, env,\n\u001b[1;32m   1028\u001b[0m                         startupinfo, creationflags, shell,\n\u001b[1;32m   1029\u001b[0m                         p2cread, p2cwrite,\n\u001b[1;32m   1030\u001b[0m                         c2pread, c2pwrite,\n\u001b[1;32m   1031\u001b[0m                         errread, errwrite,\n\u001b[1;32m   1032\u001b[0m                         restore_signals,\n\u001b[1;32m   1033\u001b[0m                         gid, gids, uid, umask,\n\u001b[1;32m   1034\u001b[0m                         start_new_session, process_group)\n\u001b[1;32m   1035\u001b[0m \u001b[38;5;28;01mexcept\u001b[39;00m:\n\u001b[1;32m   1036\u001b[0m     \u001b[38;5;66;03m# Cleanup if the child failed starting.\u001b[39;00m\n\u001b[1;32m   1037\u001b[0m     \u001b[38;5;28;01mfor\u001b[39;00m f \u001b[38;5;129;01min\u001b[39;00m \u001b[38;5;28mfilter\u001b[39m(\u001b[38;5;28;01mNone\u001b[39;00m, (\u001b[38;5;28mself\u001b[39m\u001b[38;5;241m.\u001b[39mstdin, \u001b[38;5;28mself\u001b[39m\u001b[38;5;241m.\u001b[39mstdout, \u001b[38;5;28mself\u001b[39m\u001b[38;5;241m.\u001b[39mstderr)):\n",
      "File \u001b[0;32m/opt/anaconda/lib/python3.11/subprocess.py:1950\u001b[0m, in \u001b[0;36mPopen._execute_child\u001b[0;34m(self, args, executable, preexec_fn, close_fds, pass_fds, cwd, env, startupinfo, creationflags, shell, p2cread, p2cwrite, c2pread, c2pwrite, errread, errwrite, restore_signals, gid, gids, uid, umask, start_new_session, process_group)\u001b[0m\n\u001b[1;32m   1948\u001b[0m     \u001b[38;5;28;01mif\u001b[39;00m errno_num \u001b[38;5;241m!=\u001b[39m \u001b[38;5;241m0\u001b[39m:\n\u001b[1;32m   1949\u001b[0m         err_msg \u001b[38;5;241m=\u001b[39m os\u001b[38;5;241m.\u001b[39mstrerror(errno_num)\n\u001b[0;32m-> 1950\u001b[0m     \u001b[38;5;28;01mraise\u001b[39;00m child_exception_type(errno_num, err_msg, err_filename)\n\u001b[1;32m   1951\u001b[0m \u001b[38;5;28;01mraise\u001b[39;00m child_exception_type(err_msg)\n",
      "\u001b[0;31mFileNotFoundError\u001b[0m: [Errno 2] No such file or directory: './fof_main'"
     ]
    }
   ],
   "source": [
    "%%time\n",
    "prog = \"./fof_main\"\n",
    "run_prog(location_fof,prog,location_home)"
   ]
  },
  {
   "cell_type": "code",
   "execution_count": 21,
   "id": "1b5dfa38-7061-4595-b236-530e3f201e74",
   "metadata": {},
   "outputs": [
    {
     "name": "stdout",
     "output_type": "stream",
     "text": [
      "Searching for files with the term: output.nbody\n",
      "Moved output.nbody_11.000 to /home/ashwin/GIT/FrontEnd_cosmo/ReionYuga\n",
      "Moved output.nbody_12.000 to /home/ashwin/GIT/FrontEnd_cosmo/ReionYuga\n",
      "Moved output.nbody_13.000 to /home/ashwin/GIT/FrontEnd_cosmo/ReionYuga\n",
      "Moved output.nbody_14.000 to /home/ashwin/GIT/FrontEnd_cosmo/ReionYuga\n",
      "Moved output.nbody_15.000 to /home/ashwin/GIT/FrontEnd_cosmo/ReionYuga\n",
      "Moved output.nbody_16.000 to /home/ashwin/GIT/FrontEnd_cosmo/ReionYuga\n",
      "Moved output.nbody_17.000 to /home/ashwin/GIT/FrontEnd_cosmo/ReionYuga\n",
      "Moved output.nbody_18.000 to /home/ashwin/GIT/FrontEnd_cosmo/ReionYuga\n",
      "Moved output.nbody_19.000 to /home/ashwin/GIT/FrontEnd_cosmo/ReionYuga\n",
      "Moved output.nbody_20.000 to /home/ashwin/GIT/FrontEnd_cosmo/ReionYuga\n",
      "Moved output.nbody_21.000 to /home/ashwin/GIT/FrontEnd_cosmo/ReionYuga\n",
      "Moved output.nbody_22.000 to /home/ashwin/GIT/FrontEnd_cosmo/ReionYuga\n",
      "Moved output.nbody_23.000 to /home/ashwin/GIT/FrontEnd_cosmo/ReionYuga\n",
      "Moved output.nbody_24.000 to /home/ashwin/GIT/FrontEnd_cosmo/ReionYuga\n",
      "Moved output.nbody_25.000 to /home/ashwin/GIT/FrontEnd_cosmo/ReionYuga\n",
      "Moved output.nbody_26.000 to /home/ashwin/GIT/FrontEnd_cosmo/ReionYuga\n",
      "Moved output.nbody_27.000 to /home/ashwin/GIT/FrontEnd_cosmo/ReionYuga\n",
      "Moved output.nbody_28.000 to /home/ashwin/GIT/FrontEnd_cosmo/ReionYuga\n",
      "Moved output.nbody_29.000 to /home/ashwin/GIT/FrontEnd_cosmo/ReionYuga\n",
      "Moved output.nbody_30.000 to /home/ashwin/GIT/FrontEnd_cosmo/ReionYuga\n",
      "Searching for files with the term: input.nbody\n",
      "Moved input.nbody_comp to /home/ashwin/GIT/FrontEnd_cosmo/ReionYuga\n",
      "Searching for files with the term: halo_catalogue\n",
      "Moved halo_catalogue_11.000 to /home/ashwin/GIT/FrontEnd_cosmo/ReionYuga\n",
      "Moved halo_catalogue_12.000 to /home/ashwin/GIT/FrontEnd_cosmo/ReionYuga\n",
      "Moved halo_catalogue_13.000 to /home/ashwin/GIT/FrontEnd_cosmo/ReionYuga\n",
      "Moved halo_catalogue_14.000 to /home/ashwin/GIT/FrontEnd_cosmo/ReionYuga\n",
      "Moved halo_catalogue_15.000 to /home/ashwin/GIT/FrontEnd_cosmo/ReionYuga\n",
      "Moved halo_catalogue_16.000 to /home/ashwin/GIT/FrontEnd_cosmo/ReionYuga\n",
      "Moved halo_catalogue_17.000 to /home/ashwin/GIT/FrontEnd_cosmo/ReionYuga\n",
      "Moved halo_catalogue_18.000 to /home/ashwin/GIT/FrontEnd_cosmo/ReionYuga\n",
      "Moved halo_catalogue_19.000 to /home/ashwin/GIT/FrontEnd_cosmo/ReionYuga\n",
      "Moved halo_catalogue_20.000 to /home/ashwin/GIT/FrontEnd_cosmo/ReionYuga\n",
      "Moved halo_catalogue_21.000 to /home/ashwin/GIT/FrontEnd_cosmo/ReionYuga\n",
      "Moved halo_catalogue_22.000 to /home/ashwin/GIT/FrontEnd_cosmo/ReionYuga\n",
      "Moved halo_catalogue_23.000 to /home/ashwin/GIT/FrontEnd_cosmo/ReionYuga\n",
      "Moved halo_catalogue_24.000 to /home/ashwin/GIT/FrontEnd_cosmo/ReionYuga\n",
      "Moved halo_catalogue_25.000 to /home/ashwin/GIT/FrontEnd_cosmo/ReionYuga\n",
      "Moved halo_catalogue_26.000 to /home/ashwin/GIT/FrontEnd_cosmo/ReionYuga\n",
      "Moved halo_catalogue_27.000 to /home/ashwin/GIT/FrontEnd_cosmo/ReionYuga\n",
      "Moved halo_catalogue_28.000 to /home/ashwin/GIT/FrontEnd_cosmo/ReionYuga\n",
      "Moved halo_catalogue_29.000 to /home/ashwin/GIT/FrontEnd_cosmo/ReionYuga\n",
      "Moved halo_catalogue_30.000 to /home/ashwin/GIT/FrontEnd_cosmo/ReionYuga\n",
      "Search and move process complete.\n",
      "Directory '/home/ashwin/GIT/FrontEnd_cosmo/ReionYuga/ionz_out' does not exist.\n",
      "CPU times: user 61.1 ms, sys: 32.5 ms, total: 93.6 ms\n",
      "Wall time: 1.01 s\n"
     ]
    }
   ],
   "source": [
    "%%time\n",
    "!bash movefilesF-R"
   ]
  },
  {
   "cell_type": "code",
   "execution_count": 22,
   "id": "4504f270-5c2c-4e79-a3b6-f5e21be25019",
   "metadata": {},
   "outputs": [
    {
     "name": "stdout",
     "output_type": "stream",
     "text": [
      "Output:\n",
      "ok read nbody output = 4.093591e+03\n",
      "ok read halo catalogue = 5.710500e-05\n",
      "No of threads = 8\n",
      "ok cic_vmass= 1.854432e-02\n",
      "ok smoothing = 5.690035e-01\n",
      "vol. avg. x_HI=1.000000e+00, mass avg. x_HI=1.000000e+00\n",
      "mass avg. x_HI=1.000000e+00\n",
      "ok time taken= 2.255218e-02\n",
      "\n",
      "ok read nbody output = 2.705363e-02\n",
      "ok read halo catalogue = 1.737400e-05\n",
      "ok cic_vmass= 6.945975e-03\n",
      "ok smoothing = 6.233464e-01\n",
      "vol. avg. x_HI=1.000000e+00, mass avg. x_HI=1.000000e+00\n",
      "mass avg. x_HI=1.000000e+00\n",
      "ok time taken= 2.287042e-02\n",
      "\n",
      "ok read nbody output = 2.734318e-02\n",
      "ok read halo catalogue = 1.643400e-05\n",
      "ok cic_vmass= 9.740707e-03\n",
      "ok smoothing = 6.414663e-01\n",
      "vol. avg. x_HI=1.000000e+00, mass avg. x_HI=1.000000e+00\n",
      "mass avg. x_HI=1.000000e+00\n",
      "ok time taken= 2.249972e-02\n",
      "\n",
      "ok read nbody output = 2.698219e-02\n",
      "ok read halo catalogue = 1.738900e-05\n",
      "ok cic_vmass= 6.951543e-03\n",
      "ok smoothing = 6.113614e-01\n",
      "vol. avg. x_HI=1.000000e+00, mass avg. x_HI=1.000000e+00\n",
      "mass avg. x_HI=1.000000e+00\n",
      "ok time taken= 2.229230e-02\n",
      "\n",
      "ok read nbody output = 2.677233e-02\n",
      "ok read halo catalogue = 1.778500e-05\n",
      "ok cic_vmass= 6.942145e-03\n",
      "ok smoothing = 6.061263e-01\n",
      "vol. avg. x_HI=1.000000e+00, mass avg. x_HI=1.000000e+00\n",
      "mass avg. x_HI=1.000000e+00\n",
      "ok time taken= 2.308087e-02\n",
      "\n",
      "ok read nbody output = 2.754754e-02\n",
      "ok read halo catalogue = 1.851300e-05\n",
      "ok cic_vmass= 1.309706e-02\n",
      "ok smoothing = 6.099014e-01\n",
      "vol. avg. x_HI=1.000000e+00, mass avg. x_HI=1.000000e+00\n",
      "mass avg. x_HI=1.000000e+00\n",
      "ok time taken= 2.260895e-02\n",
      "\n",
      "ok read nbody output = 2.717934e-02\n",
      "ok read halo catalogue = 1.683100e-05\n",
      "ok cic_vmass= 6.935707e-03\n",
      "ok smoothing = 7.861177e-01\n",
      "vol. avg. x_HI=1.000000e+00, mass avg. x_HI=1.000000e+00\n",
      "mass avg. x_HI=1.000000e+00\n",
      "ok time taken= 2.239256e-02\n",
      "\n",
      "ok read nbody output = 2.686885e-02\n",
      "ok read halo catalogue = 1.947400e-05\n",
      "ok cic_vmass= 6.909816e-03\n",
      "ok smoothing = 5.199371e-01\n",
      "vol. avg. x_HI=1.000000e+00, mass avg. x_HI=1.000000e+00\n",
      "mass avg. x_HI=1.000000e+00\n",
      "ok time taken= 2.253132e-02\n",
      "\n",
      "ok read nbody output = 2.700612e-02\n",
      "ok read halo catalogue = 1.734500e-05\n",
      "ok cic_vmass= 6.927516e-03\n",
      "ok smoothing = 7.500178e-01\n",
      "vol. avg. x_HI=1.000000e+00, mass avg. x_HI=1.000000e+00\n",
      "mass avg. x_HI=1.000000e+00\n",
      "ok time taken= 2.273492e-02\n",
      "\n",
      "ok read nbody output = 2.722370e-02\n",
      "ok read halo catalogue = 1.686400e-05\n",
      "ok cic_vmass= 7.052504e-03\n",
      "ok smoothing = 6.489362e-01\n",
      "vol. avg. x_HI=1.000000e+00, mass avg. x_HI=1.000000e+00\n",
      "mass avg. x_HI=1.000000e+00\n",
      "ok time taken= 2.236842e-02\n",
      "\n",
      "ok read nbody output = 2.685465e-02\n",
      "ok read halo catalogue = 1.691900e-05\n",
      "ok cic_vmass= 6.937787e-03\n",
      "ok smoothing = 7.482415e-01\n",
      "vol. avg. x_HI=1.000000e+00, mass avg. x_HI=1.000000e+00\n",
      "mass avg. x_HI=1.000000e+00\n",
      "ok time taken= 3.339131e-02\n",
      "\n",
      "ok read nbody output = 4.120877e-02\n",
      "ok read halo catalogue = 2.952900e-05\n",
      "ok cic_vmass= 1.202356e-02\n",
      "ok smoothing = 1.089010e+00\n",
      "vol. avg. x_HI=1.000000e+00, mass avg. x_HI=1.000000e+00\n",
      "mass avg. x_HI=1.000000e+00\n",
      "ok time taken= 3.776193e-02\n",
      "\n",
      "ok read nbody output = 4.560634e-02\n",
      "ok read halo catalogue = 3.261100e-05\n",
      "ok cic_vmass= 1.122102e-02\n",
      "ok smoothing = 8.978299e-01\n",
      "vol. avg. x_HI=1.000000e+00, mass avg. x_HI=1.000000e+00\n",
      "mass avg. x_HI=1.000000e+00\n",
      "ok time taken= 3.741431e-02\n",
      "\n",
      "ok read nbody output = 4.524001e-02\n",
      "ok read halo catalogue = 3.000700e-05\n",
      "ok cic_vmass= 1.219652e-02\n",
      "ok smoothing = 9.091651e-01\n",
      "vol. avg. x_HI=1.000000e+00, mass avg. x_HI=1.000000e+00\n",
      "mass avg. x_HI=1.000000e+00\n",
      "ok time taken= 3.756357e-02\n",
      "\n",
      "ok read nbody output = 4.538734e-02\n",
      "ok read halo catalogue = 2.941400e-05\n",
      "ok cic_vmass= 1.219741e-02\n",
      "ok smoothing = 9.216122e-01\n",
      "vol. avg. x_HI=1.000000e+00, mass avg. x_HI=1.000000e+00\n",
      "mass avg. x_HI=1.000000e+00\n",
      "ok time taken= 3.792006e-02\n",
      "\n",
      "ok read nbody output = 4.576590e-02\n",
      "ok read halo catalogue = 3.196500e-05\n",
      "ok cic_vmass= 1.236071e-02\n",
      "ok smoothing = 8.749279e-01\n",
      "vol. avg. x_HI=1.000000e+00, mass avg. x_HI=1.000000e+00\n",
      "mass avg. x_HI=1.000000e+00\n",
      "ok time taken= 3.772639e-02\n",
      "\n",
      "ok read nbody output = 4.558190e-02\n",
      "ok read halo catalogue = 3.516400e-05\n",
      "ok cic_vmass= 1.223400e-02\n",
      "ok smoothing = 9.613608e-01\n",
      "vol. avg. x_HI=1.000000e+00, mass avg. x_HI=1.000000e+00\n",
      "mass avg. x_HI=1.000000e+00\n",
      "ok time taken= 3.730930e-02\n",
      "\n",
      "ok read nbody output = 4.524063e-02\n",
      "ok read halo catalogue = 3.474800e-05\n",
      "ok cic_vmass= 1.197621e-02\n",
      "ok smoothing = 9.530643e-01\n",
      "vol. avg. x_HI=1.000000e+00, mass avg. x_HI=1.000000e+00\n",
      "mass avg. x_HI=1.000000e+00\n",
      "ok time taken= 4.652793e-02\n",
      "\n",
      "ok read nbody output = 5.437842e-02\n",
      "ok read halo catalogue = 3.248200e-05\n",
      "ok cic_vmass= 1.255029e-02\n",
      "ok smoothing = 1.045333e+00\n",
      "vol. avg. x_HI=1.000000e+00, mass avg. x_HI=1.000000e+00\n",
      "mass avg. x_HI=1.000000e+00\n",
      "ok time taken= 3.726519e-02\n",
      "\n",
      "ok read nbody output = 4.505980e-02\n",
      "ok read halo catalogue = 2.818900e-05\n",
      "ok cic_vmass= 1.253093e-02\n",
      "ok smoothing = 9.130965e-01\n",
      "vol. avg. x_HI=1.000000e+00, mass avg. x_HI=1.000000e+00\n",
      "mass avg. x_HI=1.000000e+00\n",
      "ok time taken= 3.936611e-02\n",
      "\n",
      "done. Total time taken = 0hr 0min 16sec\n",
      "\n",
      "Error (if any):\n",
      "\n",
      "CPU times: user 9.94 ms, sys: 583 µs, total: 10.5 ms\n",
      "Wall time: 16.7 s\n"
     ]
    }
   ],
   "source": [
    "%%time\n",
    "prog = \"./ionz_main\"\n",
    "run_prog(location_regio_yuga,prog,location_home)"
   ]
  },
  {
   "cell_type": "code",
   "execution_count": 23,
   "id": "e2f8efd2-1dd9-476a-817a-0bc3f2c11458",
   "metadata": {},
   "outputs": [
    {
     "name": "stdout",
     "output_type": "stream",
     "text": [
      "Moved folder 'ionz_out' to '/home/ashwin/GIT/FrontEnd_cosmo/Save/BackupRun_14/'\n",
      "Searching for files with the term: output.nbody\n",
      "Moved output.nbody_11.000 to /home/ashwin/GIT/FrontEnd_cosmo/Save/BackupRun_14/\n",
      "Moved output.nbody_12.000 to /home/ashwin/GIT/FrontEnd_cosmo/Save/BackupRun_14/\n",
      "Moved output.nbody_13.000 to /home/ashwin/GIT/FrontEnd_cosmo/Save/BackupRun_14/\n",
      "Moved output.nbody_14.000 to /home/ashwin/GIT/FrontEnd_cosmo/Save/BackupRun_14/\n",
      "Moved output.nbody_15.000 to /home/ashwin/GIT/FrontEnd_cosmo/Save/BackupRun_14/\n",
      "Moved output.nbody_16.000 to /home/ashwin/GIT/FrontEnd_cosmo/Save/BackupRun_14/\n",
      "Moved output.nbody_17.000 to /home/ashwin/GIT/FrontEnd_cosmo/Save/BackupRun_14/\n",
      "Moved output.nbody_18.000 to /home/ashwin/GIT/FrontEnd_cosmo/Save/BackupRun_14/\n",
      "Moved output.nbody_19.000 to /home/ashwin/GIT/FrontEnd_cosmo/Save/BackupRun_14/\n",
      "Moved output.nbody_20.000 to /home/ashwin/GIT/FrontEnd_cosmo/Save/BackupRun_14/\n",
      "Moved output.nbody_21.000 to /home/ashwin/GIT/FrontEnd_cosmo/Save/BackupRun_14/\n",
      "Moved output.nbody_22.000 to /home/ashwin/GIT/FrontEnd_cosmo/Save/BackupRun_14/\n",
      "Moved output.nbody_23.000 to /home/ashwin/GIT/FrontEnd_cosmo/Save/BackupRun_14/\n",
      "Moved output.nbody_24.000 to /home/ashwin/GIT/FrontEnd_cosmo/Save/BackupRun_14/\n",
      "Moved output.nbody_25.000 to /home/ashwin/GIT/FrontEnd_cosmo/Save/BackupRun_14/\n",
      "Moved output.nbody_26.000 to /home/ashwin/GIT/FrontEnd_cosmo/Save/BackupRun_14/\n",
      "Moved output.nbody_27.000 to /home/ashwin/GIT/FrontEnd_cosmo/Save/BackupRun_14/\n",
      "Moved output.nbody_28.000 to /home/ashwin/GIT/FrontEnd_cosmo/Save/BackupRun_14/\n",
      "Moved output.nbody_29.000 to /home/ashwin/GIT/FrontEnd_cosmo/Save/BackupRun_14/\n",
      "Moved output.nbody_30.000 to /home/ashwin/GIT/FrontEnd_cosmo/Save/BackupRun_14/\n",
      "Searching for files with the term: input.nbody\n",
      "Moved input.nbody_comp to /home/ashwin/GIT/FrontEnd_cosmo/Save/BackupRun_14/\n",
      "Searching for files with the term: halo_catalogue\n",
      "Moved halo_catalogue_11.000 to /home/ashwin/GIT/FrontEnd_cosmo/Save/BackupRun_14/\n",
      "Moved halo_catalogue_12.000 to /home/ashwin/GIT/FrontEnd_cosmo/Save/BackupRun_14/\n",
      "Moved halo_catalogue_13.000 to /home/ashwin/GIT/FrontEnd_cosmo/Save/BackupRun_14/\n",
      "Moved halo_catalogue_14.000 to /home/ashwin/GIT/FrontEnd_cosmo/Save/BackupRun_14/\n",
      "Moved halo_catalogue_15.000 to /home/ashwin/GIT/FrontEnd_cosmo/Save/BackupRun_14/\n",
      "Moved halo_catalogue_16.000 to /home/ashwin/GIT/FrontEnd_cosmo/Save/BackupRun_14/\n",
      "Moved halo_catalogue_17.000 to /home/ashwin/GIT/FrontEnd_cosmo/Save/BackupRun_14/\n",
      "Moved halo_catalogue_18.000 to /home/ashwin/GIT/FrontEnd_cosmo/Save/BackupRun_14/\n",
      "Moved halo_catalogue_19.000 to /home/ashwin/GIT/FrontEnd_cosmo/Save/BackupRun_14/\n",
      "Moved halo_catalogue_20.000 to /home/ashwin/GIT/FrontEnd_cosmo/Save/BackupRun_14/\n",
      "Moved halo_catalogue_21.000 to /home/ashwin/GIT/FrontEnd_cosmo/Save/BackupRun_14/\n",
      "Moved halo_catalogue_22.000 to /home/ashwin/GIT/FrontEnd_cosmo/Save/BackupRun_14/\n",
      "Moved halo_catalogue_23.000 to /home/ashwin/GIT/FrontEnd_cosmo/Save/BackupRun_14/\n",
      "Moved halo_catalogue_24.000 to /home/ashwin/GIT/FrontEnd_cosmo/Save/BackupRun_14/\n",
      "Moved halo_catalogue_25.000 to /home/ashwin/GIT/FrontEnd_cosmo/Save/BackupRun_14/\n",
      "Moved halo_catalogue_26.000 to /home/ashwin/GIT/FrontEnd_cosmo/Save/BackupRun_14/\n",
      "Moved halo_catalogue_27.000 to /home/ashwin/GIT/FrontEnd_cosmo/Save/BackupRun_14/\n",
      "Moved halo_catalogue_28.000 to /home/ashwin/GIT/FrontEnd_cosmo/Save/BackupRun_14/\n",
      "Moved halo_catalogue_29.000 to /home/ashwin/GIT/FrontEnd_cosmo/Save/BackupRun_14/\n",
      "Moved halo_catalogue_30.000 to /home/ashwin/GIT/FrontEnd_cosmo/Save/BackupRun_14/\n",
      "Search and move process complete.\n"
     ]
    }
   ],
   "source": [
    "!bash backupOutput"
   ]
  },
  {
   "cell_type": "code",
   "execution_count": null,
   "id": "13d40310-a8f2-4573-8e06-b0684a4fc2da",
   "metadata": {},
   "outputs": [],
   "source": []
  },
  {
   "cell_type": "code",
   "execution_count": null,
   "id": "23c0343f-e1e5-4cd4-a284-f72aa5457e29",
   "metadata": {},
   "outputs": [],
   "source": []
  }
 ],
 "metadata": {
  "kernelspec": {
   "display_name": "Python 3 (ipykernel)",
   "language": "python",
   "name": "python3"
  },
  "language_info": {
   "codemirror_mode": {
    "name": "ipython",
    "version": 3
   },
   "file_extension": ".py",
   "mimetype": "text/x-python",
   "name": "python",
   "nbconvert_exporter": "python",
   "pygments_lexer": "ipython3",
   "version": "3.11.5"
  },
  "widgets": {
   "application/vnd.jupyter.widget-state+json": {
    "state": {
     "03270a172e384c2b943b140ba016b8ce": {
      "model_module": "@jupyter-widgets/controls",
      "model_module_version": "2.0.0",
      "model_name": "BoundedFloatTextModel",
      "state": {
       "description": "omega_l:",
       "layout": "IPY_MODEL_fe85f31f70d2479bb324fd42e8ff4b4f",
       "step": null,
       "style": "IPY_MODEL_de419a45769a4bab85396df6f3191e0f",
       "value": 0.6817
      }
     },
     "0fd8377a667548448808cda37275fd68": {
      "model_module": "@jupyter-widgets/base",
      "model_module_version": "2.0.0",
      "model_name": "LayoutModel",
      "state": {}
     },
     "10007e4c4aba49e3b34b66b4d6b14221": {
      "model_module": "@jupyter-widgets/controls",
      "model_module_version": "2.0.0",
      "model_name": "DescriptionStyleModel",
      "state": {
       "description_width": ""
      }
     },
     "171182fe2ebe4a11b8e87872db61afbb": {
      "model_module": "@jupyter-widgets/base",
      "model_module_version": "2.0.0",
      "model_name": "LayoutModel",
      "state": {}
     },
     "1802c857dd8744358c1fa1053b90d1d8": {
      "model_module": "@jupyter-widgets/controls",
      "model_module_version": "2.0.0",
      "model_name": "BoundedFloatTextModel",
      "state": {
       "description": "delta_a:",
       "layout": "IPY_MODEL_ed74eef6624f42bbba50df2e0ba0cb13",
       "step": null,
       "style": "IPY_MODEL_87e186659f3945dda73f8caf20499cc3",
       "value": 0.004
      }
     },
     "1b6ff0d1838747299122209bb66109b9": {
      "model_module": "@jupyter-widgets/controls",
      "model_module_version": "2.0.0",
      "model_name": "HBoxModel",
      "state": {
       "children": [
        "IPY_MODEL_6736ba03cc564dffb22bb31689404644",
        "IPY_MODEL_8403cf9b1ad54933ba60d1cbc554070a"
       ],
       "layout": "IPY_MODEL_5dbd42353cae4011ab77556e700f1965"
      }
     },
     "33d6221ba7244d7db5de0ef84559e269": {
      "model_module": "@jupyter-widgets/base",
      "model_module_version": "2.0.0",
      "model_name": "LayoutModel",
      "state": {}
     },
     "394f4005a46d4e2fb16587c49071ef65": {
      "model_module": "@jupyter-widgets/base",
      "model_module_version": "2.0.0",
      "model_name": "LayoutModel",
      "state": {}
     },
     "3ba8ace65a9a40f39fc2b72d8412eb66": {
      "model_module": "@jupyter-widgets/controls",
      "model_module_version": "2.0.0",
      "model_name": "BoundedFloatTextModel",
      "state": {
       "description": "hh:",
       "layout": "IPY_MODEL_c4e12c69921d4e66b0aef261045b86f6",
       "step": null,
       "style": "IPY_MODEL_10007e4c4aba49e3b34b66b4d6b14221",
       "value": 0.6704
      }
     },
     "3d1200344cc24a6c905764ee1d5646a9": {
      "model_module": "@jupyter-widgets/controls",
      "model_module_version": "2.0.0",
      "model_name": "DescriptionStyleModel",
      "state": {
       "description_width": ""
      }
     },
     "40b484ddda2a4873a2fd5533f7dc77df": {
      "model_module": "@jupyter-widgets/base",
      "model_module_version": "2.0.0",
      "model_name": "LayoutModel",
      "state": {}
     },
     "40e576d22c9d4d8fbef8a2852e9bd740": {
      "model_module": "@jupyter-widgets/controls",
      "model_module_version": "2.0.0",
      "model_name": "SelectModel",
      "state": {
       "_options_labels": [
        "16",
        "32",
        "64",
        "128",
        "256",
        "512",
        "1024",
        "2048",
        "4096"
       ],
       "description": "N1 N2 N3:",
       "index": 0,
       "layout": "IPY_MODEL_171182fe2ebe4a11b8e87872db61afbb",
       "style": "IPY_MODEL_eca6224b75514e1a8d2a8aacb02656d3"
      }
     },
     "45b017b49ef3493d99540439e633eebc": {
      "model_module": "@jupyter-widgets/base",
      "model_module_version": "2.0.0",
      "model_name": "LayoutModel",
      "state": {}
     },
     "462a7118394e4cab8dc063d1b9f2a94b": {
      "model_module": "@jupyter-widgets/controls",
      "model_module_version": "2.0.0",
      "model_name": "BoundedFloatTextModel",
      "state": {
       "description": "omega_m:",
       "layout": "IPY_MODEL_56623963ed6b43c48f74ccd5ebd56eab",
       "step": null,
       "style": "IPY_MODEL_fab4d92699454bb8a8ea74f5713a7149",
       "value": 0.3183
      }
     },
     "49f4806a4397432898e6d5e657e93b8b": {
      "model_module": "@jupyter-widgets/controls",
      "model_module_version": "2.0.0",
      "model_name": "HBoxModel",
      "state": {
       "children": [
        "IPY_MODEL_dfc23e3101814a538e380a38dcb7de76",
        "IPY_MODEL_1802c857dd8744358c1fa1053b90d1d8"
       ],
       "layout": "IPY_MODEL_820bbd78c0214f4b95fae3de69c3d770"
      }
     },
     "522223453b1f4a89819151c4b204ef81": {
      "model_module": "@jupyter-widgets/controls",
      "model_module_version": "2.0.0",
      "model_name": "DescriptionStyleModel",
      "state": {
       "description_width": ""
      }
     },
     "56623963ed6b43c48f74ccd5ebd56eab": {
      "model_module": "@jupyter-widgets/base",
      "model_module_version": "2.0.0",
      "model_name": "LayoutModel",
      "state": {}
     },
     "580c27d55ca04893bf6009135746d5df": {
      "model_module": "@jupyter-widgets/base",
      "model_module_version": "2.0.0",
      "model_name": "LayoutModel",
      "state": {}
     },
     "5aea6d0285944003ad7b05200eea0aaa": {
      "model_module": "@jupyter-widgets/base",
      "model_module_version": "2.0.0",
      "model_name": "LayoutModel",
      "state": {}
     },
     "5af2e745717045abbdf378987a08d21b": {
      "model_module": "@jupyter-widgets/base",
      "model_module_version": "2.0.0",
      "model_name": "LayoutModel",
      "state": {}
     },
     "5dbd42353cae4011ab77556e700f1965": {
      "model_module": "@jupyter-widgets/base",
      "model_module_version": "2.0.0",
      "model_name": "LayoutModel",
      "state": {}
     },
     "616b3af99e7b4771ae0afd0052801585": {
      "model_module": "@jupyter-widgets/controls",
      "model_module_version": "2.0.0",
      "model_name": "DescriptionStyleModel",
      "state": {
       "description_width": ""
      }
     },
     "6736ba03cc564dffb22bb31689404644": {
      "model_module": "@jupyter-widgets/controls",
      "model_module_version": "2.0.0",
      "model_name": "BoundedFloatTextModel",
      "state": {
       "description": "omega_baryon:",
       "layout": "IPY_MODEL_96f7be0507684eb8a5f4cac896b70309",
       "step": null,
       "style": "IPY_MODEL_a4157b1cb4f64663bb7ac84046adaa63",
       "value": 0.04902
      }
     },
     "7c512845a7a14820822e1525f70b06b3": {
      "model_module": "@jupyter-widgets/controls",
      "model_module_version": "2.0.0",
      "model_name": "BoundedFloatTextModel",
      "state": {
       "description": "NBin:",
       "layout": "IPY_MODEL_394f4005a46d4e2fb16587c49071ef65",
       "step": null,
       "style": "IPY_MODEL_522223453b1f4a89819151c4b204ef81",
       "value": 10
      }
     },
     "81141c5c9ce34d47abd20343b0472566": {
      "model_module": "@jupyter-widgets/controls",
      "model_module_version": "2.0.0",
      "model_name": "BoundedFloatTextModel",
      "state": {
       "description": "fraction_fill:",
       "layout": "IPY_MODEL_5aea6d0285944003ad7b05200eea0aaa",
       "max": 1000,
       "step": null,
       "style": "IPY_MODEL_e4a28c6045164a9d88f31ba4fe7339e3",
       "value": 2
      }
     },
     "820bbd78c0214f4b95fae3de69c3d770": {
      "model_module": "@jupyter-widgets/base",
      "model_module_version": "2.0.0",
      "model_name": "LayoutModel",
      "state": {}
     },
     "8403cf9b1ad54933ba60d1cbc554070a": {
      "model_module": "@jupyter-widgets/controls",
      "model_module_version": "2.0.0",
      "model_name": "BoundedFloatTextModel",
      "state": {
       "description": "sigma_8:",
       "layout": "IPY_MODEL_45b017b49ef3493d99540439e633eebc",
       "step": null,
       "style": "IPY_MODEL_616b3af99e7b4771ae0afd0052801585",
       "value": 0.8347
      }
     },
     "87e186659f3945dda73f8caf20499cc3": {
      "model_module": "@jupyter-widgets/controls",
      "model_module_version": "2.0.0",
      "model_name": "DescriptionStyleModel",
      "state": {
       "description_width": ""
      }
     },
     "96f7be0507684eb8a5f4cac896b70309": {
      "model_module": "@jupyter-widgets/base",
      "model_module_version": "2.0.0",
      "model_name": "LayoutModel",
      "state": {}
     },
     "9c6c184dd38c4bf786d1a146afb36a76": {
      "model_module": "@jupyter-widgets/controls",
      "model_module_version": "2.0.0",
      "model_name": "DescriptionStyleModel",
      "state": {
       "description_width": ""
      }
     },
     "a02ba89f785f45b1a7fe9aed6d45f134": {
      "model_module": "@jupyter-widgets/controls",
      "model_module_version": "2.0.0",
      "model_name": "HBoxModel",
      "state": {
       "children": [
        "IPY_MODEL_81141c5c9ce34d47abd20343b0472566",
        "IPY_MODEL_fc5bbe09d78a4c77a9df5481652d8dd6"
       ],
       "layout": "IPY_MODEL_e22d4f6478a648f98089fd5557d9441d"
      }
     },
     "a4157b1cb4f64663bb7ac84046adaa63": {
      "model_module": "@jupyter-widgets/controls",
      "model_module_version": "2.0.0",
      "model_name": "DescriptionStyleModel",
      "state": {
       "description_width": ""
      }
     },
     "b953448675da43288ce7b4043ed70c44": {
      "model_module": "@jupyter-widgets/controls",
      "model_module_version": "2.0.0",
      "model_name": "BoundedFloatTextModel",
      "state": {
       "description": "seed:",
       "layout": "IPY_MODEL_5af2e745717045abbdf378987a08d21b",
       "max": 1000000,
       "min": -1000000,
       "step": null,
       "style": "IPY_MODEL_9c6c184dd38c4bf786d1a146afb36a76",
       "value": -100012
      }
     },
     "c4e12c69921d4e66b0aef261045b86f6": {
      "model_module": "@jupyter-widgets/base",
      "model_module_version": "2.0.0",
      "model_name": "LayoutModel",
      "state": {}
     },
     "d1aad445e9f24d0f83be3e42b9a40882": {
      "model_module": "@jupyter-widgets/controls",
      "model_module_version": "2.0.0",
      "model_name": "BoundedFloatTextModel",
      "state": {
       "description": "spectral_index:",
       "layout": "IPY_MODEL_0fd8377a667548448808cda37275fd68",
       "step": null,
       "style": "IPY_MODEL_f9bdd0c659e44b9baa92333c62c216c5",
       "value": 0.9619
      }
     },
     "d52b29cab86d4ff6a8f889b0ec06932f": {
      "model_module": "@jupyter-widgets/controls",
      "model_module_version": "2.0.0",
      "model_name": "DescriptionStyleModel",
      "state": {
       "description_width": ""
      }
     },
     "de419a45769a4bab85396df6f3191e0f": {
      "model_module": "@jupyter-widgets/controls",
      "model_module_version": "2.0.0",
      "model_name": "DescriptionStyleModel",
      "state": {
       "description_width": ""
      }
     },
     "dfc23e3101814a538e380a38dcb7de76": {
      "model_module": "@jupyter-widgets/controls",
      "model_module_version": "2.0.0",
      "model_name": "BoundedFloatTextModel",
      "state": {
       "description": "a_initial:",
       "layout": "IPY_MODEL_40b484ddda2a4873a2fd5533f7dc77df",
       "step": null,
       "style": "IPY_MODEL_d52b29cab86d4ff6a8f889b0ec06932f",
       "value": 0.008
      }
     },
     "e22d4f6478a648f98089fd5557d9441d": {
      "model_module": "@jupyter-widgets/base",
      "model_module_version": "2.0.0",
      "model_name": "LayoutModel",
      "state": {}
     },
     "e24d5256be3942469cdbf08222b8468c": {
      "model_module": "@jupyter-widgets/controls",
      "model_module_version": "2.0.0",
      "model_name": "HBoxModel",
      "state": {
       "children": [
        "IPY_MODEL_b953448675da43288ce7b4043ed70c44",
        "IPY_MODEL_7c512845a7a14820822e1525f70b06b3"
       ],
       "layout": "IPY_MODEL_33d6221ba7244d7db5de0ef84559e269"
      }
     },
     "e4a28c6045164a9d88f31ba4fe7339e3": {
      "model_module": "@jupyter-widgets/controls",
      "model_module_version": "2.0.0",
      "model_name": "DescriptionStyleModel",
      "state": {
       "description_width": ""
      }
     },
     "e803318eb6044952aa68118e712c18fb": {
      "model_module": "@jupyter-widgets/base",
      "model_module_version": "2.0.0",
      "model_name": "LayoutModel",
      "state": {}
     },
     "eca6224b75514e1a8d2a8aacb02656d3": {
      "model_module": "@jupyter-widgets/controls",
      "model_module_version": "2.0.0",
      "model_name": "DescriptionStyleModel",
      "state": {
       "description_width": ""
      }
     },
     "ed74eef6624f42bbba50df2e0ba0cb13": {
      "model_module": "@jupyter-widgets/base",
      "model_module_version": "2.0.0",
      "model_name": "LayoutModel",
      "state": {}
     },
     "eedc4c207eff4fe49b94c0d814c444f1": {
      "model_module": "@jupyter-widgets/controls",
      "model_module_version": "2.0.0",
      "model_name": "HBoxModel",
      "state": {
       "children": [
        "IPY_MODEL_3ba8ace65a9a40f39fc2b72d8412eb66",
        "IPY_MODEL_462a7118394e4cab8dc063d1b9f2a94b",
        "IPY_MODEL_03270a172e384c2b943b140ba016b8ce",
        "IPY_MODEL_d1aad445e9f24d0f83be3e42b9a40882"
       ],
       "layout": "IPY_MODEL_e803318eb6044952aa68118e712c18fb"
      }
     },
     "f9bdd0c659e44b9baa92333c62c216c5": {
      "model_module": "@jupyter-widgets/controls",
      "model_module_version": "2.0.0",
      "model_name": "DescriptionStyleModel",
      "state": {
       "description_width": ""
      }
     },
     "fab4d92699454bb8a8ea74f5713a7149": {
      "model_module": "@jupyter-widgets/controls",
      "model_module_version": "2.0.0",
      "model_name": "DescriptionStyleModel",
      "state": {
       "description_width": ""
      }
     },
     "fc5bbe09d78a4c77a9df5481652d8dd6": {
      "model_module": "@jupyter-widgets/controls",
      "model_module_version": "2.0.0",
      "model_name": "BoundedFloatTextModel",
      "state": {
       "description": "LL:",
       "layout": "IPY_MODEL_580c27d55ca04893bf6009135746d5df",
       "step": null,
       "style": "IPY_MODEL_3d1200344cc24a6c905764ee1d5646a9",
       "value": 0.07
      }
     },
     "fe85f31f70d2479bb324fd42e8ff4b4f": {
      "model_module": "@jupyter-widgets/base",
      "model_module_version": "2.0.0",
      "model_name": "LayoutModel",
      "state": {}
     }
    },
    "version_major": 2,
    "version_minor": 0
   }
  }
 },
 "nbformat": 4,
 "nbformat_minor": 5
}
