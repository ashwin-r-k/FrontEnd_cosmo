{
 "cells": [
  {
   "cell_type": "code",
   "execution_count": 1,
   "id": "75382fb9-54df-4ff8-9b31-e15edb2553b0",
   "metadata": {},
   "outputs": [
    {
     "name": "stdout",
     "output_type": "stream",
     "text": [
      "/home/ashwin/GIT/FrontEnd_cosmo\n"
     ]
    }
   ],
   "source": [
    "import subprocess\n",
    "import os\n",
    "print(os.getcwd())\n"
   ]
  },
  {
   "cell_type": "code",
   "execution_count": 2,
   "id": "6864969d-6bde-492a-b8f1-b554370fb3a0",
   "metadata": {},
   "outputs": [
    {
     "name": "stdout",
     "output_type": "stream",
     "text": [
      "Searching for files with the term: output.nbody\n",
      "Searching for files with the term: input.nbody\n",
      "Searching for files with the term: pk.\n",
      "Searching for files with the term: halo_catalogue\n",
      "Cleaned N Nody\n",
      "Searching for files with the term: output.nbody\n",
      "Searching for files with the term: input.nbody\n",
      "Searching for files with the term: pk.\n",
      "Searching for files with the term: halo_catalogue\n",
      "Cleaned FOF\n",
      "Directory '/home/ashwin/GIT/FrontEnd_cosmo/ReionYuga/ionz_out' does not exist.\n",
      "Folder 'ionz_out' does not exist in the source directory.\n"
     ]
    }
   ],
   "source": [
    "!bash clean"
   ]
  },
  {
   "cell_type": "code",
   "execution_count": 3,
   "id": "393d3a24-6272-496c-8c1f-442f9f047611",
   "metadata": {},
   "outputs": [],
   "source": [
    "location_home=os.getcwd()\n",
    "location_nbody = \"N-body\"\n",
    "location_fof = \"FoF-Halo-finder\"\n",
    "location_regio_yuga = \"ReionYuga\""
   ]
  },
  {
   "cell_type": "code",
   "execution_count": 4,
   "id": "d0eb224b-cc04-4cc1-8048-8da500f7f2f0",
   "metadata": {},
   "outputs": [],
   "source": [
    "    \n",
    "def compile_prog(location,compile_command,location_home):\n",
    "# Compile the C++ program \n",
    "        os.chdir(os.path.join(location_home,location))\n",
    "        print(os.getcwd())\n",
    "\n",
    "        compile_command = \"make\"+\" \"+compile_command\n",
    "        os.system(compile_command)\n",
    "        '''\n",
    "        #compile_process = subprocess.Popen([location, \"make\",compile_command])\n",
    "        #compile_process = subprocess.run(compile_command, stdout=subprocess.PIPE, stderr=subprocess.PIPE)\n",
    "         \n",
    "        # Check if the compilation was successful \n",
    "        if compile_process.returncode == 0:\n",
    "            print(\"Compilation successful.\") \n",
    "    \n",
    "        else: \n",
    "            # Print the compilation error messages \n",
    "            print(\"Compilation failed.\") \n",
    "            print(compile_process.stderr.decode())\n",
    "        '''\n",
    "        os.chdir(location_home)\n",
    "\n",
    "def run_prog(location,run_command,location_home):\n",
    "            # Run the compiled program \n",
    "        os.chdir(os.path.join(location_home,location))\n",
    "\n",
    "        run_process = subprocess.run(run_command, stdout=subprocess.PIPE, stderr=subprocess.PIPE) \n",
    "         \n",
    "        # Get the output and error messages from the program \n",
    "        output = run_process.stdout.decode() \n",
    "        error = run_process.stderr.decode() \n",
    "         \n",
    "        # Print the output and error messages \n",
    "        print(\"Output:\") \n",
    "        print(output) \n",
    "         \n",
    "        print(\"Error (if any):\") \n",
    "        print(error) \n",
    "        os.chdir(location_home)\n"
   ]
  },
  {
   "cell_type": "code",
   "execution_count": 5,
   "id": "78ab54aa-f46e-40c2-8a99-c7fff3b4cb29",
   "metadata": {
    "scrolled": true
   },
   "outputs": [
    {
     "name": "stdout",
     "output_type": "stream",
     "text": [
      "/home/ashwin/GIT/FrontEnd_cosmo/N-body\n",
      "gcc -c -g -I/usr/local/include/ nbody_comp.c -L/usr/local/lib/  -fopenmp -lfftw3f_omp -lfftw3f -lm\n",
      "gcc -c  -g   -I/usr/local/include/ nbody_funcs.c -L/usr/local/lib/  -fopenmp -lfftw3f_omp -lfftw3f -lm\n",
      "gcc -c -g -I/usr/local/include/ allotarrays.c -L/usr/local/lib/  -fopenmp -lfftw3f_omp -lfftw3f -lm\n",
      "gcc -c  -g   -I/usr/local/include/ funcs.c -L/usr/local/lib/  -fopenmp -lfftw3f_omp -lfftw3f -lm\n",
      "gcc -c -g -I/usr/local/include/ powerspec.c -L/usr/local/lib/  -fopenmp -lfftw3f_omp -lfftw3f -lm\n",
      "gcc -c -g -I/usr/local/include/ tf_fit.c -L/usr/local/lib/  -fopenmp -lfftw3f_omp -lfftw3f -lm\n",
      "gcc -g -o nbody_comp nbody_comp.o nbody_funcs.o funcs.o allotarrays.o powerspec.o tf_fit.o -L/usr/local/lib/  -fopenmp -lfftw3f_omp -lfftw3f -lm\n",
      "rm -rf *.o\n",
      "rm -rf *~\n",
      "/home/ashwin/GIT/FrontEnd_cosmo/FoF-Halo-finder\n",
      "gcc -c -g -I/usr/local/include/ fof_main.c -L/usr/local/lib/  -fopenmp -lfftw3f_omp -lfftw3f -lm\n",
      "gcc -c  -g   -I/usr/local/include/ nbody_funcs.c -L/usr/local/lib/  -fopenmp -lfftw3f_omp -lfftw3f -lm\n",
      "gcc -c -g -I/usr/local/include/ allotarrays.c -L/usr/local/lib/  -fopenmp -lfftw3f_omp -lfftw3f -lm\n",
      "gcc -c  -g   -I/usr/local/include/ funcs.c -L/usr/local/lib/  -fopenmp -lfftw3f_omp -lfftw3f -lm\n",
      "gcc -c -g -I/usr/local/include/ powerspec.c -L/usr/local/lib/  -fopenmp -lfftw3f_omp -lfftw3f -lm\n",
      "gcc -c -g -I/usr/local/include/ tf_fit.c -L/usr/local/lib/  -fopenmp -lfftw3f_omp -lfftw3f -lm\n",
      "gcc -g -o fof_main fof_main.o nbody_funcs.o funcs.o allotarrays.o powerspec.o tf_fit.o -L/usr/local/lib/  -fopenmp -lfftw3f_omp -lfftw3f -lm\n",
      "rm -rf *.o\n",
      "rm -rf *~\n",
      "/home/ashwin/GIT/FrontEnd_cosmo/ReionYuga\n",
      "gcc -c -g -I/usr/local/include/ ionz_main.c -L/usr/local/lib/  -fopenmp -lfftw3f_omp -lfftw3f -lm\n",
      "gcc -c  -g   -I/usr/local/include/ nbody_funcs.c -L/usr/local/lib/  -fopenmp -lfftw3f_omp -lfftw3f -lm\n",
      "gcc -c -g -I/usr/local/include/ allotarrays.c -L/usr/local/lib/  -fopenmp -lfftw3f_omp -lfftw3f -lm\n",
      "gcc -c  -g   -I/usr/local/include/ funcs.c -L/usr/local/lib/  -fopenmp -lfftw3f_omp -lfftw3f -lm\n",
      "gcc -c -g -I/usr/local/include/ powerspec.c -L/usr/local/lib/  -fopenmp -lfftw3f_omp -lfftw3f -lm\n",
      "gcc -c -g -I/usr/local/include/ tf_fit.c -L/usr/local/lib/  -fopenmp -lfftw3f_omp -lfftw3f -lm\n",
      "gcc -c -g -I/usr/local/include/ ionz_funcs.c -L/usr/local/lib/  -fopenmp -lfftw3f_omp -lfftw3f -lm \n",
      "gcc -g -o ionz_main  ionz_main.o nbody_funcs.o allotarrays.o funcs.o powerspec.o tf_fit.o ionz_funcs.o  -L/usr/local/lib/  -fopenmp -lfftw3f_omp -lfftw3f -lm\n",
      "rm -rf *.o\n",
      "rm -rf *~\n"
     ]
    }
   ],
   "source": [
    "prog = \"nbody_comp\"\n",
    "compile_prog(location_nbody,prog,location_home)\n",
    "\n",
    "prog = \"fof_main\"\n",
    "compile_prog(location_fof,prog,location_home)\n",
    "\n",
    "prog = \"ionz_main\"\n",
    "compile_prog(location_regio_yuga,prog,location_home)"
   ]
  },
  {
   "cell_type": "markdown",
   "id": "70d203f4-bf91-4c68-83df-9141d8578b66",
   "metadata": {},
   "source": [
    "seed  Nbin\n",
    "hh    omega_m\tomega_l\t\tspectral_index\n",
    "omega_baryon\tsigma_8\t\n",
    "N1 N2 N3 fraction_fill LL\n",
    "output_flag\tpk_flag\n",
    "a_initial \tdelta_a\n",
    "Noutput (# of redshifts where outputs are required)\n",
    "List of the redshift values\n",
    "\n",
    "-100012  10\n",
    "0.6704  0.3183  0.6817  0.9619 \n",
    "0.04902  0.8347\n",
    "16  16  16  512  0.07\n",
    "1  1\n",
    "0.008  0.004\n",
    "1\n",
    "1\n",
    "\n",
    "6\n",
    "13.0 11.0 10.0 9.0 8.0 7.0"
   ]
  },
  {
   "cell_type": "code",
   "execution_count": 8,
   "id": "76eabb84-3897-4408-a786-8250a6d15aec",
   "metadata": {},
   "outputs": [],
   "source": [
    "from ipywidgets import interact, interactive, fixed, interact_manual\n",
    "import ipywidgets as widgets"
   ]
  },
  {
   "cell_type": "code",
   "execution_count": 9,
   "id": "baa74244-72bc-43bc-81d6-a9363194fe96",
   "metadata": {},
   "outputs": [],
   "source": [
    "seed = widgets.BoundedFloatText(\n",
    "    value=-100012,\n",
    "    min=-1000000,\n",
    "    max=1000000,\n",
    "    description='seed:',\n",
    "    disabled=False\n",
    ")\n",
    "\n",
    "Nbin = widgets.BoundedFloatText(\n",
    "    value=10,\n",
    "    description='NBin:',\n",
    "    disabled=False\n",
    ")\n",
    "\n",
    "hh = widgets.BoundedFloatText(\n",
    "    value=0.6704,\n",
    "    description='hh:',\n",
    "    disabled=False\n",
    ")\n",
    "\n",
    "omega_m = widgets.BoundedFloatText(\n",
    "    value=0.3183,\n",
    "    description='omega_m:',\n",
    "    disabled=False\n",
    ")\n",
    "\n",
    "omega_l = widgets.BoundedFloatText(\n",
    "    value=0.6817,\n",
    "    description='omega_l:',\n",
    "    disabled=False\n",
    ")\n",
    "\n",
    "spectral_index = widgets.BoundedFloatText(\n",
    "    value= 0.9619 ,\n",
    "    description='spectral_index:',\n",
    "    disabled=False\n",
    ")\n",
    "\n",
    "omega_baryon = widgets.BoundedFloatText(\n",
    "    value=0.04902,\n",
    "    description='omega_baryon:',\n",
    "    disabled=False\n",
    ")\n",
    "\n",
    "sigma_8 = widgets.BoundedFloatText(\n",
    "    value=0.8347,\n",
    "    description='sigma_8:',\n",
    "    disabled=False\n",
    ")\n",
    "\n",
    "box=widgets.Select(\n",
    "    options=[16, 32, 64, 128, 256, 512,1024,2048,4096],\n",
    "    value=16,\n",
    "    # rows=10,\n",
    "    description='N1 N2 N3:',\n",
    "    disabled=False\n",
    ")\n",
    "#box=widgets.Combobox(options=[16, 32, 64, 128, 256, 512,1024,2048,4096], value=\"N1N2N3 box dimension\")\n",
    "\n",
    "fraction_fill = widgets.BoundedFloatText(\n",
    "    value=2,\n",
    "    min=0,\n",
    "    max=1000,\n",
    "    description='fraction_fill:',\n",
    "    disabled=False\n",
    ")\n",
    "\n",
    "LL= widgets.BoundedFloatText(\n",
    "    value=0.07,\n",
    "    description='LL:',\n",
    "    disabled=False)\n",
    "\n",
    "a_initial = widgets.BoundedFloatText(\n",
    "    value=0.008,\n",
    "    description='a_initial:',\n",
    "    disabled=False)\t\n",
    "\n",
    "delta_a=widgets.BoundedFloatText(\n",
    "    value=0.004,\n",
    "    description='delta_a:',\n",
    "    disabled=False)\n",
    "\n",
    "output_flag=0\n",
    "pk_flag=1\n",
    "\n"
   ]
  },
  {
   "cell_type": "code",
   "execution_count": 10,
   "id": "9d515bed-46ba-4447-89b4-b3a30bab6c06",
   "metadata": {},
   "outputs": [],
   "source": [
    "ui = widgets.HBox([seed,  Nbin])\n",
    "ui2 = widgets.HBox([hh,omega_m,omega_l,spectral_index])\n",
    "ui3 = widgets.HBox([omega_baryon,sigma_8])\n",
    "ui4 = widgets.HBox([fraction_fill,LL])\n",
    "ui5 = widgets.HBox([a_initial,delta_a])\n",
    "\n"
   ]
  },
  {
   "cell_type": "code",
   "execution_count": 11,
   "id": "b422ebc5-503d-4217-bbec-27eebeaa36d9",
   "metadata": {},
   "outputs": [
    {
     "data": {
      "application/vnd.jupyter.widget-view+json": {
       "model_id": "b70cfa4bbfe346fba8f5ef114dd5d581",
       "version_major": 2,
       "version_minor": 0
      },
      "text/plain": [
       "HBox(children=(BoundedFloatText(value=-100012.0, description='seed:', max=1000000.0, min=-1000000.0), BoundedF…"
      ]
     },
     "metadata": {},
     "output_type": "display_data"
    },
    {
     "data": {
      "application/vnd.jupyter.widget-view+json": {
       "model_id": "1c4748b9b6b54e87ab3074008dac137f",
       "version_major": 2,
       "version_minor": 0
      },
      "text/plain": [
       "HBox(children=(BoundedFloatText(value=0.6704, description='hh:'), BoundedFloatText(value=0.3183, description='…"
      ]
     },
     "metadata": {},
     "output_type": "display_data"
    },
    {
     "data": {
      "application/vnd.jupyter.widget-view+json": {
       "model_id": "61ae5f44881f45efb585a9da06df7893",
       "version_major": 2,
       "version_minor": 0
      },
      "text/plain": [
       "HBox(children=(BoundedFloatText(value=0.04902, description='omega_baryon:'), BoundedFloatText(value=0.8347, de…"
      ]
     },
     "metadata": {},
     "output_type": "display_data"
    },
    {
     "data": {
      "application/vnd.jupyter.widget-view+json": {
       "model_id": "cb8bd679e07146069076cb8df0e0ebd7",
       "version_major": 2,
       "version_minor": 0
      },
      "text/plain": [
       "Select(description='N1 N2 N3:', options=(16, 32, 64, 128, 256, 512, 1024, 2048, 4096), value=16)"
      ]
     },
     "metadata": {},
     "output_type": "display_data"
    },
    {
     "data": {
      "application/vnd.jupyter.widget-view+json": {
       "model_id": "506e16e2e47f4d3287b5a4e1d7cb37a9",
       "version_major": 2,
       "version_minor": 0
      },
      "text/plain": [
       "HBox(children=(BoundedFloatText(value=2.0, description='fraction_fill:', max=1000.0), BoundedFloatText(value=0…"
      ]
     },
     "metadata": {},
     "output_type": "display_data"
    },
    {
     "data": {
      "application/vnd.jupyter.widget-view+json": {
       "model_id": "66c8b5f793484574afc253d1a6f48054",
       "version_major": 2,
       "version_minor": 0
      },
      "text/plain": [
       "HBox(children=(BoundedFloatText(value=0.008, description='a_initial:'), BoundedFloatText(value=0.004, descript…"
      ]
     },
     "metadata": {},
     "output_type": "display_data"
    }
   ],
   "source": [
    "display(ui)\n",
    "display(ui2)\n",
    "display(ui3)\n",
    "display(box)\n",
    "display(ui4)\n",
    "display(ui5)"
   ]
  },
  {
   "cell_type": "code",
   "execution_count": 12,
   "id": "4742c260-b672-4d34-ac1f-6753bdc9aa0f",
   "metadata": {},
   "outputs": [],
   "source": [
    "redshift_values = [i for i in range(30,10,-1)]\n",
    "Len_redshift = len(redshift_values)\n",
    "redshift_values_str = ' '.join(str(x) for x in redshift_values)"
   ]
  },
  {
   "cell_type": "code",
   "execution_count": 24,
   "id": "a776c288-8d80-4845-9a1b-01b7aa2f6a73",
   "metadata": {},
   "outputs": [],
   "source": [
    "lines = f\"\"\"{int(seed.value)} {int(Nbin.value)}\n",
    "{hh.value} {omega_m.value} {omega_l.value} {spectral_index.value}\n",
    "{omega_baryon.value} {sigma_8.value}\n",
    "{box.value} {box.value} {box.value} {int(fraction_fill.value)} {LL.value}\n",
    "{output_flag} {pk_flag}\n",
    "{a_initial.value} {delta_a.value}\n",
    "{Len_redshift}\n",
    "{redshift_values_str}\"\"\"\n"
   ]
  },
  {
   "cell_type": "code",
   "execution_count": 25,
   "id": "67acb435-eb94-4b0b-9e9c-48253f1fcdb3",
   "metadata": {},
   "outputs": [
    {
     "name": "stdout",
     "output_type": "stream",
     "text": [
      "-100012 10\n",
      "0.6704 0.3183 0.6817 0.9619\n",
      "0.04902 0.8347\n",
      "64 64 64 2 0.07\n",
      "0 1\n",
      "0.008 0.004\n",
      "20\n",
      "30 29 28 27 26 25 24 23 22 21 20 19 18 17 16 15 14 13 12 11\n"
     ]
    }
   ],
   "source": [
    "print(lines)"
   ]
  },
  {
   "cell_type": "code",
   "execution_count": 26,
   "id": "f9c530de-049b-4874-adda-fac7638340df",
   "metadata": {},
   "outputs": [],
   "source": [
    "os.chdir(os.path.join(location_home,location_nbody))\n",
    "with open('input.nbody_comp', 'w') as file:  \n",
    "        # Using the writelines function  \n",
    "        file.writelines(lines)  "
   ]
  },
  {
   "cell_type": "code",
   "execution_count": 27,
   "id": "493c6e89-699a-428a-ba28-895783f55186",
   "metadata": {},
   "outputs": [
    {
     "name": "stdout",
     "output_type": "stream",
     "text": [
      "['-100012 10\\n', '0.6704 0.3183 0.6817 0.9619\\n', '0.04902 0.8347\\n', '64 64 64 2 0.07\\n', '0 1\\n', '0.008 0.004\\n', '20\\n', '30 29 28 27 26 25 24 23 22 21 20 19 18 17 16 15 14 13 12 11']\n"
     ]
    }
   ],
   "source": [
    "with open('input.nbody_comp', 'r') as file:  \n",
    "        # Using the writelines function  \n",
    "        lines = file.readlines()\n",
    "        print(lines)"
   ]
  },
  {
   "cell_type": "code",
   "execution_count": null,
   "id": "7d603eb2-0893-4c45-b4e1-1d6ba0e61085",
   "metadata": {},
   "outputs": [],
   "source": []
  },
  {
   "cell_type": "code",
   "execution_count": 18,
   "id": "3296aa24-6007-4152-a671-36bc1fd16ac9",
   "metadata": {},
   "outputs": [
    {
     "name": "stdout",
     "output_type": "stream",
     "text": [
      "Output:\n",
      "DM_m= 1.089507e-02 10^10 M_sun \t L_box=4.480000e+00 Mpc\n",
      "No of threads = 8\n",
      "norml=3.814697e-06\tCC=9.107730e-02\trho_b_inv=8.000000e+00\n",
      "ok delta_fill time = 3.567471e-02\n",
      "ok cal_pow time = 3.917805e-02\n",
      "ok Zel_move time = 1.981055e-02\n",
      "ok cic = 2.460108e-03\n",
      "delta_aap=2.580620e-04\n",
      "(z=30.0) time for  Nbody loop = 1.295071e-01\ttime for write output = 5.475867e-03\n",
      "delta_aap=7.527322e-05\n",
      "(z=29.0) time for  Nbody loop = 3.385091e-02\ttime for write output = 5.216317e-03\n",
      "delta_aap=1.494251e-04\n",
      "(z=28.0) time for  Nbody loop = 3.317509e-02\ttime for write output = 5.249470e-03\n",
      "delta_aap=2.315305e-04\n",
      "(z=27.0) time for  Nbody loop = 3.350692e-02\ttime for write output = 5.182093e-03\n",
      "delta_aap=3.227517e-04\n",
      "(z=26.0) time for  Nbody loop = 3.315266e-02\ttime for write output = 5.186356e-03\n",
      "delta_aap=4.245043e-04\n",
      "(z=25.0) time for  Nbody loop = 3.338840e-02\ttime for write output = 5.292167e-03\n",
      "delta_aap=5.384609e-04\n",
      "(z=24.0) time for  Nbody loop = 3.374422e-02\ttime for write output = 5.207663e-03\n",
      "delta_aap=6.666705e-04\n",
      "(z=23.0) time for  Nbody loop = 3.402106e-02\ttime for write output = 5.284157e-03\n",
      "delta_aap=8.115955e-04\n",
      "(z=22.0) time for  Nbody loop = 3.588245e-02\ttime for write output = 5.277250e-03\n",
      "delta_aap=9.762868e-04\n",
      "(z=21.0) time for  Nbody loop = 3.695872e-02\ttime for write output = 5.236620e-03\n",
      "delta_aap=1.645051e-04\n",
      "(z=20.0) time for  Nbody loop = 8.480590e-02\ttime for write output = 5.353978e-03\n",
      "delta_aap=3.809556e-04\n",
      "(z=19.0) time for  Nbody loop = 1.017614e-01\ttime for write output = 5.293436e-03\n",
      "delta_aap=6.315820e-04\n",
      "(z=18.0) time for  Nbody loop = 4.591410e-02\ttime for write output = 5.293195e-03\n",
      "delta_aap=9.239800e-04\n",
      "(z=17.0) time for  Nbody loop = 4.812772e-02\ttime for write output = 5.311022e-03\n",
      "delta_aap=2.679788e-04\n",
      "(z=16.0) time for  Nbody loop = 9.072543e-02\ttime for write output = 5.230380e-03\n",
      "delta_aap=6.764755e-04\n",
      "(z=15.0) time for  Nbody loop = 1.054157e-01\ttime for write output = 5.316473e-03\n",
      "delta_aap=1.666620e-04\n",
      "(z=14.0) time for  Nbody loop = 1.080116e-01\ttime for write output = 5.233546e-03\n",
      "delta_aap=7.618964e-04\n",
      "(z=13.0) time for  Nbody loop = 7.509825e-02\ttime for write output = 5.275182e-03\n",
      "delta_aap=4.944950e-04\n",
      "(z=12.0) time for  Nbody loop = 7.944320e-02\ttime for write output = 5.306010e-03\n",
      "delta_aap=4.102439e-04\n",
      "(z=11.0) time for  Nbody loop = 9.510828e-02\ttime for write output = 5.238703e-03\n",
      "number of step = 28\n",
      "done. Total time taken = 0hr 0min 2sec\n",
      "\n",
      "Error (if any):\n",
      "\n",
      "CPU times: user 4.31 ms, sys: 5.68 ms, total: 9.99 ms\n",
      "Wall time: 2.59 s\n"
     ]
    }
   ],
   "source": [
    "%%time\n",
    "prog = \"./nbody_comp\"\n",
    "run_prog(location_nbody,prog,location_home)"
   ]
  },
  {
   "cell_type": "code",
   "execution_count": 19,
   "id": "c66b96d5-efe5-433f-8722-b9c25b8a22c3",
   "metadata": {},
   "outputs": [
    {
     "name": "stdout",
     "output_type": "stream",
     "text": [
      "Searching for files with the term: output.nbody\n",
      "Moved output.nbody_11.000 to /home/ashwin/GIT/FrontEnd_cosmo/FoF-Halo-finder\n",
      "Moved output.nbody_12.000 to /home/ashwin/GIT/FrontEnd_cosmo/FoF-Halo-finder\n",
      "Moved output.nbody_13.000 to /home/ashwin/GIT/FrontEnd_cosmo/FoF-Halo-finder\n",
      "Moved output.nbody_14.000 to /home/ashwin/GIT/FrontEnd_cosmo/FoF-Halo-finder\n",
      "Moved output.nbody_15.000 to /home/ashwin/GIT/FrontEnd_cosmo/FoF-Halo-finder\n",
      "Moved output.nbody_16.000 to /home/ashwin/GIT/FrontEnd_cosmo/FoF-Halo-finder\n",
      "Moved output.nbody_17.000 to /home/ashwin/GIT/FrontEnd_cosmo/FoF-Halo-finder\n",
      "Moved output.nbody_18.000 to /home/ashwin/GIT/FrontEnd_cosmo/FoF-Halo-finder\n",
      "Moved output.nbody_19.000 to /home/ashwin/GIT/FrontEnd_cosmo/FoF-Halo-finder\n",
      "Moved output.nbody_20.000 to /home/ashwin/GIT/FrontEnd_cosmo/FoF-Halo-finder\n",
      "Moved output.nbody_21.000 to /home/ashwin/GIT/FrontEnd_cosmo/FoF-Halo-finder\n",
      "Moved output.nbody_22.000 to /home/ashwin/GIT/FrontEnd_cosmo/FoF-Halo-finder\n",
      "Moved output.nbody_23.000 to /home/ashwin/GIT/FrontEnd_cosmo/FoF-Halo-finder\n",
      "Moved output.nbody_24.000 to /home/ashwin/GIT/FrontEnd_cosmo/FoF-Halo-finder\n",
      "Moved output.nbody_25.000 to /home/ashwin/GIT/FrontEnd_cosmo/FoF-Halo-finder\n",
      "Moved output.nbody_26.000 to /home/ashwin/GIT/FrontEnd_cosmo/FoF-Halo-finder\n",
      "Moved output.nbody_27.000 to /home/ashwin/GIT/FrontEnd_cosmo/FoF-Halo-finder\n",
      "Moved output.nbody_28.000 to /home/ashwin/GIT/FrontEnd_cosmo/FoF-Halo-finder\n",
      "Moved output.nbody_29.000 to /home/ashwin/GIT/FrontEnd_cosmo/FoF-Halo-finder\n",
      "Moved output.nbody_30.000 to /home/ashwin/GIT/FrontEnd_cosmo/FoF-Halo-finder\n",
      "Searching for files with the term: input.nbody\n",
      "Moved input.nbody_comp to /home/ashwin/GIT/FrontEnd_cosmo/FoF-Halo-finder\n",
      "Search and move process complete.\n",
      "CPU times: user 47.6 ms, sys: 14.2 ms, total: 61.8 ms\n",
      "Wall time: 603 ms\n"
     ]
    }
   ],
   "source": [
    "%%time\n",
    "!bash movefilesN-F"
   ]
  },
  {
   "cell_type": "code",
   "execution_count": 20,
   "id": "10934b42-b223-4fc4-8f17-06ed876048b0",
   "metadata": {},
   "outputs": [
    {
     "name": "stdout",
     "output_type": "stream",
     "text": [
      "Output:\n",
      "(30.0)nbody output_flag=0, NF=2\n",
      "Total number of clusters=0\n",
      "(for 30.0) Time taken = 0hr 0min 0sec\n",
      "(29.0)nbody output_flag=0, NF=2\n",
      "Total number of clusters=0\n",
      "(for 29.0) Time taken = 0hr 0min 0sec\n",
      "(28.0)nbody output_flag=0, NF=2\n",
      "Total number of clusters=0\n",
      "(for 28.0) Time taken = 0hr 0min 0sec\n",
      "(27.0)nbody output_flag=0, NF=2\n",
      "Total number of clusters=0\n",
      "(for 27.0) Time taken = 0hr 0min 0sec\n",
      "(26.0)nbody output_flag=0, NF=2\n",
      "Total number of clusters=0\n",
      "(for 26.0) Time taken = 0hr 0min 0sec\n",
      "(25.0)nbody output_flag=0, NF=2\n",
      "Total number of clusters=0\n",
      "(for 25.0) Time taken = 0hr 0min 0sec\n",
      "(24.0)nbody output_flag=0, NF=2\n",
      "Total number of clusters=0\n",
      "(for 24.0) Time taken = 0hr 0min 0sec\n",
      "(23.0)nbody output_flag=0, NF=2\n",
      "Total number of clusters=0\n",
      "(for 23.0) Time taken = 0hr 0min 0sec\n",
      "(22.0)nbody output_flag=0, NF=2\n",
      "Total number of clusters=0\n",
      "(for 22.0) Time taken = 0hr 0min 0sec\n",
      "(21.0)nbody output_flag=0, NF=2\n",
      "Total number of clusters=0\n",
      "(for 21.0) Time taken = 0hr 0min 0sec\n",
      "(20.0)nbody output_flag=0, NF=2\n",
      "Total number of clusters=0\n",
      "(for 20.0) Time taken = 0hr 0min 0sec\n",
      "(19.0)nbody output_flag=0, NF=2\n",
      "Total number of clusters=0\n",
      "(for 19.0) Time taken = 0hr 0min 0sec\n",
      "(18.0)nbody output_flag=0, NF=2\n",
      "Total number of clusters=0\n",
      "(for 18.0) Time taken = 0hr 0min 0sec\n",
      "(17.0)nbody output_flag=0, NF=2\n",
      "Total number of clusters=0\n",
      "(for 17.0) Time taken = 0hr 0min 0sec\n",
      "(16.0)nbody output_flag=0, NF=2\n",
      "Total number of clusters=0\n",
      "(for 16.0) Time taken = 0hr 0min 0sec\n",
      "(15.0)nbody output_flag=0, NF=2\n",
      "Total number of clusters=0\n",
      "(for 15.0) Time taken = 0hr 0min 0sec\n",
      "(14.0)nbody output_flag=0, NF=2\n",
      "Total number of clusters=0\n",
      "(for 14.0) Time taken = 0hr 0min 0sec\n",
      "(13.0)nbody output_flag=0, NF=2\n",
      "Total number of clusters=0\n",
      "(for 13.0) Time taken = 0hr 0min 0sec\n",
      "(12.0)nbody output_flag=0, NF=2\n",
      "Total number of clusters=0\n",
      "(for 12.0) Time taken = 0hr 0min 0sec\n",
      "(11.0)nbody output_flag=0, NF=2\n",
      "Total number of clusters=0\n",
      "(for 11.0) Time taken = 0hr 0min 0sec\n",
      "done FoF. Total time taken = 0hr 0min 1sec\n",
      "\n",
      "Error (if any):\n",
      "\n",
      "CPU times: user 6.86 ms, sys: 3.37 ms, total: 10.2 ms\n",
      "Wall time: 1.57 s\n"
     ]
    }
   ],
   "source": [
    "%%time\n",
    "prog = \"./fof_main\"\n",
    "run_prog(location_fof,prog,location_home)"
   ]
  },
  {
   "cell_type": "code",
   "execution_count": 21,
   "id": "1b5dfa38-7061-4595-b236-530e3f201e74",
   "metadata": {},
   "outputs": [
    {
     "name": "stdout",
     "output_type": "stream",
     "text": [
      "Searching for files with the term: output.nbody\n",
      "Moved output.nbody_11.000 to /home/ashwin/GIT/FrontEnd_cosmo/ReionYuga\n",
      "Moved output.nbody_12.000 to /home/ashwin/GIT/FrontEnd_cosmo/ReionYuga\n",
      "Moved output.nbody_13.000 to /home/ashwin/GIT/FrontEnd_cosmo/ReionYuga\n",
      "Moved output.nbody_14.000 to /home/ashwin/GIT/FrontEnd_cosmo/ReionYuga\n",
      "Moved output.nbody_15.000 to /home/ashwin/GIT/FrontEnd_cosmo/ReionYuga\n",
      "Moved output.nbody_16.000 to /home/ashwin/GIT/FrontEnd_cosmo/ReionYuga\n",
      "Moved output.nbody_17.000 to /home/ashwin/GIT/FrontEnd_cosmo/ReionYuga\n",
      "Moved output.nbody_18.000 to /home/ashwin/GIT/FrontEnd_cosmo/ReionYuga\n",
      "Moved output.nbody_19.000 to /home/ashwin/GIT/FrontEnd_cosmo/ReionYuga\n",
      "Moved output.nbody_20.000 to /home/ashwin/GIT/FrontEnd_cosmo/ReionYuga\n",
      "Moved output.nbody_21.000 to /home/ashwin/GIT/FrontEnd_cosmo/ReionYuga\n",
      "Moved output.nbody_22.000 to /home/ashwin/GIT/FrontEnd_cosmo/ReionYuga\n",
      "Moved output.nbody_23.000 to /home/ashwin/GIT/FrontEnd_cosmo/ReionYuga\n",
      "Moved output.nbody_24.000 to /home/ashwin/GIT/FrontEnd_cosmo/ReionYuga\n",
      "Moved output.nbody_25.000 to /home/ashwin/GIT/FrontEnd_cosmo/ReionYuga\n",
      "Moved output.nbody_26.000 to /home/ashwin/GIT/FrontEnd_cosmo/ReionYuga\n",
      "Moved output.nbody_27.000 to /home/ashwin/GIT/FrontEnd_cosmo/ReionYuga\n",
      "Moved output.nbody_28.000 to /home/ashwin/GIT/FrontEnd_cosmo/ReionYuga\n",
      "Moved output.nbody_29.000 to /home/ashwin/GIT/FrontEnd_cosmo/ReionYuga\n",
      "Moved output.nbody_30.000 to /home/ashwin/GIT/FrontEnd_cosmo/ReionYuga\n",
      "Searching for files with the term: input.nbody\n",
      "Moved input.nbody_comp to /home/ashwin/GIT/FrontEnd_cosmo/ReionYuga\n",
      "Searching for files with the term: halo_catalogue\n",
      "Moved halo_catalogue_11.000 to /home/ashwin/GIT/FrontEnd_cosmo/ReionYuga\n",
      "Moved halo_catalogue_12.000 to /home/ashwin/GIT/FrontEnd_cosmo/ReionYuga\n",
      "Moved halo_catalogue_13.000 to /home/ashwin/GIT/FrontEnd_cosmo/ReionYuga\n",
      "Moved halo_catalogue_14.000 to /home/ashwin/GIT/FrontEnd_cosmo/ReionYuga\n",
      "Moved halo_catalogue_15.000 to /home/ashwin/GIT/FrontEnd_cosmo/ReionYuga\n",
      "Moved halo_catalogue_16.000 to /home/ashwin/GIT/FrontEnd_cosmo/ReionYuga\n",
      "Moved halo_catalogue_17.000 to /home/ashwin/GIT/FrontEnd_cosmo/ReionYuga\n",
      "Moved halo_catalogue_18.000 to /home/ashwin/GIT/FrontEnd_cosmo/ReionYuga\n",
      "Moved halo_catalogue_19.000 to /home/ashwin/GIT/FrontEnd_cosmo/ReionYuga\n",
      "Moved halo_catalogue_20.000 to /home/ashwin/GIT/FrontEnd_cosmo/ReionYuga\n",
      "Moved halo_catalogue_21.000 to /home/ashwin/GIT/FrontEnd_cosmo/ReionYuga\n",
      "Moved halo_catalogue_22.000 to /home/ashwin/GIT/FrontEnd_cosmo/ReionYuga\n",
      "Moved halo_catalogue_23.000 to /home/ashwin/GIT/FrontEnd_cosmo/ReionYuga\n",
      "Moved halo_catalogue_24.000 to /home/ashwin/GIT/FrontEnd_cosmo/ReionYuga\n",
      "Moved halo_catalogue_25.000 to /home/ashwin/GIT/FrontEnd_cosmo/ReionYuga\n",
      "Moved halo_catalogue_26.000 to /home/ashwin/GIT/FrontEnd_cosmo/ReionYuga\n",
      "Moved halo_catalogue_27.000 to /home/ashwin/GIT/FrontEnd_cosmo/ReionYuga\n",
      "Moved halo_catalogue_28.000 to /home/ashwin/GIT/FrontEnd_cosmo/ReionYuga\n",
      "Moved halo_catalogue_29.000 to /home/ashwin/GIT/FrontEnd_cosmo/ReionYuga\n",
      "Moved halo_catalogue_30.000 to /home/ashwin/GIT/FrontEnd_cosmo/ReionYuga\n",
      "Search and move process complete.\n",
      "Directory '/home/ashwin/GIT/FrontEnd_cosmo/ReionYuga/ionz_out' does not exist.\n",
      "CPU times: user 61.1 ms, sys: 32.5 ms, total: 93.6 ms\n",
      "Wall time: 1.01 s\n"
     ]
    }
   ],
   "source": [
    "%%time\n",
    "!bash movefilesF-R"
   ]
  },
  {
   "cell_type": "code",
   "execution_count": 22,
   "id": "4504f270-5c2c-4e79-a3b6-f5e21be25019",
   "metadata": {},
   "outputs": [
    {
     "name": "stdout",
     "output_type": "stream",
     "text": [
      "Output:\n",
      "ok read nbody output = 4.093591e+03\n",
      "ok read halo catalogue = 5.710500e-05\n",
      "No of threads = 8\n",
      "ok cic_vmass= 1.854432e-02\n",
      "ok smoothing = 5.690035e-01\n",
      "vol. avg. x_HI=1.000000e+00, mass avg. x_HI=1.000000e+00\n",
      "mass avg. x_HI=1.000000e+00\n",
      "ok time taken= 2.255218e-02\n",
      "\n",
      "ok read nbody output = 2.705363e-02\n",
      "ok read halo catalogue = 1.737400e-05\n",
      "ok cic_vmass= 6.945975e-03\n",
      "ok smoothing = 6.233464e-01\n",
      "vol. avg. x_HI=1.000000e+00, mass avg. x_HI=1.000000e+00\n",
      "mass avg. x_HI=1.000000e+00\n",
      "ok time taken= 2.287042e-02\n",
      "\n",
      "ok read nbody output = 2.734318e-02\n",
      "ok read halo catalogue = 1.643400e-05\n",
      "ok cic_vmass= 9.740707e-03\n",
      "ok smoothing = 6.414663e-01\n",
      "vol. avg. x_HI=1.000000e+00, mass avg. x_HI=1.000000e+00\n",
      "mass avg. x_HI=1.000000e+00\n",
      "ok time taken= 2.249972e-02\n",
      "\n",
      "ok read nbody output = 2.698219e-02\n",
      "ok read halo catalogue = 1.738900e-05\n",
      "ok cic_vmass= 6.951543e-03\n",
      "ok smoothing = 6.113614e-01\n",
      "vol. avg. x_HI=1.000000e+00, mass avg. x_HI=1.000000e+00\n",
      "mass avg. x_HI=1.000000e+00\n",
      "ok time taken= 2.229230e-02\n",
      "\n",
      "ok read nbody output = 2.677233e-02\n",
      "ok read halo catalogue = 1.778500e-05\n",
      "ok cic_vmass= 6.942145e-03\n",
      "ok smoothing = 6.061263e-01\n",
      "vol. avg. x_HI=1.000000e+00, mass avg. x_HI=1.000000e+00\n",
      "mass avg. x_HI=1.000000e+00\n",
      "ok time taken= 2.308087e-02\n",
      "\n",
      "ok read nbody output = 2.754754e-02\n",
      "ok read halo catalogue = 1.851300e-05\n",
      "ok cic_vmass= 1.309706e-02\n",
      "ok smoothing = 6.099014e-01\n",
      "vol. avg. x_HI=1.000000e+00, mass avg. x_HI=1.000000e+00\n",
      "mass avg. x_HI=1.000000e+00\n",
      "ok time taken= 2.260895e-02\n",
      "\n",
      "ok read nbody output = 2.717934e-02\n",
      "ok read halo catalogue = 1.683100e-05\n",
      "ok cic_vmass= 6.935707e-03\n",
      "ok smoothing = 7.861177e-01\n",
      "vol. avg. x_HI=1.000000e+00, mass avg. x_HI=1.000000e+00\n",
      "mass avg. x_HI=1.000000e+00\n",
      "ok time taken= 2.239256e-02\n",
      "\n",
      "ok read nbody output = 2.686885e-02\n",
      "ok read halo catalogue = 1.947400e-05\n",
      "ok cic_vmass= 6.909816e-03\n",
      "ok smoothing = 5.199371e-01\n",
      "vol. avg. x_HI=1.000000e+00, mass avg. x_HI=1.000000e+00\n",
      "mass avg. x_HI=1.000000e+00\n",
      "ok time taken= 2.253132e-02\n",
      "\n",
      "ok read nbody output = 2.700612e-02\n",
      "ok read halo catalogue = 1.734500e-05\n",
      "ok cic_vmass= 6.927516e-03\n",
      "ok smoothing = 7.500178e-01\n",
      "vol. avg. x_HI=1.000000e+00, mass avg. x_HI=1.000000e+00\n",
      "mass avg. x_HI=1.000000e+00\n",
      "ok time taken= 2.273492e-02\n",
      "\n",
      "ok read nbody output = 2.722370e-02\n",
      "ok read halo catalogue = 1.686400e-05\n",
      "ok cic_vmass= 7.052504e-03\n",
      "ok smoothing = 6.489362e-01\n",
      "vol. avg. x_HI=1.000000e+00, mass avg. x_HI=1.000000e+00\n",
      "mass avg. x_HI=1.000000e+00\n",
      "ok time taken= 2.236842e-02\n",
      "\n",
      "ok read nbody output = 2.685465e-02\n",
      "ok read halo catalogue = 1.691900e-05\n",
      "ok cic_vmass= 6.937787e-03\n",
      "ok smoothing = 7.482415e-01\n",
      "vol. avg. x_HI=1.000000e+00, mass avg. x_HI=1.000000e+00\n",
      "mass avg. x_HI=1.000000e+00\n",
      "ok time taken= 3.339131e-02\n",
      "\n",
      "ok read nbody output = 4.120877e-02\n",
      "ok read halo catalogue = 2.952900e-05\n",
      "ok cic_vmass= 1.202356e-02\n",
      "ok smoothing = 1.089010e+00\n",
      "vol. avg. x_HI=1.000000e+00, mass avg. x_HI=1.000000e+00\n",
      "mass avg. x_HI=1.000000e+00\n",
      "ok time taken= 3.776193e-02\n",
      "\n",
      "ok read nbody output = 4.560634e-02\n",
      "ok read halo catalogue = 3.261100e-05\n",
      "ok cic_vmass= 1.122102e-02\n",
      "ok smoothing = 8.978299e-01\n",
      "vol. avg. x_HI=1.000000e+00, mass avg. x_HI=1.000000e+00\n",
      "mass avg. x_HI=1.000000e+00\n",
      "ok time taken= 3.741431e-02\n",
      "\n",
      "ok read nbody output = 4.524001e-02\n",
      "ok read halo catalogue = 3.000700e-05\n",
      "ok cic_vmass= 1.219652e-02\n",
      "ok smoothing = 9.091651e-01\n",
      "vol. avg. x_HI=1.000000e+00, mass avg. x_HI=1.000000e+00\n",
      "mass avg. x_HI=1.000000e+00\n",
      "ok time taken= 3.756357e-02\n",
      "\n",
      "ok read nbody output = 4.538734e-02\n",
      "ok read halo catalogue = 2.941400e-05\n",
      "ok cic_vmass= 1.219741e-02\n",
      "ok smoothing = 9.216122e-01\n",
      "vol. avg. x_HI=1.000000e+00, mass avg. x_HI=1.000000e+00\n",
      "mass avg. x_HI=1.000000e+00\n",
      "ok time taken= 3.792006e-02\n",
      "\n",
      "ok read nbody output = 4.576590e-02\n",
      "ok read halo catalogue = 3.196500e-05\n",
      "ok cic_vmass= 1.236071e-02\n",
      "ok smoothing = 8.749279e-01\n",
      "vol. avg. x_HI=1.000000e+00, mass avg. x_HI=1.000000e+00\n",
      "mass avg. x_HI=1.000000e+00\n",
      "ok time taken= 3.772639e-02\n",
      "\n",
      "ok read nbody output = 4.558190e-02\n",
      "ok read halo catalogue = 3.516400e-05\n",
      "ok cic_vmass= 1.223400e-02\n",
      "ok smoothing = 9.613608e-01\n",
      "vol. avg. x_HI=1.000000e+00, mass avg. x_HI=1.000000e+00\n",
      "mass avg. x_HI=1.000000e+00\n",
      "ok time taken= 3.730930e-02\n",
      "\n",
      "ok read nbody output = 4.524063e-02\n",
      "ok read halo catalogue = 3.474800e-05\n",
      "ok cic_vmass= 1.197621e-02\n",
      "ok smoothing = 9.530643e-01\n",
      "vol. avg. x_HI=1.000000e+00, mass avg. x_HI=1.000000e+00\n",
      "mass avg. x_HI=1.000000e+00\n",
      "ok time taken= 4.652793e-02\n",
      "\n",
      "ok read nbody output = 5.437842e-02\n",
      "ok read halo catalogue = 3.248200e-05\n",
      "ok cic_vmass= 1.255029e-02\n",
      "ok smoothing = 1.045333e+00\n",
      "vol. avg. x_HI=1.000000e+00, mass avg. x_HI=1.000000e+00\n",
      "mass avg. x_HI=1.000000e+00\n",
      "ok time taken= 3.726519e-02\n",
      "\n",
      "ok read nbody output = 4.505980e-02\n",
      "ok read halo catalogue = 2.818900e-05\n",
      "ok cic_vmass= 1.253093e-02\n",
      "ok smoothing = 9.130965e-01\n",
      "vol. avg. x_HI=1.000000e+00, mass avg. x_HI=1.000000e+00\n",
      "mass avg. x_HI=1.000000e+00\n",
      "ok time taken= 3.936611e-02\n",
      "\n",
      "done. Total time taken = 0hr 0min 16sec\n",
      "\n",
      "Error (if any):\n",
      "\n",
      "CPU times: user 9.94 ms, sys: 583 µs, total: 10.5 ms\n",
      "Wall time: 16.7 s\n"
     ]
    }
   ],
   "source": [
    "%%time\n",
    "prog = \"./ionz_main\"\n",
    "run_prog(location_regio_yuga,prog,location_home)"
   ]
  },
  {
   "cell_type": "code",
   "execution_count": 23,
   "id": "e2f8efd2-1dd9-476a-817a-0bc3f2c11458",
   "metadata": {},
   "outputs": [
    {
     "name": "stdout",
     "output_type": "stream",
     "text": [
      "Moved folder 'ionz_out' to '/home/ashwin/GIT/FrontEnd_cosmo/Save/BackupRun_14/'\n",
      "Searching for files with the term: output.nbody\n",
      "Moved output.nbody_11.000 to /home/ashwin/GIT/FrontEnd_cosmo/Save/BackupRun_14/\n",
      "Moved output.nbody_12.000 to /home/ashwin/GIT/FrontEnd_cosmo/Save/BackupRun_14/\n",
      "Moved output.nbody_13.000 to /home/ashwin/GIT/FrontEnd_cosmo/Save/BackupRun_14/\n",
      "Moved output.nbody_14.000 to /home/ashwin/GIT/FrontEnd_cosmo/Save/BackupRun_14/\n",
      "Moved output.nbody_15.000 to /home/ashwin/GIT/FrontEnd_cosmo/Save/BackupRun_14/\n",
      "Moved output.nbody_16.000 to /home/ashwin/GIT/FrontEnd_cosmo/Save/BackupRun_14/\n",
      "Moved output.nbody_17.000 to /home/ashwin/GIT/FrontEnd_cosmo/Save/BackupRun_14/\n",
      "Moved output.nbody_18.000 to /home/ashwin/GIT/FrontEnd_cosmo/Save/BackupRun_14/\n",
      "Moved output.nbody_19.000 to /home/ashwin/GIT/FrontEnd_cosmo/Save/BackupRun_14/\n",
      "Moved output.nbody_20.000 to /home/ashwin/GIT/FrontEnd_cosmo/Save/BackupRun_14/\n",
      "Moved output.nbody_21.000 to /home/ashwin/GIT/FrontEnd_cosmo/Save/BackupRun_14/\n",
      "Moved output.nbody_22.000 to /home/ashwin/GIT/FrontEnd_cosmo/Save/BackupRun_14/\n",
      "Moved output.nbody_23.000 to /home/ashwin/GIT/FrontEnd_cosmo/Save/BackupRun_14/\n",
      "Moved output.nbody_24.000 to /home/ashwin/GIT/FrontEnd_cosmo/Save/BackupRun_14/\n",
      "Moved output.nbody_25.000 to /home/ashwin/GIT/FrontEnd_cosmo/Save/BackupRun_14/\n",
      "Moved output.nbody_26.000 to /home/ashwin/GIT/FrontEnd_cosmo/Save/BackupRun_14/\n",
      "Moved output.nbody_27.000 to /home/ashwin/GIT/FrontEnd_cosmo/Save/BackupRun_14/\n",
      "Moved output.nbody_28.000 to /home/ashwin/GIT/FrontEnd_cosmo/Save/BackupRun_14/\n",
      "Moved output.nbody_29.000 to /home/ashwin/GIT/FrontEnd_cosmo/Save/BackupRun_14/\n",
      "Moved output.nbody_30.000 to /home/ashwin/GIT/FrontEnd_cosmo/Save/BackupRun_14/\n",
      "Searching for files with the term: input.nbody\n",
      "Moved input.nbody_comp to /home/ashwin/GIT/FrontEnd_cosmo/Save/BackupRun_14/\n",
      "Searching for files with the term: halo_catalogue\n",
      "Moved halo_catalogue_11.000 to /home/ashwin/GIT/FrontEnd_cosmo/Save/BackupRun_14/\n",
      "Moved halo_catalogue_12.000 to /home/ashwin/GIT/FrontEnd_cosmo/Save/BackupRun_14/\n",
      "Moved halo_catalogue_13.000 to /home/ashwin/GIT/FrontEnd_cosmo/Save/BackupRun_14/\n",
      "Moved halo_catalogue_14.000 to /home/ashwin/GIT/FrontEnd_cosmo/Save/BackupRun_14/\n",
      "Moved halo_catalogue_15.000 to /home/ashwin/GIT/FrontEnd_cosmo/Save/BackupRun_14/\n",
      "Moved halo_catalogue_16.000 to /home/ashwin/GIT/FrontEnd_cosmo/Save/BackupRun_14/\n",
      "Moved halo_catalogue_17.000 to /home/ashwin/GIT/FrontEnd_cosmo/Save/BackupRun_14/\n",
      "Moved halo_catalogue_18.000 to /home/ashwin/GIT/FrontEnd_cosmo/Save/BackupRun_14/\n",
      "Moved halo_catalogue_19.000 to /home/ashwin/GIT/FrontEnd_cosmo/Save/BackupRun_14/\n",
      "Moved halo_catalogue_20.000 to /home/ashwin/GIT/FrontEnd_cosmo/Save/BackupRun_14/\n",
      "Moved halo_catalogue_21.000 to /home/ashwin/GIT/FrontEnd_cosmo/Save/BackupRun_14/\n",
      "Moved halo_catalogue_22.000 to /home/ashwin/GIT/FrontEnd_cosmo/Save/BackupRun_14/\n",
      "Moved halo_catalogue_23.000 to /home/ashwin/GIT/FrontEnd_cosmo/Save/BackupRun_14/\n",
      "Moved halo_catalogue_24.000 to /home/ashwin/GIT/FrontEnd_cosmo/Save/BackupRun_14/\n",
      "Moved halo_catalogue_25.000 to /home/ashwin/GIT/FrontEnd_cosmo/Save/BackupRun_14/\n",
      "Moved halo_catalogue_26.000 to /home/ashwin/GIT/FrontEnd_cosmo/Save/BackupRun_14/\n",
      "Moved halo_catalogue_27.000 to /home/ashwin/GIT/FrontEnd_cosmo/Save/BackupRun_14/\n",
      "Moved halo_catalogue_28.000 to /home/ashwin/GIT/FrontEnd_cosmo/Save/BackupRun_14/\n",
      "Moved halo_catalogue_29.000 to /home/ashwin/GIT/FrontEnd_cosmo/Save/BackupRun_14/\n",
      "Moved halo_catalogue_30.000 to /home/ashwin/GIT/FrontEnd_cosmo/Save/BackupRun_14/\n",
      "Search and move process complete.\n"
     ]
    }
   ],
   "source": [
    "!bash backupOutput"
   ]
  },
  {
   "cell_type": "code",
   "execution_count": null,
   "id": "13d40310-a8f2-4573-8e06-b0684a4fc2da",
   "metadata": {},
   "outputs": [],
   "source": []
  },
  {
   "cell_type": "code",
   "execution_count": null,
   "id": "23c0343f-e1e5-4cd4-a284-f72aa5457e29",
   "metadata": {},
   "outputs": [],
   "source": []
  }
 ],
 "metadata": {
  "kernelspec": {
   "display_name": "Python 3 (ipykernel)",
   "language": "python",
   "name": "python3"
  },
  "language_info": {
   "codemirror_mode": {
    "name": "ipython",
    "version": 3
   },
   "file_extension": ".py",
   "mimetype": "text/x-python",
   "name": "python",
   "nbconvert_exporter": "python",
   "pygments_lexer": "ipython3",
   "version": "3.11.5"
  },
  "widgets": {
   "application/vnd.jupyter.widget-state+json": {
    "state": {},
    "version_major": 2,
    "version_minor": 0
   }
  }
 },
 "nbformat": 4,
 "nbformat_minor": 5
}
