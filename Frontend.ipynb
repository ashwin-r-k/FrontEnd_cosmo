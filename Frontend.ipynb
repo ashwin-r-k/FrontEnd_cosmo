{
 "cells": [
  {
   "cell_type": "code",
   "execution_count": 1,
   "id": "75382fb9-54df-4ff8-9b31-e15edb2553b0",
   "metadata": {},
   "outputs": [
    {
     "name": "stdout",
     "output_type": "stream",
     "text": [
      "/home/ashwin/GIT/FrontEnd_cosmo\n"
     ]
    }
   ],
   "source": [
    "import numpy as np\n",
    "import pylab as pl\n",
    "from mpl_toolkits.axes_grid1 import ImageGrid\n",
    "\n",
    "import os\n",
    "import shutil\n",
    "print(os.getcwd())\n"
   ]
  },
  {
   "cell_type": "code",
   "execution_count": null,
   "id": "8908aabd-a435-4e20-81a7-8500cb0bddb6",
   "metadata": {},
   "outputs": [],
   "source": []
  },
  {
   "cell_type": "code",
   "execution_count": 2,
   "id": "6864969d-6bde-492a-b8f1-b554370fb3a0",
   "metadata": {},
   "outputs": [],
   "source": [
    "import subprocess"
   ]
  },
  {
   "cell_type": "code",
   "execution_count": 3,
   "id": "393d3a24-6272-496c-8c1f-442f9f047611",
   "metadata": {},
   "outputs": [],
   "source": [
    "location_home=os.getcwd()\n",
    "location_nbody = \"N-body\"\n",
    "location_fof = \"FoF-Halo-finder\"\n",
    "location_regio_yuga = \"ReionYuga\""
   ]
  },
  {
   "cell_type": "code",
   "execution_count": 4,
   "id": "c90d2b0b-3dc6-41b7-877b-53dfebc4283c",
   "metadata": {},
   "outputs": [
    {
     "data": {
      "text/plain": [
       "'/home/ashwin/GIT/FrontEnd_cosmo/N-body'"
      ]
     },
     "execution_count": 4,
     "metadata": {},
     "output_type": "execute_result"
    }
   ],
   "source": [
    "os.path.join(location_home,location_nbody)"
   ]
  },
  {
   "cell_type": "code",
   "execution_count": 5,
   "id": "d0eb224b-cc04-4cc1-8048-8da500f7f2f0",
   "metadata": {},
   "outputs": [],
   "source": [
    "    \n",
    "def compile_prog(location,compile_command,location_home):\n",
    "# Compile the C++ program \n",
    "        os.chdir(os.path.join(location_home,location))\n",
    "        print(os.getcwd())\n",
    "\n",
    "        compile_command = \"make\"+\" \"+compile_command\n",
    "        os.system(compile_command)\n",
    "        '''\n",
    "        #compile_process = subprocess.Popen([location, \"make\",compile_command])\n",
    "        #compile_process = subprocess.run(compile_command, stdout=subprocess.PIPE, stderr=subprocess.PIPE)\n",
    "         \n",
    "        # Check if the compilation was successful \n",
    "        if compile_process.returncode == 0:\n",
    "            print(\"Compilation successful.\") \n",
    "    \n",
    "        else: \n",
    "            # Print the compilation error messages \n",
    "            print(\"Compilation failed.\") \n",
    "            print(compile_process.stderr.decode())\n",
    "        '''\n",
    "        os.chdir(location_home)\n",
    "\n",
    "def run_prog(location,run_command,location_home):\n",
    "            # Run the compiled program \n",
    "        os.chdir(os.path.join(location_home,location))\n",
    "\n",
    "        run_process = subprocess.run(run_command, stdout=subprocess.PIPE, stderr=subprocess.PIPE) \n",
    "         \n",
    "        # Get the output and error messages from the program \n",
    "        output = run_process.stdout.decode() \n",
    "        error = run_process.stderr.decode() \n",
    "         \n",
    "        # Print the output and error messages \n",
    "        print(\"Output:\") \n",
    "        print(output) \n",
    "         \n",
    "        print(\"Error (if any):\") \n",
    "        print(error) \n",
    "        os.chdir(location_home)\n"
   ]
  },
  {
   "cell_type": "code",
   "execution_count": 6,
   "id": "78ab54aa-f46e-40c2-8a99-c7fff3b4cb29",
   "metadata": {
    "scrolled": true
   },
   "outputs": [
    {
     "name": "stdout",
     "output_type": "stream",
     "text": [
      "/home/ashwin/GIT/FrontEnd_cosmo/N-body\n",
      "gcc -c -g -I/usr/local/include/ nbody_comp.c -L/usr/local/lib/  -fopenmp -lfftw3f_omp -lfftw3f -lm\n",
      "gcc -c  -g   -I/usr/local/include/ nbody_funcs.c -L/usr/local/lib/  -fopenmp -lfftw3f_omp -lfftw3f -lm\n",
      "gcc -c -g -I/usr/local/include/ allotarrays.c -L/usr/local/lib/  -fopenmp -lfftw3f_omp -lfftw3f -lm\n",
      "gcc -c  -g   -I/usr/local/include/ funcs.c -L/usr/local/lib/  -fopenmp -lfftw3f_omp -lfftw3f -lm\n",
      "gcc -c -g -I/usr/local/include/ powerspec.c -L/usr/local/lib/  -fopenmp -lfftw3f_omp -lfftw3f -lm\n",
      "gcc -c -g -I/usr/local/include/ tf_fit.c -L/usr/local/lib/  -fopenmp -lfftw3f_omp -lfftw3f -lm\n",
      "gcc -g -o nbody_comp nbody_comp.o nbody_funcs.o funcs.o allotarrays.o powerspec.o tf_fit.o -L/usr/local/lib/  -fopenmp -lfftw3f_omp -lfftw3f -lm\n",
      "rm -rf *.o\n",
      "rm -rf *~\n",
      "/home/ashwin/GIT/FrontEnd_cosmo/FoF-Halo-finder\n",
      "gcc -c -g -I/usr/local/include/ fof_main.c -L/usr/local/lib/  -fopenmp -lfftw3f_omp -lfftw3f -lm\n",
      "gcc -c  -g   -I/usr/local/include/ nbody_funcs.c -L/usr/local/lib/  -fopenmp -lfftw3f_omp -lfftw3f -lm\n",
      "gcc -c -g -I/usr/local/include/ allotarrays.c -L/usr/local/lib/  -fopenmp -lfftw3f_omp -lfftw3f -lm\n",
      "gcc -c  -g   -I/usr/local/include/ funcs.c -L/usr/local/lib/  -fopenmp -lfftw3f_omp -lfftw3f -lm\n",
      "gcc -c -g -I/usr/local/include/ powerspec.c -L/usr/local/lib/  -fopenmp -lfftw3f_omp -lfftw3f -lm\n",
      "gcc -c -g -I/usr/local/include/ tf_fit.c -L/usr/local/lib/  -fopenmp -lfftw3f_omp -lfftw3f -lm\n",
      "gcc -g -o fof_main fof_main.o nbody_funcs.o funcs.o allotarrays.o powerspec.o tf_fit.o -L/usr/local/lib/  -fopenmp -lfftw3f_omp -lfftw3f -lm\n",
      "rm -rf *.o\n",
      "rm -rf *~\n",
      "/home/ashwin/GIT/FrontEnd_cosmo/ReionYuga\n",
      "gcc -c -g -I/usr/local/include/ ionz_main.c -L/usr/local/lib/  -fopenmp -lfftw3f_omp -lfftw3f -lm\n",
      "gcc -c  -g   -I/usr/local/include/ nbody_funcs.c -L/usr/local/lib/  -fopenmp -lfftw3f_omp -lfftw3f -lm\n",
      "gcc -c -g -I/usr/local/include/ allotarrays.c -L/usr/local/lib/  -fopenmp -lfftw3f_omp -lfftw3f -lm\n",
      "gcc -c  -g   -I/usr/local/include/ funcs.c -L/usr/local/lib/  -fopenmp -lfftw3f_omp -lfftw3f -lm\n",
      "gcc -c -g -I/usr/local/include/ powerspec.c -L/usr/local/lib/  -fopenmp -lfftw3f_omp -lfftw3f -lm\n",
      "gcc -c -g -I/usr/local/include/ tf_fit.c -L/usr/local/lib/  -fopenmp -lfftw3f_omp -lfftw3f -lm\n",
      "gcc -c -g -I/usr/local/include/ ionz_funcs.c -L/usr/local/lib/  -fopenmp -lfftw3f_omp -lfftw3f -lm \n",
      "gcc -g -o ionz_main  ionz_main.o nbody_funcs.o allotarrays.o funcs.o powerspec.o tf_fit.o ionz_funcs.o  -L/usr/local/lib/  -fopenmp -lfftw3f_omp -lfftw3f -lm\n",
      "rm -rf *.o\n",
      "rm -rf *~\n"
     ]
    }
   ],
   "source": [
    "prog = \"nbody_comp\"\n",
    "compile_prog(location_nbody,prog,location_home)\n",
    "\n",
    "prog = \"fof_main\"\n",
    "compile_prog(location_fof,prog,location_home)\n",
    "\n",
    "prog = \"ionz_main\"\n",
    "compile_prog(location_regio_yuga,prog,location_home)"
   ]
  },
  {
   "cell_type": "markdown",
   "id": "70d203f4-bf91-4c68-83df-9141d8578b66",
   "metadata": {},
   "source": [
    "seed  Nbin\n",
    "hh    omega_m\tomega_l\t\tspectral_index\n",
    "omega_baryon\tsigma_8\t\n",
    "N1 N2 N3 fraction_fill LL\n",
    "output_flag\tpk_flag\n",
    "a_initial \tdelta_a\n",
    "Noutput (# of redshifts where outputs are required)\n",
    "List of the redshift values\n",
    "\n",
    "-100012  10\n",
    "0.6704  0.3183  0.6817  0.9619 \n",
    "0.04902  0.8347\n",
    "16  16  16  512  0.07\n",
    "1  1\n",
    "0.008  0.004\n",
    "1\n",
    "1\n",
    "\n",
    "6\n",
    "13.0 11.0 10.0 9.0 8.0 7.0"
   ]
  },
  {
   "cell_type": "code",
   "execution_count": 6,
   "id": "76eabb84-3897-4408-a786-8250a6d15aec",
   "metadata": {},
   "outputs": [],
   "source": [
    "from ipywidgets import interact, interactive, fixed, interact_manual\n",
    "import ipywidgets as widgets"
   ]
  },
  {
   "cell_type": "code",
   "execution_count": 7,
   "id": "baa74244-72bc-43bc-81d6-a9363194fe96",
   "metadata": {},
   "outputs": [],
   "source": [
    "seed = widgets.BoundedFloatText(\n",
    "    value=-100012,\n",
    "    min=-1000000,\n",
    "    max=1000000,\n",
    "    description='seed:',\n",
    "    disabled=False\n",
    ")\n",
    "\n",
    "Nbin = widgets.BoundedFloatText(\n",
    "    value=10,\n",
    "    description='NBin:',\n",
    "    disabled=False\n",
    ")\n",
    "\n",
    "hh = widgets.BoundedFloatText(\n",
    "    value=0.6704,\n",
    "    description='hh:',\n",
    "    disabled=False\n",
    ")\n",
    "\n",
    "omega_m = widgets.BoundedFloatText(\n",
    "    value=0.3183,\n",
    "    description='omega_m:',\n",
    "    disabled=False\n",
    ")\n",
    "\n",
    "omega_l = widgets.BoundedFloatText(\n",
    "    value=0.6817,\n",
    "    description='omega_l:',\n",
    "    disabled=False\n",
    ")\n",
    "\n",
    "spectral_index = widgets.BoundedFloatText(\n",
    "    value= 0.9619 ,\n",
    "    description='spectral_index:',\n",
    "    disabled=False\n",
    ")\n",
    "\n",
    "omega_baryon = widgets.BoundedFloatText(\n",
    "    value=0.04902,\n",
    "    description='omega_baryon:',\n",
    "    disabled=False\n",
    ")\n",
    "\n",
    "sigma_8 = widgets.BoundedFloatText(\n",
    "    value=0.8347,\n",
    "    description='sigma_8:',\n",
    "    disabled=False\n",
    ")\n",
    "\n",
    "box=widgets.Select(\n",
    "    options=[16, 32, 64, 128, 256, 512,1024,2048,4096],\n",
    "    value=16,\n",
    "    # rows=10,\n",
    "    description='N1 N2 N3:',\n",
    "    disabled=False\n",
    ")\n",
    "#box=widgets.Combobox(options=[16, 32, 64, 128, 256, 512,1024,2048,4096], value=\"N1N2N3 box dimension\")\n",
    "\n",
    "fraction_fill = widgets.BoundedFloatText(\n",
    "    value=2,\n",
    "    min=0,\n",
    "    max=1000,\n",
    "    description='fraction_fill:',\n",
    "    disabled=False\n",
    ")\n",
    "\n",
    "LL= widgets.BoundedFloatText(\n",
    "    value=0.07,\n",
    "    description='LL:',\n",
    "    disabled=False)\n",
    "\n",
    "a_initial = widgets.BoundedFloatText(\n",
    "    value=0.008,\n",
    "    description='a_initial:',\n",
    "    disabled=False)\t\n",
    "\n",
    "delta_a=widgets.BoundedFloatText(\n",
    "    value=0.004,\n",
    "    description='delta_a:',\n",
    "    disabled=False)\n",
    "\n",
    "output_flag=0\n",
    "pk_flag=1\n",
    "\n"
   ]
  },
  {
   "cell_type": "code",
   "execution_count": 8,
   "id": "9d515bed-46ba-4447-89b4-b3a30bab6c06",
   "metadata": {},
   "outputs": [],
   "source": [
    "ui = widgets.HBox([seed,  Nbin])\n",
    "ui2 = widgets.HBox([hh,omega_m,omega_l,spectral_index])\n",
    "ui3 = widgets.HBox([omega_baryon,sigma_8])\n",
    "ui4 = widgets.HBox([fraction_fill,LL])\n",
    "ui5 = widgets.HBox([a_initial,delta_a])\n",
    "\n"
   ]
  },
  {
   "cell_type": "code",
   "execution_count": 9,
   "id": "b422ebc5-503d-4217-bbec-27eebeaa36d9",
   "metadata": {},
   "outputs": [
    {
     "data": {
      "application/vnd.jupyter.widget-view+json": {
       "model_id": "69446dde633b4be6a70100c2492840a6",
       "version_major": 2,
       "version_minor": 0
      },
      "text/plain": [
       "HBox(children=(BoundedFloatText(value=-100012.0, description='seed:', max=1000000.0, min=-1000000.0), BoundedF…"
      ]
     },
     "metadata": {},
     "output_type": "display_data"
    },
    {
     "data": {
      "application/vnd.jupyter.widget-view+json": {
       "model_id": "a7f519d40791402593560037186cb5e7",
       "version_major": 2,
       "version_minor": 0
      },
      "text/plain": [
       "HBox(children=(BoundedFloatText(value=0.6704, description='hh:'), BoundedFloatText(value=0.3183, description='…"
      ]
     },
     "metadata": {},
     "output_type": "display_data"
    },
    {
     "data": {
      "application/vnd.jupyter.widget-view+json": {
       "model_id": "783166f0f47a44b09cfdb2d7d03728ac",
       "version_major": 2,
       "version_minor": 0
      },
      "text/plain": [
       "HBox(children=(BoundedFloatText(value=0.04902, description='omega_baryon:'), BoundedFloatText(value=0.8347, de…"
      ]
     },
     "metadata": {},
     "output_type": "display_data"
    },
    {
     "data": {
      "application/vnd.jupyter.widget-view+json": {
       "model_id": "40dcbf8bbc2a4426a57bf1d482bcd91f",
       "version_major": 2,
       "version_minor": 0
      },
      "text/plain": [
       "Select(description='N1 N2 N3:', options=(16, 32, 64, 128, 256, 512, 1024, 2048, 4096), value=16)"
      ]
     },
     "metadata": {},
     "output_type": "display_data"
    },
    {
     "data": {
      "application/vnd.jupyter.widget-view+json": {
       "model_id": "60d5e47d0c864b5992a6305431e1ebfc",
       "version_major": 2,
       "version_minor": 0
      },
      "text/plain": [
       "HBox(children=(BoundedFloatText(value=2.0, description='fraction_fill:', max=1000.0), BoundedFloatText(value=0…"
      ]
     },
     "metadata": {},
     "output_type": "display_data"
    },
    {
     "data": {
      "application/vnd.jupyter.widget-view+json": {
       "model_id": "77f64625550446a5b22fd3b056cd19b4",
       "version_major": 2,
       "version_minor": 0
      },
      "text/plain": [
       "HBox(children=(BoundedFloatText(value=0.008, description='a_initial:'), BoundedFloatText(value=0.004, descript…"
      ]
     },
     "metadata": {},
     "output_type": "display_data"
    }
   ],
   "source": [
    "display(ui)\n",
    "display(ui2)\n",
    "display(ui3)\n",
    "display(box)\n",
    "display(ui4)\n",
    "display(ui5)"
   ]
  },
  {
   "cell_type": "code",
   "execution_count": 10,
   "id": "4742c260-b672-4d34-ac1f-6753bdc9aa0f",
   "metadata": {},
   "outputs": [],
   "source": [
    "redshift_values = [i for i in range(30,10,-1)]\n",
    "Len_redshift = len(redshift_values)\n",
    "redshift_values_str = ' '.join(str(x) for x in redshift_values)"
   ]
  },
  {
   "cell_type": "code",
   "execution_count": 11,
   "id": "a776c288-8d80-4845-9a1b-01b7aa2f6a73",
   "metadata": {},
   "outputs": [],
   "source": [
    "lines = f\"\"\"{int(seed.value)} {int(Nbin.value)}\n",
    "{hh.value} {omega_m.value} {omega_l.value} {spectral_index.value}\n",
    "{omega_baryon.value} {sigma_8.value}\n",
    "{box.value} {box.value} {box.value} {int(fraction_fill.value)} {LL.value}\n",
    "{output_flag} {pk_flag}\n",
    "{a_initial.value} {delta_a.value}\n",
    "{Len_redshift}\n",
    "{redshift_values_str}\"\"\"\n"
   ]
  },
  {
   "cell_type": "code",
   "execution_count": 12,
   "id": "67acb435-eb94-4b0b-9e9c-48253f1fcdb3",
   "metadata": {},
   "outputs": [
    {
     "name": "stdout",
     "output_type": "stream",
     "text": [
      "-100012 10\n",
      "0.6704 0.3183 0.6817 0.9619\n",
      "0.04902 0.8347\n",
      "256 256 256 2 0.07\n",
      "0 1\n",
      "0.008 0.004\n",
      "20\n",
      "30 29 28 27 26 25 24 23 22 21 20 19 18 17 16 15 14 13 12 11\n"
     ]
    }
   ],
   "source": [
    "print(lines)"
   ]
  },
  {
   "cell_type": "code",
   "execution_count": 13,
   "id": "f9c530de-049b-4874-adda-fac7638340df",
   "metadata": {},
   "outputs": [],
   "source": [
    "os.chdir(os.path.join(location_home,location_nbody))\n",
    "with open('input.nbody_comp', 'w') as file:  \n",
    "        # Using the writelines function  \n",
    "        file.writelines(lines)  "
   ]
  },
  {
   "cell_type": "code",
   "execution_count": 14,
   "id": "493c6e89-699a-428a-ba28-895783f55186",
   "metadata": {},
   "outputs": [
    {
     "name": "stdout",
     "output_type": "stream",
     "text": [
      "['-100012 10\\n', '0.6704 0.3183 0.6817 0.9619\\n', '0.04902 0.8347\\n', '256 256 256 2 0.07\\n', '0 1\\n', '0.008 0.004\\n', '20\\n', '30 29 28 27 26 25 24 23 22 21 20 19 18 17 16 15 14 13 12 11']\n"
     ]
    }
   ],
   "source": [
    "with open('input.nbody_comp', 'r') as file:  \n",
    "        # Using the writelines function  \n",
    "        lines = file.readlines()\n",
    "        print(lines)"
   ]
  },
  {
   "cell_type": "code",
   "execution_count": 15,
   "id": "3296aa24-6007-4152-a671-36bc1fd16ac9",
   "metadata": {},
   "outputs": [
    {
     "name": "stdout",
     "output_type": "stream",
     "text": [
      "Output:\n",
      "DM_m= 1.089507e-02 10^10 M_sun \t L_box=1.792000e+01 Mpc\n",
      "No of threads = 8\n",
      "norml=5.960464e-08\tCC=5.828947e+00\trho_b_inv=8.000000e+00\n",
      "ok delta_fill time = 1.032634e+00\n",
      "ok cal_pow time = 1.222859e+00\n",
      "ok Zel_move time = 5.763678e-01\n",
      "ok cic = 9.062704e-02\n",
      "delta_aap=2.580620e-04\n",
      "(z=30.0) time for  Nbody loop = 3.505333e+00\ttime for write output = 2.072259e-01\n",
      "delta_aap=7.527322e-05\n",
      "(z=29.0) time for  Nbody loop = 1.325428e+00\ttime for write output = 1.851143e-01\n",
      "delta_aap=1.494251e-04\n",
      "(z=28.0) time for  Nbody loop = 1.303974e+00\ttime for write output = 1.756816e-01\n",
      "delta_aap=2.315305e-04\n",
      "(z=27.0) time for  Nbody loop = 1.336983e+00\ttime for write output = 1.925701e-01\n",
      "delta_aap=3.227517e-04\n",
      "(z=26.0) time for  Nbody loop = 1.357373e+00\ttime for write output = 1.904800e-01\n",
      "delta_aap=4.245043e-04\n",
      "(z=25.0) time for  Nbody loop = 1.334779e+00\ttime for write output = 1.944635e-01\n",
      "delta_aap=5.384609e-04\n",
      "(z=24.0) time for  Nbody loop = 1.347163e+00\ttime for write output = 1.755644e-01\n",
      "delta_aap=6.666705e-04\n",
      "(z=23.0) time for  Nbody loop = 1.303580e+00\ttime for write output = 1.756724e-01\n",
      "delta_aap=8.115955e-04\n",
      "(z=22.0) time for  Nbody loop = 1.308636e+00\ttime for write output = 1.919906e-01\n",
      "delta_aap=9.762868e-04\n",
      "(z=21.0) time for  Nbody loop = 1.314445e+00\ttime for write output = 1.942285e-01\n",
      "delta_aap=1.645051e-04\n",
      "(z=20.0) time for  Nbody loop = 1.760380e+00\ttime for write output = 1.965585e-01\n",
      "delta_aap=3.809556e-04\n",
      "(z=19.0) time for  Nbody loop = 1.795162e+00\ttime for write output = 1.962479e-01\n",
      "delta_aap=6.315820e-04\n",
      "(z=18.0) time for  Nbody loop = 1.760621e+00\ttime for write output = 1.859458e-01\n",
      "delta_aap=9.239800e-04\n",
      "(z=17.0) time for  Nbody loop = 1.812627e+00\ttime for write output = 1.755098e-01\n",
      "delta_aap=2.679788e-04\n",
      "(z=16.0) time for  Nbody loop = 2.240494e+00\ttime for write output = 1.911657e-01\n",
      "delta_aap=6.764755e-04\n",
      "(z=15.0) time for  Nbody loop = 2.418708e+00\ttime for write output = 1.757357e-01\n",
      "delta_aap=1.666620e-04\n",
      "(z=14.0) time for  Nbody loop = 2.831299e+00\ttime for write output = 1.770299e-01\n",
      "delta_aap=7.618964e-04\n",
      "(z=13.0) time for  Nbody loop = 3.113497e+00\ttime for write output = 1.950498e-01\n",
      "delta_aap=4.944950e-04\n",
      "(z=12.0) time for  Nbody loop = 3.203888e+00\ttime for write output = 1.836190e-01\n",
      "delta_aap=4.102439e-04\n",
      "(z=11.0) time for  Nbody loop = 3.698525e+00\ttime for write output = 1.905092e-01\n",
      "number of step = 28\n",
      "done. Total time taken = 0hr 1min 19sec\n",
      "\n",
      "Error (if any):\n",
      "\n"
     ]
    }
   ],
   "source": [
    "%%time\n",
    "prog = \"./nbody_comp\"\n",
    "run_prog(location_nbody,prog,location_home)"
   ]
  },
  {
   "cell_type": "code",
   "execution_count": 17,
   "id": "c66b96d5-efe5-433f-8722-b9c25b8a22c3",
   "metadata": {},
   "outputs": [
    {
     "name": "stdout",
     "output_type": "stream",
     "text": [
      "Searching for files with the term: output.nbody\n",
      "Searching for files with the term: input.nbody\n",
      "Search and move process complete.\n",
      "CPU times: user 10.5 ms, sys: 3.41 ms, total: 13.9 ms\n",
      "Wall time: 205 ms\n"
     ]
    }
   ],
   "source": [
    "%%time\n",
    "!bash movefilesN-F"
   ]
  },
  {
   "cell_type": "code",
   "execution_count": 18,
   "id": "10934b42-b223-4fc4-8f17-06ed876048b0",
   "metadata": {},
   "outputs": [
    {
     "name": "stdout",
     "output_type": "stream",
     "text": [
      "Output:\n",
      "(30.0)nbody output_flag=0, NF=2\n",
      "Total number of clusters=0\n",
      "(for 30.0) Time taken = 0hr 0min 1sec\n",
      "(29.0)nbody output_flag=0, NF=2\n",
      "Total number of clusters=0\n",
      "(for 29.0) Time taken = 0hr 0min 1sec\n",
      "(28.0)nbody output_flag=0, NF=2\n",
      "Total number of clusters=0\n",
      "(for 28.0) Time taken = 0hr 0min 1sec\n",
      "(27.0)nbody output_flag=0, NF=2\n",
      "Total number of clusters=0\n",
      "(for 27.0) Time taken = 0hr 0min 1sec\n",
      "(26.0)nbody output_flag=0, NF=2\n",
      "Total number of clusters=0\n",
      "(for 26.0) Time taken = 0hr 0min 1sec\n",
      "(25.0)nbody output_flag=0, NF=2\n",
      "Total number of clusters=0\n",
      "(for 25.0) Time taken = 0hr 0min 1sec\n",
      "(24.0)nbody output_flag=0, NF=2\n",
      "Total number of clusters=0\n",
      "(for 24.0) Time taken = 0hr 0min 1sec\n",
      "(23.0)nbody output_flag=0, NF=2\n",
      "Total number of clusters=0\n",
      "(for 23.0) Time taken = 0hr 0min 2sec\n",
      "(22.0)nbody output_flag=0, NF=2\n",
      "Total number of clusters=0\n",
      "(for 22.0) Time taken = 0hr 0min 2sec\n",
      "(21.0)nbody output_flag=0, NF=2\n",
      "Total number of clusters=0\n",
      "(for 21.0) Time taken = 0hr 0min 2sec\n",
      "(20.0)nbody output_flag=0, NF=2\n",
      "Total number of clusters=0\n",
      "(for 20.0) Time taken = 0hr 0min 2sec\n",
      "(19.0)nbody output_flag=0, NF=2\n",
      "Total number of clusters=0\n",
      "(for 19.0) Time taken = 0hr 0min 2sec\n",
      "(18.0)nbody output_flag=0, NF=2\n",
      "Total number of clusters=0\n",
      "(for 18.0) Time taken = 0hr 0min 2sec\n",
      "(17.0)nbody output_flag=0, NF=2\n",
      "Total number of clusters=0\n",
      "(for 17.0) Time taken = 0hr 0min 2sec\n",
      "(16.0)nbody output_flag=0, NF=2\n",
      "Total number of clusters=1\n",
      "(for 16.0) Time taken = 0hr 0min 2sec\n",
      "(15.0)nbody output_flag=0, NF=2\n",
      "Total number of clusters=9\n",
      "(for 15.0) Time taken = 0hr 0min 2sec\n",
      "(14.0)nbody output_flag=0, NF=2\n",
      "Total number of clusters=26\n",
      "(for 14.0) Time taken = 0hr 0min 2sec\n",
      "(13.0)nbody output_flag=0, NF=2\n",
      "Total number of clusters=76\n",
      "(for 13.0) Time taken = 0hr 0min 2sec\n",
      "(12.0)nbody output_flag=0, NF=2\n",
      "Total number of clusters=161\n",
      "(for 12.0) Time taken = 0hr 0min 2sec\n",
      "(11.0)nbody output_flag=0, NF=2\n",
      "Total number of clusters=344\n",
      "(for 11.0) Time taken = 0hr 0min 2sec\n",
      "done FoF. Total time taken = 0hr 0min 41sec\n",
      "\n",
      "Error (if any):\n",
      "\n"
     ]
    }
   ],
   "source": [
    "%%time\n",
    "prog = \"./fof_main\"\n",
    "run_prog(location_fof,prog,location_home)"
   ]
  },
  {
   "cell_type": "code",
   "execution_count": 19,
   "id": "1b5dfa38-7061-4595-b236-530e3f201e74",
   "metadata": {},
   "outputs": [
    {
     "name": "stdout",
     "output_type": "stream",
     "text": [
      "Searching for files with the term: output.nbody\n",
      "Moved output.nbody_11.000 to /home/ashwin/GIT/FrontEnd_cosmo/ReionYuga\n",
      "Moved output.nbody_12.000 to /home/ashwin/GIT/FrontEnd_cosmo/ReionYuga\n",
      "Moved output.nbody_13.000 to /home/ashwin/GIT/FrontEnd_cosmo/ReionYuga\n",
      "Moved output.nbody_14.000 to /home/ashwin/GIT/FrontEnd_cosmo/ReionYuga\n",
      "Moved output.nbody_15.000 to /home/ashwin/GIT/FrontEnd_cosmo/ReionYuga\n",
      "Moved output.nbody_16.000 to /home/ashwin/GIT/FrontEnd_cosmo/ReionYuga\n",
      "Moved output.nbody_17.000 to /home/ashwin/GIT/FrontEnd_cosmo/ReionYuga\n",
      "Moved output.nbody_18.000 to /home/ashwin/GIT/FrontEnd_cosmo/ReionYuga\n",
      "Moved output.nbody_19.000 to /home/ashwin/GIT/FrontEnd_cosmo/ReionYuga\n",
      "Moved output.nbody_20.000 to /home/ashwin/GIT/FrontEnd_cosmo/ReionYuga\n",
      "Moved output.nbody_21.000 to /home/ashwin/GIT/FrontEnd_cosmo/ReionYuga\n",
      "Moved output.nbody_22.000 to /home/ashwin/GIT/FrontEnd_cosmo/ReionYuga\n",
      "Moved output.nbody_23.000 to /home/ashwin/GIT/FrontEnd_cosmo/ReionYuga\n",
      "Moved output.nbody_24.000 to /home/ashwin/GIT/FrontEnd_cosmo/ReionYuga\n",
      "Moved output.nbody_25.000 to /home/ashwin/GIT/FrontEnd_cosmo/ReionYuga\n",
      "Moved output.nbody_26.000 to /home/ashwin/GIT/FrontEnd_cosmo/ReionYuga\n",
      "Moved output.nbody_27.000 to /home/ashwin/GIT/FrontEnd_cosmo/ReionYuga\n",
      "Moved output.nbody_28.000 to /home/ashwin/GIT/FrontEnd_cosmo/ReionYuga\n",
      "Moved output.nbody_29.000 to /home/ashwin/GIT/FrontEnd_cosmo/ReionYuga\n",
      "Moved output.nbody_30.000 to /home/ashwin/GIT/FrontEnd_cosmo/ReionYuga\n",
      "Searching for files with the term: input.nbody\n",
      "Moved input.nbody_comp to /home/ashwin/GIT/FrontEnd_cosmo/ReionYuga\n",
      "Searching for files with the term: halo_catalogue\n",
      "Moved halo_catalogue_11.000 to /home/ashwin/GIT/FrontEnd_cosmo/ReionYuga\n",
      "Moved halo_catalogue_12.000 to /home/ashwin/GIT/FrontEnd_cosmo/ReionYuga\n",
      "Moved halo_catalogue_13.000 to /home/ashwin/GIT/FrontEnd_cosmo/ReionYuga\n",
      "Moved halo_catalogue_14.000 to /home/ashwin/GIT/FrontEnd_cosmo/ReionYuga\n",
      "Moved halo_catalogue_15.000 to /home/ashwin/GIT/FrontEnd_cosmo/ReionYuga\n",
      "Moved halo_catalogue_16.000 to /home/ashwin/GIT/FrontEnd_cosmo/ReionYuga\n",
      "Moved halo_catalogue_17.000 to /home/ashwin/GIT/FrontEnd_cosmo/ReionYuga\n",
      "Moved halo_catalogue_18.000 to /home/ashwin/GIT/FrontEnd_cosmo/ReionYuga\n",
      "Moved halo_catalogue_19.000 to /home/ashwin/GIT/FrontEnd_cosmo/ReionYuga\n",
      "Moved halo_catalogue_20.000 to /home/ashwin/GIT/FrontEnd_cosmo/ReionYuga\n",
      "Moved halo_catalogue_21.000 to /home/ashwin/GIT/FrontEnd_cosmo/ReionYuga\n",
      "Moved halo_catalogue_22.000 to /home/ashwin/GIT/FrontEnd_cosmo/ReionYuga\n",
      "Moved halo_catalogue_23.000 to /home/ashwin/GIT/FrontEnd_cosmo/ReionYuga\n",
      "Moved halo_catalogue_24.000 to /home/ashwin/GIT/FrontEnd_cosmo/ReionYuga\n",
      "Moved halo_catalogue_25.000 to /home/ashwin/GIT/FrontEnd_cosmo/ReionYuga\n",
      "Moved halo_catalogue_26.000 to /home/ashwin/GIT/FrontEnd_cosmo/ReionYuga\n",
      "Moved halo_catalogue_27.000 to /home/ashwin/GIT/FrontEnd_cosmo/ReionYuga\n",
      "Moved halo_catalogue_28.000 to /home/ashwin/GIT/FrontEnd_cosmo/ReionYuga\n",
      "Moved halo_catalogue_29.000 to /home/ashwin/GIT/FrontEnd_cosmo/ReionYuga\n",
      "Moved halo_catalogue_30.000 to /home/ashwin/GIT/FrontEnd_cosmo/ReionYuga\n",
      "Search and move process complete.\n",
      "Directory '/home/ashwin/GIT/FrontEnd_cosmo/ReionYuga/ionz_out' does not exist.\n",
      "CPU times: user 9.4 ms, sys: 6.38 ms, total: 15.8 ms\n",
      "Wall time: 297 ms\n"
     ]
    }
   ],
   "source": [
    "%%time\n",
    "!bash movefilesF-R"
   ]
  },
  {
   "cell_type": "code",
   "execution_count": 20,
   "id": "4504f270-5c2c-4e79-a3b6-f5e21be25019",
   "metadata": {},
   "outputs": [
    {
     "name": "stdout",
     "output_type": "stream",
     "text": [
      "Output:\n",
      "ok read nbody output = 2.600179e+04\n",
      "ok read halo catalogue = 1.941500e-05\n",
      "No of threads = 8\n",
      "ok cic_vmass= 2.264334e-01\n",
      "ok smoothing = 1.645766e+01\n",
      "vol. avg. x_HI=1.000000e+00, mass avg. x_HI=1.000000e+00\n",
      "mass avg. x_HI=1.000000e+00\n",
      "ok time taken= 7.075706e-01\n",
      "\n",
      "ok read nbody output = 8.511180e-01\n",
      "ok read halo catalogue = 1.420100e-05\n",
      "ok cic_vmass= 2.237644e-01\n",
      "ok smoothing = 1.642964e+01\n",
      "vol. avg. x_HI=1.000000e+00, mass avg. x_HI=1.000000e+00\n",
      "mass avg. x_HI=1.000000e+00\n",
      "ok time taken= 7.063347e-01\n",
      "\n",
      "ok read nbody output = 8.490621e-01\n",
      "ok read halo catalogue = 1.317100e-05\n",
      "ok cic_vmass= 2.237978e-01\n",
      "ok smoothing = 1.645304e+01\n",
      "vol. avg. x_HI=1.000000e+00, mass avg. x_HI=1.000000e+00\n",
      "mass avg. x_HI=1.000000e+00\n",
      "ok time taken= 6.959443e-01\n",
      "\n",
      "ok read nbody output = 8.386348e-01\n",
      "ok read halo catalogue = 1.426100e-05\n",
      "ok cic_vmass= 2.234263e-01\n",
      "ok smoothing = 1.644219e+01\n",
      "vol. avg. x_HI=1.000000e+00, mass avg. x_HI=1.000000e+00\n",
      "mass avg. x_HI=1.000000e+00\n",
      "ok time taken= 6.969984e-01\n",
      "\n",
      "ok read nbody output = 8.398277e-01\n",
      "ok read halo catalogue = 1.287900e-05\n",
      "ok cic_vmass= 2.242555e-01\n",
      "ok smoothing = 1.654384e+01\n",
      "vol. avg. x_HI=1.000000e+00, mass avg. x_HI=1.000000e+00\n",
      "mass avg. x_HI=1.000000e+00\n",
      "ok time taken= 6.969129e-01\n",
      "\n",
      "ok read nbody output = 8.395385e-01\n",
      "ok read halo catalogue = 1.480600e-05\n",
      "ok cic_vmass= 2.242345e-01\n",
      "ok smoothing = 1.645212e+01\n",
      "vol. avg. x_HI=1.000000e+00, mass avg. x_HI=1.000000e+00\n",
      "mass avg. x_HI=1.000000e+00\n",
      "ok time taken= 6.997351e-01\n",
      "\n",
      "ok read nbody output = 8.423942e-01\n",
      "ok read halo catalogue = 1.602600e-05\n",
      "ok cic_vmass= 2.240359e-01\n",
      "ok smoothing = 1.651267e+01\n",
      "vol. avg. x_HI=1.000000e+00, mass avg. x_HI=1.000000e+00\n",
      "mass avg. x_HI=1.000000e+00\n",
      "ok time taken= 6.969805e-01\n",
      "\n",
      "ok read nbody output = 8.396183e-01\n",
      "ok read halo catalogue = 1.325300e-05\n",
      "ok cic_vmass= 2.240459e-01\n",
      "ok smoothing = 1.642629e+01\n",
      "vol. avg. x_HI=1.000000e+00, mass avg. x_HI=1.000000e+00\n",
      "mass avg. x_HI=1.000000e+00\n",
      "ok time taken= 7.004427e-01\n",
      "\n",
      "ok read nbody output = 8.431187e-01\n",
      "ok read halo catalogue = 1.392100e-05\n",
      "ok cic_vmass= 2.236591e-01\n",
      "ok smoothing = 1.641847e+01\n",
      "vol. avg. x_HI=1.000000e+00, mass avg. x_HI=1.000000e+00\n",
      "mass avg. x_HI=1.000000e+00\n",
      "ok time taken= 7.059155e-01\n",
      "\n",
      "ok read nbody output = 8.486412e-01\n",
      "ok read halo catalogue = 1.302300e-05\n",
      "ok cic_vmass= 2.238141e-01\n",
      "ok smoothing = 1.645951e+01\n",
      "vol. avg. x_HI=1.000000e+00, mass avg. x_HI=1.000000e+00\n",
      "mass avg. x_HI=1.000000e+00\n",
      "ok time taken= 6.962862e-01\n",
      "\n",
      "ok read nbody output = 8.389447e-01\n",
      "ok read halo catalogue = 1.310100e-05\n",
      "ok cic_vmass= 2.236852e-01\n",
      "ok smoothing = 1.655102e+01\n",
      "vol. avg. x_HI=1.000000e+00, mass avg. x_HI=1.000000e+00\n",
      "mass avg. x_HI=1.000000e+00\n",
      "ok time taken= 6.977955e-01\n",
      "\n",
      "ok read nbody output = 8.404505e-01\n",
      "ok read halo catalogue = 1.359800e-05\n",
      "ok cic_vmass= 2.243061e-01\n",
      "ok smoothing = 1.650365e+01\n",
      "vol. avg. x_HI=1.000000e+00, mass avg. x_HI=1.000000e+00\n",
      "mass avg. x_HI=1.000000e+00\n",
      "ok time taken= 7.029214e-01\n",
      "\n",
      "ok read nbody output = 8.452190e-01\n",
      "ok read halo catalogue = 1.441100e-05\n",
      "ok cic_vmass= 2.244547e-01\n",
      "ok smoothing = 1.654432e+01\n",
      "vol. avg. x_HI=1.000000e+00, mass avg. x_HI=1.000000e+00\n",
      "mass avg. x_HI=1.000000e+00\n",
      "ok time taken= 7.150874e-01\n",
      "\n",
      "ok read nbody output = 8.569611e-01\n",
      "ok read halo catalogue = 1.525300e-05\n",
      "ok cic_vmass= 2.244928e-01\n",
      "ok smoothing = 1.690224e+01\n",
      "vol. avg. x_HI=1.000000e+00, mass avg. x_HI=1.000000e+00\n",
      "mass avg. x_HI=1.000000e+00\n",
      "ok time taken= 7.040895e-01\n",
      "\n",
      "ok read nbody output = 8.480218e-01\n",
      "ok read halo catalogue = 1.381200e-05\n",
      "ok cic_vmass= 2.245471e-01\n",
      "ok smoothing = 1.662363e+01\n",
      "vol. avg. x_HI=9.999804e-01, mass avg. x_HI=9.999032e-01\n",
      "mass avg. x_HI=9.999032e-01\n",
      "ok time taken= 7.035491e-01\n",
      "\n",
      "ok read nbody output = 8.472279e-01\n",
      "ok read halo catalogue = 1.441300e-05\n",
      "ok cic_vmass= 2.243705e-01\n",
      "ok smoothing = 1.691666e+01\n",
      "vol. avg. x_HI=9.997149e-01, mass avg. x_HI=9.988750e-01\n",
      "mass avg. x_HI=9.988750e-01\n",
      "ok time taken= 7.548542e-01\n",
      "\n",
      "ok read nbody output = 9.088555e-01\n",
      "ok read halo catalogue = 1.773400e-05\n",
      "ok cic_vmass= 2.379675e-01\n",
      "ok smoothing = 1.682159e+01\n",
      "vol. avg. x_HI=9.988036e-01, mass avg. x_HI=9.960902e-01\n",
      "mass avg. x_HI=9.960902e-01\n",
      "ok time taken= 6.975365e-01\n",
      "\n",
      "ok read nbody output = 8.398774e-01\n",
      "ok read halo catalogue = 1.974000e-05\n",
      "ok cic_vmass= 2.254446e-01\n",
      "ok smoothing = 1.645700e+01\n",
      "vol. avg. x_HI=9.957538e-01, mass avg. x_HI=9.877202e-01\n",
      "mass avg. x_HI=9.877202e-01\n",
      "ok time taken= 6.992354e-01\n",
      "\n",
      "ok read nbody output = 8.412942e-01\n",
      "ok read halo catalogue = 2.514800e-05\n",
      "ok cic_vmass= 2.248289e-01\n",
      "ok smoothing = 1.665771e+01\n",
      "vol. avg. x_HI=9.880080e-01, mass avg. x_HI=9.697769e-01\n",
      "mass avg. x_HI=9.697769e-01\n",
      "ok time taken= 6.991820e-01\n",
      "\n",
      "ok read nbody output = 8.411268e-01\n",
      "ok read halo catalogue = 3.762200e-05\n",
      "ok cic_vmass= 2.250535e-01\n",
      "ok smoothing = 1.707609e+01\n",
      "vol. avg. x_HI=9.689751e-01, mass avg. x_HI=9.301545e-01\n",
      "mass avg. x_HI=9.301545e-01\n",
      "ok time taken= 7.148201e-01\n",
      "\n",
      "done. Total time taken = 0hr 5min 54sec\n",
      "\n",
      "Error (if any):\n",
      "\n",
      "CPU times: user 11.8 ms, sys: 4.06 ms, total: 15.8 ms\n",
      "Wall time: 5min 54s\n"
     ]
    }
   ],
   "source": [
    "%%time\n",
    "prog = \"./ionz_main\"\n",
    "run_prog(location_regio_yuga,prog,location_home)"
   ]
  },
  {
   "cell_type": "code",
   "execution_count": 21,
   "id": "e2f8efd2-1dd9-476a-817a-0bc3f2c11458",
   "metadata": {},
   "outputs": [
    {
     "name": "stdout",
     "output_type": "stream",
     "text": [
      "Moved folder 'ionz_out' to '/home/ashwin/GIT/FrontEnd_cosmo/Save/BackupRun_5/'\n",
      "Searching for files with the term: output.nbody\n",
      "Moved output.nbody_11.000 to /home/ashwin/GIT/FrontEnd_cosmo/Save/BackupRun_5/\n",
      "Moved output.nbody_12.000 to /home/ashwin/GIT/FrontEnd_cosmo/Save/BackupRun_5/\n",
      "Moved output.nbody_13.000 to /home/ashwin/GIT/FrontEnd_cosmo/Save/BackupRun_5/\n",
      "Moved output.nbody_14.000 to /home/ashwin/GIT/FrontEnd_cosmo/Save/BackupRun_5/\n",
      "Moved output.nbody_15.000 to /home/ashwin/GIT/FrontEnd_cosmo/Save/BackupRun_5/\n",
      "Moved output.nbody_16.000 to /home/ashwin/GIT/FrontEnd_cosmo/Save/BackupRun_5/\n",
      "Moved output.nbody_17.000 to /home/ashwin/GIT/FrontEnd_cosmo/Save/BackupRun_5/\n",
      "Moved output.nbody_18.000 to /home/ashwin/GIT/FrontEnd_cosmo/Save/BackupRun_5/\n",
      "Moved output.nbody_19.000 to /home/ashwin/GIT/FrontEnd_cosmo/Save/BackupRun_5/\n",
      "Moved output.nbody_20.000 to /home/ashwin/GIT/FrontEnd_cosmo/Save/BackupRun_5/\n",
      "Moved output.nbody_21.000 to /home/ashwin/GIT/FrontEnd_cosmo/Save/BackupRun_5/\n",
      "Moved output.nbody_22.000 to /home/ashwin/GIT/FrontEnd_cosmo/Save/BackupRun_5/\n",
      "Moved output.nbody_23.000 to /home/ashwin/GIT/FrontEnd_cosmo/Save/BackupRun_5/\n",
      "Moved output.nbody_24.000 to /home/ashwin/GIT/FrontEnd_cosmo/Save/BackupRun_5/\n",
      "Moved output.nbody_25.000 to /home/ashwin/GIT/FrontEnd_cosmo/Save/BackupRun_5/\n",
      "Moved output.nbody_26.000 to /home/ashwin/GIT/FrontEnd_cosmo/Save/BackupRun_5/\n",
      "Moved output.nbody_27.000 to /home/ashwin/GIT/FrontEnd_cosmo/Save/BackupRun_5/\n",
      "Moved output.nbody_28.000 to /home/ashwin/GIT/FrontEnd_cosmo/Save/BackupRun_5/\n",
      "Moved output.nbody_29.000 to /home/ashwin/GIT/FrontEnd_cosmo/Save/BackupRun_5/\n",
      "Moved output.nbody_30.000 to /home/ashwin/GIT/FrontEnd_cosmo/Save/BackupRun_5/\n",
      "Searching for files with the term: input.nbody\n",
      "Moved input.nbody_comp to /home/ashwin/GIT/FrontEnd_cosmo/Save/BackupRun_5/\n",
      "Searching for files with the term: halo_catalogue\n",
      "Moved halo_catalogue_11.000 to /home/ashwin/GIT/FrontEnd_cosmo/Save/BackupRun_5/\n",
      "Moved halo_catalogue_12.000 to /home/ashwin/GIT/FrontEnd_cosmo/Save/BackupRun_5/\n",
      "Moved halo_catalogue_13.000 to /home/ashwin/GIT/FrontEnd_cosmo/Save/BackupRun_5/\n",
      "Moved halo_catalogue_14.000 to /home/ashwin/GIT/FrontEnd_cosmo/Save/BackupRun_5/\n",
      "Moved halo_catalogue_15.000 to /home/ashwin/GIT/FrontEnd_cosmo/Save/BackupRun_5/\n",
      "Moved halo_catalogue_16.000 to /home/ashwin/GIT/FrontEnd_cosmo/Save/BackupRun_5/\n",
      "Moved halo_catalogue_17.000 to /home/ashwin/GIT/FrontEnd_cosmo/Save/BackupRun_5/\n",
      "Moved halo_catalogue_18.000 to /home/ashwin/GIT/FrontEnd_cosmo/Save/BackupRun_5/\n",
      "Moved halo_catalogue_19.000 to /home/ashwin/GIT/FrontEnd_cosmo/Save/BackupRun_5/\n",
      "Moved halo_catalogue_20.000 to /home/ashwin/GIT/FrontEnd_cosmo/Save/BackupRun_5/\n",
      "Moved halo_catalogue_21.000 to /home/ashwin/GIT/FrontEnd_cosmo/Save/BackupRun_5/\n",
      "Moved halo_catalogue_22.000 to /home/ashwin/GIT/FrontEnd_cosmo/Save/BackupRun_5/\n",
      "Moved halo_catalogue_23.000 to /home/ashwin/GIT/FrontEnd_cosmo/Save/BackupRun_5/\n",
      "Moved halo_catalogue_24.000 to /home/ashwin/GIT/FrontEnd_cosmo/Save/BackupRun_5/\n",
      "Moved halo_catalogue_25.000 to /home/ashwin/GIT/FrontEnd_cosmo/Save/BackupRun_5/\n",
      "Moved halo_catalogue_26.000 to /home/ashwin/GIT/FrontEnd_cosmo/Save/BackupRun_5/\n",
      "Moved halo_catalogue_27.000 to /home/ashwin/GIT/FrontEnd_cosmo/Save/BackupRun_5/\n",
      "Moved halo_catalogue_28.000 to /home/ashwin/GIT/FrontEnd_cosmo/Save/BackupRun_5/\n",
      "Moved halo_catalogue_29.000 to /home/ashwin/GIT/FrontEnd_cosmo/Save/BackupRun_5/\n",
      "Moved halo_catalogue_30.000 to /home/ashwin/GIT/FrontEnd_cosmo/Save/BackupRun_5/\n",
      "Search and move process complete.\n"
     ]
    }
   ],
   "source": [
    "!bash backupOutput"
   ]
  },
  {
   "cell_type": "code",
   "execution_count": null,
   "id": "13d40310-a8f2-4573-8e06-b0684a4fc2da",
   "metadata": {},
   "outputs": [],
   "source": []
  },
  {
   "cell_type": "code",
   "execution_count": null,
   "id": "adc5a969-77fe-4e27-a947-f53de53dd7a6",
   "metadata": {},
   "outputs": [],
   "source": []
  }
 ],
 "metadata": {
  "kernelspec": {
   "display_name": "Python 3 (ipykernel)",
   "language": "python",
   "name": "python3"
  },
  "language_info": {
   "codemirror_mode": {
    "name": "ipython",
    "version": 3
   },
   "file_extension": ".py",
   "mimetype": "text/x-python",
   "name": "python",
   "nbconvert_exporter": "python",
   "pygments_lexer": "ipython3",
   "version": "3.11.5"
  },
  "widgets": {
   "application/vnd.jupyter.widget-state+json": {
    "state": {
     "0af3491c73924c018e9eed3cd9524cb9": {
      "model_module": "@jupyter-widgets/base",
      "model_module_version": "2.0.0",
      "model_name": "LayoutModel",
      "state": {}
     },
     "1ab492b861e54f43bd5b27673c55aa13": {
      "model_module": "@jupyter-widgets/base",
      "model_module_version": "2.0.0",
      "model_name": "LayoutModel",
      "state": {}
     },
     "207c628714904e86bcf154449a7f7d1f": {
      "model_module": "@jupyter-widgets/controls",
      "model_module_version": "2.0.0",
      "model_name": "BoundedFloatTextModel",
      "state": {
       "description": "omega_baryon:",
       "layout": "IPY_MODEL_507ebb189a90471294fc1775c73c76e0",
       "step": null,
       "style": "IPY_MODEL_f958bc0611b24c599d04bc7e71e2e78c",
       "value": 0.04902
      }
     },
     "27e25baaa6b34b14a7717dc793b5c45f": {
      "model_module": "@jupyter-widgets/controls",
      "model_module_version": "2.0.0",
      "model_name": "BoundedFloatTextModel",
      "state": {
       "description": "omega_l:",
       "layout": "IPY_MODEL_3c8bb100ec0143128776a829c8cb0055",
       "step": null,
       "style": "IPY_MODEL_c39e4ebeea6c4c5d849c09745afa1142",
       "value": 0.6817
      }
     },
     "288f150b2b1c4f5692ab87cf0adbf886": {
      "model_module": "@jupyter-widgets/controls",
      "model_module_version": "2.0.0",
      "model_name": "DescriptionStyleModel",
      "state": {
       "description_width": ""
      }
     },
     "2e6d89c664774256ad93a45e38c2e61c": {
      "model_module": "@jupyter-widgets/base",
      "model_module_version": "2.0.0",
      "model_name": "LayoutModel",
      "state": {}
     },
     "3425379e97a947cb852d4a75b70da5b1": {
      "model_module": "@jupyter-widgets/base",
      "model_module_version": "2.0.0",
      "model_name": "LayoutModel",
      "state": {}
     },
     "35457e5dc3414f26b758519180335e6b": {
      "model_module": "@jupyter-widgets/controls",
      "model_module_version": "2.0.0",
      "model_name": "BoundedFloatTextModel",
      "state": {
       "description": "a_initial:",
       "layout": "IPY_MODEL_e772fb3d20004b5ba0d397e5289f2b11",
       "step": null,
       "style": "IPY_MODEL_b86c32ca28e8443f88d88ed1fabe5ee3",
       "value": 0.008
      }
     },
     "3a7e78e3041944a88e1221a7f78f2a4f": {
      "model_module": "@jupyter-widgets/controls",
      "model_module_version": "2.0.0",
      "model_name": "BoundedFloatTextModel",
      "state": {
       "description": "spectral_index:",
       "layout": "IPY_MODEL_3d787192d841417981dc6173b3928cab",
       "step": null,
       "style": "IPY_MODEL_cb45c25f5d66476399498a3444ac3ad1",
       "value": 0.9619
      }
     },
     "3c8bb100ec0143128776a829c8cb0055": {
      "model_module": "@jupyter-widgets/base",
      "model_module_version": "2.0.0",
      "model_name": "LayoutModel",
      "state": {}
     },
     "3d787192d841417981dc6173b3928cab": {
      "model_module": "@jupyter-widgets/base",
      "model_module_version": "2.0.0",
      "model_name": "LayoutModel",
      "state": {}
     },
     "40dcbf8bbc2a4426a57bf1d482bcd91f": {
      "model_module": "@jupyter-widgets/controls",
      "model_module_version": "2.0.0",
      "model_name": "SelectModel",
      "state": {
       "_options_labels": [
        "16",
        "32",
        "64",
        "128",
        "256",
        "512",
        "1024",
        "2048",
        "4096"
       ],
       "description": "N1 N2 N3:",
       "index": 4,
       "layout": "IPY_MODEL_59a2277cc347489a8f91621483bd571c",
       "style": "IPY_MODEL_d6770a0ab14c4601a495d69d6d6da7e6"
      }
     },
     "485312ff11ea4bc4b37da00326c47057": {
      "model_module": "@jupyter-widgets/controls",
      "model_module_version": "2.0.0",
      "model_name": "BoundedFloatTextModel",
      "state": {
       "description": "omega_m:",
       "layout": "IPY_MODEL_a1c1b1553d344f56ae8c87d6661d672d",
       "step": null,
       "style": "IPY_MODEL_683b362e21ff477a9bdcdef283ffcdce",
       "value": 0.3183
      }
     },
     "50786914dc04408dbe00e1abfaa71ad3": {
      "model_module": "@jupyter-widgets/controls",
      "model_module_version": "2.0.0",
      "model_name": "BoundedFloatTextModel",
      "state": {
       "description": "sigma_8:",
       "layout": "IPY_MODEL_8837c59bef1b498d8ba09a56b6c06a9f",
       "step": null,
       "style": "IPY_MODEL_9a77f3a732ab4813b2a759a1de58c36f",
       "value": 0.8347
      }
     },
     "507ebb189a90471294fc1775c73c76e0": {
      "model_module": "@jupyter-widgets/base",
      "model_module_version": "2.0.0",
      "model_name": "LayoutModel",
      "state": {}
     },
     "5163536ba71f42e4b31eee3bbd5dfd64": {
      "model_module": "@jupyter-widgets/base",
      "model_module_version": "2.0.0",
      "model_name": "LayoutModel",
      "state": {}
     },
     "57abd18b265c47b7aa3293d93d2051b2": {
      "model_module": "@jupyter-widgets/base",
      "model_module_version": "2.0.0",
      "model_name": "LayoutModel",
      "state": {}
     },
     "59a2277cc347489a8f91621483bd571c": {
      "model_module": "@jupyter-widgets/base",
      "model_module_version": "2.0.0",
      "model_name": "LayoutModel",
      "state": {}
     },
     "5d926c1d12e646b3adee60adcd7f93e8": {
      "model_module": "@jupyter-widgets/controls",
      "model_module_version": "2.0.0",
      "model_name": "DescriptionStyleModel",
      "state": {
       "description_width": ""
      }
     },
     "60d5e47d0c864b5992a6305431e1ebfc": {
      "model_module": "@jupyter-widgets/controls",
      "model_module_version": "2.0.0",
      "model_name": "HBoxModel",
      "state": {
       "children": [
        "IPY_MODEL_e1d66a82b5ae4ddfbb4088c06180e7bf",
        "IPY_MODEL_7a4dcf182ac3491db4586b4c9c2e5b2f"
       ],
       "layout": "IPY_MODEL_3425379e97a947cb852d4a75b70da5b1"
      }
     },
     "620d641305c44ec0bdb220fd36103632": {
      "model_module": "@jupyter-widgets/base",
      "model_module_version": "2.0.0",
      "model_name": "LayoutModel",
      "state": {}
     },
     "683b362e21ff477a9bdcdef283ffcdce": {
      "model_module": "@jupyter-widgets/controls",
      "model_module_version": "2.0.0",
      "model_name": "DescriptionStyleModel",
      "state": {
       "description_width": ""
      }
     },
     "69446dde633b4be6a70100c2492840a6": {
      "model_module": "@jupyter-widgets/controls",
      "model_module_version": "2.0.0",
      "model_name": "HBoxModel",
      "state": {
       "children": [
        "IPY_MODEL_b01bc4e92cb24bda9454813254292323",
        "IPY_MODEL_b61954984dca4ac19979717599bd33a7"
       ],
       "layout": "IPY_MODEL_cd0d9982eb514cc2bbf5acfbbc84813d"
      }
     },
     "77f64625550446a5b22fd3b056cd19b4": {
      "model_module": "@jupyter-widgets/controls",
      "model_module_version": "2.0.0",
      "model_name": "HBoxModel",
      "state": {
       "children": [
        "IPY_MODEL_35457e5dc3414f26b758519180335e6b",
        "IPY_MODEL_99b7414e52fa46cfa6442664c0ce0d98"
       ],
       "layout": "IPY_MODEL_855fe7ff78894decaa95d9098ce704a1"
      }
     },
     "783166f0f47a44b09cfdb2d7d03728ac": {
      "model_module": "@jupyter-widgets/controls",
      "model_module_version": "2.0.0",
      "model_name": "HBoxModel",
      "state": {
       "children": [
        "IPY_MODEL_207c628714904e86bcf154449a7f7d1f",
        "IPY_MODEL_50786914dc04408dbe00e1abfaa71ad3"
       ],
       "layout": "IPY_MODEL_57abd18b265c47b7aa3293d93d2051b2"
      }
     },
     "7a4dcf182ac3491db4586b4c9c2e5b2f": {
      "model_module": "@jupyter-widgets/controls",
      "model_module_version": "2.0.0",
      "model_name": "BoundedFloatTextModel",
      "state": {
       "description": "LL:",
       "layout": "IPY_MODEL_0af3491c73924c018e9eed3cd9524cb9",
       "step": null,
       "style": "IPY_MODEL_e1aac319cc66498ca8249879dfa6bbb6",
       "value": 0.07
      }
     },
     "855fe7ff78894decaa95d9098ce704a1": {
      "model_module": "@jupyter-widgets/base",
      "model_module_version": "2.0.0",
      "model_name": "LayoutModel",
      "state": {}
     },
     "8837c59bef1b498d8ba09a56b6c06a9f": {
      "model_module": "@jupyter-widgets/base",
      "model_module_version": "2.0.0",
      "model_name": "LayoutModel",
      "state": {}
     },
     "8edf621b827e47d8826abf0250610edf": {
      "model_module": "@jupyter-widgets/controls",
      "model_module_version": "2.0.0",
      "model_name": "BoundedFloatTextModel",
      "state": {
       "description": "hh:",
       "layout": "IPY_MODEL_2e6d89c664774256ad93a45e38c2e61c",
       "step": null,
       "style": "IPY_MODEL_d48e34a53d7849e7ba298c7ca326a115",
       "value": 0.6704
      }
     },
     "99b7414e52fa46cfa6442664c0ce0d98": {
      "model_module": "@jupyter-widgets/controls",
      "model_module_version": "2.0.0",
      "model_name": "BoundedFloatTextModel",
      "state": {
       "description": "delta_a:",
       "layout": "IPY_MODEL_fed5f2b60135449392cd1dce440ebfe2",
       "step": null,
       "style": "IPY_MODEL_af09168119a145ca8947b4739f491847",
       "value": 0.004
      }
     },
     "9a77f3a732ab4813b2a759a1de58c36f": {
      "model_module": "@jupyter-widgets/controls",
      "model_module_version": "2.0.0",
      "model_name": "DescriptionStyleModel",
      "state": {
       "description_width": ""
      }
     },
     "a1c1b1553d344f56ae8c87d6661d672d": {
      "model_module": "@jupyter-widgets/base",
      "model_module_version": "2.0.0",
      "model_name": "LayoutModel",
      "state": {}
     },
     "a7f519d40791402593560037186cb5e7": {
      "model_module": "@jupyter-widgets/controls",
      "model_module_version": "2.0.0",
      "model_name": "HBoxModel",
      "state": {
       "children": [
        "IPY_MODEL_8edf621b827e47d8826abf0250610edf",
        "IPY_MODEL_485312ff11ea4bc4b37da00326c47057",
        "IPY_MODEL_27e25baaa6b34b14a7717dc793b5c45f",
        "IPY_MODEL_3a7e78e3041944a88e1221a7f78f2a4f"
       ],
       "layout": "IPY_MODEL_1ab492b861e54f43bd5b27673c55aa13"
      }
     },
     "af09168119a145ca8947b4739f491847": {
      "model_module": "@jupyter-widgets/controls",
      "model_module_version": "2.0.0",
      "model_name": "DescriptionStyleModel",
      "state": {
       "description_width": ""
      }
     },
     "b01bc4e92cb24bda9454813254292323": {
      "model_module": "@jupyter-widgets/controls",
      "model_module_version": "2.0.0",
      "model_name": "BoundedFloatTextModel",
      "state": {
       "description": "seed:",
       "layout": "IPY_MODEL_5163536ba71f42e4b31eee3bbd5dfd64",
       "max": 1000000,
       "min": -1000000,
       "step": null,
       "style": "IPY_MODEL_5d926c1d12e646b3adee60adcd7f93e8",
       "value": -100012
      }
     },
     "b61954984dca4ac19979717599bd33a7": {
      "model_module": "@jupyter-widgets/controls",
      "model_module_version": "2.0.0",
      "model_name": "BoundedFloatTextModel",
      "state": {
       "description": "NBin:",
       "layout": "IPY_MODEL_cb67ad1fc3d541a997854061326805bf",
       "step": null,
       "style": "IPY_MODEL_288f150b2b1c4f5692ab87cf0adbf886",
       "value": 10
      }
     },
     "b86c32ca28e8443f88d88ed1fabe5ee3": {
      "model_module": "@jupyter-widgets/controls",
      "model_module_version": "2.0.0",
      "model_name": "DescriptionStyleModel",
      "state": {
       "description_width": ""
      }
     },
     "c39e4ebeea6c4c5d849c09745afa1142": {
      "model_module": "@jupyter-widgets/controls",
      "model_module_version": "2.0.0",
      "model_name": "DescriptionStyleModel",
      "state": {
       "description_width": ""
      }
     },
     "cb45c25f5d66476399498a3444ac3ad1": {
      "model_module": "@jupyter-widgets/controls",
      "model_module_version": "2.0.0",
      "model_name": "DescriptionStyleModel",
      "state": {
       "description_width": ""
      }
     },
     "cb67ad1fc3d541a997854061326805bf": {
      "model_module": "@jupyter-widgets/base",
      "model_module_version": "2.0.0",
      "model_name": "LayoutModel",
      "state": {}
     },
     "cd0d9982eb514cc2bbf5acfbbc84813d": {
      "model_module": "@jupyter-widgets/base",
      "model_module_version": "2.0.0",
      "model_name": "LayoutModel",
      "state": {}
     },
     "d48e34a53d7849e7ba298c7ca326a115": {
      "model_module": "@jupyter-widgets/controls",
      "model_module_version": "2.0.0",
      "model_name": "DescriptionStyleModel",
      "state": {
       "description_width": ""
      }
     },
     "d6770a0ab14c4601a495d69d6d6da7e6": {
      "model_module": "@jupyter-widgets/controls",
      "model_module_version": "2.0.0",
      "model_name": "DescriptionStyleModel",
      "state": {
       "description_width": ""
      }
     },
     "e1aac319cc66498ca8249879dfa6bbb6": {
      "model_module": "@jupyter-widgets/controls",
      "model_module_version": "2.0.0",
      "model_name": "DescriptionStyleModel",
      "state": {
       "description_width": ""
      }
     },
     "e1d66a82b5ae4ddfbb4088c06180e7bf": {
      "model_module": "@jupyter-widgets/controls",
      "model_module_version": "2.0.0",
      "model_name": "BoundedFloatTextModel",
      "state": {
       "description": "fraction_fill:",
       "layout": "IPY_MODEL_620d641305c44ec0bdb220fd36103632",
       "max": 1000,
       "step": null,
       "style": "IPY_MODEL_fbde43c173f2474d8fce7c0c8914a6b5",
       "value": 2
      }
     },
     "e772fb3d20004b5ba0d397e5289f2b11": {
      "model_module": "@jupyter-widgets/base",
      "model_module_version": "2.0.0",
      "model_name": "LayoutModel",
      "state": {}
     },
     "f958bc0611b24c599d04bc7e71e2e78c": {
      "model_module": "@jupyter-widgets/controls",
      "model_module_version": "2.0.0",
      "model_name": "DescriptionStyleModel",
      "state": {
       "description_width": ""
      }
     },
     "fbde43c173f2474d8fce7c0c8914a6b5": {
      "model_module": "@jupyter-widgets/controls",
      "model_module_version": "2.0.0",
      "model_name": "DescriptionStyleModel",
      "state": {
       "description_width": ""
      }
     },
     "fed5f2b60135449392cd1dce440ebfe2": {
      "model_module": "@jupyter-widgets/base",
      "model_module_version": "2.0.0",
      "model_name": "LayoutModel",
      "state": {}
     }
    },
    "version_major": 2,
    "version_minor": 0
   }
  }
 },
 "nbformat": 4,
 "nbformat_minor": 5
}
